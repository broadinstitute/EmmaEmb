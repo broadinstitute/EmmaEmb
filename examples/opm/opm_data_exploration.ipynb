{
 "cells": [
  {
   "cell_type": "code",
   "execution_count": 185,
   "metadata": {},
   "outputs": [],
   "source": [
    "import pandas as pd\n",
    "from tqdm import tqdm\n",
    "import requests\n",
    "import os\n",
    "import plotly.express as px"
   ]
  },
  {
   "cell_type": "code",
   "execution_count": 186,
   "metadata": {},
   "outputs": [],
   "source": [
    "file_name = \"proteins-2025-01-11.csv\""
   ]
  },
  {
   "cell_type": "code",
   "execution_count": 187,
   "metadata": {},
   "outputs": [],
   "source": [
    "df = pd.read_csv(file_name)"
   ]
  },
  {
   "cell_type": "code",
   "execution_count": 188,
   "metadata": {},
   "outputs": [
    {
     "data": {
      "text/plain": [
       "(8915, 33)"
      ]
     },
     "execution_count": 188,
     "metadata": {},
     "output_type": "execute_result"
    }
   ],
   "source": [
    "df.shape"
   ]
  },
  {
   "cell_type": "code",
   "execution_count": 189,
   "metadata": {},
   "outputs": [
    {
     "data": {
      "text/html": [
       "<div>\n",
       "<style scoped>\n",
       "    .dataframe tbody tr th:only-of-type {\n",
       "        vertical-align: middle;\n",
       "    }\n",
       "\n",
       "    .dataframe tbody tr th {\n",
       "        vertical-align: top;\n",
       "    }\n",
       "\n",
       "    .dataframe thead th {\n",
       "        text-align: right;\n",
       "    }\n",
       "</style>\n",
       "<table border=\"1\" class=\"dataframe\">\n",
       "  <thead>\n",
       "    <tr style=\"text-align: right;\">\n",
       "      <th></th>\n",
       "      <th>id</th>\n",
       "      <th>ordering</th>\n",
       "      <th>family_name_cache</th>\n",
       "      <th>species_name_cache</th>\n",
       "      <th>membrane_name_cache</th>\n",
       "      <th>name</th>\n",
       "      <th>description</th>\n",
       "      <th>comments</th>\n",
       "      <th>pdbid</th>\n",
       "      <th>resolution</th>\n",
       "      <th>...</th>\n",
       "      <th>superfamily_id</th>\n",
       "      <th>classtype_id</th>\n",
       "      <th>type_id</th>\n",
       "      <th>secondary_representations_count</th>\n",
       "      <th>structure_subunits_count</th>\n",
       "      <th>citations_count</th>\n",
       "      <th>created_at</th>\n",
       "      <th>updated_at</th>\n",
       "      <th>uniprotcode</th>\n",
       "      <th>interpro</th>\n",
       "    </tr>\n",
       "  </thead>\n",
       "  <tbody>\n",
       "    <tr>\n",
       "      <th>0</th>\n",
       "      <td>1</td>\n",
       "      <td>6024.0</td>\n",
       "      <td>OmpA family</td>\n",
       "      <td>Escherichia coli</td>\n",
       "      <td>Gram-neg. outer</td>\n",
       "      <td>Outer membrane protein A (OMPA), disordered loops</td>\n",
       "      <td>NaN</td>\n",
       "      <td>OmpA is required for the action of colicins K ...</td>\n",
       "      <td>=\"1qjp\"</td>\n",
       "      <td>1.65</td>\n",
       "      <td>...</td>\n",
       "      <td>26</td>\n",
       "      <td>2</td>\n",
       "      <td>1</td>\n",
       "      <td>3</td>\n",
       "      <td>1</td>\n",
       "      <td>2</td>\n",
       "      <td>2018-08-13 03:49:46 UTC</td>\n",
       "      <td>2023-02-22 20:43:56 UTC</td>\n",
       "      <td>OMPA_ECOLI</td>\n",
       "      <td>NaN</td>\n",
       "    </tr>\n",
       "    <tr>\n",
       "      <th>1</th>\n",
       "      <td>2</td>\n",
       "      <td>6027.0</td>\n",
       "      <td>Enterobacterial Ail/Lom protein</td>\n",
       "      <td>Escherichia coli</td>\n",
       "      <td>Gram-neg. outer</td>\n",
       "      <td>Outer membrane protein X (OMPX)</td>\n",
       "      <td>NaN</td>\n",
       "      <td>OmpX from Escherichia coli promotes adhesion t...</td>\n",
       "      <td>=\"1qj8\"</td>\n",
       "      <td>1.9</td>\n",
       "      <td>...</td>\n",
       "      <td>26</td>\n",
       "      <td>2</td>\n",
       "      <td>1</td>\n",
       "      <td>7</td>\n",
       "      <td>1</td>\n",
       "      <td>1</td>\n",
       "      <td>2018-08-13 03:49:46 UTC</td>\n",
       "      <td>2023-02-22 20:43:57 UTC</td>\n",
       "      <td>OMPX_ECOLI</td>\n",
       "      <td>NaN</td>\n",
       "    </tr>\n",
       "    <tr>\n",
       "      <th>2</th>\n",
       "      <td>3</td>\n",
       "      <td>6032.0</td>\n",
       "      <td>Opacity porins</td>\n",
       "      <td>Neisseria meningitidis</td>\n",
       "      <td>Gram-neg. outer</td>\n",
       "      <td>Outer membrane protein NspA</td>\n",
       "      <td>NaN</td>\n",
       "      <td>Pathogenic Neisseria spp. possess a repertoire...</td>\n",
       "      <td>=\"1p4t\"</td>\n",
       "      <td>2.55</td>\n",
       "      <td>...</td>\n",
       "      <td>235</td>\n",
       "      <td>2</td>\n",
       "      <td>1</td>\n",
       "      <td>0</td>\n",
       "      <td>1</td>\n",
       "      <td>0</td>\n",
       "      <td>2018-08-13 03:49:46 UTC</td>\n",
       "      <td>2023-02-22 20:43:57 UTC</td>\n",
       "      <td>Q9RP17_NEIME</td>\n",
       "      <td>NaN</td>\n",
       "    </tr>\n",
       "    <tr>\n",
       "      <th>3</th>\n",
       "      <td>4</td>\n",
       "      <td>5624.0</td>\n",
       "      <td>Influenza virus matrix protein 2</td>\n",
       "      <td>Influenza A virus</td>\n",
       "      <td>Viral</td>\n",
       "      <td>M2 proton channel of Influenza A, closed state...</td>\n",
       "      <td>NaN</td>\n",
       "      <td>NaN</td>\n",
       "      <td>=\"3lbw\"</td>\n",
       "      <td>1.65</td>\n",
       "      <td>...</td>\n",
       "      <td>185</td>\n",
       "      <td>11</td>\n",
       "      <td>1</td>\n",
       "      <td>3</td>\n",
       "      <td>4</td>\n",
       "      <td>0</td>\n",
       "      <td>2018-08-13 03:49:46 UTC</td>\n",
       "      <td>2023-02-22 20:43:54 UTC</td>\n",
       "      <td>M2_I97A1</td>\n",
       "      <td>NaN</td>\n",
       "    </tr>\n",
       "    <tr>\n",
       "      <th>4</th>\n",
       "      <td>5</td>\n",
       "      <td>6047.0</td>\n",
       "      <td>OM protease omptin, OMPT</td>\n",
       "      <td>Yersinia pestis</td>\n",
       "      <td>Gram-neg. outer</td>\n",
       "      <td>Plasminogen activator PLA (coagulase/fibrinoly...</td>\n",
       "      <td>NaN</td>\n",
       "      <td>NaN</td>\n",
       "      <td>=\"2x55\"</td>\n",
       "      <td>1.85</td>\n",
       "      <td>...</td>\n",
       "      <td>27</td>\n",
       "      <td>2</td>\n",
       "      <td>1</td>\n",
       "      <td>2</td>\n",
       "      <td>1</td>\n",
       "      <td>0</td>\n",
       "      <td>2018-08-13 03:49:46 UTC</td>\n",
       "      <td>2023-02-22 20:43:56 UTC</td>\n",
       "      <td>COLY_YERPE</td>\n",
       "      <td>NaN</td>\n",
       "    </tr>\n",
       "  </tbody>\n",
       "</table>\n",
       "<p>5 rows × 33 columns</p>\n",
       "</div>"
      ],
      "text/plain": [
       "   id  ordering                 family_name_cache      species_name_cache  \\\n",
       "0   1    6024.0                       OmpA family        Escherichia coli   \n",
       "1   2    6027.0   Enterobacterial Ail/Lom protein        Escherichia coli   \n",
       "2   3    6032.0                    Opacity porins  Neisseria meningitidis   \n",
       "3   4    5624.0  Influenza virus matrix protein 2       Influenza A virus   \n",
       "4   5    6047.0          OM protease omptin, OMPT         Yersinia pestis   \n",
       "\n",
       "  membrane_name_cache                                               name  \\\n",
       "0     Gram-neg. outer  Outer membrane protein A (OMPA), disordered loops   \n",
       "1     Gram-neg. outer                    Outer membrane protein X (OMPX)   \n",
       "2     Gram-neg. outer                        Outer membrane protein NspA   \n",
       "3               Viral  M2 proton channel of Influenza A, closed state...   \n",
       "4     Gram-neg. outer  Plasminogen activator PLA (coagulase/fibrinoly...   \n",
       "\n",
       "   description                                           comments    pdbid  \\\n",
       "0          NaN  OmpA is required for the action of colicins K ...  =\"1qjp\"   \n",
       "1          NaN  OmpX from Escherichia coli promotes adhesion t...  =\"1qj8\"   \n",
       "2          NaN  Pathogenic Neisseria spp. possess a repertoire...  =\"1p4t\"   \n",
       "3          NaN                                                NaN  =\"3lbw\"   \n",
       "4          NaN                                                NaN  =\"2x55\"   \n",
       "\n",
       "  resolution  ... superfamily_id  classtype_id  type_id  \\\n",
       "0       1.65  ...             26             2        1   \n",
       "1        1.9  ...             26             2        1   \n",
       "2       2.55  ...            235             2        1   \n",
       "3       1.65  ...            185            11        1   \n",
       "4       1.85  ...             27             2        1   \n",
       "\n",
       "   secondary_representations_count  structure_subunits_count  citations_count  \\\n",
       "0                                3                         1                2   \n",
       "1                                7                         1                1   \n",
       "2                                0                         1                0   \n",
       "3                                3                         4                0   \n",
       "4                                2                         1                0   \n",
       "\n",
       "                created_at               updated_at   uniprotcode interpro  \n",
       "0  2018-08-13 03:49:46 UTC  2023-02-22 20:43:56 UTC    OMPA_ECOLI      NaN  \n",
       "1  2018-08-13 03:49:46 UTC  2023-02-22 20:43:57 UTC    OMPX_ECOLI      NaN  \n",
       "2  2018-08-13 03:49:46 UTC  2023-02-22 20:43:57 UTC  Q9RP17_NEIME      NaN  \n",
       "3  2018-08-13 03:49:46 UTC  2023-02-22 20:43:54 UTC      M2_I97A1      NaN  \n",
       "4  2018-08-13 03:49:46 UTC  2023-02-22 20:43:56 UTC    COLY_YERPE      NaN  \n",
       "\n",
       "[5 rows x 33 columns]"
      ]
     },
     "execution_count": 189,
     "metadata": {},
     "output_type": "execute_result"
    }
   ],
   "source": [
    "df.head()"
   ]
  },
  {
   "cell_type": "code",
   "execution_count": 190,
   "metadata": {},
   "outputs": [
    {
     "data": {
      "text/plain": [
       "Index(['id', 'ordering', 'family_name_cache', 'species_name_cache',\n",
       "       'membrane_name_cache', 'name', 'description', 'comments', 'pdbid',\n",
       "       'resolution', 'topology_subunit', 'topology_show_in', 'thickness',\n",
       "       'thicknesserror', 'subunit_segments', 'tilt', 'tilterror', 'gibbs',\n",
       "       'tau', 'verification', 'membrane_id', 'species_id', 'family_id',\n",
       "       'superfamily_id', 'classtype_id', 'type_id',\n",
       "       'secondary_representations_count', 'structure_subunits_count',\n",
       "       'citations_count', 'created_at', 'updated_at', 'uniprotcode',\n",
       "       'interpro'],\n",
       "      dtype='object')"
      ]
     },
     "execution_count": 190,
     "metadata": {},
     "output_type": "execute_result"
    }
   ],
   "source": [
    "df.columns"
   ]
  },
  {
   "cell_type": "code",
   "execution_count": 191,
   "metadata": {},
   "outputs": [],
   "source": [
    "def get_sequences_from_uniprot(uniprot_ids):\n",
    "    \"\"\"\n",
    "    Retrieves protein sequences from UniProt for the given list of UniProt IDs.\n",
    "\n",
    "    Args:\n",
    "        uniprot_ids (list): List of UniProt IDs (e.g., ['P12345', 'Q67890']).\n",
    "\n",
    "    Returns:\n",
    "        dict: A dictionary where keys are UniProt IDs and values are\n",
    "        protein sequences.\n",
    "    \"\"\"\n",
    "    base_url = \"https://rest.uniprot.org/uniprotkb\"\n",
    "    sequences = {}\n",
    "\n",
    "    for uniprot_id in tqdm(\n",
    "        uniprot_ids, desc=\"Fetching UniProt Sequences\", unit=\"protein\"\n",
    "    ):\n",
    "        # Construct the URL for the FASTA request\n",
    "        url = f\"{base_url}/{uniprot_id}.fasta\"\n",
    "        response = requests.get(url)\n",
    "\n",
    "        # Check if the request was successful\n",
    "        if response.status_code == 200:\n",
    "            fasta_content = response.text\n",
    "            # Extract the sequence from the FASTA content\n",
    "            sequence = \"\".join(\n",
    "                fasta_content.splitlines()[1:]\n",
    "            )  # Skip the header line\n",
    "            sequences[uniprot_id] = sequence\n",
    "        else:\n",
    "            print(\n",
    "                f\"Failed to retrieve sequence for UniProt ID {uniprot_id}. \\\n",
    "                    HTTP Status: {response.status_code}\"\n",
    "            )\n",
    "\n",
    "    return sequences"
   ]
  },
  {
   "cell_type": "markdown",
   "metadata": {},
   "source": [
    "## Cleaning up data frame"
   ]
  },
  {
   "cell_type": "markdown",
   "metadata": {},
   "source": [
    "### Uniprot Codes"
   ]
  },
  {
   "cell_type": "markdown",
   "metadata": {},
   "source": [
    "#### Drop rows with missing values"
   ]
  },
  {
   "cell_type": "code",
   "execution_count": 192,
   "metadata": {},
   "outputs": [
    {
     "data": {
      "text/plain": [
       "334"
      ]
     },
     "execution_count": 192,
     "metadata": {},
     "output_type": "execute_result"
    }
   ],
   "source": [
    "# check for missing values in uniprotcode\n",
    "\n",
    "len(df[df['uniprotcode'].isna()])"
   ]
  },
  {
   "cell_type": "code",
   "execution_count": 193,
   "metadata": {},
   "outputs": [],
   "source": [
    "# remove any rows where uniprotcode is na\n",
    "df = df.dropna(subset = ['uniprotcode'])"
   ]
  },
  {
   "cell_type": "code",
   "execution_count": 194,
   "metadata": {},
   "outputs": [
    {
     "data": {
      "text/plain": [
       "0"
      ]
     },
     "execution_count": 194,
     "metadata": {},
     "output_type": "execute_result"
    }
   ],
   "source": [
    "len(df[df['uniprotcode'].isna()])"
   ]
  },
  {
   "cell_type": "markdown",
   "metadata": {},
   "source": [
    "#### Identify duplicates"
   ]
  },
  {
   "cell_type": "code",
   "execution_count": 195,
   "metadata": {},
   "outputs": [
    {
     "data": {
      "text/plain": [
       "0"
      ]
     },
     "execution_count": 195,
     "metadata": {},
     "output_type": "execute_result"
    }
   ],
   "source": [
    "# check for any duplicated rows\n",
    "\n",
    "duplicates = df.duplicated()\n",
    "duplicates.sum()"
   ]
  },
  {
   "cell_type": "code",
   "execution_count": 196,
   "metadata": {},
   "outputs": [
    {
     "data": {
      "text/plain": [
       "3812"
      ]
     },
     "execution_count": 196,
     "metadata": {},
     "output_type": "execute_result"
    }
   ],
   "source": [
    "len(df[df['uniprotcode'].duplicated()])"
   ]
  },
  {
   "cell_type": "code",
   "execution_count": 197,
   "metadata": {},
   "outputs": [],
   "source": [
    "duplicate_ids = df[df['uniprotcode'].duplicated(keep=False)]\n",
    "differences = duplicate_ids.groupby('uniprotcode').apply(lambda group: group.drop(columns=['uniprotcode']))"
   ]
  },
  {
   "cell_type": "code",
   "execution_count": 198,
   "metadata": {},
   "outputs": [
    {
     "data": {
      "text/html": [
       "<div>\n",
       "<style scoped>\n",
       "    .dataframe tbody tr th:only-of-type {\n",
       "        vertical-align: middle;\n",
       "    }\n",
       "\n",
       "    .dataframe tbody tr th {\n",
       "        vertical-align: top;\n",
       "    }\n",
       "\n",
       "    .dataframe thead th {\n",
       "        text-align: right;\n",
       "    }\n",
       "</style>\n",
       "<table border=\"1\" class=\"dataframe\">\n",
       "  <thead>\n",
       "    <tr style=\"text-align: right;\">\n",
       "      <th></th>\n",
       "      <th></th>\n",
       "      <th>id</th>\n",
       "      <th>ordering</th>\n",
       "      <th>family_name_cache</th>\n",
       "      <th>species_name_cache</th>\n",
       "      <th>membrane_name_cache</th>\n",
       "      <th>name</th>\n",
       "      <th>description</th>\n",
       "      <th>comments</th>\n",
       "      <th>pdbid</th>\n",
       "      <th>resolution</th>\n",
       "      <th>...</th>\n",
       "      <th>family_id</th>\n",
       "      <th>superfamily_id</th>\n",
       "      <th>classtype_id</th>\n",
       "      <th>type_id</th>\n",
       "      <th>secondary_representations_count</th>\n",
       "      <th>structure_subunits_count</th>\n",
       "      <th>citations_count</th>\n",
       "      <th>created_at</th>\n",
       "      <th>updated_at</th>\n",
       "      <th>interpro</th>\n",
       "    </tr>\n",
       "    <tr>\n",
       "      <th>uniprotcode</th>\n",
       "      <th></th>\n",
       "      <th></th>\n",
       "      <th></th>\n",
       "      <th></th>\n",
       "      <th></th>\n",
       "      <th></th>\n",
       "      <th></th>\n",
       "      <th></th>\n",
       "      <th></th>\n",
       "      <th></th>\n",
       "      <th></th>\n",
       "      <th></th>\n",
       "      <th></th>\n",
       "      <th></th>\n",
       "      <th></th>\n",
       "      <th></th>\n",
       "      <th></th>\n",
       "      <th></th>\n",
       "      <th></th>\n",
       "      <th></th>\n",
       "      <th></th>\n",
       "      <th></th>\n",
       "    </tr>\n",
       "  </thead>\n",
       "  <tbody>\n",
       "    <tr>\n",
       "      <th rowspan=\"3\" valign=\"top\">3SA1_NAJOX</th>\n",
       "      <th>674</th>\n",
       "      <td>680</td>\n",
       "      <td>7367.0</td>\n",
       "      <td>Snake venom toxins</td>\n",
       "      <td>Naja oxiana</td>\n",
       "      <td>Secreted</td>\n",
       "      <td>Cytotoxin-1</td>\n",
       "      <td>NaN</td>\n",
       "      <td>NaN</td>\n",
       "      <td>=\"1rl5\"</td>\n",
       "      <td>NMR</td>\n",
       "      <td>...</td>\n",
       "      <td>66</td>\n",
       "      <td>53</td>\n",
       "      <td>3</td>\n",
       "      <td>2</td>\n",
       "      <td>3</td>\n",
       "      <td>0</td>\n",
       "      <td>0</td>\n",
       "      <td>2018-08-13 03:50:40 UTC</td>\n",
       "      <td>2020-05-10 22:00:42 UTC</td>\n",
       "      <td>NaN</td>\n",
       "    </tr>\n",
       "    <tr>\n",
       "      <th>3480</th>\n",
       "      <td>3556</td>\n",
       "      <td>7371.0</td>\n",
       "      <td>Snake venom toxins</td>\n",
       "      <td>Naja oxiana</td>\n",
       "      <td>Secreted</td>\n",
       "      <td>Cytotoxin-1, minor form</td>\n",
       "      <td>NaN</td>\n",
       "      <td>NaN</td>\n",
       "      <td>=\"5lue\"</td>\n",
       "      <td>NMR</td>\n",
       "      <td>...</td>\n",
       "      <td>66</td>\n",
       "      <td>53</td>\n",
       "      <td>3</td>\n",
       "      <td>2</td>\n",
       "      <td>0</td>\n",
       "      <td>0</td>\n",
       "      <td>0</td>\n",
       "      <td>2018-08-13 03:55:06 UTC</td>\n",
       "      <td>2020-05-15 17:36:10 UTC</td>\n",
       "      <td>NaN</td>\n",
       "    </tr>\n",
       "    <tr>\n",
       "      <th>3551</th>\n",
       "      <td>3628</td>\n",
       "      <td>7370.0</td>\n",
       "      <td>Snake venom toxins</td>\n",
       "      <td>Naja oxiana</td>\n",
       "      <td>Secreted</td>\n",
       "      <td>Cytotoxin-1, in micelles</td>\n",
       "      <td>NaN</td>\n",
       "      <td>NaN</td>\n",
       "      <td>=\"5nq4\"</td>\n",
       "      <td>NMR</td>\n",
       "      <td>...</td>\n",
       "      <td>66</td>\n",
       "      <td>53</td>\n",
       "      <td>3</td>\n",
       "      <td>2</td>\n",
       "      <td>0</td>\n",
       "      <td>0</td>\n",
       "      <td>0</td>\n",
       "      <td>2018-08-13 03:55:09 UTC</td>\n",
       "      <td>2020-05-10 22:09:36 UTC</td>\n",
       "      <td>NaN</td>\n",
       "    </tr>\n",
       "    <tr>\n",
       "      <th rowspan=\"2\" valign=\"top\">3SI1A_DENAN</th>\n",
       "      <th>3344</th>\n",
       "      <td>3420</td>\n",
       "      <td>7357.0</td>\n",
       "      <td>Snake venom toxins</td>\n",
       "      <td>Dendroaspis angusticeps</td>\n",
       "      <td>Secreted</td>\n",
       "      <td>Ancestral Mamba toxin 1</td>\n",
       "      <td>NaN</td>\n",
       "      <td>NaN</td>\n",
       "      <td>=\"5mg9\"</td>\n",
       "      <td>1.8</td>\n",
       "      <td>...</td>\n",
       "      <td>66</td>\n",
       "      <td>53</td>\n",
       "      <td>3</td>\n",
       "      <td>2</td>\n",
       "      <td>0</td>\n",
       "      <td>0</td>\n",
       "      <td>0</td>\n",
       "      <td>2018-08-13 03:55:00 UTC</td>\n",
       "      <td>2020-05-11 00:17:30 UTC</td>\n",
       "      <td>NaN</td>\n",
       "    </tr>\n",
       "    <tr>\n",
       "      <th>3912</th>\n",
       "      <td>3992</td>\n",
       "      <td>7384.0</td>\n",
       "      <td>Snake venom toxins</td>\n",
       "      <td>Dendroaspis angusticeps</td>\n",
       "      <td>Secreted</td>\n",
       "      <td>Toxin AdTx1</td>\n",
       "      <td>NaN</td>\n",
       "      <td>NaN</td>\n",
       "      <td>=\"4iye\"</td>\n",
       "      <td>1.95</td>\n",
       "      <td>...</td>\n",
       "      <td>66</td>\n",
       "      <td>53</td>\n",
       "      <td>3</td>\n",
       "      <td>2</td>\n",
       "      <td>0</td>\n",
       "      <td>0</td>\n",
       "      <td>0</td>\n",
       "      <td>2018-09-14 01:30:45 UTC</td>\n",
       "      <td>2020-05-10 22:10:56 UTC</td>\n",
       "      <td>NaN</td>\n",
       "    </tr>\n",
       "    <tr>\n",
       "      <th>...</th>\n",
       "      <th>...</th>\n",
       "      <td>...</td>\n",
       "      <td>...</td>\n",
       "      <td>...</td>\n",
       "      <td>...</td>\n",
       "      <td>...</td>\n",
       "      <td>...</td>\n",
       "      <td>...</td>\n",
       "      <td>...</td>\n",
       "      <td>...</td>\n",
       "      <td>...</td>\n",
       "      <td>...</td>\n",
       "      <td>...</td>\n",
       "      <td>...</td>\n",
       "      <td>...</td>\n",
       "      <td>...</td>\n",
       "      <td>...</td>\n",
       "      <td>...</td>\n",
       "      <td>...</td>\n",
       "      <td>...</td>\n",
       "      <td>...</td>\n",
       "      <td>...</td>\n",
       "    </tr>\n",
       "    <tr>\n",
       "      <th>ZNT8_HUMAN</th>\n",
       "      <th>5323</th>\n",
       "      <td>5456</td>\n",
       "      <td>4328.0</td>\n",
       "      <td>Bacterial zinc transporters</td>\n",
       "      <td>Homo sapiens</td>\n",
       "      <td>Eykaryo. plasma</td>\n",
       "      <td>Zinc transporter 8, structure 1</td>\n",
       "      <td>NaN</td>\n",
       "      <td>NaN</td>\n",
       "      <td>=\"6xpe\"</td>\n",
       "      <td>4.1 EM</td>\n",
       "      <td>...</td>\n",
       "      <td>260</td>\n",
       "      <td>183</td>\n",
       "      <td>1</td>\n",
       "      <td>1</td>\n",
       "      <td>0</td>\n",
       "      <td>2</td>\n",
       "      <td>0</td>\n",
       "      <td>2020-10-26 17:18:44 UTC</td>\n",
       "      <td>2021-10-15 16:31:42 UTC</td>\n",
       "      <td>NaN</td>\n",
       "    </tr>\n",
       "    <tr>\n",
       "      <th rowspan=\"2\" valign=\"top\">ZNT8_XENTR</th>\n",
       "      <th>8478</th>\n",
       "      <td>9927</td>\n",
       "      <td>4341.0</td>\n",
       "      <td>Bacterial zinc transporters</td>\n",
       "      <td>Xenopus tropicalis</td>\n",
       "      <td>Vesicle</td>\n",
       "      <td>ZnT8 with zinc</td>\n",
       "      <td>NaN</td>\n",
       "      <td>NaN</td>\n",
       "      <td>=\"7y5g\"</td>\n",
       "      <td>3.85 EM</td>\n",
       "      <td>...</td>\n",
       "      <td>260</td>\n",
       "      <td>183</td>\n",
       "      <td>1</td>\n",
       "      <td>1</td>\n",
       "      <td>0</td>\n",
       "      <td>2</td>\n",
       "      <td>0</td>\n",
       "      <td>2023-06-04 03:50:06 UTC</td>\n",
       "      <td>2023-06-04 04:03:20 UTC</td>\n",
       "      <td>NaN</td>\n",
       "    </tr>\n",
       "    <tr>\n",
       "      <th>8479</th>\n",
       "      <td>9928</td>\n",
       "      <td>4340.0</td>\n",
       "      <td>Bacterial zinc transporters</td>\n",
       "      <td>Xenopus tropicalis</td>\n",
       "      <td>Vesicle</td>\n",
       "      <td>ZnT8 at a low pH</td>\n",
       "      <td>NaN</td>\n",
       "      <td>NaN</td>\n",
       "      <td>=\"7y5h\"</td>\n",
       "      <td>3.72 EM</td>\n",
       "      <td>...</td>\n",
       "      <td>260</td>\n",
       "      <td>183</td>\n",
       "      <td>1</td>\n",
       "      <td>1</td>\n",
       "      <td>0</td>\n",
       "      <td>2</td>\n",
       "      <td>0</td>\n",
       "      <td>2023-06-04 03:50:06 UTC</td>\n",
       "      <td>2023-06-04 04:03:20 UTC</td>\n",
       "      <td>NaN</td>\n",
       "    </tr>\n",
       "    <tr>\n",
       "      <th rowspan=\"2\" valign=\"top\">ZNTA_SHISS</th>\n",
       "      <th>2442</th>\n",
       "      <td>2510</td>\n",
       "      <td>1834.0</td>\n",
       "      <td>P-ATPase</td>\n",
       "      <td>Shigella sonnei</td>\n",
       "      <td>Gram-neg. inner</td>\n",
       "      <td>Zinc-transporting ATPase, ZntA, E2P state</td>\n",
       "      <td>NaN</td>\n",
       "      <td>NaN</td>\n",
       "      <td>=\"4umv\"</td>\n",
       "      <td>3.2</td>\n",
       "      <td>...</td>\n",
       "      <td>30</td>\n",
       "      <td>22</td>\n",
       "      <td>1</td>\n",
       "      <td>1</td>\n",
       "      <td>0</td>\n",
       "      <td>1</td>\n",
       "      <td>0</td>\n",
       "      <td>2018-08-13 03:54:00 UTC</td>\n",
       "      <td>2020-05-13 20:48:47 UTC</td>\n",
       "      <td>NaN</td>\n",
       "    </tr>\n",
       "    <tr>\n",
       "      <th>2443</th>\n",
       "      <td>2511</td>\n",
       "      <td>1833.0</td>\n",
       "      <td>P-ATPase</td>\n",
       "      <td>Shigella sonnei</td>\n",
       "      <td>Gram-neg. inner</td>\n",
       "      <td>Zinc-transporting ATPase, ZntA, E2.PI state</td>\n",
       "      <td>NaN</td>\n",
       "      <td>NaN</td>\n",
       "      <td>=\"4umw\"</td>\n",
       "      <td>2.7</td>\n",
       "      <td>...</td>\n",
       "      <td>30</td>\n",
       "      <td>22</td>\n",
       "      <td>1</td>\n",
       "      <td>1</td>\n",
       "      <td>0</td>\n",
       "      <td>1</td>\n",
       "      <td>0</td>\n",
       "      <td>2018-08-13 03:54:00 UTC</td>\n",
       "      <td>2020-05-10 22:06:28 UTC</td>\n",
       "      <td>NaN</td>\n",
       "    </tr>\n",
       "  </tbody>\n",
       "</table>\n",
       "<p>5154 rows × 32 columns</p>\n",
       "</div>"
      ],
      "text/plain": [
       "                    id  ordering            family_name_cache  \\\n",
       "uniprotcode                                                     \n",
       "3SA1_NAJOX  674    680    7367.0           Snake venom toxins   \n",
       "            3480  3556    7371.0           Snake venom toxins   \n",
       "            3551  3628    7370.0           Snake venom toxins   \n",
       "3SI1A_DENAN 3344  3420    7357.0           Snake venom toxins   \n",
       "            3912  3992    7384.0           Snake venom toxins   \n",
       "...                ...       ...                          ...   \n",
       "ZNT8_HUMAN  5323  5456    4328.0  Bacterial zinc transporters   \n",
       "ZNT8_XENTR  8478  9927    4341.0  Bacterial zinc transporters   \n",
       "            8479  9928    4340.0  Bacterial zinc transporters   \n",
       "ZNTA_SHISS  2442  2510    1834.0                     P-ATPase   \n",
       "            2443  2511    1833.0                     P-ATPase   \n",
       "\n",
       "                       species_name_cache membrane_name_cache  \\\n",
       "uniprotcode                                                     \n",
       "3SA1_NAJOX  674               Naja oxiana            Secreted   \n",
       "            3480              Naja oxiana            Secreted   \n",
       "            3551              Naja oxiana            Secreted   \n",
       "3SI1A_DENAN 3344  Dendroaspis angusticeps            Secreted   \n",
       "            3912  Dendroaspis angusticeps            Secreted   \n",
       "...                                   ...                 ...   \n",
       "ZNT8_HUMAN  5323             Homo sapiens     Eykaryo. plasma   \n",
       "ZNT8_XENTR  8478       Xenopus tropicalis             Vesicle   \n",
       "            8479       Xenopus tropicalis             Vesicle   \n",
       "ZNTA_SHISS  2442          Shigella sonnei     Gram-neg. inner   \n",
       "            2443          Shigella sonnei     Gram-neg. inner   \n",
       "\n",
       "                                                         name  description  \\\n",
       "uniprotcode                                                                  \n",
       "3SA1_NAJOX  674                                   Cytotoxin-1          NaN   \n",
       "            3480                      Cytotoxin-1, minor form          NaN   \n",
       "            3551                     Cytotoxin-1, in micelles          NaN   \n",
       "3SI1A_DENAN 3344                      Ancestral Mamba toxin 1          NaN   \n",
       "            3912                                  Toxin AdTx1          NaN   \n",
       "...                                                       ...          ...   \n",
       "ZNT8_HUMAN  5323              Zinc transporter 8, structure 1          NaN   \n",
       "ZNT8_XENTR  8478                               ZnT8 with zinc          NaN   \n",
       "            8479                             ZnT8 at a low pH          NaN   \n",
       "ZNTA_SHISS  2442    Zinc-transporting ATPase, ZntA, E2P state          NaN   \n",
       "            2443  Zinc-transporting ATPase, ZntA, E2.PI state          NaN   \n",
       "\n",
       "                 comments    pdbid resolution  ... family_id  superfamily_id  \\\n",
       "uniprotcode                                    ...                             \n",
       "3SA1_NAJOX  674       NaN  =\"1rl5\"        NMR  ...        66              53   \n",
       "            3480      NaN  =\"5lue\"        NMR  ...        66              53   \n",
       "            3551      NaN  =\"5nq4\"        NMR  ...        66              53   \n",
       "3SI1A_DENAN 3344      NaN  =\"5mg9\"        1.8  ...        66              53   \n",
       "            3912      NaN  =\"4iye\"       1.95  ...        66              53   \n",
       "...                   ...      ...        ...  ...       ...             ...   \n",
       "ZNT8_HUMAN  5323      NaN  =\"6xpe\"     4.1 EM  ...       260             183   \n",
       "ZNT8_XENTR  8478      NaN  =\"7y5g\"    3.85 EM  ...       260             183   \n",
       "            8479      NaN  =\"7y5h\"    3.72 EM  ...       260             183   \n",
       "ZNTA_SHISS  2442      NaN  =\"4umv\"        3.2  ...        30              22   \n",
       "            2443      NaN  =\"4umw\"        2.7  ...        30              22   \n",
       "\n",
       "                  classtype_id  type_id  secondary_representations_count  \\\n",
       "uniprotcode                                                                \n",
       "3SA1_NAJOX  674              3        2                                3   \n",
       "            3480             3        2                                0   \n",
       "            3551             3        2                                0   \n",
       "3SI1A_DENAN 3344             3        2                                0   \n",
       "            3912             3        2                                0   \n",
       "...                        ...      ...                              ...   \n",
       "ZNT8_HUMAN  5323             1        1                                0   \n",
       "ZNT8_XENTR  8478             1        1                                0   \n",
       "            8479             1        1                                0   \n",
       "ZNTA_SHISS  2442             1        1                                0   \n",
       "            2443             1        1                                0   \n",
       "\n",
       "                  structure_subunits_count  citations_count  \\\n",
       "uniprotcode                                                   \n",
       "3SA1_NAJOX  674                          0                0   \n",
       "            3480                         0                0   \n",
       "            3551                         0                0   \n",
       "3SI1A_DENAN 3344                         0                0   \n",
       "            3912                         0                0   \n",
       "...                                    ...              ...   \n",
       "ZNT8_HUMAN  5323                         2                0   \n",
       "ZNT8_XENTR  8478                         2                0   \n",
       "            8479                         2                0   \n",
       "ZNTA_SHISS  2442                         1                0   \n",
       "            2443                         1                0   \n",
       "\n",
       "                               created_at               updated_at interpro  \n",
       "uniprotcode                                                                  \n",
       "3SA1_NAJOX  674   2018-08-13 03:50:40 UTC  2020-05-10 22:00:42 UTC      NaN  \n",
       "            3480  2018-08-13 03:55:06 UTC  2020-05-15 17:36:10 UTC      NaN  \n",
       "            3551  2018-08-13 03:55:09 UTC  2020-05-10 22:09:36 UTC      NaN  \n",
       "3SI1A_DENAN 3344  2018-08-13 03:55:00 UTC  2020-05-11 00:17:30 UTC      NaN  \n",
       "            3912  2018-09-14 01:30:45 UTC  2020-05-10 22:10:56 UTC      NaN  \n",
       "...                                   ...                      ...      ...  \n",
       "ZNT8_HUMAN  5323  2020-10-26 17:18:44 UTC  2021-10-15 16:31:42 UTC      NaN  \n",
       "ZNT8_XENTR  8478  2023-06-04 03:50:06 UTC  2023-06-04 04:03:20 UTC      NaN  \n",
       "            8479  2023-06-04 03:50:06 UTC  2023-06-04 04:03:20 UTC      NaN  \n",
       "ZNTA_SHISS  2442  2018-08-13 03:54:00 UTC  2020-05-13 20:48:47 UTC      NaN  \n",
       "            2443  2018-08-13 03:54:00 UTC  2020-05-10 22:06:28 UTC      NaN  \n",
       "\n",
       "[5154 rows x 32 columns]"
      ]
     },
     "execution_count": 198,
     "metadata": {},
     "output_type": "execute_result"
    }
   ],
   "source": [
    "differences"
   ]
  },
  {
   "cell_type": "code",
   "execution_count": 199,
   "metadata": {},
   "outputs": [
    {
     "data": {
      "text/plain": [
       "Index(['id', 'ordering', 'family_name_cache', 'species_name_cache',\n",
       "       'membrane_name_cache', 'name', 'description', 'comments', 'pdbid',\n",
       "       'resolution', 'topology_subunit', 'topology_show_in', 'thickness',\n",
       "       'thicknesserror', 'subunit_segments', 'tilt', 'tilterror', 'gibbs',\n",
       "       'tau', 'verification', 'membrane_id', 'species_id', 'family_id',\n",
       "       'superfamily_id', 'classtype_id', 'type_id',\n",
       "       'secondary_representations_count', 'structure_subunits_count',\n",
       "       'citations_count', 'created_at', 'updated_at', 'uniprotcode',\n",
       "       'interpro'],\n",
       "      dtype='object')"
      ]
     },
     "execution_count": 199,
     "metadata": {},
     "output_type": "execute_result"
    }
   ],
   "source": [
    "df.columns"
   ]
  },
  {
   "cell_type": "code",
   "execution_count": 200,
   "metadata": {},
   "outputs": [
    {
     "data": {
      "text/html": [
       "<div>\n",
       "<style scoped>\n",
       "    .dataframe tbody tr th:only-of-type {\n",
       "        vertical-align: middle;\n",
       "    }\n",
       "\n",
       "    .dataframe tbody tr th {\n",
       "        vertical-align: top;\n",
       "    }\n",
       "\n",
       "    .dataframe thead th {\n",
       "        text-align: right;\n",
       "    }\n",
       "</style>\n",
       "<table border=\"1\" class=\"dataframe\">\n",
       "  <thead>\n",
       "    <tr style=\"text-align: right;\">\n",
       "      <th></th>\n",
       "      <th>family_name_cache</th>\n",
       "      <th>species_name_cache</th>\n",
       "      <th>membrane_name_cache</th>\n",
       "      <th>species_id</th>\n",
       "      <th>family_id</th>\n",
       "      <th>superfamily_id</th>\n",
       "      <th>classtype_id</th>\n",
       "      <th>type_id</th>\n",
       "      <th>uniprotcode</th>\n",
       "    </tr>\n",
       "  </thead>\n",
       "  <tbody>\n",
       "    <tr>\n",
       "      <th>0</th>\n",
       "      <td>OmpA family</td>\n",
       "      <td>Escherichia coli</td>\n",
       "      <td>Gram-neg. outer</td>\n",
       "      <td>9</td>\n",
       "      <td>34</td>\n",
       "      <td>26</td>\n",
       "      <td>2</td>\n",
       "      <td>1</td>\n",
       "      <td>OMPA_ECOLI</td>\n",
       "    </tr>\n",
       "    <tr>\n",
       "      <th>1</th>\n",
       "      <td>Enterobacterial Ail/Lom protein</td>\n",
       "      <td>Escherichia coli</td>\n",
       "      <td>Gram-neg. outer</td>\n",
       "      <td>9</td>\n",
       "      <td>355</td>\n",
       "      <td>26</td>\n",
       "      <td>2</td>\n",
       "      <td>1</td>\n",
       "      <td>OMPX_ECOLI</td>\n",
       "    </tr>\n",
       "    <tr>\n",
       "      <th>2</th>\n",
       "      <td>Opacity porins</td>\n",
       "      <td>Neisseria meningitidis</td>\n",
       "      <td>Gram-neg. outer</td>\n",
       "      <td>24</td>\n",
       "      <td>337</td>\n",
       "      <td>235</td>\n",
       "      <td>2</td>\n",
       "      <td>1</td>\n",
       "      <td>Q9RP17_NEIME</td>\n",
       "    </tr>\n",
       "    <tr>\n",
       "      <th>3</th>\n",
       "      <td>Influenza virus matrix protein 2</td>\n",
       "      <td>Influenza A virus</td>\n",
       "      <td>Viral</td>\n",
       "      <td>51</td>\n",
       "      <td>263</td>\n",
       "      <td>185</td>\n",
       "      <td>11</td>\n",
       "      <td>1</td>\n",
       "      <td>M2_I97A1</td>\n",
       "    </tr>\n",
       "    <tr>\n",
       "      <th>4</th>\n",
       "      <td>OM protease omptin, OMPT</td>\n",
       "      <td>Yersinia pestis</td>\n",
       "      <td>Gram-neg. outer</td>\n",
       "      <td>299</td>\n",
       "      <td>36</td>\n",
       "      <td>27</td>\n",
       "      <td>2</td>\n",
       "      <td>1</td>\n",
       "      <td>COLY_YERPE</td>\n",
       "    </tr>\n",
       "  </tbody>\n",
       "</table>\n",
       "</div>"
      ],
      "text/plain": [
       "                  family_name_cache      species_name_cache  \\\n",
       "0                       OmpA family        Escherichia coli   \n",
       "1   Enterobacterial Ail/Lom protein        Escherichia coli   \n",
       "2                    Opacity porins  Neisseria meningitidis   \n",
       "3  Influenza virus matrix protein 2       Influenza A virus   \n",
       "4          OM protease omptin, OMPT         Yersinia pestis   \n",
       "\n",
       "  membrane_name_cache  species_id  family_id  superfamily_id  classtype_id  \\\n",
       "0     Gram-neg. outer           9         34              26             2   \n",
       "1     Gram-neg. outer           9        355              26             2   \n",
       "2     Gram-neg. outer          24        337             235             2   \n",
       "3               Viral          51        263             185            11   \n",
       "4     Gram-neg. outer         299         36              27             2   \n",
       "\n",
       "   type_id   uniprotcode  \n",
       "0        1    OMPA_ECOLI  \n",
       "1        1    OMPX_ECOLI  \n",
       "2        1  Q9RP17_NEIME  \n",
       "3        1      M2_I97A1  \n",
       "4        1    COLY_YERPE  "
      ]
     },
     "execution_count": 200,
     "metadata": {},
     "output_type": "execute_result"
    }
   ],
   "source": [
    "# check how many duplicates exist if dropping specific columns\n",
    "col_to_drop = ['updated_at', 'created_at', 'citations_count', 'description', 'comments', 'id', 'ordering', 'name', 'pdbid', 'resolution', 'tilt', 'tilterror',\n",
    "               'gibbs', 'tau', 'thickness', 'thicknesserror', 'secondary_representations_count', 'structure_subunits_count', 'topology_subunit', 'subunit_segments',\n",
    "               'topology_show_in', 'membrane_id', 'verification', 'interpro']\n",
    "\n",
    "df_smaller = df.drop(columns = col_to_drop)\n",
    "df_smaller.reset_index(drop=True)\n",
    "df_smaller.head()"
   ]
  },
  {
   "cell_type": "code",
   "execution_count": 201,
   "metadata": {},
   "outputs": [
    {
     "data": {
      "text/plain": [
       "Index(['family_name_cache', 'species_name_cache', 'membrane_name_cache',\n",
       "       'species_id', 'family_id', 'superfamily_id', 'classtype_id', 'type_id',\n",
       "       'uniprotcode'],\n",
       "      dtype='object')"
      ]
     },
     "execution_count": 201,
     "metadata": {},
     "output_type": "execute_result"
    }
   ],
   "source": [
    "df_smaller.columns"
   ]
  },
  {
   "cell_type": "code",
   "execution_count": 202,
   "metadata": {},
   "outputs": [
    {
     "data": {
      "text/plain": [
       "3812"
      ]
     },
     "execution_count": 202,
     "metadata": {},
     "output_type": "execute_result"
    }
   ],
   "source": [
    "len(df_smaller[df_smaller['uniprotcode'].duplicated()])"
   ]
  },
  {
   "cell_type": "code",
   "execution_count": 203,
   "metadata": {},
   "outputs": [],
   "source": [
    "# merge duplicated rows\n",
    "\n",
    "df_smaller = df_smaller.drop_duplicates()"
   ]
  },
  {
   "cell_type": "code",
   "execution_count": 204,
   "metadata": {},
   "outputs": [
    {
     "data": {
      "text/plain": [
       "98"
      ]
     },
     "execution_count": 204,
     "metadata": {},
     "output_type": "execute_result"
    }
   ],
   "source": [
    "len(df_smaller[df_smaller['uniprotcode'].duplicated()])"
   ]
  },
  {
   "cell_type": "code",
   "execution_count": 205,
   "metadata": {},
   "outputs": [],
   "source": [
    "duplicate_ids_smaller = df_smaller[df_smaller['uniprotcode'].duplicated(keep=False)]\n",
    "differences_smaller = duplicate_ids_smaller.groupby('uniprotcode').apply(lambda group: group.drop(columns=['uniprotcode']))"
   ]
  },
  {
   "cell_type": "code",
   "execution_count": 206,
   "metadata": {},
   "outputs": [
    {
     "data": {
      "text/html": [
       "<div>\n",
       "<style scoped>\n",
       "    .dataframe tbody tr th:only-of-type {\n",
       "        vertical-align: middle;\n",
       "    }\n",
       "\n",
       "    .dataframe tbody tr th {\n",
       "        vertical-align: top;\n",
       "    }\n",
       "\n",
       "    .dataframe thead th {\n",
       "        text-align: right;\n",
       "    }\n",
       "</style>\n",
       "<table border=\"1\" class=\"dataframe\">\n",
       "  <thead>\n",
       "    <tr style=\"text-align: right;\">\n",
       "      <th></th>\n",
       "      <th></th>\n",
       "      <th>family_name_cache</th>\n",
       "      <th>species_name_cache</th>\n",
       "      <th>membrane_name_cache</th>\n",
       "      <th>species_id</th>\n",
       "      <th>family_id</th>\n",
       "      <th>superfamily_id</th>\n",
       "      <th>classtype_id</th>\n",
       "      <th>type_id</th>\n",
       "    </tr>\n",
       "    <tr>\n",
       "      <th>uniprotcode</th>\n",
       "      <th></th>\n",
       "      <th></th>\n",
       "      <th></th>\n",
       "      <th></th>\n",
       "      <th></th>\n",
       "      <th></th>\n",
       "      <th></th>\n",
       "      <th></th>\n",
       "      <th></th>\n",
       "    </tr>\n",
       "  </thead>\n",
       "  <tbody>\n",
       "    <tr>\n",
       "      <th rowspan=\"2\" valign=\"top\">A0A1S1YN08_9BACI</th>\n",
       "      <th>7948</th>\n",
       "      <td>Monoacylglycerol lipase</td>\n",
       "      <td>Cytobacillus oceanisediminis</td>\n",
       "      <td>Secreted</td>\n",
       "      <td>1066</td>\n",
       "      <td>335</td>\n",
       "      <td>127</td>\n",
       "      <td>5</td>\n",
       "      <td>2</td>\n",
       "    </tr>\n",
       "    <tr>\n",
       "      <th>7949</th>\n",
       "      <td>Monoacylglycerol lipase</td>\n",
       "      <td>Geobacillus sp.</td>\n",
       "      <td>Secreted</td>\n",
       "      <td>544</td>\n",
       "      <td>335</td>\n",
       "      <td>127</td>\n",
       "      <td>5</td>\n",
       "      <td>2</td>\n",
       "    </tr>\n",
       "    <tr>\n",
       "      <th rowspan=\"2\" valign=\"top\">A0A286ZNN4_PIG A0A287AAR5_PIG A0A287AE88_PIG A0A287AMN2_PIG A0A287AS93_PIG A0A287BDC0_PIG A0A287BG40_PIG A0A287BMW6_PIG A0A287BPW8_PIG A0A480JRW3_PIG A0A480KM09_PIG A0A4X1VLA2_PIG A0A5G2QW32_PIG A0A5G2RN85_PIG A1XQS6_PIG F1RGE3_PIG F1RNI5_PIG F1RVN1_PIG F1RWL7_PIG F1S031_PIG F1S1A8_PIG F1S6Q1_PIG F1SCH1_PIG F1SD73_PIG F1SGC6_PIG F1SHD7_PIG F1SIS9_PIG F1SJP6_PIG F1SLR1_PIG F1SQP4_PIG F1SV23_PIG I3LDC3_PIG I3LGM4_PIG I3LK43_PIG I3LRR4_PIG K7GR43_PIG K7GSE5_PIG NU1M_PIG NU2M_PIG NU3M_PIG NU4LM_PIG NU4M_PIG NU5M_PIG NU6M_PIG</th>\n",
       "      <th>6978</th>\n",
       "      <td>H+ or Na+ translocating NADH dehydrogenase</td>\n",
       "      <td>Sus scrofa</td>\n",
       "      <td>Mitochon. inner</td>\n",
       "      <td>56</td>\n",
       "      <td>364</td>\n",
       "      <td>246</td>\n",
       "      <td>1</td>\n",
       "      <td>1</td>\n",
       "    </tr>\n",
       "    <tr>\n",
       "      <th>7008</th>\n",
       "      <td>H+ or Na+ translocating NADH dehydrogenase</td>\n",
       "      <td>Sus scrofa</td>\n",
       "      <td>Gram-neg. inner</td>\n",
       "      <td>56</td>\n",
       "      <td>364</td>\n",
       "      <td>246</td>\n",
       "      <td>1</td>\n",
       "      <td>1</td>\n",
       "    </tr>\n",
       "    <tr>\n",
       "      <th>A3DCU1_ACET2</th>\n",
       "      <th>2794</th>\n",
       "      <td>Lipid exporter family</td>\n",
       "      <td>Hungateiclostridium thermocellum</td>\n",
       "      <td>Gram-pos. inner</td>\n",
       "      <td>463</td>\n",
       "      <td>99</td>\n",
       "      <td>17</td>\n",
       "      <td>1</td>\n",
       "      <td>1</td>\n",
       "    </tr>\n",
       "    <tr>\n",
       "      <th>...</th>\n",
       "      <th>...</th>\n",
       "      <td>...</td>\n",
       "      <td>...</td>\n",
       "      <td>...</td>\n",
       "      <td>...</td>\n",
       "      <td>...</td>\n",
       "      <td>...</td>\n",
       "      <td>...</td>\n",
       "      <td>...</td>\n",
       "    </tr>\n",
       "    <tr>\n",
       "      <th>VEMP_SARS</th>\n",
       "      <th>3739</th>\n",
       "      <td>Coronavirus E protein</td>\n",
       "      <td>SARS-CoV</td>\n",
       "      <td>Endosome</td>\n",
       "      <td>475</td>\n",
       "      <td>696</td>\n",
       "      <td>404</td>\n",
       "      <td>11</td>\n",
       "      <td>1</td>\n",
       "    </tr>\n",
       "    <tr>\n",
       "      <th rowspan=\"2\" valign=\"top\">VPR_HV1B9</th>\n",
       "      <th>1324</th>\n",
       "      <td>Peptides of viral protein R</td>\n",
       "      <td>Human immunodeficiency virus type 1</td>\n",
       "      <td>Eykaryo. plasma</td>\n",
       "      <td>157</td>\n",
       "      <td>451</td>\n",
       "      <td>43</td>\n",
       "      <td>7</td>\n",
       "      <td>3</td>\n",
       "    </tr>\n",
       "    <tr>\n",
       "      <th>1325</th>\n",
       "      <td>Viral protein R (VPR) family</td>\n",
       "      <td>Human immunodeficiency virus type 1</td>\n",
       "      <td>Eykaryo. plasma</td>\n",
       "      <td>157</td>\n",
       "      <td>385</td>\n",
       "      <td>263</td>\n",
       "      <td>4</td>\n",
       "      <td>2</td>\n",
       "    </tr>\n",
       "    <tr>\n",
       "      <th rowspan=\"2\" valign=\"top\">YEJM_ECOLI</th>\n",
       "      <th>3091</th>\n",
       "      <td>Sulfatase</td>\n",
       "      <td>Salmonella typhimurium</td>\n",
       "      <td>Gram-neg. inner</td>\n",
       "      <td>495</td>\n",
       "      <td>32</td>\n",
       "      <td>24</td>\n",
       "      <td>1</td>\n",
       "      <td>1</td>\n",
       "    </tr>\n",
       "    <tr>\n",
       "      <th>5321</th>\n",
       "      <td>Sulfatase</td>\n",
       "      <td>Escherichia coli</td>\n",
       "      <td>Gram-neg. inner</td>\n",
       "      <td>9</td>\n",
       "      <td>32</td>\n",
       "      <td>24</td>\n",
       "      <td>1</td>\n",
       "      <td>1</td>\n",
       "    </tr>\n",
       "  </tbody>\n",
       "</table>\n",
       "<p>188 rows × 8 columns</p>\n",
       "</div>"
      ],
      "text/plain": [
       "                                                                                  family_name_cache  \\\n",
       "uniprotcode                                                                                           \n",
       "A0A1S1YN08_9BACI                                   7948                     Monoacylglycerol lipase   \n",
       "                                                   7949                     Monoacylglycerol lipase   \n",
       "A0A286ZNN4_PIG A0A287AAR5_PIG A0A287AE88_PIG A0... 6978  H+ or Na+ translocating NADH dehydrogenase   \n",
       "                                                   7008  H+ or Na+ translocating NADH dehydrogenase   \n",
       "A3DCU1_ACET2                                       2794                       Lipid exporter family   \n",
       "...                                                                                             ...   \n",
       "VEMP_SARS                                          3739                       Coronavirus E protein   \n",
       "VPR_HV1B9                                          1324                 Peptides of viral protein R   \n",
       "                                                   1325                Viral protein R (VPR) family   \n",
       "YEJM_ECOLI                                         3091                                   Sulfatase   \n",
       "                                                   5321                                   Sulfatase   \n",
       "\n",
       "                                                                          species_name_cache  \\\n",
       "uniprotcode                                                                                    \n",
       "A0A1S1YN08_9BACI                                   7948         Cytobacillus oceanisediminis   \n",
       "                                                   7949                      Geobacillus sp.   \n",
       "A0A286ZNN4_PIG A0A287AAR5_PIG A0A287AE88_PIG A0... 6978                           Sus scrofa   \n",
       "                                                   7008                           Sus scrofa   \n",
       "A3DCU1_ACET2                                       2794     Hungateiclostridium thermocellum   \n",
       "...                                                                                      ...   \n",
       "VEMP_SARS                                          3739                             SARS-CoV   \n",
       "VPR_HV1B9                                          1324  Human immunodeficiency virus type 1   \n",
       "                                                   1325  Human immunodeficiency virus type 1   \n",
       "YEJM_ECOLI                                         3091               Salmonella typhimurium   \n",
       "                                                   5321                     Escherichia coli   \n",
       "\n",
       "                                                        membrane_name_cache  \\\n",
       "uniprotcode                                                                   \n",
       "A0A1S1YN08_9BACI                                   7948            Secreted   \n",
       "                                                   7949            Secreted   \n",
       "A0A286ZNN4_PIG A0A287AAR5_PIG A0A287AE88_PIG A0... 6978     Mitochon. inner   \n",
       "                                                   7008     Gram-neg. inner   \n",
       "A3DCU1_ACET2                                       2794     Gram-pos. inner   \n",
       "...                                                                     ...   \n",
       "VEMP_SARS                                          3739            Endosome   \n",
       "VPR_HV1B9                                          1324     Eykaryo. plasma   \n",
       "                                                   1325     Eykaryo. plasma   \n",
       "YEJM_ECOLI                                         3091     Gram-neg. inner   \n",
       "                                                   5321     Gram-neg. inner   \n",
       "\n",
       "                                                         species_id  \\\n",
       "uniprotcode                                                           \n",
       "A0A1S1YN08_9BACI                                   7948        1066   \n",
       "                                                   7949         544   \n",
       "A0A286ZNN4_PIG A0A287AAR5_PIG A0A287AE88_PIG A0... 6978          56   \n",
       "                                                   7008          56   \n",
       "A3DCU1_ACET2                                       2794         463   \n",
       "...                                                             ...   \n",
       "VEMP_SARS                                          3739         475   \n",
       "VPR_HV1B9                                          1324         157   \n",
       "                                                   1325         157   \n",
       "YEJM_ECOLI                                         3091         495   \n",
       "                                                   5321           9   \n",
       "\n",
       "                                                         family_id  \\\n",
       "uniprotcode                                                          \n",
       "A0A1S1YN08_9BACI                                   7948        335   \n",
       "                                                   7949        335   \n",
       "A0A286ZNN4_PIG A0A287AAR5_PIG A0A287AE88_PIG A0... 6978        364   \n",
       "                                                   7008        364   \n",
       "A3DCU1_ACET2                                       2794         99   \n",
       "...                                                            ...   \n",
       "VEMP_SARS                                          3739        696   \n",
       "VPR_HV1B9                                          1324        451   \n",
       "                                                   1325        385   \n",
       "YEJM_ECOLI                                         3091         32   \n",
       "                                                   5321         32   \n",
       "\n",
       "                                                         superfamily_id  \\\n",
       "uniprotcode                                                               \n",
       "A0A1S1YN08_9BACI                                   7948             127   \n",
       "                                                   7949             127   \n",
       "A0A286ZNN4_PIG A0A287AAR5_PIG A0A287AE88_PIG A0... 6978             246   \n",
       "                                                   7008             246   \n",
       "A3DCU1_ACET2                                       2794              17   \n",
       "...                                                                 ...   \n",
       "VEMP_SARS                                          3739             404   \n",
       "VPR_HV1B9                                          1324              43   \n",
       "                                                   1325             263   \n",
       "YEJM_ECOLI                                         3091              24   \n",
       "                                                   5321              24   \n",
       "\n",
       "                                                         classtype_id  type_id  \n",
       "uniprotcode                                                                     \n",
       "A0A1S1YN08_9BACI                                   7948             5        2  \n",
       "                                                   7949             5        2  \n",
       "A0A286ZNN4_PIG A0A287AAR5_PIG A0A287AE88_PIG A0... 6978             1        1  \n",
       "                                                   7008             1        1  \n",
       "A3DCU1_ACET2                                       2794             1        1  \n",
       "...                                                               ...      ...  \n",
       "VEMP_SARS                                          3739            11        1  \n",
       "VPR_HV1B9                                          1324             7        3  \n",
       "                                                   1325             4        2  \n",
       "YEJM_ECOLI                                         3091             1        1  \n",
       "                                                   5321             1        1  \n",
       "\n",
       "[188 rows x 8 columns]"
      ]
     },
     "execution_count": 206,
     "metadata": {},
     "output_type": "execute_result"
    }
   ],
   "source": [
    "differences_smaller"
   ]
  },
  {
   "cell_type": "code",
   "execution_count": 207,
   "metadata": {},
   "outputs": [
    {
     "data": {
      "text/plain": [
       "(4867, 9)"
      ]
     },
     "execution_count": 207,
     "metadata": {},
     "output_type": "execute_result"
    }
   ],
   "source": [
    "df_smaller.shape"
   ]
  },
  {
   "cell_type": "code",
   "execution_count": 208,
   "metadata": {},
   "outputs": [
    {
     "data": {
      "text/plain": [
       "(0, (4679, 9))"
      ]
     },
     "execution_count": 208,
     "metadata": {},
     "output_type": "execute_result"
    }
   ],
   "source": [
    "# drop rows for which still duplicates exist\n",
    "df_smaller = df_smaller[~df_smaller['uniprotcode'].duplicated(keep=False)]\n",
    "len(df_smaller[df_smaller['uniprotcode'].duplicated()]), df_smaller.shape"
   ]
  },
  {
   "cell_type": "markdown",
   "metadata": {},
   "source": [
    "#### Deal with rows with multiple protein ids"
   ]
  },
  {
   "cell_type": "code",
   "execution_count": 209,
   "metadata": {},
   "outputs": [
    {
     "data": {
      "text/html": [
       "<div>\n",
       "<style scoped>\n",
       "    .dataframe tbody tr th:only-of-type {\n",
       "        vertical-align: middle;\n",
       "    }\n",
       "\n",
       "    .dataframe tbody tr th {\n",
       "        vertical-align: top;\n",
       "    }\n",
       "\n",
       "    .dataframe thead th {\n",
       "        text-align: right;\n",
       "    }\n",
       "</style>\n",
       "<table border=\"1\" class=\"dataframe\">\n",
       "  <thead>\n",
       "    <tr style=\"text-align: right;\">\n",
       "      <th></th>\n",
       "      <th>family_name_cache</th>\n",
       "      <th>species_name_cache</th>\n",
       "      <th>membrane_name_cache</th>\n",
       "      <th>species_id</th>\n",
       "      <th>family_id</th>\n",
       "      <th>superfamily_id</th>\n",
       "      <th>classtype_id</th>\n",
       "      <th>type_id</th>\n",
       "      <th>uniprotcode</th>\n",
       "    </tr>\n",
       "  </thead>\n",
       "  <tbody>\n",
       "    <tr>\n",
       "      <th>29</th>\n",
       "      <td>Chloride transporter</td>\n",
       "      <td>Escherichia coli</td>\n",
       "      <td>Gram-neg. inner</td>\n",
       "      <td>9</td>\n",
       "      <td>18</td>\n",
       "      <td>10</td>\n",
       "      <td>1</td>\n",
       "      <td>1</td>\n",
       "      <td>CLCA_ECOLI HVM38_MOUSE IGKC_MOUSE</td>\n",
       "    </tr>\n",
       "    <tr>\n",
       "      <th>32</th>\n",
       "      <td>Methane monooxygenase</td>\n",
       "      <td>Methylococcus capsulatus</td>\n",
       "      <td>Gram-neg. inner</td>\n",
       "      <td>19</td>\n",
       "      <td>31</td>\n",
       "      <td>23</td>\n",
       "      <td>1</td>\n",
       "      <td>1</td>\n",
       "      <td>O05111_METCP PMOA_METCA PMOB_METCA</td>\n",
       "    </tr>\n",
       "    <tr>\n",
       "      <th>41</th>\n",
       "      <td>FecCD transport family</td>\n",
       "      <td>Escherichia coli</td>\n",
       "      <td>Gram-neg. inner</td>\n",
       "      <td>9</td>\n",
       "      <td>25</td>\n",
       "      <td>17</td>\n",
       "      <td>1</td>\n",
       "      <td>1</td>\n",
       "      <td>BTUC_ECOLI BTUD_ECOLI</td>\n",
       "    </tr>\n",
       "    <tr>\n",
       "      <th>42</th>\n",
       "      <td>Light-harvesting complexes from bacteria</td>\n",
       "      <td>Rhodopseudomonas acidophila</td>\n",
       "      <td>Thylakoid</td>\n",
       "      <td>32</td>\n",
       "      <td>1</td>\n",
       "      <td>2</td>\n",
       "      <td>1</td>\n",
       "      <td>1</td>\n",
       "      <td>LHA4_RHOAC LHB5_RHOAC</td>\n",
       "    </tr>\n",
       "    <tr>\n",
       "      <th>43</th>\n",
       "      <td>Light-harvesting complexes from bacteria</td>\n",
       "      <td>Rhodopseudomonas acidophila</td>\n",
       "      <td>Thylakoid</td>\n",
       "      <td>32</td>\n",
       "      <td>1</td>\n",
       "      <td>2</td>\n",
       "      <td>1</td>\n",
       "      <td>1</td>\n",
       "      <td>LHA1_RHOAC LHB1_RHOAC</td>\n",
       "    </tr>\n",
       "    <tr>\n",
       "      <th>...</th>\n",
       "      <td>...</td>\n",
       "      <td>...</td>\n",
       "      <td>...</td>\n",
       "      <td>...</td>\n",
       "      <td>...</td>\n",
       "      <td>...</td>\n",
       "      <td>...</td>\n",
       "      <td>...</td>\n",
       "      <td>...</td>\n",
       "    </tr>\n",
       "    <tr>\n",
       "      <th>8901</th>\n",
       "      <td>G-protein coupled receptors, family A</td>\n",
       "      <td>Homo sapiens</td>\n",
       "      <td>Eykaryo. plasma</td>\n",
       "      <td>14</td>\n",
       "      <td>14</td>\n",
       "      <td>6</td>\n",
       "      <td>1</td>\n",
       "      <td>1</td>\n",
       "      <td>C3AR_HUMAN GBB1_HUMAN GBG2_HUMAN GNAI1_HUMAN</td>\n",
       "    </tr>\n",
       "    <tr>\n",
       "      <th>8902</th>\n",
       "      <td>G-protein coupled receptors, family A</td>\n",
       "      <td>Homo sapiens</td>\n",
       "      <td>Eykaryo. plasma</td>\n",
       "      <td>14</td>\n",
       "      <td>14</td>\n",
       "      <td>6</td>\n",
       "      <td>1</td>\n",
       "      <td>1</td>\n",
       "      <td>C3AR_HUMAN CO3_HUMAN GBB1_RAT GBG2_BOVIN GNAI1...</td>\n",
       "    </tr>\n",
       "    <tr>\n",
       "      <th>8903</th>\n",
       "      <td>G-protein coupled receptors, family A</td>\n",
       "      <td>Homo sapiens</td>\n",
       "      <td>Eykaryo. plasma</td>\n",
       "      <td>14</td>\n",
       "      <td>14</td>\n",
       "      <td>6</td>\n",
       "      <td>1</td>\n",
       "      <td>1</td>\n",
       "      <td>C3AR_HUMAN GBB1_RAT GBG2_BOVIN GNAI1_HUMAN</td>\n",
       "    </tr>\n",
       "    <tr>\n",
       "      <th>8906</th>\n",
       "      <td>G-protein coupled receptors, family A</td>\n",
       "      <td>Mus musculus</td>\n",
       "      <td>Eykaryo. plasma</td>\n",
       "      <td>52</td>\n",
       "      <td>14</td>\n",
       "      <td>6</td>\n",
       "      <td>1</td>\n",
       "      <td>1</td>\n",
       "      <td>GBB1_HUMAN GBG2_HUMAN TAAR9_MOUSE</td>\n",
       "    </tr>\n",
       "    <tr>\n",
       "      <th>8907</th>\n",
       "      <td>G-protein coupled receptors, family A</td>\n",
       "      <td>Mus musculus</td>\n",
       "      <td>Eykaryo. plasma</td>\n",
       "      <td>52</td>\n",
       "      <td>14</td>\n",
       "      <td>6</td>\n",
       "      <td>1</td>\n",
       "      <td>1</td>\n",
       "      <td>GBB1_HUMAN GBG2_HUMAN GNAI1_HUMAN GNAL_HUMAN T...</td>\n",
       "    </tr>\n",
       "  </tbody>\n",
       "</table>\n",
       "<p>1539 rows × 9 columns</p>\n",
       "</div>"
      ],
      "text/plain": [
       "                             family_name_cache           species_name_cache  \\\n",
       "29                        Chloride transporter             Escherichia coli   \n",
       "32                       Methane monooxygenase     Methylococcus capsulatus   \n",
       "41                      FecCD transport family             Escherichia coli   \n",
       "42    Light-harvesting complexes from bacteria  Rhodopseudomonas acidophila   \n",
       "43    Light-harvesting complexes from bacteria  Rhodopseudomonas acidophila   \n",
       "...                                        ...                          ...   \n",
       "8901     G-protein coupled receptors, family A                 Homo sapiens   \n",
       "8902     G-protein coupled receptors, family A                 Homo sapiens   \n",
       "8903     G-protein coupled receptors, family A                 Homo sapiens   \n",
       "8906     G-protein coupled receptors, family A                 Mus musculus   \n",
       "8907     G-protein coupled receptors, family A                 Mus musculus   \n",
       "\n",
       "     membrane_name_cache  species_id  family_id  superfamily_id  classtype_id  \\\n",
       "29       Gram-neg. inner           9         18              10             1   \n",
       "32       Gram-neg. inner          19         31              23             1   \n",
       "41       Gram-neg. inner           9         25              17             1   \n",
       "42             Thylakoid          32          1               2             1   \n",
       "43             Thylakoid          32          1               2             1   \n",
       "...                  ...         ...        ...             ...           ...   \n",
       "8901     Eykaryo. plasma          14         14               6             1   \n",
       "8902     Eykaryo. plasma          14         14               6             1   \n",
       "8903     Eykaryo. plasma          14         14               6             1   \n",
       "8906     Eykaryo. plasma          52         14               6             1   \n",
       "8907     Eykaryo. plasma          52         14               6             1   \n",
       "\n",
       "      type_id                                        uniprotcode  \n",
       "29          1                  CLCA_ECOLI HVM38_MOUSE IGKC_MOUSE  \n",
       "32          1                 O05111_METCP PMOA_METCA PMOB_METCA  \n",
       "41          1                              BTUC_ECOLI BTUD_ECOLI  \n",
       "42          1                              LHA4_RHOAC LHB5_RHOAC  \n",
       "43          1                              LHA1_RHOAC LHB1_RHOAC  \n",
       "...       ...                                                ...  \n",
       "8901        1       C3AR_HUMAN GBB1_HUMAN GBG2_HUMAN GNAI1_HUMAN  \n",
       "8902        1  C3AR_HUMAN CO3_HUMAN GBB1_RAT GBG2_BOVIN GNAI1...  \n",
       "8903        1         C3AR_HUMAN GBB1_RAT GBG2_BOVIN GNAI1_HUMAN  \n",
       "8906        1                  GBB1_HUMAN GBG2_HUMAN TAAR9_MOUSE  \n",
       "8907        1  GBB1_HUMAN GBG2_HUMAN GNAI1_HUMAN GNAL_HUMAN T...  \n",
       "\n",
       "[1539 rows x 9 columns]"
      ]
     },
     "execution_count": 209,
     "metadata": {},
     "output_type": "execute_result"
    }
   ],
   "source": [
    "# find rows whith multiple protein ids\n",
    "\n",
    "df_smaller[df_smaller['uniprotcode'].str.contains(' ')]"
   ]
  },
  {
   "cell_type": "code",
   "execution_count": 210,
   "metadata": {},
   "outputs": [],
   "source": [
    "# remove these rows as contain multiple sequences\n",
    "\n",
    "df_smaller = df_smaller[~df_smaller['uniprotcode'].str.contains(' ')]"
   ]
  },
  {
   "cell_type": "code",
   "execution_count": 211,
   "metadata": {},
   "outputs": [],
   "source": [
    "def write_fasta(fp, sequences):\n",
    "    \"\"\"\n",
    "    Writes protein sequences to individual FASTA files in a shared directory.\n",
    "\n",
    "    Args:\n",
    "        fp (str): Directory path to store the FASTA files.\n",
    "        sequences (dict): A dictionary where keys are UniProt IDs and values are protein sequences.\n",
    "    \"\"\"\n",
    "    # Ensure the directory exists\n",
    "    os.makedirs(fp, exist_ok=True)\n",
    "    \n",
    "    for uniprot_id, sequence in sequences.items():\n",
    "        uniprot_id = uniprot_id.strip()\n",
    "        uniprot_id = uniprot_id.replace(\".\", \"\")\n",
    "        # Define the file path\n",
    "        file_path = os.path.join(fp, f\"{uniprot_id}.fasta\")\n",
    "        \n",
    "        # Skip writing if the file already exists\n",
    "        if os.path.exists(file_path):\n",
    "            # print(f\"File for {uniprot_id} already exists. Skipping.\")\n",
    "            continue\n",
    "        \n",
    "        # Write the sequence to the file\n",
    "        with open(file_path, \"w\") as f:\n",
    "            f.write(f\">{uniprot_id}\\n\")\n",
    "            f.write(f\"{sequence}\\n\") "
   ]
  },
  {
   "cell_type": "code",
   "execution_count": 212,
   "metadata": {},
   "outputs": [],
   "source": [
    "def batch_process_uniprot(df, batch_size=10):\n",
    "    \"\"\"\n",
    "    Processes UniProt sequences in batches to avoid too many requests at once.\n",
    "\n",
    "    Args:\n",
    "        df (DataFrame): DataFrame containing UniProt IDs.\n",
    "        batch_size (int): Number of sequences to process per batch.\n",
    "    \"\"\"\n",
    "    # Iterate through the DataFrame in batches\n",
    "    for i in range(0, df.shape[0], batch_size):\n",
    "        batch_uniprot_ids = df['uniprotcode'].iloc[i:i+batch_size]\n",
    "        uniprot_sequences = get_sequences_from_uniprot(batch_uniprot_ids)\n",
    "        \n",
    "        # Write the sequences to individual FASTA files\n",
    "        write_fasta(\"protein_sequences\", uniprot_sequences)"
   ]
  },
  {
   "cell_type": "code",
   "execution_count": null,
   "metadata": {},
   "outputs": [],
   "source": [
    "batch_process_uniprot(df_smaller, batch_size=10)"
   ]
  },
  {
   "cell_type": "code",
   "execution_count": 213,
   "metadata": {},
   "outputs": [],
   "source": [
    "def read_fasta_to_dict(directory):\n",
    "    \"\"\"\n",
    "    Reads all FASTA files in a directory and returns a dictionary of sequences.\n",
    "\n",
    "    Args:\n",
    "        directory (str): Path to the directory containing the FASTA files.\n",
    "\n",
    "    Returns:\n",
    "        dict: A dictionary where keys are UniProt IDs and values are protein sequences.\n",
    "    \"\"\"\n",
    "    sequences = {}\n",
    "    \n",
    "    # Iterate over all files in the directory\n",
    "    for filename in os.listdir(directory):\n",
    "        if filename.endswith('.fasta'):\n",
    "            # Extract UniProt ID from the file name (without extension)\n",
    "            uniprot_id = filename.replace('.fasta', '')\n",
    "            \n",
    "            # Read the sequence from the file\n",
    "            with open(os.path.join(directory, filename), 'r') as f:\n",
    "                # Skip the header line\n",
    "                header = f.readline()\n",
    "                # Read the sequence (assume it's all in one line)\n",
    "                sequence = f.read().replace('\\n', '')  # Remove any newlines from the sequence\n",
    "                sequences[uniprot_id] = sequence\n",
    "\n",
    "    return sequences"
   ]
  },
  {
   "cell_type": "code",
   "execution_count": 214,
   "metadata": {},
   "outputs": [],
   "source": [
    "sequences = read_fasta_to_dict(\"protein_sequences\")"
   ]
  },
  {
   "cell_type": "code",
   "execution_count": 215,
   "metadata": {},
   "outputs": [
    {
     "data": {
      "text/plain": [
       "3071"
      ]
     },
     "execution_count": 215,
     "metadata": {},
     "output_type": "execute_result"
    }
   ],
   "source": [
    "len(sequences)"
   ]
  },
  {
   "cell_type": "code",
   "execution_count": 216,
   "metadata": {},
   "outputs": [
    {
     "data": {
      "text/plain": [
       "69"
      ]
     },
     "execution_count": 216,
     "metadata": {},
     "output_type": "execute_result"
    }
   ],
   "source": [
    "len([seq_id for seq_id, seq in sequences.items() if len(seq) == 0])"
   ]
  },
  {
   "cell_type": "code",
   "execution_count": 217,
   "metadata": {},
   "outputs": [],
   "source": [
    "# remove sequences where sequence length is 0 \n",
    "\n",
    "sequences = {seq_id: seq for seq_id, seq in sequences.items() if len(seq) != 0}"
   ]
  },
  {
   "cell_type": "code",
   "execution_count": 218,
   "metadata": {},
   "outputs": [
    {
     "data": {
      "text/plain": [
       "3002"
      ]
     },
     "execution_count": 218,
     "metadata": {},
     "output_type": "execute_result"
    }
   ],
   "source": [
    "len(sequences)"
   ]
  },
  {
   "cell_type": "code",
   "execution_count": 219,
   "metadata": {},
   "outputs": [],
   "source": [
    "# find proteins for which sequence hasn't been retriedved yet\n",
    "\n",
    "proteins = set(df_smaller['uniprotcode'])\n",
    "proteins_retrieved = set(sequences.keys())"
   ]
  },
  {
   "cell_type": "code",
   "execution_count": 220,
   "metadata": {},
   "outputs": [
    {
     "data": {
      "text/plain": [
       "{'A0A087IFK6_VIBVL',\n",
       " 'A0A0A1RKH5_9ENTR',\n",
       " 'A0A0C7CQY7_PSEAE',\n",
       " 'A0A0D6H8R3_ALCXX',\n",
       " 'A0A0E4HLL9',\n",
       " 'A0A0F5EN03',\n",
       " 'A0A0F7VRL1_9ACTN',\n",
       " 'A0A0G3SCW3_KLEOX',\n",
       " 'A0A0H3LM39_BORBR',\n",
       " 'A0A0P0QBS3_SERMA',\n",
       " 'A0A0S4MEX1_STACP',\n",
       " 'A0A0T9S5R5_YEREN',\n",
       " 'A0A0U2WJJ9_9BURK',\n",
       " 'A0A0U4VTN7_9PSED',\n",
       " 'A0A0X8F058_PSEFR',\n",
       " 'A0A1B4TSD3',\n",
       " 'A0A1D5PBN0_CHICK',\n",
       " 'A0A1D5PS57_CHICK',\n",
       " 'A0A1L1RNG8_CHICK',\n",
       " 'A0A1S0WIC1_KLEP7',\n",
       " 'A0A1W0WWK2_HYPDU',\n",
       " 'A0A1Z4FUT4_9CYAN',\n",
       " 'A0A241YIJ9_ACIBA',\n",
       " 'A0A2A1YWE9',\n",
       " 'A0A2P1GRC5_9HIV1',\n",
       " 'A0A2S3SYP4',\n",
       " 'A0A2S6F4N3_LEGPH',\n",
       " 'A0A381AKI5_BREDI',\n",
       " 'A0A384E130_9METZ',\n",
       " 'A0A3A0FWV3_9PROT',\n",
       " 'A0A542C9I8_SERMA',\n",
       " 'A0A657M1C3_STAHO',\n",
       " 'A0A6A5PUS7_YEASX',\n",
       " 'A0A6P3HVI0_BISBI',\n",
       " 'A0A7Z7L1X9_ECOLI',\n",
       " 'A0A857SHB2_PROVU',\n",
       " 'A1CWT6_NEOFI',\n",
       " 'A1YNH3_9HIV1',\n",
       " 'A2VST2_9BURK',\n",
       " 'A3T2G5_SULSN',\n",
       " 'A4VW80_STRSY',\n",
       " 'A7LVT2_BACO1',\n",
       " 'A9JTM7_XENTR',\n",
       " 'AFTA_MYCT',\n",
       " 'B0V4F5_ACIBY',\n",
       " 'B0V9K7_ACIBY',\n",
       " 'B1P2T4_HORVV',\n",
       " 'B1XBJ1',\n",
       " 'B1XBK5',\n",
       " 'B4EZY7_PROMH',\n",
       " 'B4UQM4_9INFB',\n",
       " 'B5I0A0_9ACTN',\n",
       " 'B6I756_ECOSE',\n",
       " 'B7LI20_ECO45',\n",
       " 'C2R3K4_BACCE',\n",
       " 'C2TQ79_BACCE',\n",
       " 'C2TQ80_BACCE',\n",
       " 'C3NQD8',\n",
       " 'C3SVH2_ECOLI',\n",
       " 'C3T0H0_ECOLI',\n",
       " 'C3TGA2_ECOLI',\n",
       " 'C4I4K0_BURPE',\n",
       " 'C4IN73_9PSED',\n",
       " 'C4QH88_SCHMA',\n",
       " 'C4ST46',\n",
       " 'C6KEI3_9HIV1',\n",
       " 'C9CPP6_ENTCS',\n",
       " 'D0C8V9_ACIB2',\n",
       " 'D0CAH3_ACIB2',\n",
       " 'D0VWW0_9HIV1',\n",
       " 'D1BPP2_VEIPT',\n",
       " 'D1E405',\n",
       " 'D5A0Q7_ARTPN',\n",
       " 'D7AIT1',\n",
       " 'D7PC76_TURTR',\n",
       " 'D8KFM5',\n",
       " 'DCD_HUMAN',\n",
       " 'E0SJQ4_DICDI',\n",
       " 'E1BF86_BOVIN',\n",
       " 'E1C3A0_CHICK',\n",
       " 'E1C6P3_CHICK',\n",
       " 'E9DVV4_METAQ',\n",
       " 'EAA3_HUMAH',\n",
       " 'F0CAT0_9XANT',\n",
       " 'F0CAT1_9XANT',\n",
       " 'F0N0E1',\n",
       " 'F0QP73',\n",
       " 'F6M2J2_CRAGI',\n",
       " 'F7B113_HORSE',\n",
       " 'F7BWY7_XENTR',\n",
       " 'F8QV07_RUMGN',\n",
       " 'F8W463_DANRE',\n",
       " 'F9L8R0',\n",
       " 'G0GAP6_SPITZ',\n",
       " 'G2QDZ3_MYCTT',\n",
       " 'G3XCY8_PSEAE',\n",
       " 'G4Z2L3_PHYSP',\n",
       " 'H2MCM1_ORYLA',\n",
       " 'I0RTF3',\n",
       " 'I0XVQ9_9LEPT',\n",
       " 'L2P7L3',\n",
       " 'L8GJB3_ACACA',\n",
       " 'LPPX_MYCTU',\n",
       " 'M1E1E4_9HIV1',\n",
       " 'O77389_PLAF7',\n",
       " 'Q202K4_9HIV1',\n",
       " 'Q27Q69_9HIV1',\n",
       " 'Q3ITX1',\n",
       " 'Q3L7I1_ECOLI',\n",
       " 'Q4P903',\n",
       " 'Q5NU42_SACSH',\n",
       " 'Q66X49_9HIV1',\n",
       " 'Q6TAN6_9HIV1',\n",
       " 'Q74849_9HIV1',\n",
       " 'Q7S4I4_NEUCR',\n",
       " 'Q7SQ48_9HIV1',\n",
       " 'Q8E919_SHEON',\n",
       " 'Q8I2X3_PLAF7',\n",
       " 'Q8P2Q3',\n",
       " 'Q8PPZ5_XANAC',\n",
       " 'Q918V6_9VIRU',\n",
       " 'Q9I527_PSEAE',\n",
       " 'Q9SPD4_9STRA',\n",
       " 'Q9ZB22_9MICC',\n",
       " 'RAC1_HUMAN',\n",
       " 'RFAC_ECOLI',\n",
       " 'S3TFW2_ACIBA',\n",
       " 'S5UH55_DANRE',\n",
       " 'S7AS11',\n",
       " 'U1XQX6',\n",
       " 'U6NA71',\n",
       " 'V2V089_9GAMM',\n",
       " 'V4JF97_9DELT',\n",
       " 'V6ALN4_PSEAI',\n",
       " 'W1ELP7_KLEPN',\n",
       " 'W2SDE2_9EURO',\n",
       " 'W7FI62_PLAF8',\n",
       " 'W9B4M6_KLEP7'}"
      ]
     },
     "execution_count": 220,
     "metadata": {},
     "output_type": "execute_result"
    }
   ],
   "source": [
    "proteins - proteins_retrieved\n",
    "# could not find the sequences by manually entering them to uniprot"
   ]
  },
  {
   "cell_type": "code",
   "execution_count": 221,
   "metadata": {},
   "outputs": [
    {
     "data": {
      "text/plain": [
       "(3002, 9)"
      ]
     },
     "execution_count": 221,
     "metadata": {},
     "output_type": "execute_result"
    }
   ],
   "source": [
    "# subset smaller_df for which protein sequences where retrieved\n",
    "\n",
    "df_final = df_smaller[df_smaller['uniprotcode'].isin(proteins_retrieved)]\n",
    "df_final.shape"
   ]
  },
  {
   "cell_type": "code",
   "execution_count": 222,
   "metadata": {},
   "outputs": [
    {
     "name": "stderr",
     "output_type": "stream",
     "text": [
      "/tmp/ipykernel_212295/2767154440.py:1: SettingWithCopyWarning:\n",
      "\n",
      "\n",
      "A value is trying to be set on a copy of a slice from a DataFrame.\n",
      "Try using .loc[row_indexer,col_indexer] = value instead\n",
      "\n",
      "See the caveats in the documentation: https://pandas.pydata.org/pandas-docs/stable/user_guide/indexing.html#returning-a-view-versus-a-copy\n",
      "\n"
     ]
    },
    {
     "data": {
      "text/html": [
       "<div>\n",
       "<style scoped>\n",
       "    .dataframe tbody tr th:only-of-type {\n",
       "        vertical-align: middle;\n",
       "    }\n",
       "\n",
       "    .dataframe tbody tr th {\n",
       "        vertical-align: top;\n",
       "    }\n",
       "\n",
       "    .dataframe thead th {\n",
       "        text-align: right;\n",
       "    }\n",
       "</style>\n",
       "<table border=\"1\" class=\"dataframe\">\n",
       "  <thead>\n",
       "    <tr style=\"text-align: right;\">\n",
       "      <th></th>\n",
       "      <th>family_name_cache</th>\n",
       "      <th>species_name_cache</th>\n",
       "      <th>membrane_name_cache</th>\n",
       "      <th>species_id</th>\n",
       "      <th>family_id</th>\n",
       "      <th>superfamily_id</th>\n",
       "      <th>classtype_id</th>\n",
       "      <th>type_id</th>\n",
       "      <th>uniprotcode</th>\n",
       "      <th>sequence_length</th>\n",
       "    </tr>\n",
       "  </thead>\n",
       "  <tbody>\n",
       "    <tr>\n",
       "      <th>0</th>\n",
       "      <td>OmpA family</td>\n",
       "      <td>Escherichia coli</td>\n",
       "      <td>Gram-neg. outer</td>\n",
       "      <td>9</td>\n",
       "      <td>34</td>\n",
       "      <td>26</td>\n",
       "      <td>2</td>\n",
       "      <td>1</td>\n",
       "      <td>OMPA_ECOLI</td>\n",
       "      <td>346</td>\n",
       "    </tr>\n",
       "    <tr>\n",
       "      <th>1</th>\n",
       "      <td>Enterobacterial Ail/Lom protein</td>\n",
       "      <td>Escherichia coli</td>\n",
       "      <td>Gram-neg. outer</td>\n",
       "      <td>9</td>\n",
       "      <td>355</td>\n",
       "      <td>26</td>\n",
       "      <td>2</td>\n",
       "      <td>1</td>\n",
       "      <td>OMPX_ECOLI</td>\n",
       "      <td>171</td>\n",
       "    </tr>\n",
       "    <tr>\n",
       "      <th>2</th>\n",
       "      <td>Opacity porins</td>\n",
       "      <td>Neisseria meningitidis</td>\n",
       "      <td>Gram-neg. outer</td>\n",
       "      <td>24</td>\n",
       "      <td>337</td>\n",
       "      <td>235</td>\n",
       "      <td>2</td>\n",
       "      <td>1</td>\n",
       "      <td>Q9RP17_NEIME</td>\n",
       "      <td>174</td>\n",
       "    </tr>\n",
       "    <tr>\n",
       "      <th>3</th>\n",
       "      <td>Influenza virus matrix protein 2</td>\n",
       "      <td>Influenza A virus</td>\n",
       "      <td>Viral</td>\n",
       "      <td>51</td>\n",
       "      <td>263</td>\n",
       "      <td>185</td>\n",
       "      <td>11</td>\n",
       "      <td>1</td>\n",
       "      <td>M2_I97A1</td>\n",
       "      <td>97</td>\n",
       "    </tr>\n",
       "    <tr>\n",
       "      <th>4</th>\n",
       "      <td>OM protease omptin, OMPT</td>\n",
       "      <td>Yersinia pestis</td>\n",
       "      <td>Gram-neg. outer</td>\n",
       "      <td>299</td>\n",
       "      <td>36</td>\n",
       "      <td>27</td>\n",
       "      <td>2</td>\n",
       "      <td>1</td>\n",
       "      <td>COLY_YERPE</td>\n",
       "      <td>312</td>\n",
       "    </tr>\n",
       "  </tbody>\n",
       "</table>\n",
       "</div>"
      ],
      "text/plain": [
       "                  family_name_cache      species_name_cache  \\\n",
       "0                       OmpA family        Escherichia coli   \n",
       "1   Enterobacterial Ail/Lom protein        Escherichia coli   \n",
       "2                    Opacity porins  Neisseria meningitidis   \n",
       "3  Influenza virus matrix protein 2       Influenza A virus   \n",
       "4          OM protease omptin, OMPT         Yersinia pestis   \n",
       "\n",
       "  membrane_name_cache  species_id  family_id  superfamily_id  classtype_id  \\\n",
       "0     Gram-neg. outer           9         34              26             2   \n",
       "1     Gram-neg. outer           9        355              26             2   \n",
       "2     Gram-neg. outer          24        337             235             2   \n",
       "3               Viral          51        263             185            11   \n",
       "4     Gram-neg. outer         299         36              27             2   \n",
       "\n",
       "   type_id   uniprotcode  sequence_length  \n",
       "0        1    OMPA_ECOLI              346  \n",
       "1        1    OMPX_ECOLI              171  \n",
       "2        1  Q9RP17_NEIME              174  \n",
       "3        1      M2_I97A1               97  \n",
       "4        1    COLY_YERPE              312  "
      ]
     },
     "execution_count": 222,
     "metadata": {},
     "output_type": "execute_result"
    }
   ],
   "source": [
    "df_final['sequence_length'] = df_final['uniprotcode'].apply(lambda x: len(sequences.get(x, '')))\n",
    "df_final.head()"
   ]
  },
  {
   "cell_type": "code",
   "execution_count": 223,
   "metadata": {},
   "outputs": [
    {
     "data": {
      "text/plain": [
       "(8, 8081)"
      ]
     },
     "execution_count": 223,
     "metadata": {},
     "output_type": "execute_result"
    }
   ],
   "source": [
    "df_final['sequence_length'].min(), df_final['sequence_length'].max()"
   ]
  },
  {
   "cell_type": "code",
   "execution_count": 224,
   "metadata": {},
   "outputs": [
    {
     "data": {
      "application/vnd.plotly.v1+json": {
       "config": {
        "plotlyServerURL": "https://plot.ly"
       },
       "data": [
        {
         "alignmentgroup": "True",
         "bingroup": "x",
         "hovertemplate": "sequence_length=%{x}<br>count=%{y}<extra></extra>",
         "legendgroup": "",
         "marker": {
          "color": "#636efa",
          "pattern": {
           "shape": ""
          }
         },
         "name": "",
         "offsetgroup": "",
         "orientation": "v",
         "showlegend": false,
         "type": "histogram",
         "x": [
          346,
          171,
          174,
          97,
          312,
          434,
          272,
          1083,
          289,
          294,
          446,
          362,
          363,
          351,
          301,
          289,
          446,
          452,
          505,
          747,
          746,
          774,
          614,
          815,
          484,
          485,
          319,
          211,
          243,
          473,
          286,
          151,
          231,
          281,
          428,
          263,
          417,
          452,
          267,
          255,
          429,
          160,
          333,
          261,
          348,
          79,
          89,
          156,
          262,
          274,
          260,
          92,
          265,
          445,
          298,
          263,
          271,
          150,
          1001,
          583,
          94,
          30,
          70,
          177,
          760,
          179,
          117,
          252,
          319,
          239,
          87,
          83,
          395,
          152,
          2224,
          579,
          520,
          631,
          604,
          575,
          672,
          421,
          339,
          622,
          674,
          52,
          388,
          513,
          239,
          269,
          317,
          391,
          259,
          720,
          351,
          69,
          70,
          33,
          295,
          246,
          72,
          31,
          351,
          526,
          73,
          74,
          44,
          46,
          165,
          281,
          35,
          448,
          258,
          212,
          323,
          87,
          89,
          91,
          103,
          105,
          127,
          99,
          104,
          104,
          210,
          192,
          105,
          103,
          129,
          105,
          346,
          339,
          323,
          319,
          320,
          321,
          673,
          327,
          316,
          314,
          315,
          600,
          732,
          487,
          491,
          490,
          490,
          503,
          494,
          292,
          655,
          202,
          152,
          663,
          753,
          379,
          398,
          146,
          146,
          138,
          124,
          138,
          122,
          123,
          137,
          119,
          121,
          136,
          137,
          137,
          137,
          138,
          138,
          121,
          120,
          122,
          121,
          144,
          145,
          146,
          165,
          167,
          150,
          209,
          204,
          652,
          633,
          33,
          71,
          625,
          409,
          529,
          134,
          188,
          202,
          2081,
          190,
          149,
          131,
          132,
          99,
          145,
          125,
          131,
          148,
          121,
          129,
          129,
          737,
          588,
          425,
          671,
          1555,
          461,
          398,
          2211,
          2351,
          214,
          175,
          86,
          1066,
          329,
          82,
          1039,
          788,
          118,
          277,
          458,
          194,
          736,
          36,
          37,
          160,
          229,
          134,
          134,
          186,
          120,
          508,
          412,
          450,
          864,
          350,
          280,
          404,
          480,
          481,
          1867,
          3097,
          779,
          183,
          201,
          201,
          133,
          133,
          132,
          132,
          132,
          135,
          132,
          132,
          133,
          134,
          138,
          137,
          135,
          135,
          135,
          134,
          132,
          133,
          178,
          165,
          490,
          183,
          193,
          193,
          591,
          300,
          18,
          497,
          500,
          3388,
          210,
          113,
          429,
          30,
          30,
          37,
          35,
          132,
          71,
          32,
          77,
          78,
          82,
          83,
          83,
          42,
          42,
          81,
          29,
          85,
          63,
          35,
          119,
          130,
          87,
          84,
          84,
          64,
          84,
          66,
          67,
          59,
          35,
          44,
          94,
          80,
          46,
          51,
          60,
          60,
          81,
          230,
          490,
          60,
          81,
          73,
          59,
          68,
          67,
          71,
          60,
          38,
          38,
          32,
          43,
          48,
          46,
          49,
          49,
          27,
          134,
          71,
          336,
          496,
          395,
          369,
          423,
          461,
          504,
          246,
          1047,
          346,
          278,
          706,
          173,
          165,
          198,
          386,
          586,
          614,
          597,
          325,
          340,
          338,
          500,
          398,
          306,
          302,
          310,
          342,
          363,
          291,
          392,
          549,
          548,
          549,
          212,
          364,
          311,
          417,
          417,
          468,
          230,
          355,
          423,
          377,
          552,
          149,
          941,
          2459,
          2924,
          547,
          200,
          224,
          214,
          335,
          136,
          46,
          1411,
          61,
          61,
          66,
          67,
          12,
          11,
          10,
          234,
          180,
          115,
          121,
          170,
          131,
          26,
          212,
          16,
          61,
          68,
          58,
          397,
          87,
          140,
          68,
          84,
          56,
          43,
          141,
          131,
          21,
          517,
          156,
          269,
          64,
          68,
          57,
          72,
          1686,
          398,
          329,
          317,
          151,
          522,
          578,
          1253,
          292,
          1113,
          196,
          209,
          841,
          563,
          204,
          780,
          485,
          511,
          292,
          324,
          390,
          173,
          546,
          88,
          818,
          1333,
          873,
          648,
          697,
          1214,
          316,
          162,
          445,
          309,
          100,
          504,
          1308,
          91,
          189,
          132,
          178,
          189,
          556,
          425,
          588,
          271,
          270,
          804,
          412,
          200,
          434,
          553,
          505,
          640,
          304,
          659,
          150,
          1098,
          269,
          81,
          60,
          71,
          124,
          441,
          301,
          367,
          1049,
          354,
          126,
          111,
          103,
          46,
          658,
          721,
          14,
          3907,
          164,
          192,
          83,
          64,
          92,
          97,
          94,
          100,
          8081,
          359,
          358,
          243,
          412,
          747,
          251,
          246,
          333,
          311,
          514,
          684,
          647,
          264,
          496,
          283,
          411,
          389,
          468,
          364,
          329,
          132,
          271,
          130,
          78,
          663,
          81,
          384,
          440,
          583,
          2363,
          399,
          425,
          155,
          663,
          161,
          590,
          450,
          527,
          443,
          452,
          122,
          138,
          416,
          516,
          613,
          280,
          300,
          1300,
          500,
          367,
          948,
          355,
          1255,
          339,
          97,
          49,
          321,
          527,
          458,
          453,
          118,
          417,
          283,
          976,
          265,
          493,
          501,
          441,
          176,
          203,
          273,
          473,
          340,
          617,
          359,
          489,
          543,
          463,
          296,
          224,
          344,
          319,
          564,
          1276,
          734,
          323,
          226,
          501,
          557,
          310,
          125,
          403,
          271,
          431,
          1046,
          81,
          727,
          726,
          844,
          279,
          610,
          97,
          736,
          269,
          500,
          122,
          660,
          569,
          303,
          300,
          389,
          400,
          348,
          976,
          435,
          181,
          503,
          509,
          617,
          126,
          2839,
          548,
          256,
          381,
          48,
          14,
          2366,
          87,
          425,
          479,
          88,
          40,
          42,
          42,
          89,
          61,
          86,
          48,
          422,
          121,
          903,
          138,
          467,
          417,
          153,
          138,
          238,
          533,
          458,
          444,
          481,
          470,
          165,
          1486,
          420,
          398,
          480,
          693,
          514,
          280,
          285,
          337,
          883,
          646,
          283,
          228,
          894,
          778,
          449,
          504,
          322,
          213,
          721,
          2470,
          170,
          64,
          270,
          295,
          328,
          1377,
          233,
          164,
          856,
          81,
          336,
          79,
          311,
          438,
          514,
          276,
          1234,
          1185,
          649,
          839,
          469,
          467,
          857,
          864,
          853,
          319,
          673,
          317,
          319,
          554,
          563,
          532,
          512,
          121,
          148,
          121,
          151,
          123,
          138,
          137,
          138,
          137,
          121,
          121,
          119,
          119,
          671,
          403,
          426,
          474,
          921,
          878,
          748,
          451,
          189,
          82,
          44,
          232,
          516,
          674,
          1993,
          457,
          445,
          485,
          33,
          522,
          920,
          62,
          595,
          317,
          626,
          626,
          748,
          640,
          31,
          30,
          111,
          254,
          337,
          213,
          224,
          239,
          31,
          29,
          30,
          106,
          30,
          31,
          204,
          158,
          207,
          433,
          461,
          26,
          82,
          2432,
          171,
          169,
          367,
          68,
          82,
          13,
          212,
          67,
          202,
          21,
          378,
          836,
          1010,
          285,
          334,
          299,
          306,
          206,
          311,
          202,
          322,
          218,
          230,
          215,
          395,
          354,
          310,
          614,
          313,
          371,
          380,
          441,
          305,
          371,
          462,
          474,
          649,
          646,
          150,
          52,
          285,
          607,
          708,
          208,
          604,
          116,
          120,
          105,
          110,
          300,
          491,
          520,
          543,
          494,
          119,
          121,
          126,
          285,
          353,
          735,
          1342,
          183,
          639,
          461,
          878,
          497,
          712,
          126,
          131,
          178,
          126,
          403,
          681,
          404,
          1317,
          1504,
          551,
          400,
          889,
          1399,
          1048,
          1129,
          221,
          1116,
          690,
          479,
          686,
          889,
          89,
          267,
          363,
          738,
          343,
          281,
          305,
          305,
          146,
          146,
          160,
          160,
          392,
          160,
          315,
          70,
          840,
          856,
          73,
          110,
          129,
          360,
          1257,
          82,
          69,
          49,
          773,
          10,
          566,
          114,
          88,
          88,
          36,
          57,
          81,
          96,
          96,
          425,
          1102,
          1102,
          887,
          1043,
          249,
          246,
          325,
          325,
          658,
          208,
          757,
          1319,
          975,
          179,
          176,
          187,
          186,
          182,
          179,
          206,
          206,
          206,
          132,
          193,
          1102,
          910,
          131,
          194,
          185,
          141,
          136,
          32,
          23,
          21,
          98,
          136,
          46,
          84,
          90,
          85,
          64,
          86,
          87,
          85,
          87,
          63,
          64,
          59,
          63,
          67,
          85,
          89,
          85,
          85,
          111,
          103,
          108,
          112,
          66,
          66,
          60,
          102,
          65,
          95,
          44,
          93,
          94,
          67,
          47,
          47,
          47,
          105,
          47,
          73,
          103,
          75,
          160,
          149,
          151,
          148,
          158,
          66,
          80,
          82,
          67,
          34,
          77,
          47,
          59,
          66,
          39,
          35,
          42,
          42,
          67,
          65,
          36,
          65,
          94,
          98,
          66,
          86,
          41,
          25,
          84,
          85,
          77,
          19,
          19,
          84,
          36,
          25,
          42,
          32,
          84,
          35,
          57,
          88,
          274,
          743,
          2060,
          36,
          41,
          43,
          72,
          74,
          550,
          77,
          62,
          61,
          167,
          64,
          361,
          116,
          62,
          74,
          34,
          81,
          856,
          82,
          449,
          457,
          55,
          710,
          27,
          55,
          69,
          204,
          54,
          65,
          87,
          83,
          861,
          126,
          21,
          83,
          3011,
          917,
          129,
          219,
          170,
          56,
          52,
          676,
          176,
          306,
          398,
          566,
          738,
          99,
          437,
          101,
          267,
          83,
          1823,
          132,
          71,
          72,
          71,
          73,
          24,
          75,
          72,
          71,
          34,
          30,
          88,
          83,
          34,
          30,
          63,
          83,
          86,
          36,
          37,
          37,
          85,
          39,
          68,
          45,
          79,
          37,
          33,
          31,
          68,
          30,
          13,
          58,
          17,
          64,
          62,
          56,
          60,
          40,
          66,
          17,
          15,
          66,
          64,
          566,
          11,
          93,
          351,
          543,
          131,
          97,
          97,
          39,
          36,
          36,
          117,
          87,
          180,
          23,
          23,
          144,
          145,
          248,
          960,
          376,
          418,
          409,
          427,
          717,
          118,
          71,
          194,
          319,
          508,
          84,
          116,
          49,
          63,
          86,
          417,
          389,
          518,
          147,
          684,
          565,
          521,
          563,
          499,
          382,
          490,
          260,
          256,
          289,
          264,
          405,
          453,
          408,
          704,
          855,
          613,
          393,
          506,
          254,
          354,
          323,
          477,
          660,
          1118,
          38,
          3392,
          904,
          423,
          1254,
          512,
          198,
          158,
          585,
          148,
          3387,
          3434,
          1447,
          197,
          639,
          496,
          332,
          136,
          128,
          501,
          364,
          690,
          326,
          491,
          224,
          271,
          183,
          270,
          264,
          229,
          229,
          159,
          644,
          156,
          183,
          318,
          164,
          173,
          370,
          137,
          475,
          247,
          393,
          396,
          216,
          273,
          422,
          317,
          323,
          233,
          114,
          875,
          185,
          254,
          279,
          392,
          235,
          413,
          762,
          280,
          824,
          511,
          333,
          402,
          572,
          347,
          207,
          201,
          184,
          459,
          334,
          584,
          445,
          108,
          1601,
          35,
          153,
          748,
          76,
          253,
          87,
          268,
          534,
          234,
          164,
          198,
          211,
          255,
          543,
          900,
          396,
          210,
          169,
          555,
          766,
          427,
          243,
          299,
          306,
          119,
          119,
          167,
          2319,
          670,
          212,
          377,
          331,
          313,
          602,
          129,
          300,
          1037,
          594,
          219,
          207,
          586,
          258,
          205,
          179,
          480,
          477,
          241,
          206,
          314,
          168,
          345,
          648,
          117,
          104,
          330,
          182,
          268,
          427,
          158,
          493,
          191,
          148,
          193,
          1179,
          444,
          484,
          421,
          421,
          81,
          792,
          393,
          336,
          302,
          418,
          511,
          993,
          627,
          269,
          1239,
          122,
          64,
          838,
          3142,
          99,
          108,
          93,
          99,
          112,
          1106,
          162,
          190,
          934,
          985,
          680,
          673,
          475,
          76,
          726,
          538,
          486,
          701,
          657,
          912,
          300,
          315,
          189,
          513,
          250,
          1321,
          357,
          81,
          274,
          327,
          491,
          350,
          326,
          447,
          282,
          317,
          422,
          269,
          351,
          378,
          127,
          240,
          312,
          3391,
          301,
          195,
          322,
          564,
          97,
          380,
          720,
          99,
          503,
          274,
          287,
          461,
          639,
          252,
          584,
          512,
          351,
          89,
          582,
          1162,
          637,
          417,
          471,
          566,
          37,
          35,
          84,
          42,
          1248,
          241,
          462,
          270,
          278,
          241,
          251,
          235,
          411,
          463,
          479,
          468,
          89,
          291,
          394,
          351,
          236,
          516,
          496,
          448,
          138,
          228,
          416,
          256,
          3391,
          118,
          252,
          389,
          416,
          641,
          31,
          480,
          490,
          416,
          416,
          460,
          431,
          416,
          461,
          538,
          957,
          996,
          298,
          13,
          618,
          454,
          793,
          792,
          2864,
          359,
          430,
          803,
          386,
          631,
          577,
          115,
          167,
          449,
          806,
          446,
          178,
          1039,
          288,
          129,
          464,
          30,
          868,
          571,
          137,
          121,
          211,
          288,
          466,
          271,
          502,
          195,
          838,
          144,
          331,
          318,
          307,
          856,
          27,
          476,
          1170,
          530,
          570,
          230,
          676,
          3014,
          399,
          391,
          264,
          236,
          2133,
          122,
          685,
          206,
          214,
          216,
          707,
          413,
          672,
          706,
          797,
          632,
          100,
          461,
          697,
          683,
          689,
          269,
          870,
          542,
          24,
          1356,
          284,
          283,
          250,
          230,
          169,
          1382,
          442,
          696,
          105,
          479,
          901,
          993,
          810,
          271,
          280,
          529,
          408,
          123,
          66,
          171,
          71,
          344,
          227,
          1286,
          214,
          254,
          492,
          326,
          580,
          174,
          238,
          186,
          483,
          473,
          490,
          323,
          303,
          467,
          489,
          426,
          493,
          732,
          493,
          386,
          374,
          946,
          85,
          97,
          904,
          109,
          530,
          201,
          492,
          453,
          277,
          205,
          188,
          205,
          487,
          148,
          374,
          263,
          427,
          115,
          770,
          76,
          386,
          28,
          473,
          40,
          11,
          92,
          177,
          37,
          35,
          38,
          14,
          12,
          14,
          76,
          62,
          8,
          63,
          49,
          58,
          116,
          56,
          30,
          21,
          125,
          72,
          51,
          42,
          44,
          43,
          3010,
          135,
          132,
          136,
          825,
          66,
          252,
          410,
          81,
          426,
          1248,
          676,
          676,
          238,
          238,
          239,
          243,
          243,
          66,
          72,
          35,
          202,
          1012,
          938,
          1951,
          735,
          152,
          30,
          76,
          88,
          847,
          175,
          121,
          1255,
          354,
          1025,
          10,
          306,
          344,
          287,
          418,
          147,
          426,
          508,
          443,
          277,
          250,
          177,
          93,
          86,
          95,
          425,
          150,
          18,
          519,
          89,
          153,
          158,
          465,
          180,
          121,
          91,
          764,
          593,
          428,
          267,
          59,
          80,
          1163,
          74,
          75,
          65,
          88,
          546,
          64,
          98,
          271,
          149,
          26,
          280,
          591,
          522,
          246,
          105,
          495,
          768,
          98,
          492,
          350,
          249,
          247,
          154,
          30,
          113,
          676,
          346,
          359,
          393,
          96,
          193,
          155,
          192,
          209,
          453,
          159,
          1152,
          129,
          514,
          471,
          606,
          194,
          338,
          412,
          440,
          389,
          295,
          308,
          882,
          549,
          753,
          254,
          384,
          288,
          398,
          228,
          274,
          10,
          564,
          410,
          758,
          165,
          198,
          112,
          128,
          444,
          499,
          496,
          553,
          744,
          569,
          351,
          471,
          254,
          464,
          501,
          355,
          179,
          148,
          204,
          502,
          438,
          230,
          194,
          440,
          414,
          733,
          817,
          9,
          668,
          467,
          318,
          58,
          442,
          2710,
          479,
          499,
          480,
          386,
          453,
          327,
          335,
          619,
          426,
          418,
          378,
          364,
          301,
          103,
          82,
          291,
          448,
          575,
          51,
          53,
          81,
          472,
          64,
          383,
          761,
          807,
          374,
          365,
          604,
          304,
          169,
          46,
          79,
          168,
          665,
          709,
          574,
          260,
          630,
          297,
          223,
          250,
          176,
          663,
          264,
          177,
          64,
          313,
          230,
          305,
          728,
          622,
          190,
          80,
          533,
          545,
          287,
          767,
          472,
          479,
          33,
          32,
          183,
          897,
          123,
          272,
          493,
          253,
          158,
          37,
          32,
          100,
          79,
          359,
          471,
          476,
          363,
          685,
          213,
          13,
          968,
          860,
          21,
          44,
          237,
          310,
          67,
          631,
          445,
          627,
          586,
          21,
          202,
          242,
          704,
          97,
          205,
          224,
          103,
          289,
          397,
          244,
          329,
          267,
          313,
          295,
          456,
          471,
          1148,
          240,
          3387,
          3392,
          3390,
          426,
          3433,
          3432,
          3412,
          557,
          3391,
          161,
          776,
          78,
          57,
          2080,
          476,
          33,
          66,
          134,
          64,
          64,
          66,
          103,
          70,
          796,
          236,
          11,
          98,
          436,
          3423,
          3423,
          3423,
          199,
          908,
          375,
          386,
          369,
          1485,
          389,
          51,
          1070,
          1480,
          218,
          3423,
          687,
          606,
          650,
          674,
          475,
          322,
          205,
          212,
          511,
          665,
          16,
          1201,
          35,
          544,
          506,
          112,
          890,
          135,
          46,
          1530,
          203,
          16,
          25,
          499,
          704,
          509,
          564,
          1553,
          63,
          221,
          91,
          38,
          219,
          455,
          528,
          737,
          182,
          280,
          28,
          47,
          375,
          386,
          533,
          458,
          22,
          23,
          25,
          194,
          212,
          425,
          564,
          524,
          24,
          65,
          149,
          2555,
          1240,
          495,
          463,
          1840,
          238,
          768,
          655,
          569,
          566,
          220,
          227,
          213,
          269,
          268,
          130,
          421,
          591,
          655,
          207,
          2261,
          1732,
          693,
          877,
          446,
          212,
          429,
          155,
          512,
          511,
          426,
          203,
          247,
          525,
          97,
          676,
          35,
          352,
          1040,
          219,
          241,
          349,
          551,
          159,
          34,
          35,
          839,
          1040,
          833,
          294,
          455,
          582,
          296,
          403,
          1278,
          410,
          138,
          466,
          174,
          580,
          580,
          553,
          658,
          89,
          50,
          553,
          502,
          686,
          327,
          664,
          644,
          337,
          620,
          485,
          737,
          192,
          351,
          51,
          48,
          1158,
          1213,
          1115,
          228,
          519,
          478,
          519,
          765,
          1214,
          960,
          375,
          189,
          336,
          730,
          350,
          332,
          341,
          46,
          644,
          575,
          575,
          574,
          1345,
          28,
          1042,
          281,
          142,
          222,
          679,
          365,
          340,
          76,
          1438,
          746,
          804,
          358,
          80,
          92,
          390,
          159,
          57,
          117,
          57,
          83,
          36,
          61,
          613,
          1050,
          751,
          1079,
          76,
          45,
          43,
          305,
          856,
          2339,
          24,
          94,
          104,
          26,
          41,
          254,
          37,
          60,
          71,
          35,
          19,
          39,
          38,
          760,
          400,
          183,
          591,
          817,
          638,
          974,
          188,
          368,
          344,
          341,
          33,
          88,
          33,
          1582,
          1873,
          915,
          921,
          1551,
          320,
          810,
          904,
          201,
          246,
          931,
          128,
          25,
          61,
          12,
          988,
          354,
          541,
          388,
          62,
          358,
          359,
          365,
          375,
          176,
          549,
          298,
          306,
          416,
          279,
          1447,
          445,
          13,
          72,
          233,
          2671,
          660,
          805,
          36,
          625,
          430,
          198,
          810,
          393,
          1863,
          62,
          41,
          474,
          791,
          438,
          66,
          73,
          60,
          60,
          60,
          71,
          559,
          772,
          724,
          151,
          123,
          305,
          97,
          293,
          1470,
          54,
          76,
          71,
          129,
          541,
          535,
          56,
          722,
          790,
          151,
          725,
          769,
          92,
          370,
          202,
          672,
          566,
          733,
          495,
          398,
          459,
          2516,
          359,
          351,
          286,
          239,
          192,
          771,
          256,
          240,
          810,
          434,
          488,
          442,
          1434,
          57,
          760,
          2750,
          21,
          503,
          712,
          306,
          188,
          34,
          136,
          1503,
          413,
          440,
          480,
          315,
          389,
          147,
          1212,
          453,
          500,
          735,
          249,
          1013,
          198,
          144,
          263,
          2414,
          950,
          440,
          212,
          201,
          1049,
          96,
          911,
          379,
          379,
          103,
          33,
          55,
          47,
          427,
          723,
          278,
          85,
          359,
          80,
          163,
          72,
          62,
          32,
          370,
          343,
          472,
          856,
          149,
          564,
          304,
          159,
          607,
          752,
          1287,
          729,
          450,
          678,
          776,
          125,
          93,
          70,
          124,
          273,
          1203,
          296,
          284,
          308,
          48,
          29,
          301,
          336,
          435,
          2547,
          371,
          338,
          141,
          90,
          174,
          662,
          328,
          230,
          1036,
          607,
          513,
          586,
          322,
          471,
          445,
          1042,
          2061,
          748,
          138,
          146,
          217,
          1470,
          412,
          372,
          793,
          766,
          359,
          359,
          456,
          2367,
          551,
          393,
          794,
          163,
          919,
          790,
          287,
          528,
          296,
          300,
          300,
          320,
          83,
          499,
          1136,
          317,
          1582,
          298,
          975,
          394,
          86,
          1032,
          47,
          25,
          17,
          25,
          820,
          2822,
          414,
          1086,
          691,
          606,
          367,
          369,
          30,
          253,
          24,
          22,
          45,
          258,
          1170,
          1098,
          463,
          57,
          225,
          790,
          716,
          901,
          876,
          389,
          205,
          1085,
          1157,
          595,
          211,
          342,
          2377,
          372,
          256,
          773,
          272,
          315,
          323,
          291,
          564,
          34,
          398,
          1286,
          425,
          816,
          465,
          810,
          1119,
          1009,
          97,
          97,
          230,
          163,
          876,
          111,
          189,
          595,
          80,
          69,
          413,
          504,
          97,
          418,
          456,
          713,
          240,
          607,
          473,
          297,
          599,
          676,
          582,
          373,
          544,
          1150,
          131,
          116,
          380,
          426,
          1212,
          327,
          639,
          374,
          239,
          690,
          478,
          434,
          504,
          497,
          1321,
          108,
          396,
          327,
          197,
          169,
          550,
          204,
          933,
          1074,
          56,
          72,
          589,
          503,
          700,
          501,
          228,
          60,
          1706,
          455,
          488,
          78,
          1410,
          281,
          314,
          315,
          858,
          275,
          232,
          539,
          1218,
          1083,
          677,
          582,
          1082,
          339,
          478,
          547,
          251,
          251,
          217,
          274,
          49,
          524,
          1331,
          68,
          81,
          1067,
          83,
          68,
          961,
          149,
          839,
          1524,
          72,
          61,
          89,
          144,
          502,
          63,
          68,
          13,
          978,
          1049,
          137,
          132,
          132,
          134,
          137,
          229,
          2281,
          399,
          365,
          396,
          80,
          329,
          408,
          877,
          94,
          691,
          279,
          291,
          389,
          75,
          14,
          369,
          251,
          254,
          102,
          469,
          402,
          346,
          571,
          578,
          488,
          1215,
          230,
          43,
          872,
          3419,
          75,
          455,
          252,
          343,
          65,
          105,
          528,
          702,
          842,
          512,
          305,
          1139,
          326,
          572,
          377,
          294,
          588,
          55,
          460,
          453,
          741,
          223,
          791,
          704,
          615,
          350,
          56,
          1025,
          307,
          68,
          233,
          110,
          685,
          424,
          973,
          364,
          714,
          309,
          478,
          1083,
          147,
          367,
          487,
          147,
          283,
          869,
          137,
          568,
          202,
          426,
          444,
          2273,
          348,
          686,
          1078,
          706,
          79,
          251,
          2016,
          211,
          355,
          418,
          1138,
          484,
          840,
          675,
          202,
          473,
          129,
          880,
          643,
          1058,
          577,
          451,
          218,
          316,
          352,
          352,
          602,
          352,
          347,
          565,
          810,
          486,
          601,
          617,
          444,
          486,
          421,
          441,
          424,
          927,
          670,
          669,
          448,
          494,
          294,
          552,
          740,
          664,
          1194,
          872,
          915,
          126,
          959,
          374,
          302,
          191,
          146,
          275,
          60,
          534,
          528,
          34,
          1380,
          58,
          24,
          35,
          487,
          1515,
          60,
          1050,
          522,
          678,
          944,
          343,
          343,
          236,
          406,
          382,
          1359,
          448,
          457,
          500,
          3434,
          721,
          450,
          532,
          534,
          524,
          523,
          322,
          744,
          685,
          541,
          594,
          367,
          1175,
          92,
          398,
          313,
          250,
          378,
          486,
          1388,
          197,
          1042,
          373,
          332,
          729,
          541,
          413,
          493,
          462,
          503,
          298,
          333,
          836,
          121,
          290,
          1521,
          456,
          756,
          791,
          566,
          1104,
          1732,
          390,
          1581,
          1545,
          427,
          418,
          542,
          144,
          308,
          207,
          1956,
          599,
          361,
          1215,
          481,
          364,
          330,
          1355,
          443,
          471,
          699,
          764,
          509,
          585,
          561,
          511,
          936,
          1704,
          575,
          582,
          728,
          700,
          752,
          1288,
          176,
          83,
          285,
          309,
          72,
          177,
          762,
          745,
          504,
          289,
          1167,
          804,
          1467,
          283,
          511,
          630,
          655,
          918,
          399,
          431,
          491,
          178,
          344,
          370,
          222,
          220,
          1009,
          591,
          367,
          640,
          622,
          270,
          657,
          413,
          296,
          155,
          616,
          555,
          995,
          493,
          537,
          258,
          1367,
          367,
          382,
          1200,
          879,
          5037,
          509,
          2223,
          231,
          298,
          261,
          1180,
          220,
          1151,
          177,
          535,
          388,
          416,
          292,
          292,
          201,
          537,
          278,
          752,
          192,
          215,
          433,
          3444,
          867,
          73,
          673,
          362,
          349,
          370,
          362,
          1418,
          388,
          1511,
          532,
          71,
          306,
          221,
          468,
          708,
          729,
          707,
          1297,
          438,
          1092,
          473,
          114,
          336,
          664,
          610,
          522,
          857,
          144,
          485,
          203,
          306,
          1067,
          450,
          445,
          1253,
          556,
          3340,
          3423,
          574,
          133,
          3414,
          556,
          254,
          642,
          486,
          444,
          803,
          988,
          761,
          490,
          471,
          419,
          618,
          1120,
          494,
          775,
          1876,
          363,
          321,
          677,
          739,
          374,
          1021,
          919,
          741,
          683,
          599,
          426,
          780,
          784,
          858,
          1032,
          566,
          70,
          348,
          426,
          153,
          87,
          495,
          930,
          590,
          2146,
          399,
          416,
          121,
          585,
          468,
          998,
          1241,
          416,
          418,
          358,
          256,
          543,
          839,
          1325,
          1248,
          93,
          898,
          392,
          1131,
          764,
          1465,
          605,
          283,
          233,
          237,
          504,
          513,
          523,
          402,
          554,
          549,
          177,
          1039,
          599,
          233,
          348,
          759,
          399
         ],
         "xaxis": "x",
         "yaxis": "y"
        }
       ],
       "layout": {
        "barmode": "relative",
        "legend": {
         "tracegroupgap": 0
        },
        "margin": {
         "t": 60
        },
        "template": {
         "data": {
          "bar": [
           {
            "error_x": {
             "color": "#2a3f5f"
            },
            "error_y": {
             "color": "#2a3f5f"
            },
            "marker": {
             "line": {
              "color": "#E5ECF6",
              "width": 0.5
             },
             "pattern": {
              "fillmode": "overlay",
              "size": 10,
              "solidity": 0.2
             }
            },
            "type": "bar"
           }
          ],
          "barpolar": [
           {
            "marker": {
             "line": {
              "color": "#E5ECF6",
              "width": 0.5
             },
             "pattern": {
              "fillmode": "overlay",
              "size": 10,
              "solidity": 0.2
             }
            },
            "type": "barpolar"
           }
          ],
          "carpet": [
           {
            "aaxis": {
             "endlinecolor": "#2a3f5f",
             "gridcolor": "white",
             "linecolor": "white",
             "minorgridcolor": "white",
             "startlinecolor": "#2a3f5f"
            },
            "baxis": {
             "endlinecolor": "#2a3f5f",
             "gridcolor": "white",
             "linecolor": "white",
             "minorgridcolor": "white",
             "startlinecolor": "#2a3f5f"
            },
            "type": "carpet"
           }
          ],
          "choropleth": [
           {
            "colorbar": {
             "outlinewidth": 0,
             "ticks": ""
            },
            "type": "choropleth"
           }
          ],
          "contour": [
           {
            "colorbar": {
             "outlinewidth": 0,
             "ticks": ""
            },
            "colorscale": [
             [
              0,
              "#0d0887"
             ],
             [
              0.1111111111111111,
              "#46039f"
             ],
             [
              0.2222222222222222,
              "#7201a8"
             ],
             [
              0.3333333333333333,
              "#9c179e"
             ],
             [
              0.4444444444444444,
              "#bd3786"
             ],
             [
              0.5555555555555556,
              "#d8576b"
             ],
             [
              0.6666666666666666,
              "#ed7953"
             ],
             [
              0.7777777777777778,
              "#fb9f3a"
             ],
             [
              0.8888888888888888,
              "#fdca26"
             ],
             [
              1,
              "#f0f921"
             ]
            ],
            "type": "contour"
           }
          ],
          "contourcarpet": [
           {
            "colorbar": {
             "outlinewidth": 0,
             "ticks": ""
            },
            "type": "contourcarpet"
           }
          ],
          "heatmap": [
           {
            "colorbar": {
             "outlinewidth": 0,
             "ticks": ""
            },
            "colorscale": [
             [
              0,
              "#0d0887"
             ],
             [
              0.1111111111111111,
              "#46039f"
             ],
             [
              0.2222222222222222,
              "#7201a8"
             ],
             [
              0.3333333333333333,
              "#9c179e"
             ],
             [
              0.4444444444444444,
              "#bd3786"
             ],
             [
              0.5555555555555556,
              "#d8576b"
             ],
             [
              0.6666666666666666,
              "#ed7953"
             ],
             [
              0.7777777777777778,
              "#fb9f3a"
             ],
             [
              0.8888888888888888,
              "#fdca26"
             ],
             [
              1,
              "#f0f921"
             ]
            ],
            "type": "heatmap"
           }
          ],
          "heatmapgl": [
           {
            "colorbar": {
             "outlinewidth": 0,
             "ticks": ""
            },
            "colorscale": [
             [
              0,
              "#0d0887"
             ],
             [
              0.1111111111111111,
              "#46039f"
             ],
             [
              0.2222222222222222,
              "#7201a8"
             ],
             [
              0.3333333333333333,
              "#9c179e"
             ],
             [
              0.4444444444444444,
              "#bd3786"
             ],
             [
              0.5555555555555556,
              "#d8576b"
             ],
             [
              0.6666666666666666,
              "#ed7953"
             ],
             [
              0.7777777777777778,
              "#fb9f3a"
             ],
             [
              0.8888888888888888,
              "#fdca26"
             ],
             [
              1,
              "#f0f921"
             ]
            ],
            "type": "heatmapgl"
           }
          ],
          "histogram": [
           {
            "marker": {
             "pattern": {
              "fillmode": "overlay",
              "size": 10,
              "solidity": 0.2
             }
            },
            "type": "histogram"
           }
          ],
          "histogram2d": [
           {
            "colorbar": {
             "outlinewidth": 0,
             "ticks": ""
            },
            "colorscale": [
             [
              0,
              "#0d0887"
             ],
             [
              0.1111111111111111,
              "#46039f"
             ],
             [
              0.2222222222222222,
              "#7201a8"
             ],
             [
              0.3333333333333333,
              "#9c179e"
             ],
             [
              0.4444444444444444,
              "#bd3786"
             ],
             [
              0.5555555555555556,
              "#d8576b"
             ],
             [
              0.6666666666666666,
              "#ed7953"
             ],
             [
              0.7777777777777778,
              "#fb9f3a"
             ],
             [
              0.8888888888888888,
              "#fdca26"
             ],
             [
              1,
              "#f0f921"
             ]
            ],
            "type": "histogram2d"
           }
          ],
          "histogram2dcontour": [
           {
            "colorbar": {
             "outlinewidth": 0,
             "ticks": ""
            },
            "colorscale": [
             [
              0,
              "#0d0887"
             ],
             [
              0.1111111111111111,
              "#46039f"
             ],
             [
              0.2222222222222222,
              "#7201a8"
             ],
             [
              0.3333333333333333,
              "#9c179e"
             ],
             [
              0.4444444444444444,
              "#bd3786"
             ],
             [
              0.5555555555555556,
              "#d8576b"
             ],
             [
              0.6666666666666666,
              "#ed7953"
             ],
             [
              0.7777777777777778,
              "#fb9f3a"
             ],
             [
              0.8888888888888888,
              "#fdca26"
             ],
             [
              1,
              "#f0f921"
             ]
            ],
            "type": "histogram2dcontour"
           }
          ],
          "mesh3d": [
           {
            "colorbar": {
             "outlinewidth": 0,
             "ticks": ""
            },
            "type": "mesh3d"
           }
          ],
          "parcoords": [
           {
            "line": {
             "colorbar": {
              "outlinewidth": 0,
              "ticks": ""
             }
            },
            "type": "parcoords"
           }
          ],
          "pie": [
           {
            "automargin": true,
            "type": "pie"
           }
          ],
          "scatter": [
           {
            "fillpattern": {
             "fillmode": "overlay",
             "size": 10,
             "solidity": 0.2
            },
            "type": "scatter"
           }
          ],
          "scatter3d": [
           {
            "line": {
             "colorbar": {
              "outlinewidth": 0,
              "ticks": ""
             }
            },
            "marker": {
             "colorbar": {
              "outlinewidth": 0,
              "ticks": ""
             }
            },
            "type": "scatter3d"
           }
          ],
          "scattercarpet": [
           {
            "marker": {
             "colorbar": {
              "outlinewidth": 0,
              "ticks": ""
             }
            },
            "type": "scattercarpet"
           }
          ],
          "scattergeo": [
           {
            "marker": {
             "colorbar": {
              "outlinewidth": 0,
              "ticks": ""
             }
            },
            "type": "scattergeo"
           }
          ],
          "scattergl": [
           {
            "marker": {
             "colorbar": {
              "outlinewidth": 0,
              "ticks": ""
             }
            },
            "type": "scattergl"
           }
          ],
          "scattermapbox": [
           {
            "marker": {
             "colorbar": {
              "outlinewidth": 0,
              "ticks": ""
             }
            },
            "type": "scattermapbox"
           }
          ],
          "scatterpolar": [
           {
            "marker": {
             "colorbar": {
              "outlinewidth": 0,
              "ticks": ""
             }
            },
            "type": "scatterpolar"
           }
          ],
          "scatterpolargl": [
           {
            "marker": {
             "colorbar": {
              "outlinewidth": 0,
              "ticks": ""
             }
            },
            "type": "scatterpolargl"
           }
          ],
          "scatterternary": [
           {
            "marker": {
             "colorbar": {
              "outlinewidth": 0,
              "ticks": ""
             }
            },
            "type": "scatterternary"
           }
          ],
          "surface": [
           {
            "colorbar": {
             "outlinewidth": 0,
             "ticks": ""
            },
            "colorscale": [
             [
              0,
              "#0d0887"
             ],
             [
              0.1111111111111111,
              "#46039f"
             ],
             [
              0.2222222222222222,
              "#7201a8"
             ],
             [
              0.3333333333333333,
              "#9c179e"
             ],
             [
              0.4444444444444444,
              "#bd3786"
             ],
             [
              0.5555555555555556,
              "#d8576b"
             ],
             [
              0.6666666666666666,
              "#ed7953"
             ],
             [
              0.7777777777777778,
              "#fb9f3a"
             ],
             [
              0.8888888888888888,
              "#fdca26"
             ],
             [
              1,
              "#f0f921"
             ]
            ],
            "type": "surface"
           }
          ],
          "table": [
           {
            "cells": {
             "fill": {
              "color": "#EBF0F8"
             },
             "line": {
              "color": "white"
             }
            },
            "header": {
             "fill": {
              "color": "#C8D4E3"
             },
             "line": {
              "color": "white"
             }
            },
            "type": "table"
           }
          ]
         },
         "layout": {
          "annotationdefaults": {
           "arrowcolor": "#2a3f5f",
           "arrowhead": 0,
           "arrowwidth": 1
          },
          "autotypenumbers": "strict",
          "coloraxis": {
           "colorbar": {
            "outlinewidth": 0,
            "ticks": ""
           }
          },
          "colorscale": {
           "diverging": [
            [
             0,
             "#8e0152"
            ],
            [
             0.1,
             "#c51b7d"
            ],
            [
             0.2,
             "#de77ae"
            ],
            [
             0.3,
             "#f1b6da"
            ],
            [
             0.4,
             "#fde0ef"
            ],
            [
             0.5,
             "#f7f7f7"
            ],
            [
             0.6,
             "#e6f5d0"
            ],
            [
             0.7,
             "#b8e186"
            ],
            [
             0.8,
             "#7fbc41"
            ],
            [
             0.9,
             "#4d9221"
            ],
            [
             1,
             "#276419"
            ]
           ],
           "sequential": [
            [
             0,
             "#0d0887"
            ],
            [
             0.1111111111111111,
             "#46039f"
            ],
            [
             0.2222222222222222,
             "#7201a8"
            ],
            [
             0.3333333333333333,
             "#9c179e"
            ],
            [
             0.4444444444444444,
             "#bd3786"
            ],
            [
             0.5555555555555556,
             "#d8576b"
            ],
            [
             0.6666666666666666,
             "#ed7953"
            ],
            [
             0.7777777777777778,
             "#fb9f3a"
            ],
            [
             0.8888888888888888,
             "#fdca26"
            ],
            [
             1,
             "#f0f921"
            ]
           ],
           "sequentialminus": [
            [
             0,
             "#0d0887"
            ],
            [
             0.1111111111111111,
             "#46039f"
            ],
            [
             0.2222222222222222,
             "#7201a8"
            ],
            [
             0.3333333333333333,
             "#9c179e"
            ],
            [
             0.4444444444444444,
             "#bd3786"
            ],
            [
             0.5555555555555556,
             "#d8576b"
            ],
            [
             0.6666666666666666,
             "#ed7953"
            ],
            [
             0.7777777777777778,
             "#fb9f3a"
            ],
            [
             0.8888888888888888,
             "#fdca26"
            ],
            [
             1,
             "#f0f921"
            ]
           ]
          },
          "colorway": [
           "#636efa",
           "#EF553B",
           "#00cc96",
           "#ab63fa",
           "#FFA15A",
           "#19d3f3",
           "#FF6692",
           "#B6E880",
           "#FF97FF",
           "#FECB52"
          ],
          "font": {
           "color": "#2a3f5f"
          },
          "geo": {
           "bgcolor": "white",
           "lakecolor": "white",
           "landcolor": "#E5ECF6",
           "showlakes": true,
           "showland": true,
           "subunitcolor": "white"
          },
          "hoverlabel": {
           "align": "left"
          },
          "hovermode": "closest",
          "mapbox": {
           "style": "light"
          },
          "paper_bgcolor": "white",
          "plot_bgcolor": "#E5ECF6",
          "polar": {
           "angularaxis": {
            "gridcolor": "white",
            "linecolor": "white",
            "ticks": ""
           },
           "bgcolor": "#E5ECF6",
           "radialaxis": {
            "gridcolor": "white",
            "linecolor": "white",
            "ticks": ""
           }
          },
          "scene": {
           "xaxis": {
            "backgroundcolor": "#E5ECF6",
            "gridcolor": "white",
            "gridwidth": 2,
            "linecolor": "white",
            "showbackground": true,
            "ticks": "",
            "zerolinecolor": "white"
           },
           "yaxis": {
            "backgroundcolor": "#E5ECF6",
            "gridcolor": "white",
            "gridwidth": 2,
            "linecolor": "white",
            "showbackground": true,
            "ticks": "",
            "zerolinecolor": "white"
           },
           "zaxis": {
            "backgroundcolor": "#E5ECF6",
            "gridcolor": "white",
            "gridwidth": 2,
            "linecolor": "white",
            "showbackground": true,
            "ticks": "",
            "zerolinecolor": "white"
           }
          },
          "shapedefaults": {
           "line": {
            "color": "#2a3f5f"
           }
          },
          "ternary": {
           "aaxis": {
            "gridcolor": "white",
            "linecolor": "white",
            "ticks": ""
           },
           "baxis": {
            "gridcolor": "white",
            "linecolor": "white",
            "ticks": ""
           },
           "bgcolor": "#E5ECF6",
           "caxis": {
            "gridcolor": "white",
            "linecolor": "white",
            "ticks": ""
           }
          },
          "title": {
           "x": 0.05
          },
          "xaxis": {
           "automargin": true,
           "gridcolor": "white",
           "linecolor": "white",
           "ticks": "",
           "title": {
            "standoff": 15
           },
           "zerolinecolor": "white",
           "zerolinewidth": 2
          },
          "yaxis": {
           "automargin": true,
           "gridcolor": "white",
           "linecolor": "white",
           "ticks": "",
           "title": {
            "standoff": 15
           },
           "zerolinecolor": "white",
           "zerolinewidth": 2
          }
         }
        },
        "xaxis": {
         "anchor": "y",
         "domain": [
          0,
          1
         ],
         "title": {
          "text": "sequence_length"
         }
        },
        "yaxis": {
         "anchor": "x",
         "domain": [
          0,
          1
         ],
         "title": {
          "text": "count"
         }
        }
       }
      },
      "text/html": [
       "<div>                            <div id=\"9038bda9-495f-439e-a1a6-82015b90536d\" class=\"plotly-graph-div\" style=\"height:525px; width:100%;\"></div>            <script type=\"text/javascript\">                require([\"plotly\"], function(Plotly) {                    window.PLOTLYENV=window.PLOTLYENV || {};                                    if (document.getElementById(\"9038bda9-495f-439e-a1a6-82015b90536d\")) {                    Plotly.newPlot(                        \"9038bda9-495f-439e-a1a6-82015b90536d\",                        [{\"alignmentgroup\":\"True\",\"bingroup\":\"x\",\"hovertemplate\":\"sequence_length=%{x}\\u003cbr\\u003ecount=%{y}\\u003cextra\\u003e\\u003c\\u002fextra\\u003e\",\"legendgroup\":\"\",\"marker\":{\"color\":\"#636efa\",\"pattern\":{\"shape\":\"\"}},\"name\":\"\",\"offsetgroup\":\"\",\"orientation\":\"v\",\"showlegend\":false,\"x\":[346,171,174,97,312,434,272,1083,289,294,446,362,363,351,301,289,446,452,505,747,746,774,614,815,484,485,319,211,243,473,286,151,231,281,428,263,417,452,267,255,429,160,333,261,348,79,89,156,262,274,260,92,265,445,298,263,271,150,1001,583,94,30,70,177,760,179,117,252,319,239,87,83,395,152,2224,579,520,631,604,575,672,421,339,622,674,52,388,513,239,269,317,391,259,720,351,69,70,33,295,246,72,31,351,526,73,74,44,46,165,281,35,448,258,212,323,87,89,91,103,105,127,99,104,104,210,192,105,103,129,105,346,339,323,319,320,321,673,327,316,314,315,600,732,487,491,490,490,503,494,292,655,202,152,663,753,379,398,146,146,138,124,138,122,123,137,119,121,136,137,137,137,138,138,121,120,122,121,144,145,146,165,167,150,209,204,652,633,33,71,625,409,529,134,188,202,2081,190,149,131,132,99,145,125,131,148,121,129,129,737,588,425,671,1555,461,398,2211,2351,214,175,86,1066,329,82,1039,788,118,277,458,194,736,36,37,160,229,134,134,186,120,508,412,450,864,350,280,404,480,481,1867,3097,779,183,201,201,133,133,132,132,132,135,132,132,133,134,138,137,135,135,135,134,132,133,178,165,490,183,193,193,591,300,18,497,500,3388,210,113,429,30,30,37,35,132,71,32,77,78,82,83,83,42,42,81,29,85,63,35,119,130,87,84,84,64,84,66,67,59,35,44,94,80,46,51,60,60,81,230,490,60,81,73,59,68,67,71,60,38,38,32,43,48,46,49,49,27,134,71,336,496,395,369,423,461,504,246,1047,346,278,706,173,165,198,386,586,614,597,325,340,338,500,398,306,302,310,342,363,291,392,549,548,549,212,364,311,417,417,468,230,355,423,377,552,149,941,2459,2924,547,200,224,214,335,136,46,1411,61,61,66,67,12,11,10,234,180,115,121,170,131,26,212,16,61,68,58,397,87,140,68,84,56,43,141,131,21,517,156,269,64,68,57,72,1686,398,329,317,151,522,578,1253,292,1113,196,209,841,563,204,780,485,511,292,324,390,173,546,88,818,1333,873,648,697,1214,316,162,445,309,100,504,1308,91,189,132,178,189,556,425,588,271,270,804,412,200,434,553,505,640,304,659,150,1098,269,81,60,71,124,441,301,367,1049,354,126,111,103,46,658,721,14,3907,164,192,83,64,92,97,94,100,8081,359,358,243,412,747,251,246,333,311,514,684,647,264,496,283,411,389,468,364,329,132,271,130,78,663,81,384,440,583,2363,399,425,155,663,161,590,450,527,443,452,122,138,416,516,613,280,300,1300,500,367,948,355,1255,339,97,49,321,527,458,453,118,417,283,976,265,493,501,441,176,203,273,473,340,617,359,489,543,463,296,224,344,319,564,1276,734,323,226,501,557,310,125,403,271,431,1046,81,727,726,844,279,610,97,736,269,500,122,660,569,303,300,389,400,348,976,435,181,503,509,617,126,2839,548,256,381,48,14,2366,87,425,479,88,40,42,42,89,61,86,48,422,121,903,138,467,417,153,138,238,533,458,444,481,470,165,1486,420,398,480,693,514,280,285,337,883,646,283,228,894,778,449,504,322,213,721,2470,170,64,270,295,328,1377,233,164,856,81,336,79,311,438,514,276,1234,1185,649,839,469,467,857,864,853,319,673,317,319,554,563,532,512,121,148,121,151,123,138,137,138,137,121,121,119,119,671,403,426,474,921,878,748,451,189,82,44,232,516,674,1993,457,445,485,33,522,920,62,595,317,626,626,748,640,31,30,111,254,337,213,224,239,31,29,30,106,30,31,204,158,207,433,461,26,82,2432,171,169,367,68,82,13,212,67,202,21,378,836,1010,285,334,299,306,206,311,202,322,218,230,215,395,354,310,614,313,371,380,441,305,371,462,474,649,646,150,52,285,607,708,208,604,116,120,105,110,300,491,520,543,494,119,121,126,285,353,735,1342,183,639,461,878,497,712,126,131,178,126,403,681,404,1317,1504,551,400,889,1399,1048,1129,221,1116,690,479,686,889,89,267,363,738,343,281,305,305,146,146,160,160,392,160,315,70,840,856,73,110,129,360,1257,82,69,49,773,10,566,114,88,88,36,57,81,96,96,425,1102,1102,887,1043,249,246,325,325,658,208,757,1319,975,179,176,187,186,182,179,206,206,206,132,193,1102,910,131,194,185,141,136,32,23,21,98,136,46,84,90,85,64,86,87,85,87,63,64,59,63,67,85,89,85,85,111,103,108,112,66,66,60,102,65,95,44,93,94,67,47,47,47,105,47,73,103,75,160,149,151,148,158,66,80,82,67,34,77,47,59,66,39,35,42,42,67,65,36,65,94,98,66,86,41,25,84,85,77,19,19,84,36,25,42,32,84,35,57,88,274,743,2060,36,41,43,72,74,550,77,62,61,167,64,361,116,62,74,34,81,856,82,449,457,55,710,27,55,69,204,54,65,87,83,861,126,21,83,3011,917,129,219,170,56,52,676,176,306,398,566,738,99,437,101,267,83,1823,132,71,72,71,73,24,75,72,71,34,30,88,83,34,30,63,83,86,36,37,37,85,39,68,45,79,37,33,31,68,30,13,58,17,64,62,56,60,40,66,17,15,66,64,566,11,93,351,543,131,97,97,39,36,36,117,87,180,23,23,144,145,248,960,376,418,409,427,717,118,71,194,319,508,84,116,49,63,86,417,389,518,147,684,565,521,563,499,382,490,260,256,289,264,405,453,408,704,855,613,393,506,254,354,323,477,660,1118,38,3392,904,423,1254,512,198,158,585,148,3387,3434,1447,197,639,496,332,136,128,501,364,690,326,491,224,271,183,270,264,229,229,159,644,156,183,318,164,173,370,137,475,247,393,396,216,273,422,317,323,233,114,875,185,254,279,392,235,413,762,280,824,511,333,402,572,347,207,201,184,459,334,584,445,108,1601,35,153,748,76,253,87,268,534,234,164,198,211,255,543,900,396,210,169,555,766,427,243,299,306,119,119,167,2319,670,212,377,331,313,602,129,300,1037,594,219,207,586,258,205,179,480,477,241,206,314,168,345,648,117,104,330,182,268,427,158,493,191,148,193,1179,444,484,421,421,81,792,393,336,302,418,511,993,627,269,1239,122,64,838,3142,99,108,93,99,112,1106,162,190,934,985,680,673,475,76,726,538,486,701,657,912,300,315,189,513,250,1321,357,81,274,327,491,350,326,447,282,317,422,269,351,378,127,240,312,3391,301,195,322,564,97,380,720,99,503,274,287,461,639,252,584,512,351,89,582,1162,637,417,471,566,37,35,84,42,1248,241,462,270,278,241,251,235,411,463,479,468,89,291,394,351,236,516,496,448,138,228,416,256,3391,118,252,389,416,641,31,480,490,416,416,460,431,416,461,538,957,996,298,13,618,454,793,792,2864,359,430,803,386,631,577,115,167,449,806,446,178,1039,288,129,464,30,868,571,137,121,211,288,466,271,502,195,838,144,331,318,307,856,27,476,1170,530,570,230,676,3014,399,391,264,236,2133,122,685,206,214,216,707,413,672,706,797,632,100,461,697,683,689,269,870,542,24,1356,284,283,250,230,169,1382,442,696,105,479,901,993,810,271,280,529,408,123,66,171,71,344,227,1286,214,254,492,326,580,174,238,186,483,473,490,323,303,467,489,426,493,732,493,386,374,946,85,97,904,109,530,201,492,453,277,205,188,205,487,148,374,263,427,115,770,76,386,28,473,40,11,92,177,37,35,38,14,12,14,76,62,8,63,49,58,116,56,30,21,125,72,51,42,44,43,3010,135,132,136,825,66,252,410,81,426,1248,676,676,238,238,239,243,243,66,72,35,202,1012,938,1951,735,152,30,76,88,847,175,121,1255,354,1025,10,306,344,287,418,147,426,508,443,277,250,177,93,86,95,425,150,18,519,89,153,158,465,180,121,91,764,593,428,267,59,80,1163,74,75,65,88,546,64,98,271,149,26,280,591,522,246,105,495,768,98,492,350,249,247,154,30,113,676,346,359,393,96,193,155,192,209,453,159,1152,129,514,471,606,194,338,412,440,389,295,308,882,549,753,254,384,288,398,228,274,10,564,410,758,165,198,112,128,444,499,496,553,744,569,351,471,254,464,501,355,179,148,204,502,438,230,194,440,414,733,817,9,668,467,318,58,442,2710,479,499,480,386,453,327,335,619,426,418,378,364,301,103,82,291,448,575,51,53,81,472,64,383,761,807,374,365,604,304,169,46,79,168,665,709,574,260,630,297,223,250,176,663,264,177,64,313,230,305,728,622,190,80,533,545,287,767,472,479,33,32,183,897,123,272,493,253,158,37,32,100,79,359,471,476,363,685,213,13,968,860,21,44,237,310,67,631,445,627,586,21,202,242,704,97,205,224,103,289,397,244,329,267,313,295,456,471,1148,240,3387,3392,3390,426,3433,3432,3412,557,3391,161,776,78,57,2080,476,33,66,134,64,64,66,103,70,796,236,11,98,436,3423,3423,3423,199,908,375,386,369,1485,389,51,1070,1480,218,3423,687,606,650,674,475,322,205,212,511,665,16,1201,35,544,506,112,890,135,46,1530,203,16,25,499,704,509,564,1553,63,221,91,38,219,455,528,737,182,280,28,47,375,386,533,458,22,23,25,194,212,425,564,524,24,65,149,2555,1240,495,463,1840,238,768,655,569,566,220,227,213,269,268,130,421,591,655,207,2261,1732,693,877,446,212,429,155,512,511,426,203,247,525,97,676,35,352,1040,219,241,349,551,159,34,35,839,1040,833,294,455,582,296,403,1278,410,138,466,174,580,580,553,658,89,50,553,502,686,327,664,644,337,620,485,737,192,351,51,48,1158,1213,1115,228,519,478,519,765,1214,960,375,189,336,730,350,332,341,46,644,575,575,574,1345,28,1042,281,142,222,679,365,340,76,1438,746,804,358,80,92,390,159,57,117,57,83,36,61,613,1050,751,1079,76,45,43,305,856,2339,24,94,104,26,41,254,37,60,71,35,19,39,38,760,400,183,591,817,638,974,188,368,344,341,33,88,33,1582,1873,915,921,1551,320,810,904,201,246,931,128,25,61,12,988,354,541,388,62,358,359,365,375,176,549,298,306,416,279,1447,445,13,72,233,2671,660,805,36,625,430,198,810,393,1863,62,41,474,791,438,66,73,60,60,60,71,559,772,724,151,123,305,97,293,1470,54,76,71,129,541,535,56,722,790,151,725,769,92,370,202,672,566,733,495,398,459,2516,359,351,286,239,192,771,256,240,810,434,488,442,1434,57,760,2750,21,503,712,306,188,34,136,1503,413,440,480,315,389,147,1212,453,500,735,249,1013,198,144,263,2414,950,440,212,201,1049,96,911,379,379,103,33,55,47,427,723,278,85,359,80,163,72,62,32,370,343,472,856,149,564,304,159,607,752,1287,729,450,678,776,125,93,70,124,273,1203,296,284,308,48,29,301,336,435,2547,371,338,141,90,174,662,328,230,1036,607,513,586,322,471,445,1042,2061,748,138,146,217,1470,412,372,793,766,359,359,456,2367,551,393,794,163,919,790,287,528,296,300,300,320,83,499,1136,317,1582,298,975,394,86,1032,47,25,17,25,820,2822,414,1086,691,606,367,369,30,253,24,22,45,258,1170,1098,463,57,225,790,716,901,876,389,205,1085,1157,595,211,342,2377,372,256,773,272,315,323,291,564,34,398,1286,425,816,465,810,1119,1009,97,97,230,163,876,111,189,595,80,69,413,504,97,418,456,713,240,607,473,297,599,676,582,373,544,1150,131,116,380,426,1212,327,639,374,239,690,478,434,504,497,1321,108,396,327,197,169,550,204,933,1074,56,72,589,503,700,501,228,60,1706,455,488,78,1410,281,314,315,858,275,232,539,1218,1083,677,582,1082,339,478,547,251,251,217,274,49,524,1331,68,81,1067,83,68,961,149,839,1524,72,61,89,144,502,63,68,13,978,1049,137,132,132,134,137,229,2281,399,365,396,80,329,408,877,94,691,279,291,389,75,14,369,251,254,102,469,402,346,571,578,488,1215,230,43,872,3419,75,455,252,343,65,105,528,702,842,512,305,1139,326,572,377,294,588,55,460,453,741,223,791,704,615,350,56,1025,307,68,233,110,685,424,973,364,714,309,478,1083,147,367,487,147,283,869,137,568,202,426,444,2273,348,686,1078,706,79,251,2016,211,355,418,1138,484,840,675,202,473,129,880,643,1058,577,451,218,316,352,352,602,352,347,565,810,486,601,617,444,486,421,441,424,927,670,669,448,494,294,552,740,664,1194,872,915,126,959,374,302,191,146,275,60,534,528,34,1380,58,24,35,487,1515,60,1050,522,678,944,343,343,236,406,382,1359,448,457,500,3434,721,450,532,534,524,523,322,744,685,541,594,367,1175,92,398,313,250,378,486,1388,197,1042,373,332,729,541,413,493,462,503,298,333,836,121,290,1521,456,756,791,566,1104,1732,390,1581,1545,427,418,542,144,308,207,1956,599,361,1215,481,364,330,1355,443,471,699,764,509,585,561,511,936,1704,575,582,728,700,752,1288,176,83,285,309,72,177,762,745,504,289,1167,804,1467,283,511,630,655,918,399,431,491,178,344,370,222,220,1009,591,367,640,622,270,657,413,296,155,616,555,995,493,537,258,1367,367,382,1200,879,5037,509,2223,231,298,261,1180,220,1151,177,535,388,416,292,292,201,537,278,752,192,215,433,3444,867,73,673,362,349,370,362,1418,388,1511,532,71,306,221,468,708,729,707,1297,438,1092,473,114,336,664,610,522,857,144,485,203,306,1067,450,445,1253,556,3340,3423,574,133,3414,556,254,642,486,444,803,988,761,490,471,419,618,1120,494,775,1876,363,321,677,739,374,1021,919,741,683,599,426,780,784,858,1032,566,70,348,426,153,87,495,930,590,2146,399,416,121,585,468,998,1241,416,418,358,256,543,839,1325,1248,93,898,392,1131,764,1465,605,283,233,237,504,513,523,402,554,549,177,1039,599,233,348,759,399],\"xaxis\":\"x\",\"yaxis\":\"y\",\"type\":\"histogram\"}],                        {\"template\":{\"data\":{\"histogram2dcontour\":[{\"type\":\"histogram2dcontour\",\"colorbar\":{\"outlinewidth\":0,\"ticks\":\"\"},\"colorscale\":[[0.0,\"#0d0887\"],[0.1111111111111111,\"#46039f\"],[0.2222222222222222,\"#7201a8\"],[0.3333333333333333,\"#9c179e\"],[0.4444444444444444,\"#bd3786\"],[0.5555555555555556,\"#d8576b\"],[0.6666666666666666,\"#ed7953\"],[0.7777777777777778,\"#fb9f3a\"],[0.8888888888888888,\"#fdca26\"],[1.0,\"#f0f921\"]]}],\"choropleth\":[{\"type\":\"choropleth\",\"colorbar\":{\"outlinewidth\":0,\"ticks\":\"\"}}],\"histogram2d\":[{\"type\":\"histogram2d\",\"colorbar\":{\"outlinewidth\":0,\"ticks\":\"\"},\"colorscale\":[[0.0,\"#0d0887\"],[0.1111111111111111,\"#46039f\"],[0.2222222222222222,\"#7201a8\"],[0.3333333333333333,\"#9c179e\"],[0.4444444444444444,\"#bd3786\"],[0.5555555555555556,\"#d8576b\"],[0.6666666666666666,\"#ed7953\"],[0.7777777777777778,\"#fb9f3a\"],[0.8888888888888888,\"#fdca26\"],[1.0,\"#f0f921\"]]}],\"heatmap\":[{\"type\":\"heatmap\",\"colorbar\":{\"outlinewidth\":0,\"ticks\":\"\"},\"colorscale\":[[0.0,\"#0d0887\"],[0.1111111111111111,\"#46039f\"],[0.2222222222222222,\"#7201a8\"],[0.3333333333333333,\"#9c179e\"],[0.4444444444444444,\"#bd3786\"],[0.5555555555555556,\"#d8576b\"],[0.6666666666666666,\"#ed7953\"],[0.7777777777777778,\"#fb9f3a\"],[0.8888888888888888,\"#fdca26\"],[1.0,\"#f0f921\"]]}],\"heatmapgl\":[{\"type\":\"heatmapgl\",\"colorbar\":{\"outlinewidth\":0,\"ticks\":\"\"},\"colorscale\":[[0.0,\"#0d0887\"],[0.1111111111111111,\"#46039f\"],[0.2222222222222222,\"#7201a8\"],[0.3333333333333333,\"#9c179e\"],[0.4444444444444444,\"#bd3786\"],[0.5555555555555556,\"#d8576b\"],[0.6666666666666666,\"#ed7953\"],[0.7777777777777778,\"#fb9f3a\"],[0.8888888888888888,\"#fdca26\"],[1.0,\"#f0f921\"]]}],\"contourcarpet\":[{\"type\":\"contourcarpet\",\"colorbar\":{\"outlinewidth\":0,\"ticks\":\"\"}}],\"contour\":[{\"type\":\"contour\",\"colorbar\":{\"outlinewidth\":0,\"ticks\":\"\"},\"colorscale\":[[0.0,\"#0d0887\"],[0.1111111111111111,\"#46039f\"],[0.2222222222222222,\"#7201a8\"],[0.3333333333333333,\"#9c179e\"],[0.4444444444444444,\"#bd3786\"],[0.5555555555555556,\"#d8576b\"],[0.6666666666666666,\"#ed7953\"],[0.7777777777777778,\"#fb9f3a\"],[0.8888888888888888,\"#fdca26\"],[1.0,\"#f0f921\"]]}],\"surface\":[{\"type\":\"surface\",\"colorbar\":{\"outlinewidth\":0,\"ticks\":\"\"},\"colorscale\":[[0.0,\"#0d0887\"],[0.1111111111111111,\"#46039f\"],[0.2222222222222222,\"#7201a8\"],[0.3333333333333333,\"#9c179e\"],[0.4444444444444444,\"#bd3786\"],[0.5555555555555556,\"#d8576b\"],[0.6666666666666666,\"#ed7953\"],[0.7777777777777778,\"#fb9f3a\"],[0.8888888888888888,\"#fdca26\"],[1.0,\"#f0f921\"]]}],\"mesh3d\":[{\"type\":\"mesh3d\",\"colorbar\":{\"outlinewidth\":0,\"ticks\":\"\"}}],\"scatter\":[{\"fillpattern\":{\"fillmode\":\"overlay\",\"size\":10,\"solidity\":0.2},\"type\":\"scatter\"}],\"parcoords\":[{\"type\":\"parcoords\",\"line\":{\"colorbar\":{\"outlinewidth\":0,\"ticks\":\"\"}}}],\"scatterpolargl\":[{\"type\":\"scatterpolargl\",\"marker\":{\"colorbar\":{\"outlinewidth\":0,\"ticks\":\"\"}}}],\"bar\":[{\"error_x\":{\"color\":\"#2a3f5f\"},\"error_y\":{\"color\":\"#2a3f5f\"},\"marker\":{\"line\":{\"color\":\"#E5ECF6\",\"width\":0.5},\"pattern\":{\"fillmode\":\"overlay\",\"size\":10,\"solidity\":0.2}},\"type\":\"bar\"}],\"scattergeo\":[{\"type\":\"scattergeo\",\"marker\":{\"colorbar\":{\"outlinewidth\":0,\"ticks\":\"\"}}}],\"scatterpolar\":[{\"type\":\"scatterpolar\",\"marker\":{\"colorbar\":{\"outlinewidth\":0,\"ticks\":\"\"}}}],\"histogram\":[{\"marker\":{\"pattern\":{\"fillmode\":\"overlay\",\"size\":10,\"solidity\":0.2}},\"type\":\"histogram\"}],\"scattergl\":[{\"type\":\"scattergl\",\"marker\":{\"colorbar\":{\"outlinewidth\":0,\"ticks\":\"\"}}}],\"scatter3d\":[{\"type\":\"scatter3d\",\"line\":{\"colorbar\":{\"outlinewidth\":0,\"ticks\":\"\"}},\"marker\":{\"colorbar\":{\"outlinewidth\":0,\"ticks\":\"\"}}}],\"scattermapbox\":[{\"type\":\"scattermapbox\",\"marker\":{\"colorbar\":{\"outlinewidth\":0,\"ticks\":\"\"}}}],\"scatterternary\":[{\"type\":\"scatterternary\",\"marker\":{\"colorbar\":{\"outlinewidth\":0,\"ticks\":\"\"}}}],\"scattercarpet\":[{\"type\":\"scattercarpet\",\"marker\":{\"colorbar\":{\"outlinewidth\":0,\"ticks\":\"\"}}}],\"carpet\":[{\"aaxis\":{\"endlinecolor\":\"#2a3f5f\",\"gridcolor\":\"white\",\"linecolor\":\"white\",\"minorgridcolor\":\"white\",\"startlinecolor\":\"#2a3f5f\"},\"baxis\":{\"endlinecolor\":\"#2a3f5f\",\"gridcolor\":\"white\",\"linecolor\":\"white\",\"minorgridcolor\":\"white\",\"startlinecolor\":\"#2a3f5f\"},\"type\":\"carpet\"}],\"table\":[{\"cells\":{\"fill\":{\"color\":\"#EBF0F8\"},\"line\":{\"color\":\"white\"}},\"header\":{\"fill\":{\"color\":\"#C8D4E3\"},\"line\":{\"color\":\"white\"}},\"type\":\"table\"}],\"barpolar\":[{\"marker\":{\"line\":{\"color\":\"#E5ECF6\",\"width\":0.5},\"pattern\":{\"fillmode\":\"overlay\",\"size\":10,\"solidity\":0.2}},\"type\":\"barpolar\"}],\"pie\":[{\"automargin\":true,\"type\":\"pie\"}]},\"layout\":{\"autotypenumbers\":\"strict\",\"colorway\":[\"#636efa\",\"#EF553B\",\"#00cc96\",\"#ab63fa\",\"#FFA15A\",\"#19d3f3\",\"#FF6692\",\"#B6E880\",\"#FF97FF\",\"#FECB52\"],\"font\":{\"color\":\"#2a3f5f\"},\"hovermode\":\"closest\",\"hoverlabel\":{\"align\":\"left\"},\"paper_bgcolor\":\"white\",\"plot_bgcolor\":\"#E5ECF6\",\"polar\":{\"bgcolor\":\"#E5ECF6\",\"angularaxis\":{\"gridcolor\":\"white\",\"linecolor\":\"white\",\"ticks\":\"\"},\"radialaxis\":{\"gridcolor\":\"white\",\"linecolor\":\"white\",\"ticks\":\"\"}},\"ternary\":{\"bgcolor\":\"#E5ECF6\",\"aaxis\":{\"gridcolor\":\"white\",\"linecolor\":\"white\",\"ticks\":\"\"},\"baxis\":{\"gridcolor\":\"white\",\"linecolor\":\"white\",\"ticks\":\"\"},\"caxis\":{\"gridcolor\":\"white\",\"linecolor\":\"white\",\"ticks\":\"\"}},\"coloraxis\":{\"colorbar\":{\"outlinewidth\":0,\"ticks\":\"\"}},\"colorscale\":{\"sequential\":[[0.0,\"#0d0887\"],[0.1111111111111111,\"#46039f\"],[0.2222222222222222,\"#7201a8\"],[0.3333333333333333,\"#9c179e\"],[0.4444444444444444,\"#bd3786\"],[0.5555555555555556,\"#d8576b\"],[0.6666666666666666,\"#ed7953\"],[0.7777777777777778,\"#fb9f3a\"],[0.8888888888888888,\"#fdca26\"],[1.0,\"#f0f921\"]],\"sequentialminus\":[[0.0,\"#0d0887\"],[0.1111111111111111,\"#46039f\"],[0.2222222222222222,\"#7201a8\"],[0.3333333333333333,\"#9c179e\"],[0.4444444444444444,\"#bd3786\"],[0.5555555555555556,\"#d8576b\"],[0.6666666666666666,\"#ed7953\"],[0.7777777777777778,\"#fb9f3a\"],[0.8888888888888888,\"#fdca26\"],[1.0,\"#f0f921\"]],\"diverging\":[[0,\"#8e0152\"],[0.1,\"#c51b7d\"],[0.2,\"#de77ae\"],[0.3,\"#f1b6da\"],[0.4,\"#fde0ef\"],[0.5,\"#f7f7f7\"],[0.6,\"#e6f5d0\"],[0.7,\"#b8e186\"],[0.8,\"#7fbc41\"],[0.9,\"#4d9221\"],[1,\"#276419\"]]},\"xaxis\":{\"gridcolor\":\"white\",\"linecolor\":\"white\",\"ticks\":\"\",\"title\":{\"standoff\":15},\"zerolinecolor\":\"white\",\"automargin\":true,\"zerolinewidth\":2},\"yaxis\":{\"gridcolor\":\"white\",\"linecolor\":\"white\",\"ticks\":\"\",\"title\":{\"standoff\":15},\"zerolinecolor\":\"white\",\"automargin\":true,\"zerolinewidth\":2},\"scene\":{\"xaxis\":{\"backgroundcolor\":\"#E5ECF6\",\"gridcolor\":\"white\",\"linecolor\":\"white\",\"showbackground\":true,\"ticks\":\"\",\"zerolinecolor\":\"white\",\"gridwidth\":2},\"yaxis\":{\"backgroundcolor\":\"#E5ECF6\",\"gridcolor\":\"white\",\"linecolor\":\"white\",\"showbackground\":true,\"ticks\":\"\",\"zerolinecolor\":\"white\",\"gridwidth\":2},\"zaxis\":{\"backgroundcolor\":\"#E5ECF6\",\"gridcolor\":\"white\",\"linecolor\":\"white\",\"showbackground\":true,\"ticks\":\"\",\"zerolinecolor\":\"white\",\"gridwidth\":2}},\"shapedefaults\":{\"line\":{\"color\":\"#2a3f5f\"}},\"annotationdefaults\":{\"arrowcolor\":\"#2a3f5f\",\"arrowhead\":0,\"arrowwidth\":1},\"geo\":{\"bgcolor\":\"white\",\"landcolor\":\"#E5ECF6\",\"subunitcolor\":\"white\",\"showland\":true,\"showlakes\":true,\"lakecolor\":\"white\"},\"title\":{\"x\":0.05},\"mapbox\":{\"style\":\"light\"}}},\"xaxis\":{\"anchor\":\"y\",\"domain\":[0.0,1.0],\"title\":{\"text\":\"sequence_length\"}},\"yaxis\":{\"anchor\":\"x\",\"domain\":[0.0,1.0],\"title\":{\"text\":\"count\"}},\"legend\":{\"tracegroupgap\":0},\"margin\":{\"t\":60},\"barmode\":\"relative\"},                        {\"responsive\": true}                    ).then(function(){\n",
       "                            \n",
       "var gd = document.getElementById('9038bda9-495f-439e-a1a6-82015b90536d');\n",
       "var x = new MutationObserver(function (mutations, observer) {{\n",
       "        var display = window.getComputedStyle(gd).display;\n",
       "        if (!display || display === 'none') {{\n",
       "            console.log([gd, 'removed!']);\n",
       "            Plotly.purge(gd);\n",
       "            observer.disconnect();\n",
       "        }}\n",
       "}});\n",
       "\n",
       "// Listen for the removal of the full notebook cells\n",
       "var notebookContainer = gd.closest('#notebook-container');\n",
       "if (notebookContainer) {{\n",
       "    x.observe(notebookContainer, {childList: true});\n",
       "}}\n",
       "\n",
       "// Listen for the clearing of the current output cell\n",
       "var outputEl = gd.closest('.output');\n",
       "if (outputEl) {{\n",
       "    x.observe(outputEl, {childList: true});\n",
       "}}\n",
       "\n",
       "                        })                };                });            </script>        </div>"
      ]
     },
     "metadata": {},
     "output_type": "display_data"
    }
   ],
   "source": [
    "# plot distribution of sequence length\n",
    "fig = px.histogram(df_final, x = \"sequence_length\")\n",
    "fig.show()"
   ]
  },
  {
   "cell_type": "code",
   "execution_count": 225,
   "metadata": {},
   "outputs": [
    {
     "name": "stderr",
     "output_type": "stream",
     "text": [
      "/tmp/ipykernel_212295/2153194639.py:3: SettingWithCopyWarning:\n",
      "\n",
      "\n",
      "A value is trying to be set on a copy of a slice from a DataFrame.\n",
      "Try using .loc[row_indexer,col_indexer] = value instead\n",
      "\n",
      "See the caveats in the documentation: https://pandas.pydata.org/pandas-docs/stable/user_guide/indexing.html#returning-a-view-versus-a-copy\n",
      "\n"
     ]
    },
    {
     "data": {
      "text/html": [
       "<div>\n",
       "<style scoped>\n",
       "    .dataframe tbody tr th:only-of-type {\n",
       "        vertical-align: middle;\n",
       "    }\n",
       "\n",
       "    .dataframe tbody tr th {\n",
       "        vertical-align: top;\n",
       "    }\n",
       "\n",
       "    .dataframe thead th {\n",
       "        text-align: right;\n",
       "    }\n",
       "</style>\n",
       "<table border=\"1\" class=\"dataframe\">\n",
       "  <thead>\n",
       "    <tr style=\"text-align: right;\">\n",
       "      <th></th>\n",
       "      <th>family_name_cache</th>\n",
       "      <th>species_name_cache</th>\n",
       "      <th>membrane_name_cache</th>\n",
       "      <th>species_id</th>\n",
       "      <th>family_id</th>\n",
       "      <th>superfamily_id</th>\n",
       "      <th>classtype_id</th>\n",
       "      <th>type_id</th>\n",
       "      <th>uniprotcode</th>\n",
       "      <th>sequence_length</th>\n",
       "      <th>sequence_length_bin</th>\n",
       "    </tr>\n",
       "  </thead>\n",
       "  <tbody>\n",
       "    <tr>\n",
       "      <th>0</th>\n",
       "      <td>OmpA family</td>\n",
       "      <td>Escherichia coli</td>\n",
       "      <td>Gram-neg. outer</td>\n",
       "      <td>9</td>\n",
       "      <td>34</td>\n",
       "      <td>26</td>\n",
       "      <td>2</td>\n",
       "      <td>1</td>\n",
       "      <td>OMPA_ECOLI</td>\n",
       "      <td>346</td>\n",
       "      <td>300-500</td>\n",
       "    </tr>\n",
       "    <tr>\n",
       "      <th>1</th>\n",
       "      <td>Enterobacterial Ail/Lom protein</td>\n",
       "      <td>Escherichia coli</td>\n",
       "      <td>Gram-neg. outer</td>\n",
       "      <td>9</td>\n",
       "      <td>355</td>\n",
       "      <td>26</td>\n",
       "      <td>2</td>\n",
       "      <td>1</td>\n",
       "      <td>OMPX_ECOLI</td>\n",
       "      <td>171</td>\n",
       "      <td>100-300</td>\n",
       "    </tr>\n",
       "    <tr>\n",
       "      <th>2</th>\n",
       "      <td>Opacity porins</td>\n",
       "      <td>Neisseria meningitidis</td>\n",
       "      <td>Gram-neg. outer</td>\n",
       "      <td>24</td>\n",
       "      <td>337</td>\n",
       "      <td>235</td>\n",
       "      <td>2</td>\n",
       "      <td>1</td>\n",
       "      <td>Q9RP17_NEIME</td>\n",
       "      <td>174</td>\n",
       "      <td>100-300</td>\n",
       "    </tr>\n",
       "    <tr>\n",
       "      <th>3</th>\n",
       "      <td>Influenza virus matrix protein 2</td>\n",
       "      <td>Influenza A virus</td>\n",
       "      <td>Viral</td>\n",
       "      <td>51</td>\n",
       "      <td>263</td>\n",
       "      <td>185</td>\n",
       "      <td>11</td>\n",
       "      <td>1</td>\n",
       "      <td>M2_I97A1</td>\n",
       "      <td>97</td>\n",
       "      <td>0-100</td>\n",
       "    </tr>\n",
       "    <tr>\n",
       "      <th>4</th>\n",
       "      <td>OM protease omptin, OMPT</td>\n",
       "      <td>Yersinia pestis</td>\n",
       "      <td>Gram-neg. outer</td>\n",
       "      <td>299</td>\n",
       "      <td>36</td>\n",
       "      <td>27</td>\n",
       "      <td>2</td>\n",
       "      <td>1</td>\n",
       "      <td>COLY_YERPE</td>\n",
       "      <td>312</td>\n",
       "      <td>300-500</td>\n",
       "    </tr>\n",
       "  </tbody>\n",
       "</table>\n",
       "</div>"
      ],
      "text/plain": [
       "                  family_name_cache      species_name_cache  \\\n",
       "0                       OmpA family        Escherichia coli   \n",
       "1   Enterobacterial Ail/Lom protein        Escherichia coli   \n",
       "2                    Opacity porins  Neisseria meningitidis   \n",
       "3  Influenza virus matrix protein 2       Influenza A virus   \n",
       "4          OM protease omptin, OMPT         Yersinia pestis   \n",
       "\n",
       "  membrane_name_cache  species_id  family_id  superfamily_id  classtype_id  \\\n",
       "0     Gram-neg. outer           9         34              26             2   \n",
       "1     Gram-neg. outer           9        355              26             2   \n",
       "2     Gram-neg. outer          24        337             235             2   \n",
       "3               Viral          51        263             185            11   \n",
       "4     Gram-neg. outer         299         36              27             2   \n",
       "\n",
       "   type_id   uniprotcode  sequence_length sequence_length_bin  \n",
       "0        1    OMPA_ECOLI              346             300-500  \n",
       "1        1    OMPX_ECOLI              171             100-300  \n",
       "2        1  Q9RP17_NEIME              174             100-300  \n",
       "3        1      M2_I97A1               97               0-100  \n",
       "4        1    COLY_YERPE              312             300-500  "
      ]
     },
     "execution_count": 225,
     "metadata": {},
     "output_type": "execute_result"
    }
   ],
   "source": [
    "bins = [0, 100, 300, 500, 1000, 2000, float('inf')]\n",
    "bin_labels = ['0-100', '100-300', '300-500', '500-1000', '1000-2000', '>2000']\n",
    "df_final['sequence_length_bin'] = pd.cut(df_final['sequence_length'], bins=bins, labels=bin_labels, right=False)\n",
    "df_final.head()"
   ]
  },
  {
   "cell_type": "code",
   "execution_count": 226,
   "metadata": {},
   "outputs": [],
   "source": [
    "def add_prefix_to_categories(df, columns):\n",
    "    for col in columns:\n",
    "        prefix = ''\n",
    "        if col == 'species_id':\n",
    "            prefix = 's'\n",
    "        elif col == 'family_id':\n",
    "            prefix = 'f'\n",
    "        elif col == 'superfamily_id':\n",
    "            prefix = 'sf'\n",
    "        elif col == 'classtype_id':\n",
    "            prefix = 'c'\n",
    "        elif col == 'type_id':\n",
    "            prefix = 't'\n",
    "        \n",
    "        # Add prefix to the values in the column\n",
    "        df[col] = df[col].apply(lambda x: f\"{prefix}{x}\")\n",
    "    \n",
    "    return df\n"
   ]
  },
  {
   "cell_type": "code",
   "execution_count": 227,
   "metadata": {},
   "outputs": [
    {
     "name": "stderr",
     "output_type": "stream",
     "text": [
      "/tmp/ipykernel_212295/4053373897.py:16: SettingWithCopyWarning:\n",
      "\n",
      "\n",
      "A value is trying to be set on a copy of a slice from a DataFrame.\n",
      "Try using .loc[row_indexer,col_indexer] = value instead\n",
      "\n",
      "See the caveats in the documentation: https://pandas.pydata.org/pandas-docs/stable/user_guide/indexing.html#returning-a-view-versus-a-copy\n",
      "\n",
      "/tmp/ipykernel_212295/4053373897.py:16: SettingWithCopyWarning:\n",
      "\n",
      "\n",
      "A value is trying to be set on a copy of a slice from a DataFrame.\n",
      "Try using .loc[row_indexer,col_indexer] = value instead\n",
      "\n",
      "See the caveats in the documentation: https://pandas.pydata.org/pandas-docs/stable/user_guide/indexing.html#returning-a-view-versus-a-copy\n",
      "\n",
      "/tmp/ipykernel_212295/4053373897.py:16: SettingWithCopyWarning:\n",
      "\n",
      "\n",
      "A value is trying to be set on a copy of a slice from a DataFrame.\n",
      "Try using .loc[row_indexer,col_indexer] = value instead\n",
      "\n",
      "See the caveats in the documentation: https://pandas.pydata.org/pandas-docs/stable/user_guide/indexing.html#returning-a-view-versus-a-copy\n",
      "\n",
      "/tmp/ipykernel_212295/4053373897.py:16: SettingWithCopyWarning:\n",
      "\n",
      "\n",
      "A value is trying to be set on a copy of a slice from a DataFrame.\n",
      "Try using .loc[row_indexer,col_indexer] = value instead\n",
      "\n",
      "See the caveats in the documentation: https://pandas.pydata.org/pandas-docs/stable/user_guide/indexing.html#returning-a-view-versus-a-copy\n",
      "\n",
      "/tmp/ipykernel_212295/4053373897.py:16: SettingWithCopyWarning:\n",
      "\n",
      "\n",
      "A value is trying to be set on a copy of a slice from a DataFrame.\n",
      "Try using .loc[row_indexer,col_indexer] = value instead\n",
      "\n",
      "See the caveats in the documentation: https://pandas.pydata.org/pandas-docs/stable/user_guide/indexing.html#returning-a-view-versus-a-copy\n",
      "\n"
     ]
    }
   ],
   "source": [
    "df_final  = add_prefix_to_categories(df_final, ['species_id', 'family_id', 'superfamily_id', 'classtype_id', 'type_id'])"
   ]
  },
  {
   "cell_type": "code",
   "execution_count": 255,
   "metadata": {},
   "outputs": [],
   "source": [
    "def move_column_to_front(df, column_name):\n",
    "    \"\"\"\n",
    "    Moves a specific column to the first position in the DataFrame.\n",
    "\n",
    "    Args:\n",
    "        df (pd.DataFrame): The DataFrame to modify.\n",
    "        column_name (str): The column to move to the front.\n",
    "\n",
    "    Returns:\n",
    "        pd.DataFrame: A new DataFrame with the column moved to the front.\n",
    "    \"\"\"\n",
    "    # Ensure the column exists in the DataFrame\n",
    "    if column_name in df.columns:\n",
    "        # Reorder the columns\n",
    "        columns = [column_name] + [col for col in df.columns if col != column_name]\n",
    "        return df[columns]\n",
    "    else:\n",
    "        raise ValueError(f\"Column '{column_name}' not found in DataFrame.\")"
   ]
  },
  {
   "cell_type": "code",
   "execution_count": 257,
   "metadata": {},
   "outputs": [],
   "source": [
    "df_final = move_column_to_front(df_final, \"uniprotcode\")"
   ]
  },
  {
   "cell_type": "code",
   "execution_count": 258,
   "metadata": {},
   "outputs": [
    {
     "data": {
      "text/html": [
       "<div>\n",
       "<style scoped>\n",
       "    .dataframe tbody tr th:only-of-type {\n",
       "        vertical-align: middle;\n",
       "    }\n",
       "\n",
       "    .dataframe tbody tr th {\n",
       "        vertical-align: top;\n",
       "    }\n",
       "\n",
       "    .dataframe thead th {\n",
       "        text-align: right;\n",
       "    }\n",
       "</style>\n",
       "<table border=\"1\" class=\"dataframe\">\n",
       "  <thead>\n",
       "    <tr style=\"text-align: right;\">\n",
       "      <th></th>\n",
       "      <th>uniprotcode</th>\n",
       "      <th>family_name_cache</th>\n",
       "      <th>species_name_cache</th>\n",
       "      <th>membrane_name_cache</th>\n",
       "      <th>species_id</th>\n",
       "      <th>family_id</th>\n",
       "      <th>superfamily_id</th>\n",
       "      <th>classtype_id</th>\n",
       "      <th>type_id</th>\n",
       "      <th>sequence_length</th>\n",
       "      <th>sequence_length_bin</th>\n",
       "    </tr>\n",
       "  </thead>\n",
       "  <tbody>\n",
       "    <tr>\n",
       "      <th>0</th>\n",
       "      <td>OMPA_ECOLI</td>\n",
       "      <td>OmpA family</td>\n",
       "      <td>Escherichia coli</td>\n",
       "      <td>Gram-neg. outer</td>\n",
       "      <td>s9</td>\n",
       "      <td>f34</td>\n",
       "      <td>sf26</td>\n",
       "      <td>c2</td>\n",
       "      <td>t1</td>\n",
       "      <td>346</td>\n",
       "      <td>300-500</td>\n",
       "    </tr>\n",
       "    <tr>\n",
       "      <th>1</th>\n",
       "      <td>OMPX_ECOLI</td>\n",
       "      <td>Enterobacterial Ail/Lom protein</td>\n",
       "      <td>Escherichia coli</td>\n",
       "      <td>Gram-neg. outer</td>\n",
       "      <td>s9</td>\n",
       "      <td>f355</td>\n",
       "      <td>sf26</td>\n",
       "      <td>c2</td>\n",
       "      <td>t1</td>\n",
       "      <td>171</td>\n",
       "      <td>100-300</td>\n",
       "    </tr>\n",
       "    <tr>\n",
       "      <th>2</th>\n",
       "      <td>Q9RP17_NEIME</td>\n",
       "      <td>Opacity porins</td>\n",
       "      <td>Neisseria meningitidis</td>\n",
       "      <td>Gram-neg. outer</td>\n",
       "      <td>s24</td>\n",
       "      <td>f337</td>\n",
       "      <td>sf235</td>\n",
       "      <td>c2</td>\n",
       "      <td>t1</td>\n",
       "      <td>174</td>\n",
       "      <td>100-300</td>\n",
       "    </tr>\n",
       "    <tr>\n",
       "      <th>3</th>\n",
       "      <td>M2_I97A1</td>\n",
       "      <td>Influenza virus matrix protein 2</td>\n",
       "      <td>Influenza A virus</td>\n",
       "      <td>Viral</td>\n",
       "      <td>s51</td>\n",
       "      <td>f263</td>\n",
       "      <td>sf185</td>\n",
       "      <td>c11</td>\n",
       "      <td>t1</td>\n",
       "      <td>97</td>\n",
       "      <td>0-100</td>\n",
       "    </tr>\n",
       "    <tr>\n",
       "      <th>4</th>\n",
       "      <td>COLY_YERPE</td>\n",
       "      <td>OM protease omptin, OMPT</td>\n",
       "      <td>Yersinia pestis</td>\n",
       "      <td>Gram-neg. outer</td>\n",
       "      <td>s299</td>\n",
       "      <td>f36</td>\n",
       "      <td>sf27</td>\n",
       "      <td>c2</td>\n",
       "      <td>t1</td>\n",
       "      <td>312</td>\n",
       "      <td>300-500</td>\n",
       "    </tr>\n",
       "  </tbody>\n",
       "</table>\n",
       "</div>"
      ],
      "text/plain": [
       "    uniprotcode                 family_name_cache      species_name_cache  \\\n",
       "0    OMPA_ECOLI                       OmpA family        Escherichia coli   \n",
       "1    OMPX_ECOLI   Enterobacterial Ail/Lom protein        Escherichia coli   \n",
       "2  Q9RP17_NEIME                    Opacity porins  Neisseria meningitidis   \n",
       "3      M2_I97A1  Influenza virus matrix protein 2       Influenza A virus   \n",
       "4    COLY_YERPE          OM protease omptin, OMPT         Yersinia pestis   \n",
       "\n",
       "  membrane_name_cache species_id family_id superfamily_id classtype_id  \\\n",
       "0     Gram-neg. outer         s9       f34           sf26           c2   \n",
       "1     Gram-neg. outer         s9      f355           sf26           c2   \n",
       "2     Gram-neg. outer        s24      f337          sf235           c2   \n",
       "3               Viral        s51      f263          sf185          c11   \n",
       "4     Gram-neg. outer       s299       f36           sf27           c2   \n",
       "\n",
       "  type_id  sequence_length sequence_length_bin  \n",
       "0      t1              346             300-500  \n",
       "1      t1              171             100-300  \n",
       "2      t1              174             100-300  \n",
       "3      t1               97               0-100  \n",
       "4      t1              312             300-500  "
      ]
     },
     "execution_count": 258,
     "metadata": {},
     "output_type": "execute_result"
    }
   ],
   "source": [
    "df_final.head()"
   ]
  },
  {
   "cell_type": "code",
   "execution_count": 230,
   "metadata": {},
   "outputs": [],
   "source": [
    "def write_all_sequences_to_fasta(sequences, file_path):\n",
    "    \"\"\"\n",
    "    Writes all protein sequences from a dictionary to a single FASTA file.\n",
    "\n",
    "    Args:\n",
    "        sequences (dict): A dictionary where keys are UniProt IDs and values are protein sequences.\n",
    "        file_path (str): The path to the output FASTA file.\n",
    "    \"\"\"\n",
    "    with open(file_path, \"w\") as f:\n",
    "        for uniprot_id, sequence in sequences.items():\n",
    "            f.write(f\">{uniprot_id}\\n\")\n",
    "            f.write(f\"{sequence}\\n\")"
   ]
  },
  {
   "cell_type": "code",
   "execution_count": 254,
   "metadata": {},
   "outputs": [
    {
     "data": {
      "text/plain": [
       "(3002, 3002)"
      ]
     },
     "execution_count": 254,
     "metadata": {},
     "output_type": "execute_result"
    }
   ],
   "source": [
    "len(sequences), len(df_final)"
   ]
  },
  {
   "cell_type": "code",
   "execution_count": 259,
   "metadata": {},
   "outputs": [],
   "source": [
    "# save data\n",
    "\n",
    "write_all_sequences_to_fasta(sequences, \"opm.fasta\")\n",
    "\n",
    "df_final.to_csv(\"opm_metadata.csv\", index = False)"
   ]
  },
  {
   "cell_type": "code",
   "execution_count": 266,
   "metadata": {},
   "outputs": [
    {
     "data": {
      "application/vnd.plotly.v1+json": {
       "config": {
        "plotlyServerURL": "https://plot.ly"
       },
       "data": [
        {
         "coloraxis": "coloraxis",
         "hovertemplate": "Superfamily ID: %{x}<br>Family ID: %{y}<br>Count of Samples: %{z}<extra></extra>",
         "name": "0",
         "type": "heatmap",
         "x": [
          "sf127",
          "sf15",
          "sf8"
         ],
         "xaxis": "x",
         "y": [
          "f1002",
          "f1009",
          "f1032",
          "f1041",
          "f1141",
          "f1142",
          "f1154",
          "f1176",
          "f1201",
          "f1225",
          "f1231",
          "f1237",
          "f125",
          "f16",
          "f17",
          "f178",
          "f179",
          "f180",
          "f181",
          "f183",
          "f184",
          "f185",
          "f186",
          "f23",
          "f268",
          "f303",
          "f325",
          "f333",
          "f334",
          "f335",
          "f351",
          "f352",
          "f353",
          "f354",
          "f366",
          "f416",
          "f624",
          "f634",
          "f656",
          "f666",
          "f682",
          "f687",
          "f711",
          "f77",
          "f777",
          "f778",
          "f791",
          "f806",
          "f813",
          "f815",
          "f819",
          "f836",
          "f847",
          "f848",
          "f849",
          "f851",
          "f852",
          "f853",
          "f855",
          "f860"
         ],
         "yaxis": "y",
         "z": [
          [
           0,
           1,
           0
          ],
          [
           0,
           2,
           0
          ],
          [
           0,
           3,
           0
          ],
          [
           0,
           0,
           2
          ],
          [
           0,
           1,
           0
          ],
          [
           0,
           2,
           0
          ],
          [
           0,
           1,
           0
          ],
          [
           0,
           3,
           0
          ],
          [
           0,
           1,
           0
          ],
          [
           0,
           1,
           0
          ],
          [
           0,
           1,
           0
          ],
          [
           0,
           1,
           0
          ],
          [
           0,
           4,
           0
          ],
          [
           0,
           0,
           2
          ],
          [
           0,
           0,
           5
          ],
          [
           10,
           0,
           0
          ],
          [
           5,
           0,
           0
          ],
          [
           2,
           0,
           0
          ],
          [
           4,
           0,
           0
          ],
          [
           17,
           0,
           0
          ],
          [
           21,
           0,
           0
          ],
          [
           8,
           0,
           0
          ],
          [
           10,
           0,
           0
          ],
          [
           0,
           6,
           0
          ],
          [
           3,
           0,
           0
          ],
          [
           0,
           0,
           5
          ],
          [
           0,
           1,
           0
          ],
          [
           0,
           14,
           0
          ],
          [
           0,
           0,
           2
          ],
          [
           2,
           0,
           0
          ],
          [
           7,
           0,
           0
          ],
          [
           7,
           0,
           0
          ],
          [
           2,
           0,
           0
          ],
          [
           1,
           0,
           0
          ],
          [
           5,
           0,
           0
          ],
          [
           0,
           0,
           4
          ],
          [
           3,
           0,
           0
          ],
          [
           1,
           0,
           0
          ],
          [
           0,
           13,
           0
          ],
          [
           0,
           2,
           0
          ],
          [
           0,
           0,
           36
          ],
          [
           0,
           1,
           0
          ],
          [
           0,
           0,
           9
          ],
          [
           0,
           1,
           0
          ],
          [
           2,
           0,
           0
          ],
          [
           2,
           0,
           0
          ],
          [
           0,
           3,
           0
          ],
          [
           0,
           0,
           3
          ],
          [
           0,
           0,
           8
          ],
          [
           0,
           0,
           3
          ],
          [
           0,
           0,
           1
          ],
          [
           0,
           0,
           2
          ],
          [
           0,
           0,
           7
          ],
          [
           0,
           0,
           6
          ],
          [
           0,
           0,
           3
          ],
          [
           0,
           0,
           1
          ],
          [
           0,
           0,
           13
          ],
          [
           0,
           0,
           2
          ],
          [
           0,
           0,
           1
          ],
          [
           0,
           0,
           2
          ]
         ]
        }
       ],
       "layout": {
        "coloraxis": {
         "colorbar": {
          "title": {
           "text": "Count of Samples"
          }
         },
         "colorscale": [
          [
           0,
           "rgb(247,251,255)"
          ],
          [
           0.125,
           "rgb(222,235,247)"
          ],
          [
           0.25,
           "rgb(198,219,239)"
          ],
          [
           0.375,
           "rgb(158,202,225)"
          ],
          [
           0.5,
           "rgb(107,174,214)"
          ],
          [
           0.625,
           "rgb(66,146,198)"
          ],
          [
           0.75,
           "rgb(33,113,181)"
          ],
          [
           0.875,
           "rgb(8,81,156)"
          ],
          [
           1,
           "rgb(8,48,107)"
          ]
         ]
        },
        "template": {
         "data": {
          "bar": [
           {
            "error_x": {
             "color": "#2a3f5f"
            },
            "error_y": {
             "color": "#2a3f5f"
            },
            "marker": {
             "line": {
              "color": "#E5ECF6",
              "width": 0.5
             },
             "pattern": {
              "fillmode": "overlay",
              "size": 10,
              "solidity": 0.2
             }
            },
            "type": "bar"
           }
          ],
          "barpolar": [
           {
            "marker": {
             "line": {
              "color": "#E5ECF6",
              "width": 0.5
             },
             "pattern": {
              "fillmode": "overlay",
              "size": 10,
              "solidity": 0.2
             }
            },
            "type": "barpolar"
           }
          ],
          "carpet": [
           {
            "aaxis": {
             "endlinecolor": "#2a3f5f",
             "gridcolor": "white",
             "linecolor": "white",
             "minorgridcolor": "white",
             "startlinecolor": "#2a3f5f"
            },
            "baxis": {
             "endlinecolor": "#2a3f5f",
             "gridcolor": "white",
             "linecolor": "white",
             "minorgridcolor": "white",
             "startlinecolor": "#2a3f5f"
            },
            "type": "carpet"
           }
          ],
          "choropleth": [
           {
            "colorbar": {
             "outlinewidth": 0,
             "ticks": ""
            },
            "type": "choropleth"
           }
          ],
          "contour": [
           {
            "colorbar": {
             "outlinewidth": 0,
             "ticks": ""
            },
            "colorscale": [
             [
              0,
              "#0d0887"
             ],
             [
              0.1111111111111111,
              "#46039f"
             ],
             [
              0.2222222222222222,
              "#7201a8"
             ],
             [
              0.3333333333333333,
              "#9c179e"
             ],
             [
              0.4444444444444444,
              "#bd3786"
             ],
             [
              0.5555555555555556,
              "#d8576b"
             ],
             [
              0.6666666666666666,
              "#ed7953"
             ],
             [
              0.7777777777777778,
              "#fb9f3a"
             ],
             [
              0.8888888888888888,
              "#fdca26"
             ],
             [
              1,
              "#f0f921"
             ]
            ],
            "type": "contour"
           }
          ],
          "contourcarpet": [
           {
            "colorbar": {
             "outlinewidth": 0,
             "ticks": ""
            },
            "type": "contourcarpet"
           }
          ],
          "heatmap": [
           {
            "colorbar": {
             "outlinewidth": 0,
             "ticks": ""
            },
            "colorscale": [
             [
              0,
              "#0d0887"
             ],
             [
              0.1111111111111111,
              "#46039f"
             ],
             [
              0.2222222222222222,
              "#7201a8"
             ],
             [
              0.3333333333333333,
              "#9c179e"
             ],
             [
              0.4444444444444444,
              "#bd3786"
             ],
             [
              0.5555555555555556,
              "#d8576b"
             ],
             [
              0.6666666666666666,
              "#ed7953"
             ],
             [
              0.7777777777777778,
              "#fb9f3a"
             ],
             [
              0.8888888888888888,
              "#fdca26"
             ],
             [
              1,
              "#f0f921"
             ]
            ],
            "type": "heatmap"
           }
          ],
          "heatmapgl": [
           {
            "colorbar": {
             "outlinewidth": 0,
             "ticks": ""
            },
            "colorscale": [
             [
              0,
              "#0d0887"
             ],
             [
              0.1111111111111111,
              "#46039f"
             ],
             [
              0.2222222222222222,
              "#7201a8"
             ],
             [
              0.3333333333333333,
              "#9c179e"
             ],
             [
              0.4444444444444444,
              "#bd3786"
             ],
             [
              0.5555555555555556,
              "#d8576b"
             ],
             [
              0.6666666666666666,
              "#ed7953"
             ],
             [
              0.7777777777777778,
              "#fb9f3a"
             ],
             [
              0.8888888888888888,
              "#fdca26"
             ],
             [
              1,
              "#f0f921"
             ]
            ],
            "type": "heatmapgl"
           }
          ],
          "histogram": [
           {
            "marker": {
             "pattern": {
              "fillmode": "overlay",
              "size": 10,
              "solidity": 0.2
             }
            },
            "type": "histogram"
           }
          ],
          "histogram2d": [
           {
            "colorbar": {
             "outlinewidth": 0,
             "ticks": ""
            },
            "colorscale": [
             [
              0,
              "#0d0887"
             ],
             [
              0.1111111111111111,
              "#46039f"
             ],
             [
              0.2222222222222222,
              "#7201a8"
             ],
             [
              0.3333333333333333,
              "#9c179e"
             ],
             [
              0.4444444444444444,
              "#bd3786"
             ],
             [
              0.5555555555555556,
              "#d8576b"
             ],
             [
              0.6666666666666666,
              "#ed7953"
             ],
             [
              0.7777777777777778,
              "#fb9f3a"
             ],
             [
              0.8888888888888888,
              "#fdca26"
             ],
             [
              1,
              "#f0f921"
             ]
            ],
            "type": "histogram2d"
           }
          ],
          "histogram2dcontour": [
           {
            "colorbar": {
             "outlinewidth": 0,
             "ticks": ""
            },
            "colorscale": [
             [
              0,
              "#0d0887"
             ],
             [
              0.1111111111111111,
              "#46039f"
             ],
             [
              0.2222222222222222,
              "#7201a8"
             ],
             [
              0.3333333333333333,
              "#9c179e"
             ],
             [
              0.4444444444444444,
              "#bd3786"
             ],
             [
              0.5555555555555556,
              "#d8576b"
             ],
             [
              0.6666666666666666,
              "#ed7953"
             ],
             [
              0.7777777777777778,
              "#fb9f3a"
             ],
             [
              0.8888888888888888,
              "#fdca26"
             ],
             [
              1,
              "#f0f921"
             ]
            ],
            "type": "histogram2dcontour"
           }
          ],
          "mesh3d": [
           {
            "colorbar": {
             "outlinewidth": 0,
             "ticks": ""
            },
            "type": "mesh3d"
           }
          ],
          "parcoords": [
           {
            "line": {
             "colorbar": {
              "outlinewidth": 0,
              "ticks": ""
             }
            },
            "type": "parcoords"
           }
          ],
          "pie": [
           {
            "automargin": true,
            "type": "pie"
           }
          ],
          "scatter": [
           {
            "fillpattern": {
             "fillmode": "overlay",
             "size": 10,
             "solidity": 0.2
            },
            "type": "scatter"
           }
          ],
          "scatter3d": [
           {
            "line": {
             "colorbar": {
              "outlinewidth": 0,
              "ticks": ""
             }
            },
            "marker": {
             "colorbar": {
              "outlinewidth": 0,
              "ticks": ""
             }
            },
            "type": "scatter3d"
           }
          ],
          "scattercarpet": [
           {
            "marker": {
             "colorbar": {
              "outlinewidth": 0,
              "ticks": ""
             }
            },
            "type": "scattercarpet"
           }
          ],
          "scattergeo": [
           {
            "marker": {
             "colorbar": {
              "outlinewidth": 0,
              "ticks": ""
             }
            },
            "type": "scattergeo"
           }
          ],
          "scattergl": [
           {
            "marker": {
             "colorbar": {
              "outlinewidth": 0,
              "ticks": ""
             }
            },
            "type": "scattergl"
           }
          ],
          "scattermapbox": [
           {
            "marker": {
             "colorbar": {
              "outlinewidth": 0,
              "ticks": ""
             }
            },
            "type": "scattermapbox"
           }
          ],
          "scatterpolar": [
           {
            "marker": {
             "colorbar": {
              "outlinewidth": 0,
              "ticks": ""
             }
            },
            "type": "scatterpolar"
           }
          ],
          "scatterpolargl": [
           {
            "marker": {
             "colorbar": {
              "outlinewidth": 0,
              "ticks": ""
             }
            },
            "type": "scatterpolargl"
           }
          ],
          "scatterternary": [
           {
            "marker": {
             "colorbar": {
              "outlinewidth": 0,
              "ticks": ""
             }
            },
            "type": "scatterternary"
           }
          ],
          "surface": [
           {
            "colorbar": {
             "outlinewidth": 0,
             "ticks": ""
            },
            "colorscale": [
             [
              0,
              "#0d0887"
             ],
             [
              0.1111111111111111,
              "#46039f"
             ],
             [
              0.2222222222222222,
              "#7201a8"
             ],
             [
              0.3333333333333333,
              "#9c179e"
             ],
             [
              0.4444444444444444,
              "#bd3786"
             ],
             [
              0.5555555555555556,
              "#d8576b"
             ],
             [
              0.6666666666666666,
              "#ed7953"
             ],
             [
              0.7777777777777778,
              "#fb9f3a"
             ],
             [
              0.8888888888888888,
              "#fdca26"
             ],
             [
              1,
              "#f0f921"
             ]
            ],
            "type": "surface"
           }
          ],
          "table": [
           {
            "cells": {
             "fill": {
              "color": "#EBF0F8"
             },
             "line": {
              "color": "white"
             }
            },
            "header": {
             "fill": {
              "color": "#C8D4E3"
             },
             "line": {
              "color": "white"
             }
            },
            "type": "table"
           }
          ]
         },
         "layout": {
          "annotationdefaults": {
           "arrowcolor": "#2a3f5f",
           "arrowhead": 0,
           "arrowwidth": 1
          },
          "autotypenumbers": "strict",
          "coloraxis": {
           "colorbar": {
            "outlinewidth": 0,
            "ticks": ""
           }
          },
          "colorscale": {
           "diverging": [
            [
             0,
             "#8e0152"
            ],
            [
             0.1,
             "#c51b7d"
            ],
            [
             0.2,
             "#de77ae"
            ],
            [
             0.3,
             "#f1b6da"
            ],
            [
             0.4,
             "#fde0ef"
            ],
            [
             0.5,
             "#f7f7f7"
            ],
            [
             0.6,
             "#e6f5d0"
            ],
            [
             0.7,
             "#b8e186"
            ],
            [
             0.8,
             "#7fbc41"
            ],
            [
             0.9,
             "#4d9221"
            ],
            [
             1,
             "#276419"
            ]
           ],
           "sequential": [
            [
             0,
             "#0d0887"
            ],
            [
             0.1111111111111111,
             "#46039f"
            ],
            [
             0.2222222222222222,
             "#7201a8"
            ],
            [
             0.3333333333333333,
             "#9c179e"
            ],
            [
             0.4444444444444444,
             "#bd3786"
            ],
            [
             0.5555555555555556,
             "#d8576b"
            ],
            [
             0.6666666666666666,
             "#ed7953"
            ],
            [
             0.7777777777777778,
             "#fb9f3a"
            ],
            [
             0.8888888888888888,
             "#fdca26"
            ],
            [
             1,
             "#f0f921"
            ]
           ],
           "sequentialminus": [
            [
             0,
             "#0d0887"
            ],
            [
             0.1111111111111111,
             "#46039f"
            ],
            [
             0.2222222222222222,
             "#7201a8"
            ],
            [
             0.3333333333333333,
             "#9c179e"
            ],
            [
             0.4444444444444444,
             "#bd3786"
            ],
            [
             0.5555555555555556,
             "#d8576b"
            ],
            [
             0.6666666666666666,
             "#ed7953"
            ],
            [
             0.7777777777777778,
             "#fb9f3a"
            ],
            [
             0.8888888888888888,
             "#fdca26"
            ],
            [
             1,
             "#f0f921"
            ]
           ]
          },
          "colorway": [
           "#636efa",
           "#EF553B",
           "#00cc96",
           "#ab63fa",
           "#FFA15A",
           "#19d3f3",
           "#FF6692",
           "#B6E880",
           "#FF97FF",
           "#FECB52"
          ],
          "font": {
           "color": "#2a3f5f"
          },
          "geo": {
           "bgcolor": "white",
           "lakecolor": "white",
           "landcolor": "#E5ECF6",
           "showlakes": true,
           "showland": true,
           "subunitcolor": "white"
          },
          "hoverlabel": {
           "align": "left"
          },
          "hovermode": "closest",
          "mapbox": {
           "style": "light"
          },
          "paper_bgcolor": "white",
          "plot_bgcolor": "#E5ECF6",
          "polar": {
           "angularaxis": {
            "gridcolor": "white",
            "linecolor": "white",
            "ticks": ""
           },
           "bgcolor": "#E5ECF6",
           "radialaxis": {
            "gridcolor": "white",
            "linecolor": "white",
            "ticks": ""
           }
          },
          "scene": {
           "xaxis": {
            "backgroundcolor": "#E5ECF6",
            "gridcolor": "white",
            "gridwidth": 2,
            "linecolor": "white",
            "showbackground": true,
            "ticks": "",
            "zerolinecolor": "white"
           },
           "yaxis": {
            "backgroundcolor": "#E5ECF6",
            "gridcolor": "white",
            "gridwidth": 2,
            "linecolor": "white",
            "showbackground": true,
            "ticks": "",
            "zerolinecolor": "white"
           },
           "zaxis": {
            "backgroundcolor": "#E5ECF6",
            "gridcolor": "white",
            "gridwidth": 2,
            "linecolor": "white",
            "showbackground": true,
            "ticks": "",
            "zerolinecolor": "white"
           }
          },
          "shapedefaults": {
           "line": {
            "color": "#2a3f5f"
           }
          },
          "ternary": {
           "aaxis": {
            "gridcolor": "white",
            "linecolor": "white",
            "ticks": ""
           },
           "baxis": {
            "gridcolor": "white",
            "linecolor": "white",
            "ticks": ""
           },
           "bgcolor": "#E5ECF6",
           "caxis": {
            "gridcolor": "white",
            "linecolor": "white",
            "ticks": ""
           }
          },
          "title": {
           "x": 0.05
          },
          "xaxis": {
           "automargin": true,
           "gridcolor": "white",
           "linecolor": "white",
           "ticks": "",
           "title": {
            "standoff": 15
           },
           "zerolinecolor": "white",
           "zerolinewidth": 2
          },
          "yaxis": {
           "automargin": true,
           "gridcolor": "white",
           "linecolor": "white",
           "ticks": "",
           "title": {
            "standoff": 15
           },
           "zerolinecolor": "white",
           "zerolinewidth": 2
          }
         }
        },
        "title": {
         "text": "Families vs Superfamilies Heatmap"
        },
        "xaxis": {
         "anchor": "y",
         "constrain": "domain",
         "domain": [
          0,
          1
         ],
         "scaleanchor": "y",
         "title": {
          "text": "Superfamily ID"
         }
        },
        "yaxis": {
         "anchor": "x",
         "autorange": "reversed",
         "constrain": "domain",
         "domain": [
          0,
          1
         ],
         "title": {
          "text": "Family ID"
         }
        }
       }
      },
      "text/html": [
       "<div>                            <div id=\"8ace0a31-2527-443f-aaf7-f45e425cc9c3\" class=\"plotly-graph-div\" style=\"height:525px; width:100%;\"></div>            <script type=\"text/javascript\">                require([\"plotly\"], function(Plotly) {                    window.PLOTLYENV=window.PLOTLYENV || {};                                    if (document.getElementById(\"8ace0a31-2527-443f-aaf7-f45e425cc9c3\")) {                    Plotly.newPlot(                        \"8ace0a31-2527-443f-aaf7-f45e425cc9c3\",                        [{\"coloraxis\":\"coloraxis\",\"name\":\"0\",\"x\":[\"sf127\",\"sf15\",\"sf8\"],\"y\":[\"f1002\",\"f1009\",\"f1032\",\"f1041\",\"f1141\",\"f1142\",\"f1154\",\"f1176\",\"f1201\",\"f1225\",\"f1231\",\"f1237\",\"f125\",\"f16\",\"f17\",\"f178\",\"f179\",\"f180\",\"f181\",\"f183\",\"f184\",\"f185\",\"f186\",\"f23\",\"f268\",\"f303\",\"f325\",\"f333\",\"f334\",\"f335\",\"f351\",\"f352\",\"f353\",\"f354\",\"f366\",\"f416\",\"f624\",\"f634\",\"f656\",\"f666\",\"f682\",\"f687\",\"f711\",\"f77\",\"f777\",\"f778\",\"f791\",\"f806\",\"f813\",\"f815\",\"f819\",\"f836\",\"f847\",\"f848\",\"f849\",\"f851\",\"f852\",\"f853\",\"f855\",\"f860\"],\"z\":[[0,1,0],[0,2,0],[0,3,0],[0,0,2],[0,1,0],[0,2,0],[0,1,0],[0,3,0],[0,1,0],[0,1,0],[0,1,0],[0,1,0],[0,4,0],[0,0,2],[0,0,5],[10,0,0],[5,0,0],[2,0,0],[4,0,0],[17,0,0],[21,0,0],[8,0,0],[10,0,0],[0,6,0],[3,0,0],[0,0,5],[0,1,0],[0,14,0],[0,0,2],[2,0,0],[7,0,0],[7,0,0],[2,0,0],[1,0,0],[5,0,0],[0,0,4],[3,0,0],[1,0,0],[0,13,0],[0,2,0],[0,0,36],[0,1,0],[0,0,9],[0,1,0],[2,0,0],[2,0,0],[0,3,0],[0,0,3],[0,0,8],[0,0,3],[0,0,1],[0,0,2],[0,0,7],[0,0,6],[0,0,3],[0,0,1],[0,0,13],[0,0,2],[0,0,1],[0,0,2]],\"type\":\"heatmap\",\"xaxis\":\"x\",\"yaxis\":\"y\",\"hovertemplate\":\"Superfamily ID: %{x}\\u003cbr\\u003eFamily ID: %{y}\\u003cbr\\u003eCount of Samples: %{z}\\u003cextra\\u003e\\u003c\\u002fextra\\u003e\"}],                        {\"template\":{\"data\":{\"histogram2dcontour\":[{\"type\":\"histogram2dcontour\",\"colorbar\":{\"outlinewidth\":0,\"ticks\":\"\"},\"colorscale\":[[0.0,\"#0d0887\"],[0.1111111111111111,\"#46039f\"],[0.2222222222222222,\"#7201a8\"],[0.3333333333333333,\"#9c179e\"],[0.4444444444444444,\"#bd3786\"],[0.5555555555555556,\"#d8576b\"],[0.6666666666666666,\"#ed7953\"],[0.7777777777777778,\"#fb9f3a\"],[0.8888888888888888,\"#fdca26\"],[1.0,\"#f0f921\"]]}],\"choropleth\":[{\"type\":\"choropleth\",\"colorbar\":{\"outlinewidth\":0,\"ticks\":\"\"}}],\"histogram2d\":[{\"type\":\"histogram2d\",\"colorbar\":{\"outlinewidth\":0,\"ticks\":\"\"},\"colorscale\":[[0.0,\"#0d0887\"],[0.1111111111111111,\"#46039f\"],[0.2222222222222222,\"#7201a8\"],[0.3333333333333333,\"#9c179e\"],[0.4444444444444444,\"#bd3786\"],[0.5555555555555556,\"#d8576b\"],[0.6666666666666666,\"#ed7953\"],[0.7777777777777778,\"#fb9f3a\"],[0.8888888888888888,\"#fdca26\"],[1.0,\"#f0f921\"]]}],\"heatmap\":[{\"type\":\"heatmap\",\"colorbar\":{\"outlinewidth\":0,\"ticks\":\"\"},\"colorscale\":[[0.0,\"#0d0887\"],[0.1111111111111111,\"#46039f\"],[0.2222222222222222,\"#7201a8\"],[0.3333333333333333,\"#9c179e\"],[0.4444444444444444,\"#bd3786\"],[0.5555555555555556,\"#d8576b\"],[0.6666666666666666,\"#ed7953\"],[0.7777777777777778,\"#fb9f3a\"],[0.8888888888888888,\"#fdca26\"],[1.0,\"#f0f921\"]]}],\"heatmapgl\":[{\"type\":\"heatmapgl\",\"colorbar\":{\"outlinewidth\":0,\"ticks\":\"\"},\"colorscale\":[[0.0,\"#0d0887\"],[0.1111111111111111,\"#46039f\"],[0.2222222222222222,\"#7201a8\"],[0.3333333333333333,\"#9c179e\"],[0.4444444444444444,\"#bd3786\"],[0.5555555555555556,\"#d8576b\"],[0.6666666666666666,\"#ed7953\"],[0.7777777777777778,\"#fb9f3a\"],[0.8888888888888888,\"#fdca26\"],[1.0,\"#f0f921\"]]}],\"contourcarpet\":[{\"type\":\"contourcarpet\",\"colorbar\":{\"outlinewidth\":0,\"ticks\":\"\"}}],\"contour\":[{\"type\":\"contour\",\"colorbar\":{\"outlinewidth\":0,\"ticks\":\"\"},\"colorscale\":[[0.0,\"#0d0887\"],[0.1111111111111111,\"#46039f\"],[0.2222222222222222,\"#7201a8\"],[0.3333333333333333,\"#9c179e\"],[0.4444444444444444,\"#bd3786\"],[0.5555555555555556,\"#d8576b\"],[0.6666666666666666,\"#ed7953\"],[0.7777777777777778,\"#fb9f3a\"],[0.8888888888888888,\"#fdca26\"],[1.0,\"#f0f921\"]]}],\"surface\":[{\"type\":\"surface\",\"colorbar\":{\"outlinewidth\":0,\"ticks\":\"\"},\"colorscale\":[[0.0,\"#0d0887\"],[0.1111111111111111,\"#46039f\"],[0.2222222222222222,\"#7201a8\"],[0.3333333333333333,\"#9c179e\"],[0.4444444444444444,\"#bd3786\"],[0.5555555555555556,\"#d8576b\"],[0.6666666666666666,\"#ed7953\"],[0.7777777777777778,\"#fb9f3a\"],[0.8888888888888888,\"#fdca26\"],[1.0,\"#f0f921\"]]}],\"mesh3d\":[{\"type\":\"mesh3d\",\"colorbar\":{\"outlinewidth\":0,\"ticks\":\"\"}}],\"scatter\":[{\"fillpattern\":{\"fillmode\":\"overlay\",\"size\":10,\"solidity\":0.2},\"type\":\"scatter\"}],\"parcoords\":[{\"type\":\"parcoords\",\"line\":{\"colorbar\":{\"outlinewidth\":0,\"ticks\":\"\"}}}],\"scatterpolargl\":[{\"type\":\"scatterpolargl\",\"marker\":{\"colorbar\":{\"outlinewidth\":0,\"ticks\":\"\"}}}],\"bar\":[{\"error_x\":{\"color\":\"#2a3f5f\"},\"error_y\":{\"color\":\"#2a3f5f\"},\"marker\":{\"line\":{\"color\":\"#E5ECF6\",\"width\":0.5},\"pattern\":{\"fillmode\":\"overlay\",\"size\":10,\"solidity\":0.2}},\"type\":\"bar\"}],\"scattergeo\":[{\"type\":\"scattergeo\",\"marker\":{\"colorbar\":{\"outlinewidth\":0,\"ticks\":\"\"}}}],\"scatterpolar\":[{\"type\":\"scatterpolar\",\"marker\":{\"colorbar\":{\"outlinewidth\":0,\"ticks\":\"\"}}}],\"histogram\":[{\"marker\":{\"pattern\":{\"fillmode\":\"overlay\",\"size\":10,\"solidity\":0.2}},\"type\":\"histogram\"}],\"scattergl\":[{\"type\":\"scattergl\",\"marker\":{\"colorbar\":{\"outlinewidth\":0,\"ticks\":\"\"}}}],\"scatter3d\":[{\"type\":\"scatter3d\",\"line\":{\"colorbar\":{\"outlinewidth\":0,\"ticks\":\"\"}},\"marker\":{\"colorbar\":{\"outlinewidth\":0,\"ticks\":\"\"}}}],\"scattermapbox\":[{\"type\":\"scattermapbox\",\"marker\":{\"colorbar\":{\"outlinewidth\":0,\"ticks\":\"\"}}}],\"scatterternary\":[{\"type\":\"scatterternary\",\"marker\":{\"colorbar\":{\"outlinewidth\":0,\"ticks\":\"\"}}}],\"scattercarpet\":[{\"type\":\"scattercarpet\",\"marker\":{\"colorbar\":{\"outlinewidth\":0,\"ticks\":\"\"}}}],\"carpet\":[{\"aaxis\":{\"endlinecolor\":\"#2a3f5f\",\"gridcolor\":\"white\",\"linecolor\":\"white\",\"minorgridcolor\":\"white\",\"startlinecolor\":\"#2a3f5f\"},\"baxis\":{\"endlinecolor\":\"#2a3f5f\",\"gridcolor\":\"white\",\"linecolor\":\"white\",\"minorgridcolor\":\"white\",\"startlinecolor\":\"#2a3f5f\"},\"type\":\"carpet\"}],\"table\":[{\"cells\":{\"fill\":{\"color\":\"#EBF0F8\"},\"line\":{\"color\":\"white\"}},\"header\":{\"fill\":{\"color\":\"#C8D4E3\"},\"line\":{\"color\":\"white\"}},\"type\":\"table\"}],\"barpolar\":[{\"marker\":{\"line\":{\"color\":\"#E5ECF6\",\"width\":0.5},\"pattern\":{\"fillmode\":\"overlay\",\"size\":10,\"solidity\":0.2}},\"type\":\"barpolar\"}],\"pie\":[{\"automargin\":true,\"type\":\"pie\"}]},\"layout\":{\"autotypenumbers\":\"strict\",\"colorway\":[\"#636efa\",\"#EF553B\",\"#00cc96\",\"#ab63fa\",\"#FFA15A\",\"#19d3f3\",\"#FF6692\",\"#B6E880\",\"#FF97FF\",\"#FECB52\"],\"font\":{\"color\":\"#2a3f5f\"},\"hovermode\":\"closest\",\"hoverlabel\":{\"align\":\"left\"},\"paper_bgcolor\":\"white\",\"plot_bgcolor\":\"#E5ECF6\",\"polar\":{\"bgcolor\":\"#E5ECF6\",\"angularaxis\":{\"gridcolor\":\"white\",\"linecolor\":\"white\",\"ticks\":\"\"},\"radialaxis\":{\"gridcolor\":\"white\",\"linecolor\":\"white\",\"ticks\":\"\"}},\"ternary\":{\"bgcolor\":\"#E5ECF6\",\"aaxis\":{\"gridcolor\":\"white\",\"linecolor\":\"white\",\"ticks\":\"\"},\"baxis\":{\"gridcolor\":\"white\",\"linecolor\":\"white\",\"ticks\":\"\"},\"caxis\":{\"gridcolor\":\"white\",\"linecolor\":\"white\",\"ticks\":\"\"}},\"coloraxis\":{\"colorbar\":{\"outlinewidth\":0,\"ticks\":\"\"}},\"colorscale\":{\"sequential\":[[0.0,\"#0d0887\"],[0.1111111111111111,\"#46039f\"],[0.2222222222222222,\"#7201a8\"],[0.3333333333333333,\"#9c179e\"],[0.4444444444444444,\"#bd3786\"],[0.5555555555555556,\"#d8576b\"],[0.6666666666666666,\"#ed7953\"],[0.7777777777777778,\"#fb9f3a\"],[0.8888888888888888,\"#fdca26\"],[1.0,\"#f0f921\"]],\"sequentialminus\":[[0.0,\"#0d0887\"],[0.1111111111111111,\"#46039f\"],[0.2222222222222222,\"#7201a8\"],[0.3333333333333333,\"#9c179e\"],[0.4444444444444444,\"#bd3786\"],[0.5555555555555556,\"#d8576b\"],[0.6666666666666666,\"#ed7953\"],[0.7777777777777778,\"#fb9f3a\"],[0.8888888888888888,\"#fdca26\"],[1.0,\"#f0f921\"]],\"diverging\":[[0,\"#8e0152\"],[0.1,\"#c51b7d\"],[0.2,\"#de77ae\"],[0.3,\"#f1b6da\"],[0.4,\"#fde0ef\"],[0.5,\"#f7f7f7\"],[0.6,\"#e6f5d0\"],[0.7,\"#b8e186\"],[0.8,\"#7fbc41\"],[0.9,\"#4d9221\"],[1,\"#276419\"]]},\"xaxis\":{\"gridcolor\":\"white\",\"linecolor\":\"white\",\"ticks\":\"\",\"title\":{\"standoff\":15},\"zerolinecolor\":\"white\",\"automargin\":true,\"zerolinewidth\":2},\"yaxis\":{\"gridcolor\":\"white\",\"linecolor\":\"white\",\"ticks\":\"\",\"title\":{\"standoff\":15},\"zerolinecolor\":\"white\",\"automargin\":true,\"zerolinewidth\":2},\"scene\":{\"xaxis\":{\"backgroundcolor\":\"#E5ECF6\",\"gridcolor\":\"white\",\"linecolor\":\"white\",\"showbackground\":true,\"ticks\":\"\",\"zerolinecolor\":\"white\",\"gridwidth\":2},\"yaxis\":{\"backgroundcolor\":\"#E5ECF6\",\"gridcolor\":\"white\",\"linecolor\":\"white\",\"showbackground\":true,\"ticks\":\"\",\"zerolinecolor\":\"white\",\"gridwidth\":2},\"zaxis\":{\"backgroundcolor\":\"#E5ECF6\",\"gridcolor\":\"white\",\"linecolor\":\"white\",\"showbackground\":true,\"ticks\":\"\",\"zerolinecolor\":\"white\",\"gridwidth\":2}},\"shapedefaults\":{\"line\":{\"color\":\"#2a3f5f\"}},\"annotationdefaults\":{\"arrowcolor\":\"#2a3f5f\",\"arrowhead\":0,\"arrowwidth\":1},\"geo\":{\"bgcolor\":\"white\",\"landcolor\":\"#E5ECF6\",\"subunitcolor\":\"white\",\"showland\":true,\"showlakes\":true,\"lakecolor\":\"white\"},\"title\":{\"x\":0.05},\"mapbox\":{\"style\":\"light\"}}},\"xaxis\":{\"anchor\":\"y\",\"domain\":[0.0,1.0],\"scaleanchor\":\"y\",\"constrain\":\"domain\",\"title\":{\"text\":\"Superfamily ID\"}},\"yaxis\":{\"anchor\":\"x\",\"domain\":[0.0,1.0],\"autorange\":\"reversed\",\"constrain\":\"domain\",\"title\":{\"text\":\"Family ID\"}},\"coloraxis\":{\"colorbar\":{\"title\":{\"text\":\"Count of Samples\"}},\"colorscale\":[[0.0,\"rgb(247,251,255)\"],[0.125,\"rgb(222,235,247)\"],[0.25,\"rgb(198,219,239)\"],[0.375,\"rgb(158,202,225)\"],[0.5,\"rgb(107,174,214)\"],[0.625,\"rgb(66,146,198)\"],[0.75,\"rgb(33,113,181)\"],[0.875,\"rgb(8,81,156)\"],[1.0,\"rgb(8,48,107)\"]]},\"title\":{\"text\":\"Families vs Superfamilies Heatmap\"}},                        {\"responsive\": true}                    ).then(function(){\n",
       "                            \n",
       "var gd = document.getElementById('8ace0a31-2527-443f-aaf7-f45e425cc9c3');\n",
       "var x = new MutationObserver(function (mutations, observer) {{\n",
       "        var display = window.getComputedStyle(gd).display;\n",
       "        if (!display || display === 'none') {{\n",
       "            console.log([gd, 'removed!']);\n",
       "            Plotly.purge(gd);\n",
       "            observer.disconnect();\n",
       "        }}\n",
       "}});\n",
       "\n",
       "// Listen for the removal of the full notebook cells\n",
       "var notebookContainer = gd.closest('#notebook-container');\n",
       "if (notebookContainer) {{\n",
       "    x.observe(notebookContainer, {childList: true});\n",
       "}}\n",
       "\n",
       "// Listen for the clearing of the current output cell\n",
       "var outputEl = gd.closest('.output');\n",
       "if (outputEl) {{\n",
       "    x.observe(outputEl, {childList: true});\n",
       "}}\n",
       "\n",
       "                        })                };                });            </script>        </div>"
      ]
     },
     "metadata": {},
     "output_type": "display_data"
    }
   ],
   "source": [
    "# Step 1: Count the number of unique families for each superfamily\n",
    "superfamily_family_counts = df_final.groupby('superfamily_id')['family_id'].nunique()\n",
    "\n",
    "# Step 2: Set a threshold (e.g., superfamilies with more than 1 unique family)\n",
    "threshold = 17\n",
    "superfamilies_with_diff_families = superfamily_family_counts[superfamily_family_counts > threshold]\n",
    "\n",
    "# Step 3: Filter the original dataframe to include only superfamilies with multiple families\n",
    "df_filtered = df_final[df_final['superfamily_id'].isin(superfamilies_with_diff_families.index)]\n",
    "\n",
    "# Step 4: Create a pivot table (contingency table) with family_id and superfamily_id\n",
    "pivot_table = pd.crosstab(df_filtered['family_id'], df_filtered['superfamily_id'])\n",
    "\n",
    "# Step 5: Create a heatmap using plotly express (swapped axes)\n",
    "fig = px.imshow(\n",
    "    pivot_table,\n",
    "    labels={'x': 'Superfamily ID', 'y': 'Family ID', 'color': 'Count of Samples'},\n",
    "    color_continuous_scale='Blues',  # Color scale\n",
    "    title=\"Families vs Superfamilies Heatmap\"\n",
    ")\n",
    "\n",
    "# Show the plot\n",
    "fig.show()"
   ]
  },
  {
   "cell_type": "code",
   "execution_count": 282,
   "metadata": {},
   "outputs": [
    {
     "data": {
      "text/plain": [
       "865"
      ]
     },
     "execution_count": 282,
     "metadata": {},
     "output_type": "execute_result"
    }
   ],
   "source": [
    "# check how many proteins are only in one family\n",
    "\n",
    "def count_single_entry_families(df, family_col, x):\n",
    "    \"\"\"\n",
    "    Counts how many families have only one entry in the DataFrame.\n",
    "\n",
    "    Args:\n",
    "        df (pd.DataFrame): DataFrame containing protein data.\n",
    "        family_col (str): Column name for family IDs.\n",
    "\n",
    "    Returns:\n",
    "        int: Number of families with only one entry.\n",
    "    \"\"\"\n",
    "    # Count occurrences of each family\n",
    "    family_counts = df[family_col].value_counts()\n",
    "\n",
    "    # Filter families with only one entry\n",
    "    single_entry_families = family_counts[family_counts < x]\n",
    "\n",
    "    return len(single_entry_families)\n",
    "\n",
    "num_single_entry_families = count_single_entry_families(df_final, family_col=\"family_id\", x = 10)\n",
    "num_single_entry_families\n"
   ]
  },
  {
   "cell_type": "code",
   "execution_count": 286,
   "metadata": {},
   "outputs": [
    {
     "data": {
      "application/vnd.plotly.v1+json": {
       "config": {
        "plotlyServerURL": "https://plot.ly"
       },
       "data": [
        {
         "hovertemplate": "Family Size Threshold (x)=%{x}<br>Number of Proteins=%{y}<extra></extra>",
         "legendgroup": "",
         "line": {
          "color": "#636efa",
          "dash": "solid"
         },
         "marker": {
          "symbol": "circle"
         },
         "mode": "lines",
         "name": "",
         "orientation": "v",
         "showlegend": false,
         "type": "scatter",
         "x": [
          0,
          1,
          2,
          3,
          4,
          5,
          6,
          7,
          8,
          9,
          10,
          11,
          12,
          13,
          14,
          15,
          16,
          17,
          18,
          19,
          20,
          21,
          22,
          23,
          24,
          25,
          26,
          27,
          28,
          29,
          30
         ],
         "xaxis": "x",
         "y": [
          0,
          0,
          460,
          634,
          714,
          753,
          787,
          816,
          836,
          855,
          865,
          873,
          877,
          878,
          884,
          887,
          890,
          892,
          893,
          896,
          896,
          896,
          898,
          898,
          900,
          901,
          903,
          905,
          906,
          906,
          906
         ],
         "yaxis": "y"
        }
       ],
       "layout": {
        "font": {
         "color": "black",
         "family": "Arial",
         "size": 12
        },
        "legend": {
         "tracegroupgap": 0
        },
        "template": {
         "data": {
          "bar": [
           {
            "error_x": {
             "color": "#2a3f5f"
            },
            "error_y": {
             "color": "#2a3f5f"
            },
            "marker": {
             "line": {
              "color": "white",
              "width": 0.5
             },
             "pattern": {
              "fillmode": "overlay",
              "size": 10,
              "solidity": 0.2
             }
            },
            "type": "bar"
           }
          ],
          "barpolar": [
           {
            "marker": {
             "line": {
              "color": "white",
              "width": 0.5
             },
             "pattern": {
              "fillmode": "overlay",
              "size": 10,
              "solidity": 0.2
             }
            },
            "type": "barpolar"
           }
          ],
          "carpet": [
           {
            "aaxis": {
             "endlinecolor": "#2a3f5f",
             "gridcolor": "#C8D4E3",
             "linecolor": "#C8D4E3",
             "minorgridcolor": "#C8D4E3",
             "startlinecolor": "#2a3f5f"
            },
            "baxis": {
             "endlinecolor": "#2a3f5f",
             "gridcolor": "#C8D4E3",
             "linecolor": "#C8D4E3",
             "minorgridcolor": "#C8D4E3",
             "startlinecolor": "#2a3f5f"
            },
            "type": "carpet"
           }
          ],
          "choropleth": [
           {
            "colorbar": {
             "outlinewidth": 0,
             "ticks": ""
            },
            "type": "choropleth"
           }
          ],
          "contour": [
           {
            "colorbar": {
             "outlinewidth": 0,
             "ticks": ""
            },
            "colorscale": [
             [
              0,
              "#0d0887"
             ],
             [
              0.1111111111111111,
              "#46039f"
             ],
             [
              0.2222222222222222,
              "#7201a8"
             ],
             [
              0.3333333333333333,
              "#9c179e"
             ],
             [
              0.4444444444444444,
              "#bd3786"
             ],
             [
              0.5555555555555556,
              "#d8576b"
             ],
             [
              0.6666666666666666,
              "#ed7953"
             ],
             [
              0.7777777777777778,
              "#fb9f3a"
             ],
             [
              0.8888888888888888,
              "#fdca26"
             ],
             [
              1,
              "#f0f921"
             ]
            ],
            "type": "contour"
           }
          ],
          "contourcarpet": [
           {
            "colorbar": {
             "outlinewidth": 0,
             "ticks": ""
            },
            "type": "contourcarpet"
           }
          ],
          "heatmap": [
           {
            "colorbar": {
             "outlinewidth": 0,
             "ticks": ""
            },
            "colorscale": [
             [
              0,
              "#0d0887"
             ],
             [
              0.1111111111111111,
              "#46039f"
             ],
             [
              0.2222222222222222,
              "#7201a8"
             ],
             [
              0.3333333333333333,
              "#9c179e"
             ],
             [
              0.4444444444444444,
              "#bd3786"
             ],
             [
              0.5555555555555556,
              "#d8576b"
             ],
             [
              0.6666666666666666,
              "#ed7953"
             ],
             [
              0.7777777777777778,
              "#fb9f3a"
             ],
             [
              0.8888888888888888,
              "#fdca26"
             ],
             [
              1,
              "#f0f921"
             ]
            ],
            "type": "heatmap"
           }
          ],
          "heatmapgl": [
           {
            "colorbar": {
             "outlinewidth": 0,
             "ticks": ""
            },
            "colorscale": [
             [
              0,
              "#0d0887"
             ],
             [
              0.1111111111111111,
              "#46039f"
             ],
             [
              0.2222222222222222,
              "#7201a8"
             ],
             [
              0.3333333333333333,
              "#9c179e"
             ],
             [
              0.4444444444444444,
              "#bd3786"
             ],
             [
              0.5555555555555556,
              "#d8576b"
             ],
             [
              0.6666666666666666,
              "#ed7953"
             ],
             [
              0.7777777777777778,
              "#fb9f3a"
             ],
             [
              0.8888888888888888,
              "#fdca26"
             ],
             [
              1,
              "#f0f921"
             ]
            ],
            "type": "heatmapgl"
           }
          ],
          "histogram": [
           {
            "marker": {
             "pattern": {
              "fillmode": "overlay",
              "size": 10,
              "solidity": 0.2
             }
            },
            "type": "histogram"
           }
          ],
          "histogram2d": [
           {
            "colorbar": {
             "outlinewidth": 0,
             "ticks": ""
            },
            "colorscale": [
             [
              0,
              "#0d0887"
             ],
             [
              0.1111111111111111,
              "#46039f"
             ],
             [
              0.2222222222222222,
              "#7201a8"
             ],
             [
              0.3333333333333333,
              "#9c179e"
             ],
             [
              0.4444444444444444,
              "#bd3786"
             ],
             [
              0.5555555555555556,
              "#d8576b"
             ],
             [
              0.6666666666666666,
              "#ed7953"
             ],
             [
              0.7777777777777778,
              "#fb9f3a"
             ],
             [
              0.8888888888888888,
              "#fdca26"
             ],
             [
              1,
              "#f0f921"
             ]
            ],
            "type": "histogram2d"
           }
          ],
          "histogram2dcontour": [
           {
            "colorbar": {
             "outlinewidth": 0,
             "ticks": ""
            },
            "colorscale": [
             [
              0,
              "#0d0887"
             ],
             [
              0.1111111111111111,
              "#46039f"
             ],
             [
              0.2222222222222222,
              "#7201a8"
             ],
             [
              0.3333333333333333,
              "#9c179e"
             ],
             [
              0.4444444444444444,
              "#bd3786"
             ],
             [
              0.5555555555555556,
              "#d8576b"
             ],
             [
              0.6666666666666666,
              "#ed7953"
             ],
             [
              0.7777777777777778,
              "#fb9f3a"
             ],
             [
              0.8888888888888888,
              "#fdca26"
             ],
             [
              1,
              "#f0f921"
             ]
            ],
            "type": "histogram2dcontour"
           }
          ],
          "mesh3d": [
           {
            "colorbar": {
             "outlinewidth": 0,
             "ticks": ""
            },
            "type": "mesh3d"
           }
          ],
          "parcoords": [
           {
            "line": {
             "colorbar": {
              "outlinewidth": 0,
              "ticks": ""
             }
            },
            "type": "parcoords"
           }
          ],
          "pie": [
           {
            "automargin": true,
            "type": "pie"
           }
          ],
          "scatter": [
           {
            "fillpattern": {
             "fillmode": "overlay",
             "size": 10,
             "solidity": 0.2
            },
            "type": "scatter"
           }
          ],
          "scatter3d": [
           {
            "line": {
             "colorbar": {
              "outlinewidth": 0,
              "ticks": ""
             }
            },
            "marker": {
             "colorbar": {
              "outlinewidth": 0,
              "ticks": ""
             }
            },
            "type": "scatter3d"
           }
          ],
          "scattercarpet": [
           {
            "marker": {
             "colorbar": {
              "outlinewidth": 0,
              "ticks": ""
             }
            },
            "type": "scattercarpet"
           }
          ],
          "scattergeo": [
           {
            "marker": {
             "colorbar": {
              "outlinewidth": 0,
              "ticks": ""
             }
            },
            "type": "scattergeo"
           }
          ],
          "scattergl": [
           {
            "marker": {
             "colorbar": {
              "outlinewidth": 0,
              "ticks": ""
             }
            },
            "type": "scattergl"
           }
          ],
          "scattermapbox": [
           {
            "marker": {
             "colorbar": {
              "outlinewidth": 0,
              "ticks": ""
             }
            },
            "type": "scattermapbox"
           }
          ],
          "scatterpolar": [
           {
            "marker": {
             "colorbar": {
              "outlinewidth": 0,
              "ticks": ""
             }
            },
            "type": "scatterpolar"
           }
          ],
          "scatterpolargl": [
           {
            "marker": {
             "colorbar": {
              "outlinewidth": 0,
              "ticks": ""
             }
            },
            "type": "scatterpolargl"
           }
          ],
          "scatterternary": [
           {
            "marker": {
             "colorbar": {
              "outlinewidth": 0,
              "ticks": ""
             }
            },
            "type": "scatterternary"
           }
          ],
          "surface": [
           {
            "colorbar": {
             "outlinewidth": 0,
             "ticks": ""
            },
            "colorscale": [
             [
              0,
              "#0d0887"
             ],
             [
              0.1111111111111111,
              "#46039f"
             ],
             [
              0.2222222222222222,
              "#7201a8"
             ],
             [
              0.3333333333333333,
              "#9c179e"
             ],
             [
              0.4444444444444444,
              "#bd3786"
             ],
             [
              0.5555555555555556,
              "#d8576b"
             ],
             [
              0.6666666666666666,
              "#ed7953"
             ],
             [
              0.7777777777777778,
              "#fb9f3a"
             ],
             [
              0.8888888888888888,
              "#fdca26"
             ],
             [
              1,
              "#f0f921"
             ]
            ],
            "type": "surface"
           }
          ],
          "table": [
           {
            "cells": {
             "fill": {
              "color": "#EBF0F8"
             },
             "line": {
              "color": "white"
             }
            },
            "header": {
             "fill": {
              "color": "#C8D4E3"
             },
             "line": {
              "color": "white"
             }
            },
            "type": "table"
           }
          ]
         },
         "layout": {
          "annotationdefaults": {
           "arrowcolor": "#2a3f5f",
           "arrowhead": 0,
           "arrowwidth": 1
          },
          "autotypenumbers": "strict",
          "coloraxis": {
           "colorbar": {
            "outlinewidth": 0,
            "ticks": ""
           }
          },
          "colorscale": {
           "diverging": [
            [
             0,
             "#8e0152"
            ],
            [
             0.1,
             "#c51b7d"
            ],
            [
             0.2,
             "#de77ae"
            ],
            [
             0.3,
             "#f1b6da"
            ],
            [
             0.4,
             "#fde0ef"
            ],
            [
             0.5,
             "#f7f7f7"
            ],
            [
             0.6,
             "#e6f5d0"
            ],
            [
             0.7,
             "#b8e186"
            ],
            [
             0.8,
             "#7fbc41"
            ],
            [
             0.9,
             "#4d9221"
            ],
            [
             1,
             "#276419"
            ]
           ],
           "sequential": [
            [
             0,
             "#0d0887"
            ],
            [
             0.1111111111111111,
             "#46039f"
            ],
            [
             0.2222222222222222,
             "#7201a8"
            ],
            [
             0.3333333333333333,
             "#9c179e"
            ],
            [
             0.4444444444444444,
             "#bd3786"
            ],
            [
             0.5555555555555556,
             "#d8576b"
            ],
            [
             0.6666666666666666,
             "#ed7953"
            ],
            [
             0.7777777777777778,
             "#fb9f3a"
            ],
            [
             0.8888888888888888,
             "#fdca26"
            ],
            [
             1,
             "#f0f921"
            ]
           ],
           "sequentialminus": [
            [
             0,
             "#0d0887"
            ],
            [
             0.1111111111111111,
             "#46039f"
            ],
            [
             0.2222222222222222,
             "#7201a8"
            ],
            [
             0.3333333333333333,
             "#9c179e"
            ],
            [
             0.4444444444444444,
             "#bd3786"
            ],
            [
             0.5555555555555556,
             "#d8576b"
            ],
            [
             0.6666666666666666,
             "#ed7953"
            ],
            [
             0.7777777777777778,
             "#fb9f3a"
            ],
            [
             0.8888888888888888,
             "#fdca26"
            ],
            [
             1,
             "#f0f921"
            ]
           ]
          },
          "colorway": [
           "#636efa",
           "#EF553B",
           "#00cc96",
           "#ab63fa",
           "#FFA15A",
           "#19d3f3",
           "#FF6692",
           "#B6E880",
           "#FF97FF",
           "#FECB52"
          ],
          "font": {
           "color": "#2a3f5f"
          },
          "geo": {
           "bgcolor": "white",
           "lakecolor": "white",
           "landcolor": "white",
           "showlakes": true,
           "showland": true,
           "subunitcolor": "#C8D4E3"
          },
          "hoverlabel": {
           "align": "left"
          },
          "hovermode": "closest",
          "mapbox": {
           "style": "light"
          },
          "paper_bgcolor": "white",
          "plot_bgcolor": "white",
          "polar": {
           "angularaxis": {
            "gridcolor": "#EBF0F8",
            "linecolor": "#EBF0F8",
            "ticks": ""
           },
           "bgcolor": "white",
           "radialaxis": {
            "gridcolor": "#EBF0F8",
            "linecolor": "#EBF0F8",
            "ticks": ""
           }
          },
          "scene": {
           "xaxis": {
            "backgroundcolor": "white",
            "gridcolor": "#DFE8F3",
            "gridwidth": 2,
            "linecolor": "#EBF0F8",
            "showbackground": true,
            "ticks": "",
            "zerolinecolor": "#EBF0F8"
           },
           "yaxis": {
            "backgroundcolor": "white",
            "gridcolor": "#DFE8F3",
            "gridwidth": 2,
            "linecolor": "#EBF0F8",
            "showbackground": true,
            "ticks": "",
            "zerolinecolor": "#EBF0F8"
           },
           "zaxis": {
            "backgroundcolor": "white",
            "gridcolor": "#DFE8F3",
            "gridwidth": 2,
            "linecolor": "#EBF0F8",
            "showbackground": true,
            "ticks": "",
            "zerolinecolor": "#EBF0F8"
           }
          },
          "shapedefaults": {
           "line": {
            "color": "#2a3f5f"
           }
          },
          "ternary": {
           "aaxis": {
            "gridcolor": "#DFE8F3",
            "linecolor": "#A2B1C6",
            "ticks": ""
           },
           "baxis": {
            "gridcolor": "#DFE8F3",
            "linecolor": "#A2B1C6",
            "ticks": ""
           },
           "bgcolor": "white",
           "caxis": {
            "gridcolor": "#DFE8F3",
            "linecolor": "#A2B1C6",
            "ticks": ""
           }
          },
          "title": {
           "x": 0.05
          },
          "xaxis": {
           "automargin": true,
           "gridcolor": "#EBF0F8",
           "linecolor": "#EBF0F8",
           "ticks": "",
           "title": {
            "standoff": 15
           },
           "zerolinecolor": "#EBF0F8",
           "zerolinewidth": 2
          },
          "yaxis": {
           "automargin": true,
           "gridcolor": "#EBF0F8",
           "linecolor": "#EBF0F8",
           "ticks": "",
           "title": {
            "standoff": 15
           },
           "zerolinecolor": "#EBF0F8",
           "zerolinewidth": 2
          }
         }
        },
        "title": {
         "text": "Number of Proteins in Families with Size Less Than x"
        },
        "xaxis": {
         "anchor": "y",
         "domain": [
          0,
          1
         ],
         "title": {
          "text": "Family Size Threshold (x)"
         }
        },
        "yaxis": {
         "anchor": "x",
         "domain": [
          0,
          1
         ],
         "title": {
          "text": "Number of Proteins"
         }
        }
       }
      },
      "text/html": [
       "<div>                            <div id=\"30273ea7-4a42-413c-b6f0-d71f34ddc3a2\" class=\"plotly-graph-div\" style=\"height:525px; width:100%;\"></div>            <script type=\"text/javascript\">                require([\"plotly\"], function(Plotly) {                    window.PLOTLYENV=window.PLOTLYENV || {};                                    if (document.getElementById(\"30273ea7-4a42-413c-b6f0-d71f34ddc3a2\")) {                    Plotly.newPlot(                        \"30273ea7-4a42-413c-b6f0-d71f34ddc3a2\",                        [{\"hovertemplate\":\"Family Size Threshold (x)=%{x}\\u003cbr\\u003eNumber of Proteins=%{y}\\u003cextra\\u003e\\u003c\\u002fextra\\u003e\",\"legendgroup\":\"\",\"line\":{\"color\":\"#636efa\",\"dash\":\"solid\"},\"marker\":{\"symbol\":\"circle\"},\"mode\":\"lines\",\"name\":\"\",\"orientation\":\"v\",\"showlegend\":false,\"x\":[0,1,2,3,4,5,6,7,8,9,10,11,12,13,14,15,16,17,18,19,20,21,22,23,24,25,26,27,28,29,30],\"xaxis\":\"x\",\"y\":[0,0,460,634,714,753,787,816,836,855,865,873,877,878,884,887,890,892,893,896,896,896,898,898,900,901,903,905,906,906,906],\"yaxis\":\"y\",\"type\":\"scatter\"}],                        {\"template\":{\"data\":{\"barpolar\":[{\"marker\":{\"line\":{\"color\":\"white\",\"width\":0.5},\"pattern\":{\"fillmode\":\"overlay\",\"size\":10,\"solidity\":0.2}},\"type\":\"barpolar\"}],\"bar\":[{\"error_x\":{\"color\":\"#2a3f5f\"},\"error_y\":{\"color\":\"#2a3f5f\"},\"marker\":{\"line\":{\"color\":\"white\",\"width\":0.5},\"pattern\":{\"fillmode\":\"overlay\",\"size\":10,\"solidity\":0.2}},\"type\":\"bar\"}],\"carpet\":[{\"aaxis\":{\"endlinecolor\":\"#2a3f5f\",\"gridcolor\":\"#C8D4E3\",\"linecolor\":\"#C8D4E3\",\"minorgridcolor\":\"#C8D4E3\",\"startlinecolor\":\"#2a3f5f\"},\"baxis\":{\"endlinecolor\":\"#2a3f5f\",\"gridcolor\":\"#C8D4E3\",\"linecolor\":\"#C8D4E3\",\"minorgridcolor\":\"#C8D4E3\",\"startlinecolor\":\"#2a3f5f\"},\"type\":\"carpet\"}],\"choropleth\":[{\"colorbar\":{\"outlinewidth\":0,\"ticks\":\"\"},\"type\":\"choropleth\"}],\"contourcarpet\":[{\"colorbar\":{\"outlinewidth\":0,\"ticks\":\"\"},\"type\":\"contourcarpet\"}],\"contour\":[{\"colorbar\":{\"outlinewidth\":0,\"ticks\":\"\"},\"colorscale\":[[0.0,\"#0d0887\"],[0.1111111111111111,\"#46039f\"],[0.2222222222222222,\"#7201a8\"],[0.3333333333333333,\"#9c179e\"],[0.4444444444444444,\"#bd3786\"],[0.5555555555555556,\"#d8576b\"],[0.6666666666666666,\"#ed7953\"],[0.7777777777777778,\"#fb9f3a\"],[0.8888888888888888,\"#fdca26\"],[1.0,\"#f0f921\"]],\"type\":\"contour\"}],\"heatmapgl\":[{\"colorbar\":{\"outlinewidth\":0,\"ticks\":\"\"},\"colorscale\":[[0.0,\"#0d0887\"],[0.1111111111111111,\"#46039f\"],[0.2222222222222222,\"#7201a8\"],[0.3333333333333333,\"#9c179e\"],[0.4444444444444444,\"#bd3786\"],[0.5555555555555556,\"#d8576b\"],[0.6666666666666666,\"#ed7953\"],[0.7777777777777778,\"#fb9f3a\"],[0.8888888888888888,\"#fdca26\"],[1.0,\"#f0f921\"]],\"type\":\"heatmapgl\"}],\"heatmap\":[{\"colorbar\":{\"outlinewidth\":0,\"ticks\":\"\"},\"colorscale\":[[0.0,\"#0d0887\"],[0.1111111111111111,\"#46039f\"],[0.2222222222222222,\"#7201a8\"],[0.3333333333333333,\"#9c179e\"],[0.4444444444444444,\"#bd3786\"],[0.5555555555555556,\"#d8576b\"],[0.6666666666666666,\"#ed7953\"],[0.7777777777777778,\"#fb9f3a\"],[0.8888888888888888,\"#fdca26\"],[1.0,\"#f0f921\"]],\"type\":\"heatmap\"}],\"histogram2dcontour\":[{\"colorbar\":{\"outlinewidth\":0,\"ticks\":\"\"},\"colorscale\":[[0.0,\"#0d0887\"],[0.1111111111111111,\"#46039f\"],[0.2222222222222222,\"#7201a8\"],[0.3333333333333333,\"#9c179e\"],[0.4444444444444444,\"#bd3786\"],[0.5555555555555556,\"#d8576b\"],[0.6666666666666666,\"#ed7953\"],[0.7777777777777778,\"#fb9f3a\"],[0.8888888888888888,\"#fdca26\"],[1.0,\"#f0f921\"]],\"type\":\"histogram2dcontour\"}],\"histogram2d\":[{\"colorbar\":{\"outlinewidth\":0,\"ticks\":\"\"},\"colorscale\":[[0.0,\"#0d0887\"],[0.1111111111111111,\"#46039f\"],[0.2222222222222222,\"#7201a8\"],[0.3333333333333333,\"#9c179e\"],[0.4444444444444444,\"#bd3786\"],[0.5555555555555556,\"#d8576b\"],[0.6666666666666666,\"#ed7953\"],[0.7777777777777778,\"#fb9f3a\"],[0.8888888888888888,\"#fdca26\"],[1.0,\"#f0f921\"]],\"type\":\"histogram2d\"}],\"histogram\":[{\"marker\":{\"pattern\":{\"fillmode\":\"overlay\",\"size\":10,\"solidity\":0.2}},\"type\":\"histogram\"}],\"mesh3d\":[{\"colorbar\":{\"outlinewidth\":0,\"ticks\":\"\"},\"type\":\"mesh3d\"}],\"parcoords\":[{\"line\":{\"colorbar\":{\"outlinewidth\":0,\"ticks\":\"\"}},\"type\":\"parcoords\"}],\"pie\":[{\"automargin\":true,\"type\":\"pie\"}],\"scatter3d\":[{\"line\":{\"colorbar\":{\"outlinewidth\":0,\"ticks\":\"\"}},\"marker\":{\"colorbar\":{\"outlinewidth\":0,\"ticks\":\"\"}},\"type\":\"scatter3d\"}],\"scattercarpet\":[{\"marker\":{\"colorbar\":{\"outlinewidth\":0,\"ticks\":\"\"}},\"type\":\"scattercarpet\"}],\"scattergeo\":[{\"marker\":{\"colorbar\":{\"outlinewidth\":0,\"ticks\":\"\"}},\"type\":\"scattergeo\"}],\"scattergl\":[{\"marker\":{\"colorbar\":{\"outlinewidth\":0,\"ticks\":\"\"}},\"type\":\"scattergl\"}],\"scattermapbox\":[{\"marker\":{\"colorbar\":{\"outlinewidth\":0,\"ticks\":\"\"}},\"type\":\"scattermapbox\"}],\"scatterpolargl\":[{\"marker\":{\"colorbar\":{\"outlinewidth\":0,\"ticks\":\"\"}},\"type\":\"scatterpolargl\"}],\"scatterpolar\":[{\"marker\":{\"colorbar\":{\"outlinewidth\":0,\"ticks\":\"\"}},\"type\":\"scatterpolar\"}],\"scatter\":[{\"fillpattern\":{\"fillmode\":\"overlay\",\"size\":10,\"solidity\":0.2},\"type\":\"scatter\"}],\"scatterternary\":[{\"marker\":{\"colorbar\":{\"outlinewidth\":0,\"ticks\":\"\"}},\"type\":\"scatterternary\"}],\"surface\":[{\"colorbar\":{\"outlinewidth\":0,\"ticks\":\"\"},\"colorscale\":[[0.0,\"#0d0887\"],[0.1111111111111111,\"#46039f\"],[0.2222222222222222,\"#7201a8\"],[0.3333333333333333,\"#9c179e\"],[0.4444444444444444,\"#bd3786\"],[0.5555555555555556,\"#d8576b\"],[0.6666666666666666,\"#ed7953\"],[0.7777777777777778,\"#fb9f3a\"],[0.8888888888888888,\"#fdca26\"],[1.0,\"#f0f921\"]],\"type\":\"surface\"}],\"table\":[{\"cells\":{\"fill\":{\"color\":\"#EBF0F8\"},\"line\":{\"color\":\"white\"}},\"header\":{\"fill\":{\"color\":\"#C8D4E3\"},\"line\":{\"color\":\"white\"}},\"type\":\"table\"}]},\"layout\":{\"annotationdefaults\":{\"arrowcolor\":\"#2a3f5f\",\"arrowhead\":0,\"arrowwidth\":1},\"autotypenumbers\":\"strict\",\"coloraxis\":{\"colorbar\":{\"outlinewidth\":0,\"ticks\":\"\"}},\"colorscale\":{\"diverging\":[[0,\"#8e0152\"],[0.1,\"#c51b7d\"],[0.2,\"#de77ae\"],[0.3,\"#f1b6da\"],[0.4,\"#fde0ef\"],[0.5,\"#f7f7f7\"],[0.6,\"#e6f5d0\"],[0.7,\"#b8e186\"],[0.8,\"#7fbc41\"],[0.9,\"#4d9221\"],[1,\"#276419\"]],\"sequential\":[[0.0,\"#0d0887\"],[0.1111111111111111,\"#46039f\"],[0.2222222222222222,\"#7201a8\"],[0.3333333333333333,\"#9c179e\"],[0.4444444444444444,\"#bd3786\"],[0.5555555555555556,\"#d8576b\"],[0.6666666666666666,\"#ed7953\"],[0.7777777777777778,\"#fb9f3a\"],[0.8888888888888888,\"#fdca26\"],[1.0,\"#f0f921\"]],\"sequentialminus\":[[0.0,\"#0d0887\"],[0.1111111111111111,\"#46039f\"],[0.2222222222222222,\"#7201a8\"],[0.3333333333333333,\"#9c179e\"],[0.4444444444444444,\"#bd3786\"],[0.5555555555555556,\"#d8576b\"],[0.6666666666666666,\"#ed7953\"],[0.7777777777777778,\"#fb9f3a\"],[0.8888888888888888,\"#fdca26\"],[1.0,\"#f0f921\"]]},\"colorway\":[\"#636efa\",\"#EF553B\",\"#00cc96\",\"#ab63fa\",\"#FFA15A\",\"#19d3f3\",\"#FF6692\",\"#B6E880\",\"#FF97FF\",\"#FECB52\"],\"font\":{\"color\":\"#2a3f5f\"},\"geo\":{\"bgcolor\":\"white\",\"lakecolor\":\"white\",\"landcolor\":\"white\",\"showlakes\":true,\"showland\":true,\"subunitcolor\":\"#C8D4E3\"},\"hoverlabel\":{\"align\":\"left\"},\"hovermode\":\"closest\",\"mapbox\":{\"style\":\"light\"},\"paper_bgcolor\":\"white\",\"plot_bgcolor\":\"white\",\"polar\":{\"angularaxis\":{\"gridcolor\":\"#EBF0F8\",\"linecolor\":\"#EBF0F8\",\"ticks\":\"\"},\"bgcolor\":\"white\",\"radialaxis\":{\"gridcolor\":\"#EBF0F8\",\"linecolor\":\"#EBF0F8\",\"ticks\":\"\"}},\"scene\":{\"xaxis\":{\"backgroundcolor\":\"white\",\"gridcolor\":\"#DFE8F3\",\"gridwidth\":2,\"linecolor\":\"#EBF0F8\",\"showbackground\":true,\"ticks\":\"\",\"zerolinecolor\":\"#EBF0F8\"},\"yaxis\":{\"backgroundcolor\":\"white\",\"gridcolor\":\"#DFE8F3\",\"gridwidth\":2,\"linecolor\":\"#EBF0F8\",\"showbackground\":true,\"ticks\":\"\",\"zerolinecolor\":\"#EBF0F8\"},\"zaxis\":{\"backgroundcolor\":\"white\",\"gridcolor\":\"#DFE8F3\",\"gridwidth\":2,\"linecolor\":\"#EBF0F8\",\"showbackground\":true,\"ticks\":\"\",\"zerolinecolor\":\"#EBF0F8\"}},\"shapedefaults\":{\"line\":{\"color\":\"#2a3f5f\"}},\"ternary\":{\"aaxis\":{\"gridcolor\":\"#DFE8F3\",\"linecolor\":\"#A2B1C6\",\"ticks\":\"\"},\"baxis\":{\"gridcolor\":\"#DFE8F3\",\"linecolor\":\"#A2B1C6\",\"ticks\":\"\"},\"bgcolor\":\"white\",\"caxis\":{\"gridcolor\":\"#DFE8F3\",\"linecolor\":\"#A2B1C6\",\"ticks\":\"\"}},\"title\":{\"x\":0.05},\"xaxis\":{\"automargin\":true,\"gridcolor\":\"#EBF0F8\",\"linecolor\":\"#EBF0F8\",\"ticks\":\"\",\"title\":{\"standoff\":15},\"zerolinecolor\":\"#EBF0F8\",\"zerolinewidth\":2},\"yaxis\":{\"automargin\":true,\"gridcolor\":\"#EBF0F8\",\"linecolor\":\"#EBF0F8\",\"ticks\":\"\",\"title\":{\"standoff\":15},\"zerolinecolor\":\"#EBF0F8\",\"zerolinewidth\":2}}},\"xaxis\":{\"anchor\":\"y\",\"domain\":[0.0,1.0],\"title\":{\"text\":\"Family Size Threshold (x)\"}},\"yaxis\":{\"anchor\":\"x\",\"domain\":[0.0,1.0],\"title\":{\"text\":\"Number of Proteins\"}},\"legend\":{\"tracegroupgap\":0},\"title\":{\"text\":\"Number of Proteins in Families with Size Less Than x\"},\"font\":{\"family\":\"Arial\",\"size\":12,\"color\":\"black\"}},                        {\"responsive\": true}                    ).then(function(){\n",
       "                            \n",
       "var gd = document.getElementById('30273ea7-4a42-413c-b6f0-d71f34ddc3a2');\n",
       "var x = new MutationObserver(function (mutations, observer) {{\n",
       "        var display = window.getComputedStyle(gd).display;\n",
       "        if (!display || display === 'none') {{\n",
       "            console.log([gd, 'removed!']);\n",
       "            Plotly.purge(gd);\n",
       "            observer.disconnect();\n",
       "        }}\n",
       "}});\n",
       "\n",
       "// Listen for the removal of the full notebook cells\n",
       "var notebookContainer = gd.closest('#notebook-container');\n",
       "if (notebookContainer) {{\n",
       "    x.observe(notebookContainer, {childList: true});\n",
       "}}\n",
       "\n",
       "// Listen for the clearing of the current output cell\n",
       "var outputEl = gd.closest('.output');\n",
       "if (outputEl) {{\n",
       "    x.observe(outputEl, {childList: true});\n",
       "}}\n",
       "\n",
       "                        })                };                });            </script>        </div>"
      ]
     },
     "metadata": {},
     "output_type": "display_data"
    }
   ],
   "source": [
    "results = []\n",
    "\n",
    "# Iterate over x from 0 to 30\n",
    "for x in range(0, 31):\n",
    "    num_proteins = count_single_entry_families(df_final, \"family_id\", x)\n",
    "    results.append({\"Threshold\": x, \"Proteins\": num_proteins})\n",
    "\n",
    "# Convert results to a DataFrame\n",
    "results_df = pd.DataFrame(results)\n",
    "\n",
    "# Plot using Plotly Express\n",
    "fig = px.line(\n",
    "    results_df,\n",
    "    x=\"Threshold\",\n",
    "    y=\"Proteins\",\n",
    "    title=\"Number of Proteins in Families with Size Less Than x\",\n",
    "    labels={\"Threshold\": \"Family Size Threshold (x)\", \"Proteins\": \"Number of Proteins\"},\n",
    "    template=\"plotly_white\",\n",
    ")\n",
    "fig.update_layout(font=dict(family=\"Arial\", size=12, color=\"black\"))\n",
    "fig.show()"
   ]
  },
  {
   "cell_type": "code",
   "execution_count": 283,
   "metadata": {},
   "outputs": [],
   "source": [
    "def remove_small_families(df, family_col, min_entries):\n",
    "    \"\"\"\n",
    "    Removes all rows belonging to families with fewer than `min_entries` entries.\n",
    "\n",
    "    Args:\n",
    "        df (pd.DataFrame): DataFrame containing protein data.\n",
    "        family_col (str): Column name for family IDs.\n",
    "        min_entries (int): Minimum number of entries required for a family to be retained.\n",
    "\n",
    "    Returns:\n",
    "        pd.DataFrame: Filtered DataFrame.\n",
    "    \"\"\"\n",
    "    # Count occurrences of each family\n",
    "    family_counts = df[family_col].value_counts()\n",
    "\n",
    "    # Identify families with at least `min_entries` entries\n",
    "    valid_families = family_counts[family_counts >= min_entries].index\n",
    "\n",
    "    # Filter DataFrame to keep only valid families\n",
    "    filtered_df = df[df[family_col].isin(valid_families)]\n",
    "\n",
    "    return filtered_df"
   ]
  },
  {
   "cell_type": "code",
   "execution_count": 287,
   "metadata": {},
   "outputs": [],
   "source": [
    "filtered_df = remove_small_families(df_final, family_col=\"family_id\", min_entries=10)"
   ]
  },
  {
   "cell_type": "code",
   "execution_count": 290,
   "metadata": {},
   "outputs": [
    {
     "data": {
      "text/plain": [
       "((1072, 11), 51, 39)"
      ]
     },
     "execution_count": 290,
     "metadata": {},
     "output_type": "execute_result"
    }
   ],
   "source": [
    "filtered_df.shape, filtered_df['family_id'].nunique(), filtered_df['superfamily_id'].nunique()"
   ]
  },
  {
   "cell_type": "code",
   "execution_count": 292,
   "metadata": {},
   "outputs": [
    {
     "data": {
      "application/vnd.plotly.v1+json": {
       "config": {
        "plotlyServerURL": "https://plot.ly"
       },
       "data": [
        {
         "alignmentgroup": "True",
         "hovertemplate": "Family ID=%{x}<br>Number of Proteins=%{y}<extra></extra>",
         "legendgroup": "",
         "marker": {
          "color": "#636efa",
          "pattern": {
           "shape": ""
          }
         },
         "name": "",
         "offsetgroup": "",
         "orientation": "v",
         "showlegend": false,
         "textposition": "auto",
         "type": "bar",
         "x": [
          "f52",
          "f107",
          "f154",
          "f13",
          "f62",
          "f137",
          "f60",
          "f682",
          "f14",
          "f42",
          "f66",
          "f71",
          "f67",
          "f212",
          "f158",
          "f147",
          "f15",
          "f83",
          "f72",
          "f184",
          "f54",
          "f259",
          "f148",
          "f183",
          "f219",
          "f70",
          "f1156",
          "f104",
          "f74",
          "f153",
          "f785",
          "f333",
          "f656",
          "f852",
          "f63",
          "f264",
          "f197",
          "f92",
          "f99",
          "f401",
          "f263",
          "f123",
          "f157",
          "f194",
          "f186",
          "f178",
          "f172",
          "f439",
          "f19",
          "f812",
          "f215"
         ],
         "xaxis": "x",
         "y": [
          57,
          56,
          52,
          42,
          40,
          40,
          39,
          36,
          35,
          30,
          27,
          26,
          26,
          25,
          25,
          24,
          23,
          23,
          21,
          21,
          18,
          18,
          18,
          17,
          16,
          16,
          15,
          15,
          15,
          14,
          14,
          14,
          13,
          13,
          13,
          13,
          13,
          13,
          12,
          11,
          11,
          11,
          11,
          10,
          10,
          10,
          10,
          10,
          10,
          10,
          10
         ],
         "yaxis": "y"
        }
       ],
       "layout": {
        "barmode": "relative",
        "font": {
         "color": "black",
         "family": "Arial",
         "size": 12
        },
        "legend": {
         "tracegroupgap": 0
        },
        "showlegend": false,
        "template": {
         "data": {
          "bar": [
           {
            "error_x": {
             "color": "#2a3f5f"
            },
            "error_y": {
             "color": "#2a3f5f"
            },
            "marker": {
             "line": {
              "color": "white",
              "width": 0.5
             },
             "pattern": {
              "fillmode": "overlay",
              "size": 10,
              "solidity": 0.2
             }
            },
            "type": "bar"
           }
          ],
          "barpolar": [
           {
            "marker": {
             "line": {
              "color": "white",
              "width": 0.5
             },
             "pattern": {
              "fillmode": "overlay",
              "size": 10,
              "solidity": 0.2
             }
            },
            "type": "barpolar"
           }
          ],
          "carpet": [
           {
            "aaxis": {
             "endlinecolor": "#2a3f5f",
             "gridcolor": "#C8D4E3",
             "linecolor": "#C8D4E3",
             "minorgridcolor": "#C8D4E3",
             "startlinecolor": "#2a3f5f"
            },
            "baxis": {
             "endlinecolor": "#2a3f5f",
             "gridcolor": "#C8D4E3",
             "linecolor": "#C8D4E3",
             "minorgridcolor": "#C8D4E3",
             "startlinecolor": "#2a3f5f"
            },
            "type": "carpet"
           }
          ],
          "choropleth": [
           {
            "colorbar": {
             "outlinewidth": 0,
             "ticks": ""
            },
            "type": "choropleth"
           }
          ],
          "contour": [
           {
            "colorbar": {
             "outlinewidth": 0,
             "ticks": ""
            },
            "colorscale": [
             [
              0,
              "#0d0887"
             ],
             [
              0.1111111111111111,
              "#46039f"
             ],
             [
              0.2222222222222222,
              "#7201a8"
             ],
             [
              0.3333333333333333,
              "#9c179e"
             ],
             [
              0.4444444444444444,
              "#bd3786"
             ],
             [
              0.5555555555555556,
              "#d8576b"
             ],
             [
              0.6666666666666666,
              "#ed7953"
             ],
             [
              0.7777777777777778,
              "#fb9f3a"
             ],
             [
              0.8888888888888888,
              "#fdca26"
             ],
             [
              1,
              "#f0f921"
             ]
            ],
            "type": "contour"
           }
          ],
          "contourcarpet": [
           {
            "colorbar": {
             "outlinewidth": 0,
             "ticks": ""
            },
            "type": "contourcarpet"
           }
          ],
          "heatmap": [
           {
            "colorbar": {
             "outlinewidth": 0,
             "ticks": ""
            },
            "colorscale": [
             [
              0,
              "#0d0887"
             ],
             [
              0.1111111111111111,
              "#46039f"
             ],
             [
              0.2222222222222222,
              "#7201a8"
             ],
             [
              0.3333333333333333,
              "#9c179e"
             ],
             [
              0.4444444444444444,
              "#bd3786"
             ],
             [
              0.5555555555555556,
              "#d8576b"
             ],
             [
              0.6666666666666666,
              "#ed7953"
             ],
             [
              0.7777777777777778,
              "#fb9f3a"
             ],
             [
              0.8888888888888888,
              "#fdca26"
             ],
             [
              1,
              "#f0f921"
             ]
            ],
            "type": "heatmap"
           }
          ],
          "heatmapgl": [
           {
            "colorbar": {
             "outlinewidth": 0,
             "ticks": ""
            },
            "colorscale": [
             [
              0,
              "#0d0887"
             ],
             [
              0.1111111111111111,
              "#46039f"
             ],
             [
              0.2222222222222222,
              "#7201a8"
             ],
             [
              0.3333333333333333,
              "#9c179e"
             ],
             [
              0.4444444444444444,
              "#bd3786"
             ],
             [
              0.5555555555555556,
              "#d8576b"
             ],
             [
              0.6666666666666666,
              "#ed7953"
             ],
             [
              0.7777777777777778,
              "#fb9f3a"
             ],
             [
              0.8888888888888888,
              "#fdca26"
             ],
             [
              1,
              "#f0f921"
             ]
            ],
            "type": "heatmapgl"
           }
          ],
          "histogram": [
           {
            "marker": {
             "pattern": {
              "fillmode": "overlay",
              "size": 10,
              "solidity": 0.2
             }
            },
            "type": "histogram"
           }
          ],
          "histogram2d": [
           {
            "colorbar": {
             "outlinewidth": 0,
             "ticks": ""
            },
            "colorscale": [
             [
              0,
              "#0d0887"
             ],
             [
              0.1111111111111111,
              "#46039f"
             ],
             [
              0.2222222222222222,
              "#7201a8"
             ],
             [
              0.3333333333333333,
              "#9c179e"
             ],
             [
              0.4444444444444444,
              "#bd3786"
             ],
             [
              0.5555555555555556,
              "#d8576b"
             ],
             [
              0.6666666666666666,
              "#ed7953"
             ],
             [
              0.7777777777777778,
              "#fb9f3a"
             ],
             [
              0.8888888888888888,
              "#fdca26"
             ],
             [
              1,
              "#f0f921"
             ]
            ],
            "type": "histogram2d"
           }
          ],
          "histogram2dcontour": [
           {
            "colorbar": {
             "outlinewidth": 0,
             "ticks": ""
            },
            "colorscale": [
             [
              0,
              "#0d0887"
             ],
             [
              0.1111111111111111,
              "#46039f"
             ],
             [
              0.2222222222222222,
              "#7201a8"
             ],
             [
              0.3333333333333333,
              "#9c179e"
             ],
             [
              0.4444444444444444,
              "#bd3786"
             ],
             [
              0.5555555555555556,
              "#d8576b"
             ],
             [
              0.6666666666666666,
              "#ed7953"
             ],
             [
              0.7777777777777778,
              "#fb9f3a"
             ],
             [
              0.8888888888888888,
              "#fdca26"
             ],
             [
              1,
              "#f0f921"
             ]
            ],
            "type": "histogram2dcontour"
           }
          ],
          "mesh3d": [
           {
            "colorbar": {
             "outlinewidth": 0,
             "ticks": ""
            },
            "type": "mesh3d"
           }
          ],
          "parcoords": [
           {
            "line": {
             "colorbar": {
              "outlinewidth": 0,
              "ticks": ""
             }
            },
            "type": "parcoords"
           }
          ],
          "pie": [
           {
            "automargin": true,
            "type": "pie"
           }
          ],
          "scatter": [
           {
            "fillpattern": {
             "fillmode": "overlay",
             "size": 10,
             "solidity": 0.2
            },
            "type": "scatter"
           }
          ],
          "scatter3d": [
           {
            "line": {
             "colorbar": {
              "outlinewidth": 0,
              "ticks": ""
             }
            },
            "marker": {
             "colorbar": {
              "outlinewidth": 0,
              "ticks": ""
             }
            },
            "type": "scatter3d"
           }
          ],
          "scattercarpet": [
           {
            "marker": {
             "colorbar": {
              "outlinewidth": 0,
              "ticks": ""
             }
            },
            "type": "scattercarpet"
           }
          ],
          "scattergeo": [
           {
            "marker": {
             "colorbar": {
              "outlinewidth": 0,
              "ticks": ""
             }
            },
            "type": "scattergeo"
           }
          ],
          "scattergl": [
           {
            "marker": {
             "colorbar": {
              "outlinewidth": 0,
              "ticks": ""
             }
            },
            "type": "scattergl"
           }
          ],
          "scattermapbox": [
           {
            "marker": {
             "colorbar": {
              "outlinewidth": 0,
              "ticks": ""
             }
            },
            "type": "scattermapbox"
           }
          ],
          "scatterpolar": [
           {
            "marker": {
             "colorbar": {
              "outlinewidth": 0,
              "ticks": ""
             }
            },
            "type": "scatterpolar"
           }
          ],
          "scatterpolargl": [
           {
            "marker": {
             "colorbar": {
              "outlinewidth": 0,
              "ticks": ""
             }
            },
            "type": "scatterpolargl"
           }
          ],
          "scatterternary": [
           {
            "marker": {
             "colorbar": {
              "outlinewidth": 0,
              "ticks": ""
             }
            },
            "type": "scatterternary"
           }
          ],
          "surface": [
           {
            "colorbar": {
             "outlinewidth": 0,
             "ticks": ""
            },
            "colorscale": [
             [
              0,
              "#0d0887"
             ],
             [
              0.1111111111111111,
              "#46039f"
             ],
             [
              0.2222222222222222,
              "#7201a8"
             ],
             [
              0.3333333333333333,
              "#9c179e"
             ],
             [
              0.4444444444444444,
              "#bd3786"
             ],
             [
              0.5555555555555556,
              "#d8576b"
             ],
             [
              0.6666666666666666,
              "#ed7953"
             ],
             [
              0.7777777777777778,
              "#fb9f3a"
             ],
             [
              0.8888888888888888,
              "#fdca26"
             ],
             [
              1,
              "#f0f921"
             ]
            ],
            "type": "surface"
           }
          ],
          "table": [
           {
            "cells": {
             "fill": {
              "color": "#EBF0F8"
             },
             "line": {
              "color": "white"
             }
            },
            "header": {
             "fill": {
              "color": "#C8D4E3"
             },
             "line": {
              "color": "white"
             }
            },
            "type": "table"
           }
          ]
         },
         "layout": {
          "annotationdefaults": {
           "arrowcolor": "#2a3f5f",
           "arrowhead": 0,
           "arrowwidth": 1
          },
          "autotypenumbers": "strict",
          "coloraxis": {
           "colorbar": {
            "outlinewidth": 0,
            "ticks": ""
           }
          },
          "colorscale": {
           "diverging": [
            [
             0,
             "#8e0152"
            ],
            [
             0.1,
             "#c51b7d"
            ],
            [
             0.2,
             "#de77ae"
            ],
            [
             0.3,
             "#f1b6da"
            ],
            [
             0.4,
             "#fde0ef"
            ],
            [
             0.5,
             "#f7f7f7"
            ],
            [
             0.6,
             "#e6f5d0"
            ],
            [
             0.7,
             "#b8e186"
            ],
            [
             0.8,
             "#7fbc41"
            ],
            [
             0.9,
             "#4d9221"
            ],
            [
             1,
             "#276419"
            ]
           ],
           "sequential": [
            [
             0,
             "#0d0887"
            ],
            [
             0.1111111111111111,
             "#46039f"
            ],
            [
             0.2222222222222222,
             "#7201a8"
            ],
            [
             0.3333333333333333,
             "#9c179e"
            ],
            [
             0.4444444444444444,
             "#bd3786"
            ],
            [
             0.5555555555555556,
             "#d8576b"
            ],
            [
             0.6666666666666666,
             "#ed7953"
            ],
            [
             0.7777777777777778,
             "#fb9f3a"
            ],
            [
             0.8888888888888888,
             "#fdca26"
            ],
            [
             1,
             "#f0f921"
            ]
           ],
           "sequentialminus": [
            [
             0,
             "#0d0887"
            ],
            [
             0.1111111111111111,
             "#46039f"
            ],
            [
             0.2222222222222222,
             "#7201a8"
            ],
            [
             0.3333333333333333,
             "#9c179e"
            ],
            [
             0.4444444444444444,
             "#bd3786"
            ],
            [
             0.5555555555555556,
             "#d8576b"
            ],
            [
             0.6666666666666666,
             "#ed7953"
            ],
            [
             0.7777777777777778,
             "#fb9f3a"
            ],
            [
             0.8888888888888888,
             "#fdca26"
            ],
            [
             1,
             "#f0f921"
            ]
           ]
          },
          "colorway": [
           "#636efa",
           "#EF553B",
           "#00cc96",
           "#ab63fa",
           "#FFA15A",
           "#19d3f3",
           "#FF6692",
           "#B6E880",
           "#FF97FF",
           "#FECB52"
          ],
          "font": {
           "color": "#2a3f5f"
          },
          "geo": {
           "bgcolor": "white",
           "lakecolor": "white",
           "landcolor": "white",
           "showlakes": true,
           "showland": true,
           "subunitcolor": "#C8D4E3"
          },
          "hoverlabel": {
           "align": "left"
          },
          "hovermode": "closest",
          "mapbox": {
           "style": "light"
          },
          "paper_bgcolor": "white",
          "plot_bgcolor": "white",
          "polar": {
           "angularaxis": {
            "gridcolor": "#EBF0F8",
            "linecolor": "#EBF0F8",
            "ticks": ""
           },
           "bgcolor": "white",
           "radialaxis": {
            "gridcolor": "#EBF0F8",
            "linecolor": "#EBF0F8",
            "ticks": ""
           }
          },
          "scene": {
           "xaxis": {
            "backgroundcolor": "white",
            "gridcolor": "#DFE8F3",
            "gridwidth": 2,
            "linecolor": "#EBF0F8",
            "showbackground": true,
            "ticks": "",
            "zerolinecolor": "#EBF0F8"
           },
           "yaxis": {
            "backgroundcolor": "white",
            "gridcolor": "#DFE8F3",
            "gridwidth": 2,
            "linecolor": "#EBF0F8",
            "showbackground": true,
            "ticks": "",
            "zerolinecolor": "#EBF0F8"
           },
           "zaxis": {
            "backgroundcolor": "white",
            "gridcolor": "#DFE8F3",
            "gridwidth": 2,
            "linecolor": "#EBF0F8",
            "showbackground": true,
            "ticks": "",
            "zerolinecolor": "#EBF0F8"
           }
          },
          "shapedefaults": {
           "line": {
            "color": "#2a3f5f"
           }
          },
          "ternary": {
           "aaxis": {
            "gridcolor": "#DFE8F3",
            "linecolor": "#A2B1C6",
            "ticks": ""
           },
           "baxis": {
            "gridcolor": "#DFE8F3",
            "linecolor": "#A2B1C6",
            "ticks": ""
           },
           "bgcolor": "white",
           "caxis": {
            "gridcolor": "#DFE8F3",
            "linecolor": "#A2B1C6",
            "ticks": ""
           }
          },
          "title": {
           "x": 0.05
          },
          "xaxis": {
           "automargin": true,
           "gridcolor": "#EBF0F8",
           "linecolor": "#EBF0F8",
           "ticks": "",
           "title": {
            "standoff": 15
           },
           "zerolinecolor": "#EBF0F8",
           "zerolinewidth": 2
          },
          "yaxis": {
           "automargin": true,
           "gridcolor": "#EBF0F8",
           "linecolor": "#EBF0F8",
           "ticks": "",
           "title": {
            "standoff": 15
           },
           "zerolinecolor": "#EBF0F8",
           "zerolinewidth": 2
          }
         }
        },
        "title": {
         "text": "Protein Count per Family"
        },
        "xaxis": {
         "anchor": "y",
         "domain": [
          0,
          1
         ],
         "tickangle": 45,
         "title": {
          "text": "Family ID"
         }
        },
        "yaxis": {
         "anchor": "x",
         "domain": [
          0,
          1
         ],
         "title": {
          "text": "Number of Proteins"
         }
        }
       }
      },
      "text/html": [
       "<div>                            <div id=\"9384f6cd-b5ca-45fa-b1b8-0317f61aff5e\" class=\"plotly-graph-div\" style=\"height:525px; width:100%;\"></div>            <script type=\"text/javascript\">                require([\"plotly\"], function(Plotly) {                    window.PLOTLYENV=window.PLOTLYENV || {};                                    if (document.getElementById(\"9384f6cd-b5ca-45fa-b1b8-0317f61aff5e\")) {                    Plotly.newPlot(                        \"9384f6cd-b5ca-45fa-b1b8-0317f61aff5e\",                        [{\"alignmentgroup\":\"True\",\"hovertemplate\":\"Family ID=%{x}\\u003cbr\\u003eNumber of Proteins=%{y}\\u003cextra\\u003e\\u003c\\u002fextra\\u003e\",\"legendgroup\":\"\",\"marker\":{\"color\":\"#636efa\",\"pattern\":{\"shape\":\"\"}},\"name\":\"\",\"offsetgroup\":\"\",\"orientation\":\"v\",\"showlegend\":false,\"textposition\":\"auto\",\"x\":[\"f52\",\"f107\",\"f154\",\"f13\",\"f62\",\"f137\",\"f60\",\"f682\",\"f14\",\"f42\",\"f66\",\"f71\",\"f67\",\"f212\",\"f158\",\"f147\",\"f15\",\"f83\",\"f72\",\"f184\",\"f54\",\"f259\",\"f148\",\"f183\",\"f219\",\"f70\",\"f1156\",\"f104\",\"f74\",\"f153\",\"f785\",\"f333\",\"f656\",\"f852\",\"f63\",\"f264\",\"f197\",\"f92\",\"f99\",\"f401\",\"f263\",\"f123\",\"f157\",\"f194\",\"f186\",\"f178\",\"f172\",\"f439\",\"f19\",\"f812\",\"f215\"],\"xaxis\":\"x\",\"y\":[57,56,52,42,40,40,39,36,35,30,27,26,26,25,25,24,23,23,21,21,18,18,18,17,16,16,15,15,15,14,14,14,13,13,13,13,13,13,12,11,11,11,11,10,10,10,10,10,10,10,10],\"yaxis\":\"y\",\"type\":\"bar\"}],                        {\"template\":{\"data\":{\"barpolar\":[{\"marker\":{\"line\":{\"color\":\"white\",\"width\":0.5},\"pattern\":{\"fillmode\":\"overlay\",\"size\":10,\"solidity\":0.2}},\"type\":\"barpolar\"}],\"bar\":[{\"error_x\":{\"color\":\"#2a3f5f\"},\"error_y\":{\"color\":\"#2a3f5f\"},\"marker\":{\"line\":{\"color\":\"white\",\"width\":0.5},\"pattern\":{\"fillmode\":\"overlay\",\"size\":10,\"solidity\":0.2}},\"type\":\"bar\"}],\"carpet\":[{\"aaxis\":{\"endlinecolor\":\"#2a3f5f\",\"gridcolor\":\"#C8D4E3\",\"linecolor\":\"#C8D4E3\",\"minorgridcolor\":\"#C8D4E3\",\"startlinecolor\":\"#2a3f5f\"},\"baxis\":{\"endlinecolor\":\"#2a3f5f\",\"gridcolor\":\"#C8D4E3\",\"linecolor\":\"#C8D4E3\",\"minorgridcolor\":\"#C8D4E3\",\"startlinecolor\":\"#2a3f5f\"},\"type\":\"carpet\"}],\"choropleth\":[{\"colorbar\":{\"outlinewidth\":0,\"ticks\":\"\"},\"type\":\"choropleth\"}],\"contourcarpet\":[{\"colorbar\":{\"outlinewidth\":0,\"ticks\":\"\"},\"type\":\"contourcarpet\"}],\"contour\":[{\"colorbar\":{\"outlinewidth\":0,\"ticks\":\"\"},\"colorscale\":[[0.0,\"#0d0887\"],[0.1111111111111111,\"#46039f\"],[0.2222222222222222,\"#7201a8\"],[0.3333333333333333,\"#9c179e\"],[0.4444444444444444,\"#bd3786\"],[0.5555555555555556,\"#d8576b\"],[0.6666666666666666,\"#ed7953\"],[0.7777777777777778,\"#fb9f3a\"],[0.8888888888888888,\"#fdca26\"],[1.0,\"#f0f921\"]],\"type\":\"contour\"}],\"heatmapgl\":[{\"colorbar\":{\"outlinewidth\":0,\"ticks\":\"\"},\"colorscale\":[[0.0,\"#0d0887\"],[0.1111111111111111,\"#46039f\"],[0.2222222222222222,\"#7201a8\"],[0.3333333333333333,\"#9c179e\"],[0.4444444444444444,\"#bd3786\"],[0.5555555555555556,\"#d8576b\"],[0.6666666666666666,\"#ed7953\"],[0.7777777777777778,\"#fb9f3a\"],[0.8888888888888888,\"#fdca26\"],[1.0,\"#f0f921\"]],\"type\":\"heatmapgl\"}],\"heatmap\":[{\"colorbar\":{\"outlinewidth\":0,\"ticks\":\"\"},\"colorscale\":[[0.0,\"#0d0887\"],[0.1111111111111111,\"#46039f\"],[0.2222222222222222,\"#7201a8\"],[0.3333333333333333,\"#9c179e\"],[0.4444444444444444,\"#bd3786\"],[0.5555555555555556,\"#d8576b\"],[0.6666666666666666,\"#ed7953\"],[0.7777777777777778,\"#fb9f3a\"],[0.8888888888888888,\"#fdca26\"],[1.0,\"#f0f921\"]],\"type\":\"heatmap\"}],\"histogram2dcontour\":[{\"colorbar\":{\"outlinewidth\":0,\"ticks\":\"\"},\"colorscale\":[[0.0,\"#0d0887\"],[0.1111111111111111,\"#46039f\"],[0.2222222222222222,\"#7201a8\"],[0.3333333333333333,\"#9c179e\"],[0.4444444444444444,\"#bd3786\"],[0.5555555555555556,\"#d8576b\"],[0.6666666666666666,\"#ed7953\"],[0.7777777777777778,\"#fb9f3a\"],[0.8888888888888888,\"#fdca26\"],[1.0,\"#f0f921\"]],\"type\":\"histogram2dcontour\"}],\"histogram2d\":[{\"colorbar\":{\"outlinewidth\":0,\"ticks\":\"\"},\"colorscale\":[[0.0,\"#0d0887\"],[0.1111111111111111,\"#46039f\"],[0.2222222222222222,\"#7201a8\"],[0.3333333333333333,\"#9c179e\"],[0.4444444444444444,\"#bd3786\"],[0.5555555555555556,\"#d8576b\"],[0.6666666666666666,\"#ed7953\"],[0.7777777777777778,\"#fb9f3a\"],[0.8888888888888888,\"#fdca26\"],[1.0,\"#f0f921\"]],\"type\":\"histogram2d\"}],\"histogram\":[{\"marker\":{\"pattern\":{\"fillmode\":\"overlay\",\"size\":10,\"solidity\":0.2}},\"type\":\"histogram\"}],\"mesh3d\":[{\"colorbar\":{\"outlinewidth\":0,\"ticks\":\"\"},\"type\":\"mesh3d\"}],\"parcoords\":[{\"line\":{\"colorbar\":{\"outlinewidth\":0,\"ticks\":\"\"}},\"type\":\"parcoords\"}],\"pie\":[{\"automargin\":true,\"type\":\"pie\"}],\"scatter3d\":[{\"line\":{\"colorbar\":{\"outlinewidth\":0,\"ticks\":\"\"}},\"marker\":{\"colorbar\":{\"outlinewidth\":0,\"ticks\":\"\"}},\"type\":\"scatter3d\"}],\"scattercarpet\":[{\"marker\":{\"colorbar\":{\"outlinewidth\":0,\"ticks\":\"\"}},\"type\":\"scattercarpet\"}],\"scattergeo\":[{\"marker\":{\"colorbar\":{\"outlinewidth\":0,\"ticks\":\"\"}},\"type\":\"scattergeo\"}],\"scattergl\":[{\"marker\":{\"colorbar\":{\"outlinewidth\":0,\"ticks\":\"\"}},\"type\":\"scattergl\"}],\"scattermapbox\":[{\"marker\":{\"colorbar\":{\"outlinewidth\":0,\"ticks\":\"\"}},\"type\":\"scattermapbox\"}],\"scatterpolargl\":[{\"marker\":{\"colorbar\":{\"outlinewidth\":0,\"ticks\":\"\"}},\"type\":\"scatterpolargl\"}],\"scatterpolar\":[{\"marker\":{\"colorbar\":{\"outlinewidth\":0,\"ticks\":\"\"}},\"type\":\"scatterpolar\"}],\"scatter\":[{\"fillpattern\":{\"fillmode\":\"overlay\",\"size\":10,\"solidity\":0.2},\"type\":\"scatter\"}],\"scatterternary\":[{\"marker\":{\"colorbar\":{\"outlinewidth\":0,\"ticks\":\"\"}},\"type\":\"scatterternary\"}],\"surface\":[{\"colorbar\":{\"outlinewidth\":0,\"ticks\":\"\"},\"colorscale\":[[0.0,\"#0d0887\"],[0.1111111111111111,\"#46039f\"],[0.2222222222222222,\"#7201a8\"],[0.3333333333333333,\"#9c179e\"],[0.4444444444444444,\"#bd3786\"],[0.5555555555555556,\"#d8576b\"],[0.6666666666666666,\"#ed7953\"],[0.7777777777777778,\"#fb9f3a\"],[0.8888888888888888,\"#fdca26\"],[1.0,\"#f0f921\"]],\"type\":\"surface\"}],\"table\":[{\"cells\":{\"fill\":{\"color\":\"#EBF0F8\"},\"line\":{\"color\":\"white\"}},\"header\":{\"fill\":{\"color\":\"#C8D4E3\"},\"line\":{\"color\":\"white\"}},\"type\":\"table\"}]},\"layout\":{\"annotationdefaults\":{\"arrowcolor\":\"#2a3f5f\",\"arrowhead\":0,\"arrowwidth\":1},\"autotypenumbers\":\"strict\",\"coloraxis\":{\"colorbar\":{\"outlinewidth\":0,\"ticks\":\"\"}},\"colorscale\":{\"diverging\":[[0,\"#8e0152\"],[0.1,\"#c51b7d\"],[0.2,\"#de77ae\"],[0.3,\"#f1b6da\"],[0.4,\"#fde0ef\"],[0.5,\"#f7f7f7\"],[0.6,\"#e6f5d0\"],[0.7,\"#b8e186\"],[0.8,\"#7fbc41\"],[0.9,\"#4d9221\"],[1,\"#276419\"]],\"sequential\":[[0.0,\"#0d0887\"],[0.1111111111111111,\"#46039f\"],[0.2222222222222222,\"#7201a8\"],[0.3333333333333333,\"#9c179e\"],[0.4444444444444444,\"#bd3786\"],[0.5555555555555556,\"#d8576b\"],[0.6666666666666666,\"#ed7953\"],[0.7777777777777778,\"#fb9f3a\"],[0.8888888888888888,\"#fdca26\"],[1.0,\"#f0f921\"]],\"sequentialminus\":[[0.0,\"#0d0887\"],[0.1111111111111111,\"#46039f\"],[0.2222222222222222,\"#7201a8\"],[0.3333333333333333,\"#9c179e\"],[0.4444444444444444,\"#bd3786\"],[0.5555555555555556,\"#d8576b\"],[0.6666666666666666,\"#ed7953\"],[0.7777777777777778,\"#fb9f3a\"],[0.8888888888888888,\"#fdca26\"],[1.0,\"#f0f921\"]]},\"colorway\":[\"#636efa\",\"#EF553B\",\"#00cc96\",\"#ab63fa\",\"#FFA15A\",\"#19d3f3\",\"#FF6692\",\"#B6E880\",\"#FF97FF\",\"#FECB52\"],\"font\":{\"color\":\"#2a3f5f\"},\"geo\":{\"bgcolor\":\"white\",\"lakecolor\":\"white\",\"landcolor\":\"white\",\"showlakes\":true,\"showland\":true,\"subunitcolor\":\"#C8D4E3\"},\"hoverlabel\":{\"align\":\"left\"},\"hovermode\":\"closest\",\"mapbox\":{\"style\":\"light\"},\"paper_bgcolor\":\"white\",\"plot_bgcolor\":\"white\",\"polar\":{\"angularaxis\":{\"gridcolor\":\"#EBF0F8\",\"linecolor\":\"#EBF0F8\",\"ticks\":\"\"},\"bgcolor\":\"white\",\"radialaxis\":{\"gridcolor\":\"#EBF0F8\",\"linecolor\":\"#EBF0F8\",\"ticks\":\"\"}},\"scene\":{\"xaxis\":{\"backgroundcolor\":\"white\",\"gridcolor\":\"#DFE8F3\",\"gridwidth\":2,\"linecolor\":\"#EBF0F8\",\"showbackground\":true,\"ticks\":\"\",\"zerolinecolor\":\"#EBF0F8\"},\"yaxis\":{\"backgroundcolor\":\"white\",\"gridcolor\":\"#DFE8F3\",\"gridwidth\":2,\"linecolor\":\"#EBF0F8\",\"showbackground\":true,\"ticks\":\"\",\"zerolinecolor\":\"#EBF0F8\"},\"zaxis\":{\"backgroundcolor\":\"white\",\"gridcolor\":\"#DFE8F3\",\"gridwidth\":2,\"linecolor\":\"#EBF0F8\",\"showbackground\":true,\"ticks\":\"\",\"zerolinecolor\":\"#EBF0F8\"}},\"shapedefaults\":{\"line\":{\"color\":\"#2a3f5f\"}},\"ternary\":{\"aaxis\":{\"gridcolor\":\"#DFE8F3\",\"linecolor\":\"#A2B1C6\",\"ticks\":\"\"},\"baxis\":{\"gridcolor\":\"#DFE8F3\",\"linecolor\":\"#A2B1C6\",\"ticks\":\"\"},\"bgcolor\":\"white\",\"caxis\":{\"gridcolor\":\"#DFE8F3\",\"linecolor\":\"#A2B1C6\",\"ticks\":\"\"}},\"title\":{\"x\":0.05},\"xaxis\":{\"automargin\":true,\"gridcolor\":\"#EBF0F8\",\"linecolor\":\"#EBF0F8\",\"ticks\":\"\",\"title\":{\"standoff\":15},\"zerolinecolor\":\"#EBF0F8\",\"zerolinewidth\":2},\"yaxis\":{\"automargin\":true,\"gridcolor\":\"#EBF0F8\",\"linecolor\":\"#EBF0F8\",\"ticks\":\"\",\"title\":{\"standoff\":15},\"zerolinecolor\":\"#EBF0F8\",\"zerolinewidth\":2}}},\"xaxis\":{\"anchor\":\"y\",\"domain\":[0.0,1.0],\"title\":{\"text\":\"Family ID\"},\"tickangle\":45},\"yaxis\":{\"anchor\":\"x\",\"domain\":[0.0,1.0],\"title\":{\"text\":\"Number of Proteins\"}},\"legend\":{\"tracegroupgap\":0},\"title\":{\"text\":\"Protein Count per Family\"},\"barmode\":\"relative\",\"font\":{\"family\":\"Arial\",\"size\":12,\"color\":\"black\"},\"showlegend\":false},                        {\"responsive\": true}                    ).then(function(){\n",
       "                            \n",
       "var gd = document.getElementById('9384f6cd-b5ca-45fa-b1b8-0317f61aff5e');\n",
       "var x = new MutationObserver(function (mutations, observer) {{\n",
       "        var display = window.getComputedStyle(gd).display;\n",
       "        if (!display || display === 'none') {{\n",
       "            console.log([gd, 'removed!']);\n",
       "            Plotly.purge(gd);\n",
       "            observer.disconnect();\n",
       "        }}\n",
       "}});\n",
       "\n",
       "// Listen for the removal of the full notebook cells\n",
       "var notebookContainer = gd.closest('#notebook-container');\n",
       "if (notebookContainer) {{\n",
       "    x.observe(notebookContainer, {childList: true});\n",
       "}}\n",
       "\n",
       "// Listen for the clearing of the current output cell\n",
       "var outputEl = gd.closest('.output');\n",
       "if (outputEl) {{\n",
       "    x.observe(outputEl, {childList: true});\n",
       "}}\n",
       "\n",
       "                        })                };                });            </script>        </div>"
      ]
     },
     "metadata": {},
     "output_type": "display_data"
    }
   ],
   "source": [
    "family_counts = filtered_df[\"family_id\"].value_counts().reset_index()\n",
    "family_counts.columns = [\"Family ID\", \"Protein Count\"]\n",
    "\n",
    "# Plot the bar chart\n",
    "fig = px.bar(\n",
    "    family_counts,\n",
    "    x=\"Family ID\",\n",
    "    y=\"Protein Count\",\n",
    "    title=\"Protein Count per Family\",\n",
    "    labels={\"Family ID\": \"Family ID\", \"Protein Count\": \"Number of Proteins\"},\n",
    "    template=\"plotly_white\",\n",
    ")\n",
    "\n",
    "# Customize layout\n",
    "fig.update_layout(\n",
    "    font=dict(family=\"Arial\", size=12, color=\"black\"),\n",
    "    xaxis=dict(tickangle=45),\n",
    "    showlegend=False,\n",
    ")\n",
    "\n",
    "# Display the plot\n",
    "fig.show()"
   ]
  },
  {
   "cell_type": "code",
   "execution_count": 296,
   "metadata": {},
   "outputs": [
    {
     "data": {
      "text/plain": [
       "family_id\n",
       "f52      57\n",
       "f107     56\n",
       "f154     52\n",
       "f13      42\n",
       "f62      40\n",
       "f137     40\n",
       "f60      39\n",
       "f682     36\n",
       "f14      35\n",
       "f42      30\n",
       "f66      27\n",
       "f71      26\n",
       "f67      26\n",
       "f212     25\n",
       "f158     25\n",
       "f147     24\n",
       "f15      23\n",
       "f83      23\n",
       "f72      21\n",
       "f184     21\n",
       "f54      18\n",
       "f259     18\n",
       "f148     18\n",
       "f183     17\n",
       "f219     16\n",
       "f70      16\n",
       "f1156    15\n",
       "f104     15\n",
       "f74      15\n",
       "f153     14\n",
       "f785     14\n",
       "f333     14\n",
       "f656     13\n",
       "f852     13\n",
       "f63      13\n",
       "f264     13\n",
       "f197     13\n",
       "f92      13\n",
       "f99      12\n",
       "f401     11\n",
       "f263     11\n",
       "f123     11\n",
       "f157     11\n",
       "f194     10\n",
       "f186     10\n",
       "f178     10\n",
       "f172     10\n",
       "f439     10\n",
       "f19      10\n",
       "f812     10\n",
       "f215     10\n",
       "Name: count, dtype: int64"
      ]
     },
     "execution_count": 296,
     "metadata": {},
     "output_type": "execute_result"
    }
   ],
   "source": [
    "filtered_df['family_id'].value_counts()"
   ]
  },
  {
   "cell_type": "code",
   "execution_count": 293,
   "metadata": {},
   "outputs": [
    {
     "data": {
      "application/vnd.plotly.v1+json": {
       "config": {
        "plotlyServerURL": "https://plot.ly"
       },
       "data": [
        {
         "alignmentgroup": "True",
         "hovertemplate": "Super Family ID=%{x}<br>Number of Proteins=%{y}<extra></extra>",
         "legendgroup": "",
         "marker": {
          "color": "#636efa",
          "pattern": {
           "shape": ""
          }
         },
         "name": "",
         "offsetgroup": "",
         "orientation": "v",
         "showlegend": false,
         "textposition": "auto",
         "type": "bar",
         "x": [
          "sf112",
          "sf58",
          "sf6",
          "sf127",
          "sf39",
          "sf82",
          "sf50",
          "sf8",
          "sf49",
          "sf45",
          "sf31",
          "sf15",
          "sf53",
          "sf54",
          "sf148",
          "sf109",
          "sf7",
          "sf33",
          "sf182",
          "sf41",
          "sf57",
          "sf155",
          "sf577",
          "sf80",
          "sf60",
          "sf64",
          "sf138",
          "sf186",
          "sf71",
          "sf17",
          "sf93",
          "sf211",
          "sf185",
          "sf277",
          "sf121",
          "sf135",
          "sf142",
          "sf11",
          "sf16"
         ],
         "xaxis": "x",
         "y": [
          84,
          83,
          77,
          58,
          57,
          56,
          53,
          49,
          40,
          39,
          30,
          27,
          27,
          26,
          25,
          24,
          23,
          23,
          18,
          18,
          16,
          16,
          15,
          15,
          15,
          14,
          13,
          13,
          13,
          12,
          11,
          11,
          11,
          10,
          10,
          10,
          10,
          10,
          10
         ],
         "yaxis": "y"
        }
       ],
       "layout": {
        "barmode": "relative",
        "font": {
         "color": "black",
         "family": "Arial",
         "size": 12
        },
        "legend": {
         "tracegroupgap": 0
        },
        "showlegend": false,
        "template": {
         "data": {
          "bar": [
           {
            "error_x": {
             "color": "#2a3f5f"
            },
            "error_y": {
             "color": "#2a3f5f"
            },
            "marker": {
             "line": {
              "color": "white",
              "width": 0.5
             },
             "pattern": {
              "fillmode": "overlay",
              "size": 10,
              "solidity": 0.2
             }
            },
            "type": "bar"
           }
          ],
          "barpolar": [
           {
            "marker": {
             "line": {
              "color": "white",
              "width": 0.5
             },
             "pattern": {
              "fillmode": "overlay",
              "size": 10,
              "solidity": 0.2
             }
            },
            "type": "barpolar"
           }
          ],
          "carpet": [
           {
            "aaxis": {
             "endlinecolor": "#2a3f5f",
             "gridcolor": "#C8D4E3",
             "linecolor": "#C8D4E3",
             "minorgridcolor": "#C8D4E3",
             "startlinecolor": "#2a3f5f"
            },
            "baxis": {
             "endlinecolor": "#2a3f5f",
             "gridcolor": "#C8D4E3",
             "linecolor": "#C8D4E3",
             "minorgridcolor": "#C8D4E3",
             "startlinecolor": "#2a3f5f"
            },
            "type": "carpet"
           }
          ],
          "choropleth": [
           {
            "colorbar": {
             "outlinewidth": 0,
             "ticks": ""
            },
            "type": "choropleth"
           }
          ],
          "contour": [
           {
            "colorbar": {
             "outlinewidth": 0,
             "ticks": ""
            },
            "colorscale": [
             [
              0,
              "#0d0887"
             ],
             [
              0.1111111111111111,
              "#46039f"
             ],
             [
              0.2222222222222222,
              "#7201a8"
             ],
             [
              0.3333333333333333,
              "#9c179e"
             ],
             [
              0.4444444444444444,
              "#bd3786"
             ],
             [
              0.5555555555555556,
              "#d8576b"
             ],
             [
              0.6666666666666666,
              "#ed7953"
             ],
             [
              0.7777777777777778,
              "#fb9f3a"
             ],
             [
              0.8888888888888888,
              "#fdca26"
             ],
             [
              1,
              "#f0f921"
             ]
            ],
            "type": "contour"
           }
          ],
          "contourcarpet": [
           {
            "colorbar": {
             "outlinewidth": 0,
             "ticks": ""
            },
            "type": "contourcarpet"
           }
          ],
          "heatmap": [
           {
            "colorbar": {
             "outlinewidth": 0,
             "ticks": ""
            },
            "colorscale": [
             [
              0,
              "#0d0887"
             ],
             [
              0.1111111111111111,
              "#46039f"
             ],
             [
              0.2222222222222222,
              "#7201a8"
             ],
             [
              0.3333333333333333,
              "#9c179e"
             ],
             [
              0.4444444444444444,
              "#bd3786"
             ],
             [
              0.5555555555555556,
              "#d8576b"
             ],
             [
              0.6666666666666666,
              "#ed7953"
             ],
             [
              0.7777777777777778,
              "#fb9f3a"
             ],
             [
              0.8888888888888888,
              "#fdca26"
             ],
             [
              1,
              "#f0f921"
             ]
            ],
            "type": "heatmap"
           }
          ],
          "heatmapgl": [
           {
            "colorbar": {
             "outlinewidth": 0,
             "ticks": ""
            },
            "colorscale": [
             [
              0,
              "#0d0887"
             ],
             [
              0.1111111111111111,
              "#46039f"
             ],
             [
              0.2222222222222222,
              "#7201a8"
             ],
             [
              0.3333333333333333,
              "#9c179e"
             ],
             [
              0.4444444444444444,
              "#bd3786"
             ],
             [
              0.5555555555555556,
              "#d8576b"
             ],
             [
              0.6666666666666666,
              "#ed7953"
             ],
             [
              0.7777777777777778,
              "#fb9f3a"
             ],
             [
              0.8888888888888888,
              "#fdca26"
             ],
             [
              1,
              "#f0f921"
             ]
            ],
            "type": "heatmapgl"
           }
          ],
          "histogram": [
           {
            "marker": {
             "pattern": {
              "fillmode": "overlay",
              "size": 10,
              "solidity": 0.2
             }
            },
            "type": "histogram"
           }
          ],
          "histogram2d": [
           {
            "colorbar": {
             "outlinewidth": 0,
             "ticks": ""
            },
            "colorscale": [
             [
              0,
              "#0d0887"
             ],
             [
              0.1111111111111111,
              "#46039f"
             ],
             [
              0.2222222222222222,
              "#7201a8"
             ],
             [
              0.3333333333333333,
              "#9c179e"
             ],
             [
              0.4444444444444444,
              "#bd3786"
             ],
             [
              0.5555555555555556,
              "#d8576b"
             ],
             [
              0.6666666666666666,
              "#ed7953"
             ],
             [
              0.7777777777777778,
              "#fb9f3a"
             ],
             [
              0.8888888888888888,
              "#fdca26"
             ],
             [
              1,
              "#f0f921"
             ]
            ],
            "type": "histogram2d"
           }
          ],
          "histogram2dcontour": [
           {
            "colorbar": {
             "outlinewidth": 0,
             "ticks": ""
            },
            "colorscale": [
             [
              0,
              "#0d0887"
             ],
             [
              0.1111111111111111,
              "#46039f"
             ],
             [
              0.2222222222222222,
              "#7201a8"
             ],
             [
              0.3333333333333333,
              "#9c179e"
             ],
             [
              0.4444444444444444,
              "#bd3786"
             ],
             [
              0.5555555555555556,
              "#d8576b"
             ],
             [
              0.6666666666666666,
              "#ed7953"
             ],
             [
              0.7777777777777778,
              "#fb9f3a"
             ],
             [
              0.8888888888888888,
              "#fdca26"
             ],
             [
              1,
              "#f0f921"
             ]
            ],
            "type": "histogram2dcontour"
           }
          ],
          "mesh3d": [
           {
            "colorbar": {
             "outlinewidth": 0,
             "ticks": ""
            },
            "type": "mesh3d"
           }
          ],
          "parcoords": [
           {
            "line": {
             "colorbar": {
              "outlinewidth": 0,
              "ticks": ""
             }
            },
            "type": "parcoords"
           }
          ],
          "pie": [
           {
            "automargin": true,
            "type": "pie"
           }
          ],
          "scatter": [
           {
            "fillpattern": {
             "fillmode": "overlay",
             "size": 10,
             "solidity": 0.2
            },
            "type": "scatter"
           }
          ],
          "scatter3d": [
           {
            "line": {
             "colorbar": {
              "outlinewidth": 0,
              "ticks": ""
             }
            },
            "marker": {
             "colorbar": {
              "outlinewidth": 0,
              "ticks": ""
             }
            },
            "type": "scatter3d"
           }
          ],
          "scattercarpet": [
           {
            "marker": {
             "colorbar": {
              "outlinewidth": 0,
              "ticks": ""
             }
            },
            "type": "scattercarpet"
           }
          ],
          "scattergeo": [
           {
            "marker": {
             "colorbar": {
              "outlinewidth": 0,
              "ticks": ""
             }
            },
            "type": "scattergeo"
           }
          ],
          "scattergl": [
           {
            "marker": {
             "colorbar": {
              "outlinewidth": 0,
              "ticks": ""
             }
            },
            "type": "scattergl"
           }
          ],
          "scattermapbox": [
           {
            "marker": {
             "colorbar": {
              "outlinewidth": 0,
              "ticks": ""
             }
            },
            "type": "scattermapbox"
           }
          ],
          "scatterpolar": [
           {
            "marker": {
             "colorbar": {
              "outlinewidth": 0,
              "ticks": ""
             }
            },
            "type": "scatterpolar"
           }
          ],
          "scatterpolargl": [
           {
            "marker": {
             "colorbar": {
              "outlinewidth": 0,
              "ticks": ""
             }
            },
            "type": "scatterpolargl"
           }
          ],
          "scatterternary": [
           {
            "marker": {
             "colorbar": {
              "outlinewidth": 0,
              "ticks": ""
             }
            },
            "type": "scatterternary"
           }
          ],
          "surface": [
           {
            "colorbar": {
             "outlinewidth": 0,
             "ticks": ""
            },
            "colorscale": [
             [
              0,
              "#0d0887"
             ],
             [
              0.1111111111111111,
              "#46039f"
             ],
             [
              0.2222222222222222,
              "#7201a8"
             ],
             [
              0.3333333333333333,
              "#9c179e"
             ],
             [
              0.4444444444444444,
              "#bd3786"
             ],
             [
              0.5555555555555556,
              "#d8576b"
             ],
             [
              0.6666666666666666,
              "#ed7953"
             ],
             [
              0.7777777777777778,
              "#fb9f3a"
             ],
             [
              0.8888888888888888,
              "#fdca26"
             ],
             [
              1,
              "#f0f921"
             ]
            ],
            "type": "surface"
           }
          ],
          "table": [
           {
            "cells": {
             "fill": {
              "color": "#EBF0F8"
             },
             "line": {
              "color": "white"
             }
            },
            "header": {
             "fill": {
              "color": "#C8D4E3"
             },
             "line": {
              "color": "white"
             }
            },
            "type": "table"
           }
          ]
         },
         "layout": {
          "annotationdefaults": {
           "arrowcolor": "#2a3f5f",
           "arrowhead": 0,
           "arrowwidth": 1
          },
          "autotypenumbers": "strict",
          "coloraxis": {
           "colorbar": {
            "outlinewidth": 0,
            "ticks": ""
           }
          },
          "colorscale": {
           "diverging": [
            [
             0,
             "#8e0152"
            ],
            [
             0.1,
             "#c51b7d"
            ],
            [
             0.2,
             "#de77ae"
            ],
            [
             0.3,
             "#f1b6da"
            ],
            [
             0.4,
             "#fde0ef"
            ],
            [
             0.5,
             "#f7f7f7"
            ],
            [
             0.6,
             "#e6f5d0"
            ],
            [
             0.7,
             "#b8e186"
            ],
            [
             0.8,
             "#7fbc41"
            ],
            [
             0.9,
             "#4d9221"
            ],
            [
             1,
             "#276419"
            ]
           ],
           "sequential": [
            [
             0,
             "#0d0887"
            ],
            [
             0.1111111111111111,
             "#46039f"
            ],
            [
             0.2222222222222222,
             "#7201a8"
            ],
            [
             0.3333333333333333,
             "#9c179e"
            ],
            [
             0.4444444444444444,
             "#bd3786"
            ],
            [
             0.5555555555555556,
             "#d8576b"
            ],
            [
             0.6666666666666666,
             "#ed7953"
            ],
            [
             0.7777777777777778,
             "#fb9f3a"
            ],
            [
             0.8888888888888888,
             "#fdca26"
            ],
            [
             1,
             "#f0f921"
            ]
           ],
           "sequentialminus": [
            [
             0,
             "#0d0887"
            ],
            [
             0.1111111111111111,
             "#46039f"
            ],
            [
             0.2222222222222222,
             "#7201a8"
            ],
            [
             0.3333333333333333,
             "#9c179e"
            ],
            [
             0.4444444444444444,
             "#bd3786"
            ],
            [
             0.5555555555555556,
             "#d8576b"
            ],
            [
             0.6666666666666666,
             "#ed7953"
            ],
            [
             0.7777777777777778,
             "#fb9f3a"
            ],
            [
             0.8888888888888888,
             "#fdca26"
            ],
            [
             1,
             "#f0f921"
            ]
           ]
          },
          "colorway": [
           "#636efa",
           "#EF553B",
           "#00cc96",
           "#ab63fa",
           "#FFA15A",
           "#19d3f3",
           "#FF6692",
           "#B6E880",
           "#FF97FF",
           "#FECB52"
          ],
          "font": {
           "color": "#2a3f5f"
          },
          "geo": {
           "bgcolor": "white",
           "lakecolor": "white",
           "landcolor": "white",
           "showlakes": true,
           "showland": true,
           "subunitcolor": "#C8D4E3"
          },
          "hoverlabel": {
           "align": "left"
          },
          "hovermode": "closest",
          "mapbox": {
           "style": "light"
          },
          "paper_bgcolor": "white",
          "plot_bgcolor": "white",
          "polar": {
           "angularaxis": {
            "gridcolor": "#EBF0F8",
            "linecolor": "#EBF0F8",
            "ticks": ""
           },
           "bgcolor": "white",
           "radialaxis": {
            "gridcolor": "#EBF0F8",
            "linecolor": "#EBF0F8",
            "ticks": ""
           }
          },
          "scene": {
           "xaxis": {
            "backgroundcolor": "white",
            "gridcolor": "#DFE8F3",
            "gridwidth": 2,
            "linecolor": "#EBF0F8",
            "showbackground": true,
            "ticks": "",
            "zerolinecolor": "#EBF0F8"
           },
           "yaxis": {
            "backgroundcolor": "white",
            "gridcolor": "#DFE8F3",
            "gridwidth": 2,
            "linecolor": "#EBF0F8",
            "showbackground": true,
            "ticks": "",
            "zerolinecolor": "#EBF0F8"
           },
           "zaxis": {
            "backgroundcolor": "white",
            "gridcolor": "#DFE8F3",
            "gridwidth": 2,
            "linecolor": "#EBF0F8",
            "showbackground": true,
            "ticks": "",
            "zerolinecolor": "#EBF0F8"
           }
          },
          "shapedefaults": {
           "line": {
            "color": "#2a3f5f"
           }
          },
          "ternary": {
           "aaxis": {
            "gridcolor": "#DFE8F3",
            "linecolor": "#A2B1C6",
            "ticks": ""
           },
           "baxis": {
            "gridcolor": "#DFE8F3",
            "linecolor": "#A2B1C6",
            "ticks": ""
           },
           "bgcolor": "white",
           "caxis": {
            "gridcolor": "#DFE8F3",
            "linecolor": "#A2B1C6",
            "ticks": ""
           }
          },
          "title": {
           "x": 0.05
          },
          "xaxis": {
           "automargin": true,
           "gridcolor": "#EBF0F8",
           "linecolor": "#EBF0F8",
           "ticks": "",
           "title": {
            "standoff": 15
           },
           "zerolinecolor": "#EBF0F8",
           "zerolinewidth": 2
          },
          "yaxis": {
           "automargin": true,
           "gridcolor": "#EBF0F8",
           "linecolor": "#EBF0F8",
           "ticks": "",
           "title": {
            "standoff": 15
           },
           "zerolinecolor": "#EBF0F8",
           "zerolinewidth": 2
          }
         }
        },
        "title": {
         "text": "Protein Count per Superfamily"
        },
        "xaxis": {
         "anchor": "y",
         "domain": [
          0,
          1
         ],
         "tickangle": 45,
         "title": {
          "text": "Super Family ID"
         }
        },
        "yaxis": {
         "anchor": "x",
         "domain": [
          0,
          1
         ],
         "title": {
          "text": "Number of Proteins"
         }
        }
       }
      },
      "text/html": [
       "<div>                            <div id=\"82041431-9cf2-4cdd-804f-6234a21c7f7d\" class=\"plotly-graph-div\" style=\"height:525px; width:100%;\"></div>            <script type=\"text/javascript\">                require([\"plotly\"], function(Plotly) {                    window.PLOTLYENV=window.PLOTLYENV || {};                                    if (document.getElementById(\"82041431-9cf2-4cdd-804f-6234a21c7f7d\")) {                    Plotly.newPlot(                        \"82041431-9cf2-4cdd-804f-6234a21c7f7d\",                        [{\"alignmentgroup\":\"True\",\"hovertemplate\":\"Super Family ID=%{x}\\u003cbr\\u003eNumber of Proteins=%{y}\\u003cextra\\u003e\\u003c\\u002fextra\\u003e\",\"legendgroup\":\"\",\"marker\":{\"color\":\"#636efa\",\"pattern\":{\"shape\":\"\"}},\"name\":\"\",\"offsetgroup\":\"\",\"orientation\":\"v\",\"showlegend\":false,\"textposition\":\"auto\",\"x\":[\"sf112\",\"sf58\",\"sf6\",\"sf127\",\"sf39\",\"sf82\",\"sf50\",\"sf8\",\"sf49\",\"sf45\",\"sf31\",\"sf15\",\"sf53\",\"sf54\",\"sf148\",\"sf109\",\"sf7\",\"sf33\",\"sf182\",\"sf41\",\"sf57\",\"sf155\",\"sf577\",\"sf80\",\"sf60\",\"sf64\",\"sf138\",\"sf186\",\"sf71\",\"sf17\",\"sf93\",\"sf211\",\"sf185\",\"sf277\",\"sf121\",\"sf135\",\"sf142\",\"sf11\",\"sf16\"],\"xaxis\":\"x\",\"y\":[84,83,77,58,57,56,53,49,40,39,30,27,27,26,25,24,23,23,18,18,16,16,15,15,15,14,13,13,13,12,11,11,11,10,10,10,10,10,10],\"yaxis\":\"y\",\"type\":\"bar\"}],                        {\"template\":{\"data\":{\"barpolar\":[{\"marker\":{\"line\":{\"color\":\"white\",\"width\":0.5},\"pattern\":{\"fillmode\":\"overlay\",\"size\":10,\"solidity\":0.2}},\"type\":\"barpolar\"}],\"bar\":[{\"error_x\":{\"color\":\"#2a3f5f\"},\"error_y\":{\"color\":\"#2a3f5f\"},\"marker\":{\"line\":{\"color\":\"white\",\"width\":0.5},\"pattern\":{\"fillmode\":\"overlay\",\"size\":10,\"solidity\":0.2}},\"type\":\"bar\"}],\"carpet\":[{\"aaxis\":{\"endlinecolor\":\"#2a3f5f\",\"gridcolor\":\"#C8D4E3\",\"linecolor\":\"#C8D4E3\",\"minorgridcolor\":\"#C8D4E3\",\"startlinecolor\":\"#2a3f5f\"},\"baxis\":{\"endlinecolor\":\"#2a3f5f\",\"gridcolor\":\"#C8D4E3\",\"linecolor\":\"#C8D4E3\",\"minorgridcolor\":\"#C8D4E3\",\"startlinecolor\":\"#2a3f5f\"},\"type\":\"carpet\"}],\"choropleth\":[{\"colorbar\":{\"outlinewidth\":0,\"ticks\":\"\"},\"type\":\"choropleth\"}],\"contourcarpet\":[{\"colorbar\":{\"outlinewidth\":0,\"ticks\":\"\"},\"type\":\"contourcarpet\"}],\"contour\":[{\"colorbar\":{\"outlinewidth\":0,\"ticks\":\"\"},\"colorscale\":[[0.0,\"#0d0887\"],[0.1111111111111111,\"#46039f\"],[0.2222222222222222,\"#7201a8\"],[0.3333333333333333,\"#9c179e\"],[0.4444444444444444,\"#bd3786\"],[0.5555555555555556,\"#d8576b\"],[0.6666666666666666,\"#ed7953\"],[0.7777777777777778,\"#fb9f3a\"],[0.8888888888888888,\"#fdca26\"],[1.0,\"#f0f921\"]],\"type\":\"contour\"}],\"heatmapgl\":[{\"colorbar\":{\"outlinewidth\":0,\"ticks\":\"\"},\"colorscale\":[[0.0,\"#0d0887\"],[0.1111111111111111,\"#46039f\"],[0.2222222222222222,\"#7201a8\"],[0.3333333333333333,\"#9c179e\"],[0.4444444444444444,\"#bd3786\"],[0.5555555555555556,\"#d8576b\"],[0.6666666666666666,\"#ed7953\"],[0.7777777777777778,\"#fb9f3a\"],[0.8888888888888888,\"#fdca26\"],[1.0,\"#f0f921\"]],\"type\":\"heatmapgl\"}],\"heatmap\":[{\"colorbar\":{\"outlinewidth\":0,\"ticks\":\"\"},\"colorscale\":[[0.0,\"#0d0887\"],[0.1111111111111111,\"#46039f\"],[0.2222222222222222,\"#7201a8\"],[0.3333333333333333,\"#9c179e\"],[0.4444444444444444,\"#bd3786\"],[0.5555555555555556,\"#d8576b\"],[0.6666666666666666,\"#ed7953\"],[0.7777777777777778,\"#fb9f3a\"],[0.8888888888888888,\"#fdca26\"],[1.0,\"#f0f921\"]],\"type\":\"heatmap\"}],\"histogram2dcontour\":[{\"colorbar\":{\"outlinewidth\":0,\"ticks\":\"\"},\"colorscale\":[[0.0,\"#0d0887\"],[0.1111111111111111,\"#46039f\"],[0.2222222222222222,\"#7201a8\"],[0.3333333333333333,\"#9c179e\"],[0.4444444444444444,\"#bd3786\"],[0.5555555555555556,\"#d8576b\"],[0.6666666666666666,\"#ed7953\"],[0.7777777777777778,\"#fb9f3a\"],[0.8888888888888888,\"#fdca26\"],[1.0,\"#f0f921\"]],\"type\":\"histogram2dcontour\"}],\"histogram2d\":[{\"colorbar\":{\"outlinewidth\":0,\"ticks\":\"\"},\"colorscale\":[[0.0,\"#0d0887\"],[0.1111111111111111,\"#46039f\"],[0.2222222222222222,\"#7201a8\"],[0.3333333333333333,\"#9c179e\"],[0.4444444444444444,\"#bd3786\"],[0.5555555555555556,\"#d8576b\"],[0.6666666666666666,\"#ed7953\"],[0.7777777777777778,\"#fb9f3a\"],[0.8888888888888888,\"#fdca26\"],[1.0,\"#f0f921\"]],\"type\":\"histogram2d\"}],\"histogram\":[{\"marker\":{\"pattern\":{\"fillmode\":\"overlay\",\"size\":10,\"solidity\":0.2}},\"type\":\"histogram\"}],\"mesh3d\":[{\"colorbar\":{\"outlinewidth\":0,\"ticks\":\"\"},\"type\":\"mesh3d\"}],\"parcoords\":[{\"line\":{\"colorbar\":{\"outlinewidth\":0,\"ticks\":\"\"}},\"type\":\"parcoords\"}],\"pie\":[{\"automargin\":true,\"type\":\"pie\"}],\"scatter3d\":[{\"line\":{\"colorbar\":{\"outlinewidth\":0,\"ticks\":\"\"}},\"marker\":{\"colorbar\":{\"outlinewidth\":0,\"ticks\":\"\"}},\"type\":\"scatter3d\"}],\"scattercarpet\":[{\"marker\":{\"colorbar\":{\"outlinewidth\":0,\"ticks\":\"\"}},\"type\":\"scattercarpet\"}],\"scattergeo\":[{\"marker\":{\"colorbar\":{\"outlinewidth\":0,\"ticks\":\"\"}},\"type\":\"scattergeo\"}],\"scattergl\":[{\"marker\":{\"colorbar\":{\"outlinewidth\":0,\"ticks\":\"\"}},\"type\":\"scattergl\"}],\"scattermapbox\":[{\"marker\":{\"colorbar\":{\"outlinewidth\":0,\"ticks\":\"\"}},\"type\":\"scattermapbox\"}],\"scatterpolargl\":[{\"marker\":{\"colorbar\":{\"outlinewidth\":0,\"ticks\":\"\"}},\"type\":\"scatterpolargl\"}],\"scatterpolar\":[{\"marker\":{\"colorbar\":{\"outlinewidth\":0,\"ticks\":\"\"}},\"type\":\"scatterpolar\"}],\"scatter\":[{\"fillpattern\":{\"fillmode\":\"overlay\",\"size\":10,\"solidity\":0.2},\"type\":\"scatter\"}],\"scatterternary\":[{\"marker\":{\"colorbar\":{\"outlinewidth\":0,\"ticks\":\"\"}},\"type\":\"scatterternary\"}],\"surface\":[{\"colorbar\":{\"outlinewidth\":0,\"ticks\":\"\"},\"colorscale\":[[0.0,\"#0d0887\"],[0.1111111111111111,\"#46039f\"],[0.2222222222222222,\"#7201a8\"],[0.3333333333333333,\"#9c179e\"],[0.4444444444444444,\"#bd3786\"],[0.5555555555555556,\"#d8576b\"],[0.6666666666666666,\"#ed7953\"],[0.7777777777777778,\"#fb9f3a\"],[0.8888888888888888,\"#fdca26\"],[1.0,\"#f0f921\"]],\"type\":\"surface\"}],\"table\":[{\"cells\":{\"fill\":{\"color\":\"#EBF0F8\"},\"line\":{\"color\":\"white\"}},\"header\":{\"fill\":{\"color\":\"#C8D4E3\"},\"line\":{\"color\":\"white\"}},\"type\":\"table\"}]},\"layout\":{\"annotationdefaults\":{\"arrowcolor\":\"#2a3f5f\",\"arrowhead\":0,\"arrowwidth\":1},\"autotypenumbers\":\"strict\",\"coloraxis\":{\"colorbar\":{\"outlinewidth\":0,\"ticks\":\"\"}},\"colorscale\":{\"diverging\":[[0,\"#8e0152\"],[0.1,\"#c51b7d\"],[0.2,\"#de77ae\"],[0.3,\"#f1b6da\"],[0.4,\"#fde0ef\"],[0.5,\"#f7f7f7\"],[0.6,\"#e6f5d0\"],[0.7,\"#b8e186\"],[0.8,\"#7fbc41\"],[0.9,\"#4d9221\"],[1,\"#276419\"]],\"sequential\":[[0.0,\"#0d0887\"],[0.1111111111111111,\"#46039f\"],[0.2222222222222222,\"#7201a8\"],[0.3333333333333333,\"#9c179e\"],[0.4444444444444444,\"#bd3786\"],[0.5555555555555556,\"#d8576b\"],[0.6666666666666666,\"#ed7953\"],[0.7777777777777778,\"#fb9f3a\"],[0.8888888888888888,\"#fdca26\"],[1.0,\"#f0f921\"]],\"sequentialminus\":[[0.0,\"#0d0887\"],[0.1111111111111111,\"#46039f\"],[0.2222222222222222,\"#7201a8\"],[0.3333333333333333,\"#9c179e\"],[0.4444444444444444,\"#bd3786\"],[0.5555555555555556,\"#d8576b\"],[0.6666666666666666,\"#ed7953\"],[0.7777777777777778,\"#fb9f3a\"],[0.8888888888888888,\"#fdca26\"],[1.0,\"#f0f921\"]]},\"colorway\":[\"#636efa\",\"#EF553B\",\"#00cc96\",\"#ab63fa\",\"#FFA15A\",\"#19d3f3\",\"#FF6692\",\"#B6E880\",\"#FF97FF\",\"#FECB52\"],\"font\":{\"color\":\"#2a3f5f\"},\"geo\":{\"bgcolor\":\"white\",\"lakecolor\":\"white\",\"landcolor\":\"white\",\"showlakes\":true,\"showland\":true,\"subunitcolor\":\"#C8D4E3\"},\"hoverlabel\":{\"align\":\"left\"},\"hovermode\":\"closest\",\"mapbox\":{\"style\":\"light\"},\"paper_bgcolor\":\"white\",\"plot_bgcolor\":\"white\",\"polar\":{\"angularaxis\":{\"gridcolor\":\"#EBF0F8\",\"linecolor\":\"#EBF0F8\",\"ticks\":\"\"},\"bgcolor\":\"white\",\"radialaxis\":{\"gridcolor\":\"#EBF0F8\",\"linecolor\":\"#EBF0F8\",\"ticks\":\"\"}},\"scene\":{\"xaxis\":{\"backgroundcolor\":\"white\",\"gridcolor\":\"#DFE8F3\",\"gridwidth\":2,\"linecolor\":\"#EBF0F8\",\"showbackground\":true,\"ticks\":\"\",\"zerolinecolor\":\"#EBF0F8\"},\"yaxis\":{\"backgroundcolor\":\"white\",\"gridcolor\":\"#DFE8F3\",\"gridwidth\":2,\"linecolor\":\"#EBF0F8\",\"showbackground\":true,\"ticks\":\"\",\"zerolinecolor\":\"#EBF0F8\"},\"zaxis\":{\"backgroundcolor\":\"white\",\"gridcolor\":\"#DFE8F3\",\"gridwidth\":2,\"linecolor\":\"#EBF0F8\",\"showbackground\":true,\"ticks\":\"\",\"zerolinecolor\":\"#EBF0F8\"}},\"shapedefaults\":{\"line\":{\"color\":\"#2a3f5f\"}},\"ternary\":{\"aaxis\":{\"gridcolor\":\"#DFE8F3\",\"linecolor\":\"#A2B1C6\",\"ticks\":\"\"},\"baxis\":{\"gridcolor\":\"#DFE8F3\",\"linecolor\":\"#A2B1C6\",\"ticks\":\"\"},\"bgcolor\":\"white\",\"caxis\":{\"gridcolor\":\"#DFE8F3\",\"linecolor\":\"#A2B1C6\",\"ticks\":\"\"}},\"title\":{\"x\":0.05},\"xaxis\":{\"automargin\":true,\"gridcolor\":\"#EBF0F8\",\"linecolor\":\"#EBF0F8\",\"ticks\":\"\",\"title\":{\"standoff\":15},\"zerolinecolor\":\"#EBF0F8\",\"zerolinewidth\":2},\"yaxis\":{\"automargin\":true,\"gridcolor\":\"#EBF0F8\",\"linecolor\":\"#EBF0F8\",\"ticks\":\"\",\"title\":{\"standoff\":15},\"zerolinecolor\":\"#EBF0F8\",\"zerolinewidth\":2}}},\"xaxis\":{\"anchor\":\"y\",\"domain\":[0.0,1.0],\"title\":{\"text\":\"Super Family ID\"},\"tickangle\":45},\"yaxis\":{\"anchor\":\"x\",\"domain\":[0.0,1.0],\"title\":{\"text\":\"Number of Proteins\"}},\"legend\":{\"tracegroupgap\":0},\"title\":{\"text\":\"Protein Count per Superfamily\"},\"barmode\":\"relative\",\"font\":{\"family\":\"Arial\",\"size\":12,\"color\":\"black\"},\"showlegend\":false},                        {\"responsive\": true}                    ).then(function(){\n",
       "                            \n",
       "var gd = document.getElementById('82041431-9cf2-4cdd-804f-6234a21c7f7d');\n",
       "var x = new MutationObserver(function (mutations, observer) {{\n",
       "        var display = window.getComputedStyle(gd).display;\n",
       "        if (!display || display === 'none') {{\n",
       "            console.log([gd, 'removed!']);\n",
       "            Plotly.purge(gd);\n",
       "            observer.disconnect();\n",
       "        }}\n",
       "}});\n",
       "\n",
       "// Listen for the removal of the full notebook cells\n",
       "var notebookContainer = gd.closest('#notebook-container');\n",
       "if (notebookContainer) {{\n",
       "    x.observe(notebookContainer, {childList: true});\n",
       "}}\n",
       "\n",
       "// Listen for the clearing of the current output cell\n",
       "var outputEl = gd.closest('.output');\n",
       "if (outputEl) {{\n",
       "    x.observe(outputEl, {childList: true});\n",
       "}}\n",
       "\n",
       "                        })                };                });            </script>        </div>"
      ]
     },
     "metadata": {},
     "output_type": "display_data"
    }
   ],
   "source": [
    "family_counts = filtered_df[\"superfamily_id\"].value_counts().reset_index()\n",
    "family_counts.columns = [\"Super Family ID\", \"Protein Count\"]\n",
    "\n",
    "# Plot the bar chart\n",
    "fig = px.bar(\n",
    "    family_counts,\n",
    "    x=\"Super Family ID\",\n",
    "    y=\"Protein Count\",\n",
    "    title=\"Protein Count per Superfamily\",\n",
    "    labels={\"Family ID\": \"Super Family ID\", \"Protein Count\": \"Number of Proteins\"},\n",
    "    template=\"plotly_white\",\n",
    ")\n",
    "\n",
    "# Customize layout\n",
    "fig.update_layout(\n",
    "    font=dict(family=\"Arial\", size=12, color=\"black\"),\n",
    "    xaxis=dict(tickangle=45),\n",
    "    showlegend=False,\n",
    ")\n",
    "\n",
    "# Display the plot\n",
    "fig.show()"
   ]
  },
  {
   "cell_type": "code",
   "execution_count": 297,
   "metadata": {},
   "outputs": [],
   "source": [
    "filtered_df.to_csv(\"opm_subset_metadata.csv\", index = False)"
   ]
  },
  {
   "cell_type": "code",
   "execution_count": null,
   "metadata": {},
   "outputs": [],
   "source": [
    "fig = px.histogram(filtered_df, x=\"\")"
   ]
  },
  {
   "cell_type": "code",
   "execution_count": 278,
   "metadata": {},
   "outputs": [
    {
     "data": {
      "text/plain": [
       "(3002, 11)"
      ]
     },
     "execution_count": 278,
     "metadata": {},
     "output_type": "execute_result"
    }
   ],
   "source": [
    "df_final.shape"
   ]
  },
  {
   "cell_type": "code",
   "execution_count": 269,
   "metadata": {},
   "outputs": [
    {
     "name": "stdout",
     "output_type": "stream",
     "text": [
      "Empty DataFrame\n",
      "Columns: [uniprotcode, family_name_cache, species_name_cache, membrane_name_cache, species_id, family_id, superfamily_id, classtype_id, type_id, sequence_length, sequence_length_bin]\n",
      "Index: []\n"
     ]
    }
   ],
   "source": [
    "def subset_proteins_by_superfamilies(df, superfamily_col, family_col, limit_families=15, select_superfamilies=10):\n",
    "    \"\"\"\n",
    "    Subsets proteins to include only those from a limited number of superfamilies\n",
    "    where each superfamily has at most a given number of families.\n",
    "\n",
    "    Args:\n",
    "        df (pd.DataFrame): DataFrame containing protein information.\n",
    "        superfamily_col (str): Column name for superfamily IDs.\n",
    "        family_col (str): Column name for family IDs.\n",
    "        limit_families (int): Maximum number of families per superfamily.\n",
    "        select_superfamilies (int): Number of superfamilies to select.\n",
    "\n",
    "    Returns:\n",
    "        pd.DataFrame: Subset of the original DataFrame.\n",
    "    \"\"\"\n",
    "    # Count families in each superfamily\n",
    "    family_counts = df.groupby(superfamily_col)[family_col].nunique()\n",
    "    \n",
    "    # Filter superfamilies with <= limit_families\n",
    "    eligible_superfamilies = family_counts[family_counts <= limit_families].index\n",
    "    \n",
    "    # Select up to `select_superfamilies` superfamilies\n",
    "    selected_superfamilies = eligible_superfamilies[:select_superfamilies]\n",
    "    \n",
    "    # Subset DataFrame\n",
    "    subset_df = df[df[superfamily_col].isin(selected_superfamilies)]\n",
    "    return subset_df\n",
    "\n",
    "# Example usage\n",
    "# Assuming your DataFrame is named df_proteins\n",
    "subset_df = subset_proteins_by_superfamilies(\n",
    "    df=df_filtered,\n",
    "    superfamily_col=\"superfamily_id\",\n",
    "    family_col=\"family_id\",\n",
    "    limit_families=15,\n",
    "    select_superfamilies=3\n",
    ")\n",
    "print(subset_df)"
   ]
  },
  {
   "cell_type": "code",
   "execution_count": 273,
   "metadata": {},
   "outputs": [],
   "source": [
    "eligible_superfamilies = family_counts[family_counts <= 15].index"
   ]
  },
  {
   "cell_type": "code",
   "execution_count": 275,
   "metadata": {},
   "outputs": [
    {
     "data": {
      "text/plain": [
       "890"
      ]
     },
     "execution_count": 275,
     "metadata": {},
     "output_type": "execute_result"
    }
   ],
   "source": [
    "len(eligible_superfamilies)"
   ]
  },
  {
   "cell_type": "code",
   "execution_count": null,
   "metadata": {},
   "outputs": [],
   "source": []
  }
 ],
 "metadata": {
  "kernelspec": {
   "display_name": "jupyter",
   "language": "python",
   "name": "python3"
  },
  "language_info": {
   "codemirror_mode": {
    "name": "ipython",
    "version": 3
   },
   "file_extension": ".py",
   "mimetype": "text/x-python",
   "name": "python",
   "nbconvert_exporter": "python",
   "pygments_lexer": "ipython3",
   "version": "3.8.19"
  }
 },
 "nbformat": 4,
 "nbformat_minor": 2
}
