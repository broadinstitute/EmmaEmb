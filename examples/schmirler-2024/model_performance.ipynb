{
 "cells": [
  {
   "cell_type": "code",
   "execution_count": 86,
   "metadata": {},
   "outputs": [],
   "source": [
    "import pandas as pd\n",
    "import plotly.express as px\n",
    "import numpy as np"
   ]
  },
  {
   "cell_type": "code",
   "execution_count": 38,
   "metadata": {},
   "outputs": [],
   "source": [
    "fp_s1 = 'sup_data_s1.xlsx'\n",
    "fp_s2 = 'sup_data_s2.csv'"
   ]
  },
  {
   "cell_type": "code",
   "execution_count": 37,
   "metadata": {},
   "outputs": [],
   "source": [
    "s1 = pd.read_excel(fp_s1)"
   ]
  },
  {
   "cell_type": "code",
   "execution_count": 61,
   "metadata": {},
   "outputs": [],
   "source": [
    "s2 = pd.DataFrame()\n",
    "\n",
    "rows = []\n",
    "\n",
    "with open(fp_s2, 'r') as f:\n",
    "    lines = f.readlines()\n",
    "    header = lines[0].strip().split(';')\n",
    "    data_lines = lines[1:]\n",
    "    for line in data_lines:\n",
    "        content = line.strip().split(';')\n",
    "        #print(content)\n",
    "        for idx in range(0, len(content)):\n",
    "            if \",\" in content[idx]:\n",
    "                # replace , with .\n",
    "                content[idx] = content[idx].replace(\",\", \".\") + \"%\"\n",
    "        # append line to s2 dataframe\n",
    "        rows.append(content)\n",
    "s2 = pd.DataFrame(rows, columns=header)\n",
    "s2 = s2.dropna(how='all').reset_index(drop=True)\n"
   ]
  },
  {
   "cell_type": "code",
   "execution_count": 66,
   "metadata": {},
   "outputs": [
    {
     "data": {
      "text/html": [
       "<div>\n",
       "<style scoped>\n",
       "    .dataframe tbody tr th:only-of-type {\n",
       "        vertical-align: middle;\n",
       "    }\n",
       "\n",
       "    .dataframe tbody tr th {\n",
       "        vertical-align: top;\n",
       "    }\n",
       "\n",
       "    .dataframe thead th {\n",
       "        text-align: right;\n",
       "    }\n",
       "</style>\n",
       "<table border=\"1\" class=\"dataframe\">\n",
       "  <thead>\n",
       "    <tr style=\"text-align: right;\">\n",
       "      <th></th>\n",
       "      <th>﻿Model</th>\n",
       "      <th>fine_tuning</th>\n",
       "      <th>Random_seed</th>\n",
       "      <th>GFP</th>\n",
       "      <th>AAV</th>\n",
       "      <th>GB</th>\n",
       "      <th>Staub</th>\n",
       "      <th>Melt</th>\n",
       "      <th>SubLoc</th>\n",
       "      <th>Dis</th>\n",
       "      <th>SecStr</th>\n",
       "    </tr>\n",
       "  </thead>\n",
       "  <tbody>\n",
       "    <tr>\n",
       "      <th>0</th>\n",
       "      <td>ESM2 8M</td>\n",
       "      <td>full_model</td>\n",
       "      <td>99</td>\n",
       "      <td>68.6%</td>\n",
       "      <td>82.5%</td>\n",
       "      <td>89.1%</td>\n",
       "      <td>77.3%</td>\n",
       "      <td>58.1%</td>\n",
       "      <td>54.5%</td>\n",
       "      <td>71.0%</td>\n",
       "      <td>76.2%</td>\n",
       "    </tr>\n",
       "    <tr>\n",
       "      <th>1</th>\n",
       "      <td>ESM2 8M</td>\n",
       "      <td>full_model</td>\n",
       "      <td>98</td>\n",
       "      <td>68.9%</td>\n",
       "      <td>84.9%</td>\n",
       "      <td>88.2%</td>\n",
       "      <td>74.6%</td>\n",
       "      <td>58.5%</td>\n",
       "      <td>57.1%</td>\n",
       "      <td>71.6%</td>\n",
       "      <td>76.2%</td>\n",
       "    </tr>\n",
       "    <tr>\n",
       "      <th>2</th>\n",
       "      <td>ESM2 8M</td>\n",
       "      <td>full_model</td>\n",
       "      <td>97</td>\n",
       "      <td>69.1%</td>\n",
       "      <td>80.6%</td>\n",
       "      <td>87.5%</td>\n",
       "      <td>77.8%</td>\n",
       "      <td>58.8%</td>\n",
       "      <td>55.9%</td>\n",
       "      <td>71.8%</td>\n",
       "      <td>76.0%</td>\n",
       "    </tr>\n",
       "    <tr>\n",
       "      <th>3</th>\n",
       "      <td>ESM2 35M</td>\n",
       "      <td>full_model</td>\n",
       "      <td>99</td>\n",
       "      <td>69.2%</td>\n",
       "      <td>77.6%</td>\n",
       "      <td>87.4%</td>\n",
       "      <td>76.6%</td>\n",
       "      <td>58.2%</td>\n",
       "      <td>59.0%</td>\n",
       "      <td>72.7%</td>\n",
       "      <td>79.1%</td>\n",
       "    </tr>\n",
       "    <tr>\n",
       "      <th>4</th>\n",
       "      <td>ESM2 35M</td>\n",
       "      <td>full_model</td>\n",
       "      <td>98</td>\n",
       "      <td>68.7%</td>\n",
       "      <td>81.8%</td>\n",
       "      <td>88.1%</td>\n",
       "      <td>77.4%</td>\n",
       "      <td>59.0%</td>\n",
       "      <td>56.5%</td>\n",
       "      <td>74.3%</td>\n",
       "      <td>79.1%</td>\n",
       "    </tr>\n",
       "    <tr>\n",
       "      <th>5</th>\n",
       "      <td>ESM2 35M</td>\n",
       "      <td>full_model</td>\n",
       "      <td>97</td>\n",
       "      <td>68.9%</td>\n",
       "      <td>83.1%</td>\n",
       "      <td>88.2%</td>\n",
       "      <td>76.7%</td>\n",
       "      <td>62.3%</td>\n",
       "      <td>58.8%</td>\n",
       "      <td>73.1%</td>\n",
       "      <td>79.2%</td>\n",
       "    </tr>\n",
       "    <tr>\n",
       "      <th>6</th>\n",
       "      <td>ESM2 150M</td>\n",
       "      <td>full_model</td>\n",
       "      <td>99</td>\n",
       "      <td>69.3%</td>\n",
       "      <td>84.8%</td>\n",
       "      <td>87.8%</td>\n",
       "      <td>74.0%</td>\n",
       "      <td>63.8%</td>\n",
       "      <td>60.6%</td>\n",
       "      <td>74.8%</td>\n",
       "      <td>82.7%</td>\n",
       "    </tr>\n",
       "    <tr>\n",
       "      <th>7</th>\n",
       "      <td>ESM2 150M</td>\n",
       "      <td>full_model</td>\n",
       "      <td>98</td>\n",
       "      <td>68.9%</td>\n",
       "      <td>70.1%</td>\n",
       "      <td>87.8%</td>\n",
       "      <td>74.1%</td>\n",
       "      <td>62.6%</td>\n",
       "      <td>61.4%</td>\n",
       "      <td>72.9%</td>\n",
       "      <td>82.9%</td>\n",
       "    </tr>\n",
       "    <tr>\n",
       "      <th>8</th>\n",
       "      <td>ESM2 150M</td>\n",
       "      <td>full_model</td>\n",
       "      <td>97</td>\n",
       "      <td>69.0%</td>\n",
       "      <td>84.8%</td>\n",
       "      <td>88.1%</td>\n",
       "      <td>62.6%</td>\n",
       "      <td>61.5%</td>\n",
       "      <td>62.7%</td>\n",
       "      <td>74.4%</td>\n",
       "      <td>82.8%</td>\n",
       "    </tr>\n",
       "    <tr>\n",
       "      <th>9</th>\n",
       "      <td>ESM2 150M</td>\n",
       "      <td>full_model</td>\n",
       "      <td>96</td>\n",
       "      <td>-</td>\n",
       "      <td>84.2%</td>\n",
       "      <td>-</td>\n",
       "      <td>-</td>\n",
       "      <td>-</td>\n",
       "      <td>-</td>\n",
       "      <td>-</td>\n",
       "      <td>-</td>\n",
       "    </tr>\n",
       "    <tr>\n",
       "      <th>10</th>\n",
       "      <td>ESM2 650M</td>\n",
       "      <td>full_model</td>\n",
       "      <td>99</td>\n",
       "      <td>68.8%</td>\n",
       "      <td>78.1%</td>\n",
       "      <td>87.1%</td>\n",
       "      <td>69.8%</td>\n",
       "      <td>66.1%</td>\n",
       "      <td>65.1%</td>\n",
       "      <td>72.0%</td>\n",
       "      <td>85.5%</td>\n",
       "    </tr>\n",
       "    <tr>\n",
       "      <th>11</th>\n",
       "      <td>ESM2 650M</td>\n",
       "      <td>full_model</td>\n",
       "      <td>98</td>\n",
       "      <td>69.2%</td>\n",
       "      <td>80.7%</td>\n",
       "      <td>88.6%</td>\n",
       "      <td>78.5%</td>\n",
       "      <td>67.8%</td>\n",
       "      <td>63.5%</td>\n",
       "      <td>72.4%</td>\n",
       "      <td>85.5%</td>\n",
       "    </tr>\n",
       "    <tr>\n",
       "      <th>12</th>\n",
       "      <td>ESM2 650M</td>\n",
       "      <td>full_model</td>\n",
       "      <td>97</td>\n",
       "      <td>68.5%</td>\n",
       "      <td>76.2%</td>\n",
       "      <td>88.1%</td>\n",
       "      <td>74.5%</td>\n",
       "      <td>65.3%</td>\n",
       "      <td>62.9%</td>\n",
       "      <td>71.6%</td>\n",
       "      <td>85.5%</td>\n",
       "    </tr>\n",
       "    <tr>\n",
       "      <th>13</th>\n",
       "      <td>ESM2 8M</td>\n",
       "      <td>LoRA</td>\n",
       "      <td>99</td>\n",
       "      <td>69.20%%</td>\n",
       "      <td>80.70%%</td>\n",
       "      <td>85.40%%</td>\n",
       "      <td>77.00%%</td>\n",
       "      <td>54.70%%</td>\n",
       "      <td>55.50%%</td>\n",
       "      <td>66.00%%</td>\n",
       "      <td>75.90%%</td>\n",
       "    </tr>\n",
       "    <tr>\n",
       "      <th>14</th>\n",
       "      <td>ESM2 8M</td>\n",
       "      <td>LoRA</td>\n",
       "      <td>98</td>\n",
       "      <td>69.00%%</td>\n",
       "      <td>77.40%%</td>\n",
       "      <td>83.80%%</td>\n",
       "      <td>81.30%%</td>\n",
       "      <td>59.10%%</td>\n",
       "      <td>56.10%%</td>\n",
       "      <td>66.10%%</td>\n",
       "      <td>76.00%%</td>\n",
       "    </tr>\n",
       "    <tr>\n",
       "      <th>15</th>\n",
       "      <td>ESM2 8M</td>\n",
       "      <td>LoRA</td>\n",
       "      <td>97</td>\n",
       "      <td>69.40%%</td>\n",
       "      <td>81.30%%</td>\n",
       "      <td>84.70%%</td>\n",
       "      <td>72.00%%</td>\n",
       "      <td>57.80%%</td>\n",
       "      <td>54.50%%</td>\n",
       "      <td>68.30%%</td>\n",
       "      <td>75.80%%</td>\n",
       "    </tr>\n",
       "    <tr>\n",
       "      <th>16</th>\n",
       "      <td>ESM2 35M</td>\n",
       "      <td>LoRA</td>\n",
       "      <td>99</td>\n",
       "      <td>69.40%%</td>\n",
       "      <td>77.40%%</td>\n",
       "      <td>87.70%%</td>\n",
       "      <td>75.10%%</td>\n",
       "      <td>59.30%%</td>\n",
       "      <td>58.20%%</td>\n",
       "      <td>68.00%%</td>\n",
       "      <td>78.90%%</td>\n",
       "    </tr>\n",
       "    <tr>\n",
       "      <th>17</th>\n",
       "      <td>ESM2 35M</td>\n",
       "      <td>LoRA</td>\n",
       "      <td>98</td>\n",
       "      <td>69.20%%</td>\n",
       "      <td>81.70%%</td>\n",
       "      <td>86.60%%</td>\n",
       "      <td>76.80%%</td>\n",
       "      <td>57.80%%</td>\n",
       "      <td>57.60%%</td>\n",
       "      <td>69.40%%</td>\n",
       "      <td>78.80%%</td>\n",
       "    </tr>\n",
       "    <tr>\n",
       "      <th>18</th>\n",
       "      <td>ESM2 35M</td>\n",
       "      <td>LoRA</td>\n",
       "      <td>97</td>\n",
       "      <td>69.10%%</td>\n",
       "      <td>82.50%%</td>\n",
       "      <td>86.60%%</td>\n",
       "      <td>75.80%%</td>\n",
       "      <td>57.20%%</td>\n",
       "      <td>56.50%%</td>\n",
       "      <td>68.50%%</td>\n",
       "      <td>78.70%%</td>\n",
       "    </tr>\n",
       "    <tr>\n",
       "      <th>19</th>\n",
       "      <td>ESM2 650M</td>\n",
       "      <td>LoRA</td>\n",
       "      <td>99</td>\n",
       "      <td>69.60%%</td>\n",
       "      <td>84.60%%</td>\n",
       "      <td>88.20%%</td>\n",
       "      <td>74.90%%</td>\n",
       "      <td>60.60%%</td>\n",
       "      <td>63.30%%</td>\n",
       "      <td>67.70%%</td>\n",
       "      <td>82.50%%</td>\n",
       "    </tr>\n",
       "    <tr>\n",
       "      <th>20</th>\n",
       "      <td>ESM2 650M</td>\n",
       "      <td>LoRA</td>\n",
       "      <td>98</td>\n",
       "      <td>69.60%%</td>\n",
       "      <td>80.70%%</td>\n",
       "      <td>86.80%%</td>\n",
       "      <td>79.90%%</td>\n",
       "      <td>59.00%%</td>\n",
       "      <td>59.60%%</td>\n",
       "      <td>70.60%%</td>\n",
       "      <td>82.50%%</td>\n",
       "    </tr>\n",
       "    <tr>\n",
       "      <th>21</th>\n",
       "      <td>ESM2 650M</td>\n",
       "      <td>LoRA</td>\n",
       "      <td>97</td>\n",
       "      <td>69.30%%</td>\n",
       "      <td>85.00%%</td>\n",
       "      <td>87.30%%</td>\n",
       "      <td>79.90%%</td>\n",
       "      <td>60.80%%</td>\n",
       "      <td>59.80%%</td>\n",
       "      <td>69.70%%</td>\n",
       "      <td>82.40%%</td>\n",
       "    </tr>\n",
       "    <tr>\n",
       "      <th>22</th>\n",
       "      <td>ESM2 3B</td>\n",
       "      <td>LoRA</td>\n",
       "      <td>99</td>\n",
       "      <td>69.10%%</td>\n",
       "      <td>78.60%%</td>\n",
       "      <td>88.00%%</td>\n",
       "      <td>82.80%%</td>\n",
       "      <td>61.70%%</td>\n",
       "      <td>63.90%%</td>\n",
       "      <td>71.10%%</td>\n",
       "      <td>85.60%%</td>\n",
       "    </tr>\n",
       "    <tr>\n",
       "      <th>23</th>\n",
       "      <td>ESM2 3B</td>\n",
       "      <td>LoRA</td>\n",
       "      <td>98</td>\n",
       "      <td>69.20%%</td>\n",
       "      <td>84.50%%</td>\n",
       "      <td>89.00%%</td>\n",
       "      <td>85.30%%</td>\n",
       "      <td>64.00%%</td>\n",
       "      <td>63.30%%</td>\n",
       "      <td>72.30%%</td>\n",
       "      <td>85.50%%</td>\n",
       "    </tr>\n",
       "    <tr>\n",
       "      <th>24</th>\n",
       "      <td>ESM2 3B</td>\n",
       "      <td>LoRA</td>\n",
       "      <td>97</td>\n",
       "      <td>69.70%%</td>\n",
       "      <td>81.80%%</td>\n",
       "      <td>87.50%%</td>\n",
       "      <td>82.90%%</td>\n",
       "      <td>63.10%%</td>\n",
       "      <td>64.50%%</td>\n",
       "      <td>71.10%%</td>\n",
       "      <td>85.50%%</td>\n",
       "    </tr>\n",
       "    <tr>\n",
       "      <th>25</th>\n",
       "      <td>ProtT5</td>\n",
       "      <td>LoRA</td>\n",
       "      <td>99</td>\n",
       "      <td>69.90%%</td>\n",
       "      <td>85.40%%</td>\n",
       "      <td>89.30%%</td>\n",
       "      <td>84.10%%</td>\n",
       "      <td>71.10%%</td>\n",
       "      <td>68.20%%</td>\n",
       "      <td>71.90%%</td>\n",
       "      <td>86.40%%</td>\n",
       "    </tr>\n",
       "    <tr>\n",
       "      <th>26</th>\n",
       "      <td>ProtT5</td>\n",
       "      <td>LoRA</td>\n",
       "      <td>98</td>\n",
       "      <td>70.00%%</td>\n",
       "      <td>86.60%%</td>\n",
       "      <td>88.90%%</td>\n",
       "      <td>84.50%%</td>\n",
       "      <td>68.60%%</td>\n",
       "      <td>66.90%%</td>\n",
       "      <td>70.80%%</td>\n",
       "      <td>86.40%%</td>\n",
       "    </tr>\n",
       "    <tr>\n",
       "      <th>27</th>\n",
       "      <td>ProtT5</td>\n",
       "      <td>LoRA</td>\n",
       "      <td>97</td>\n",
       "      <td>69.90%%</td>\n",
       "      <td>85.00%%</td>\n",
       "      <td>89.80%%</td>\n",
       "      <td>83.60%%</td>\n",
       "      <td>70.10%%</td>\n",
       "      <td>68.40%%</td>\n",
       "      <td>72.00%%</td>\n",
       "      <td>86.50%%</td>\n",
       "    </tr>\n",
       "    <tr>\n",
       "      <th>28</th>\n",
       "      <td>Ankh</td>\n",
       "      <td>LoRA</td>\n",
       "      <td>99</td>\n",
       "      <td>69.0%</td>\n",
       "      <td>83.0%</td>\n",
       "      <td>86.6%</td>\n",
       "      <td>77.2%</td>\n",
       "      <td>62.0%</td>\n",
       "      <td>63.1%</td>\n",
       "      <td>68.5%</td>\n",
       "      <td>84.0%</td>\n",
       "    </tr>\n",
       "    <tr>\n",
       "      <th>29</th>\n",
       "      <td>Ankh</td>\n",
       "      <td>LoRA</td>\n",
       "      <td>98</td>\n",
       "      <td>69.2%</td>\n",
       "      <td>81.4%</td>\n",
       "      <td>87.4%</td>\n",
       "      <td>83.0%</td>\n",
       "      <td>61.9%</td>\n",
       "      <td>62.7%</td>\n",
       "      <td>68.0%</td>\n",
       "      <td>84.0%</td>\n",
       "    </tr>\n",
       "    <tr>\n",
       "      <th>30</th>\n",
       "      <td>Ankh</td>\n",
       "      <td>LoRA</td>\n",
       "      <td>97</td>\n",
       "      <td>69.3%</td>\n",
       "      <td>79.6%</td>\n",
       "      <td>85.5%</td>\n",
       "      <td>82.6%</td>\n",
       "      <td>60.1%</td>\n",
       "      <td>61.8%</td>\n",
       "      <td>68.8%</td>\n",
       "      <td>83.9%</td>\n",
       "    </tr>\n",
       "    <tr>\n",
       "      <th>31</th>\n",
       "      <td>Ankh_large</td>\n",
       "      <td>LoRA</td>\n",
       "      <td>96</td>\n",
       "      <td>69.6%</td>\n",
       "      <td>84.2%</td>\n",
       "      <td>87.8%</td>\n",
       "      <td>80.4%</td>\n",
       "      <td>57.2%</td>\n",
       "      <td>61.2%</td>\n",
       "      <td>69.2%</td>\n",
       "      <td>85.8%</td>\n",
       "    </tr>\n",
       "    <tr>\n",
       "      <th>32</th>\n",
       "      <td>Ankh_large</td>\n",
       "      <td>LoRA</td>\n",
       "      <td>95</td>\n",
       "      <td>69.2%</td>\n",
       "      <td>83.6%</td>\n",
       "      <td>89.4%</td>\n",
       "      <td>82.5%</td>\n",
       "      <td>58.5%</td>\n",
       "      <td>64.1%</td>\n",
       "      <td>68.4%</td>\n",
       "      <td>85.7%</td>\n",
       "    </tr>\n",
       "    <tr>\n",
       "      <th>33</th>\n",
       "      <td>Ankh_large</td>\n",
       "      <td>LoRA</td>\n",
       "      <td>99</td>\n",
       "      <td>69.8%</td>\n",
       "      <td>86.1%</td>\n",
       "      <td>89.2%</td>\n",
       "      <td>78.2%</td>\n",
       "      <td>64.0%</td>\n",
       "      <td>63.1%</td>\n",
       "      <td>68.3%</td>\n",
       "      <td>85.6%</td>\n",
       "    </tr>\n",
       "    <tr>\n",
       "      <th>34</th>\n",
       "      <td></td>\n",
       "      <td></td>\n",
       "      <td></td>\n",
       "      <td></td>\n",
       "      <td></td>\n",
       "      <td></td>\n",
       "      <td></td>\n",
       "      <td></td>\n",
       "      <td></td>\n",
       "      <td></td>\n",
       "      <td></td>\n",
       "    </tr>\n",
       "    <tr>\n",
       "      <th>35</th>\n",
       "      <td></td>\n",
       "      <td></td>\n",
       "      <td></td>\n",
       "      <td></td>\n",
       "      <td></td>\n",
       "      <td></td>\n",
       "      <td></td>\n",
       "      <td></td>\n",
       "      <td></td>\n",
       "      <td></td>\n",
       "      <td></td>\n",
       "    </tr>\n",
       "    <tr>\n",
       "      <th>36</th>\n",
       "      <td></td>\n",
       "      <td></td>\n",
       "      <td></td>\n",
       "      <td></td>\n",
       "      <td></td>\n",
       "      <td></td>\n",
       "      <td></td>\n",
       "      <td></td>\n",
       "      <td></td>\n",
       "      <td></td>\n",
       "      <td></td>\n",
       "    </tr>\n",
       "    <tr>\n",
       "      <th>37</th>\n",
       "      <td></td>\n",
       "      <td></td>\n",
       "      <td></td>\n",
       "      <td></td>\n",
       "      <td></td>\n",
       "      <td></td>\n",
       "      <td></td>\n",
       "      <td></td>\n",
       "      <td></td>\n",
       "      <td></td>\n",
       "      <td></td>\n",
       "    </tr>\n",
       "    <tr>\n",
       "      <th>38</th>\n",
       "      <td></td>\n",
       "      <td></td>\n",
       "      <td></td>\n",
       "      <td></td>\n",
       "      <td></td>\n",
       "      <td></td>\n",
       "      <td></td>\n",
       "      <td></td>\n",
       "      <td></td>\n",
       "      <td></td>\n",
       "      <td></td>\n",
       "    </tr>\n",
       "  </tbody>\n",
       "</table>\n",
       "</div>"
      ],
      "text/plain": [
       "        ﻿Model fine_tuning Random_seed      GFP      AAV       GB    Staub  \\\n",
       "0      ESM2 8M  full_model          99    68.6%    82.5%    89.1%    77.3%   \n",
       "1      ESM2 8M  full_model          98    68.9%    84.9%    88.2%    74.6%   \n",
       "2      ESM2 8M  full_model          97    69.1%    80.6%    87.5%    77.8%   \n",
       "3     ESM2 35M  full_model          99    69.2%    77.6%    87.4%    76.6%   \n",
       "4     ESM2 35M  full_model          98    68.7%    81.8%    88.1%    77.4%   \n",
       "5     ESM2 35M  full_model          97    68.9%    83.1%    88.2%    76.7%   \n",
       "6    ESM2 150M  full_model          99    69.3%    84.8%    87.8%    74.0%   \n",
       "7    ESM2 150M  full_model          98    68.9%    70.1%    87.8%    74.1%   \n",
       "8    ESM2 150M  full_model          97    69.0%    84.8%    88.1%    62.6%   \n",
       "9    ESM2 150M  full_model          96        -    84.2%        -        -   \n",
       "10   ESM2 650M  full_model          99    68.8%    78.1%    87.1%    69.8%   \n",
       "11   ESM2 650M  full_model          98    69.2%    80.7%    88.6%    78.5%   \n",
       "12   ESM2 650M  full_model          97    68.5%    76.2%    88.1%    74.5%   \n",
       "13     ESM2 8M        LoRA          99  69.20%%  80.70%%  85.40%%  77.00%%   \n",
       "14     ESM2 8M        LoRA          98  69.00%%  77.40%%  83.80%%  81.30%%   \n",
       "15     ESM2 8M        LoRA          97  69.40%%  81.30%%  84.70%%  72.00%%   \n",
       "16    ESM2 35M        LoRA          99  69.40%%  77.40%%  87.70%%  75.10%%   \n",
       "17    ESM2 35M        LoRA          98  69.20%%  81.70%%  86.60%%  76.80%%   \n",
       "18    ESM2 35M        LoRA          97  69.10%%  82.50%%  86.60%%  75.80%%   \n",
       "19   ESM2 650M        LoRA          99  69.60%%  84.60%%  88.20%%  74.90%%   \n",
       "20   ESM2 650M        LoRA          98  69.60%%  80.70%%  86.80%%  79.90%%   \n",
       "21   ESM2 650M        LoRA          97  69.30%%  85.00%%  87.30%%  79.90%%   \n",
       "22     ESM2 3B        LoRA          99  69.10%%  78.60%%  88.00%%  82.80%%   \n",
       "23     ESM2 3B        LoRA          98  69.20%%  84.50%%  89.00%%  85.30%%   \n",
       "24     ESM2 3B        LoRA          97  69.70%%  81.80%%  87.50%%  82.90%%   \n",
       "25      ProtT5        LoRA          99  69.90%%  85.40%%  89.30%%  84.10%%   \n",
       "26      ProtT5        LoRA          98  70.00%%  86.60%%  88.90%%  84.50%%   \n",
       "27      ProtT5        LoRA          97  69.90%%  85.00%%  89.80%%  83.60%%   \n",
       "28        Ankh        LoRA          99    69.0%    83.0%    86.6%    77.2%   \n",
       "29        Ankh        LoRA          98    69.2%    81.4%    87.4%    83.0%   \n",
       "30        Ankh        LoRA          97    69.3%    79.6%    85.5%    82.6%   \n",
       "31  Ankh_large        LoRA          96    69.6%    84.2%    87.8%    80.4%   \n",
       "32  Ankh_large        LoRA          95    69.2%    83.6%    89.4%    82.5%   \n",
       "33  Ankh_large        LoRA          99    69.8%    86.1%    89.2%    78.2%   \n",
       "34                                                                           \n",
       "35                                                                           \n",
       "36                                                                           \n",
       "37                                                                           \n",
       "38                                                                           \n",
       "\n",
       "       Melt   SubLoc      Dis   SecStr  \n",
       "0     58.1%    54.5%    71.0%    76.2%  \n",
       "1     58.5%    57.1%    71.6%    76.2%  \n",
       "2     58.8%    55.9%    71.8%    76.0%  \n",
       "3     58.2%    59.0%    72.7%    79.1%  \n",
       "4     59.0%    56.5%    74.3%    79.1%  \n",
       "5     62.3%    58.8%    73.1%    79.2%  \n",
       "6     63.8%    60.6%    74.8%    82.7%  \n",
       "7     62.6%    61.4%    72.9%    82.9%  \n",
       "8     61.5%    62.7%    74.4%    82.8%  \n",
       "9         -        -        -        -  \n",
       "10    66.1%    65.1%    72.0%    85.5%  \n",
       "11    67.8%    63.5%    72.4%    85.5%  \n",
       "12    65.3%    62.9%    71.6%    85.5%  \n",
       "13  54.70%%  55.50%%  66.00%%  75.90%%  \n",
       "14  59.10%%  56.10%%  66.10%%  76.00%%  \n",
       "15  57.80%%  54.50%%  68.30%%  75.80%%  \n",
       "16  59.30%%  58.20%%  68.00%%  78.90%%  \n",
       "17  57.80%%  57.60%%  69.40%%  78.80%%  \n",
       "18  57.20%%  56.50%%  68.50%%  78.70%%  \n",
       "19  60.60%%  63.30%%  67.70%%  82.50%%  \n",
       "20  59.00%%  59.60%%  70.60%%  82.50%%  \n",
       "21  60.80%%  59.80%%  69.70%%  82.40%%  \n",
       "22  61.70%%  63.90%%  71.10%%  85.60%%  \n",
       "23  64.00%%  63.30%%  72.30%%  85.50%%  \n",
       "24  63.10%%  64.50%%  71.10%%  85.50%%  \n",
       "25  71.10%%  68.20%%  71.90%%  86.40%%  \n",
       "26  68.60%%  66.90%%  70.80%%  86.40%%  \n",
       "27  70.10%%  68.40%%  72.00%%  86.50%%  \n",
       "28    62.0%    63.1%    68.5%    84.0%  \n",
       "29    61.9%    62.7%    68.0%    84.0%  \n",
       "30    60.1%    61.8%    68.8%    83.9%  \n",
       "31    57.2%    61.2%    69.2%    85.8%  \n",
       "32    58.5%    64.1%    68.4%    85.7%  \n",
       "33    64.0%    63.1%    68.3%    85.6%  \n",
       "34                                      \n",
       "35                                      \n",
       "36                                      \n",
       "37                                      \n",
       "38                                      "
      ]
     },
     "execution_count": 66,
     "metadata": {},
     "output_type": "execute_result"
    }
   ],
   "source": [
    "s2"
   ]
  },
  {
   "cell_type": "code",
   "execution_count": 74,
   "metadata": {},
   "outputs": [],
   "source": [
    "# merge s1 and s2. \n",
    "\n",
    "s1['fine_tuning'] = \"embedding\"\n",
    "s2.columns = s2.columns.str.replace('\\ufeff', '', regex=False)\n",
    "s1 = s1[s2.columns]\n",
    "merged_df = pd.concat([s1, s2], ignore_index=True)"
   ]
  },
  {
   "cell_type": "code",
   "execution_count": 77,
   "metadata": {},
   "outputs": [
    {
     "data": {
      "text/html": [
       "<div>\n",
       "<style scoped>\n",
       "    .dataframe tbody tr th:only-of-type {\n",
       "        vertical-align: middle;\n",
       "    }\n",
       "\n",
       "    .dataframe tbody tr th {\n",
       "        vertical-align: top;\n",
       "    }\n",
       "\n",
       "    .dataframe thead th {\n",
       "        text-align: right;\n",
       "    }\n",
       "</style>\n",
       "<table border=\"1\" class=\"dataframe\">\n",
       "  <thead>\n",
       "    <tr style=\"text-align: right;\">\n",
       "      <th></th>\n",
       "      <th>Model</th>\n",
       "      <th>fine_tuning</th>\n",
       "      <th>Random_seed</th>\n",
       "      <th>GFP</th>\n",
       "      <th>AAV</th>\n",
       "      <th>GB</th>\n",
       "      <th>Staub</th>\n",
       "      <th>Melt</th>\n",
       "      <th>SubLoc</th>\n",
       "      <th>Dis</th>\n",
       "      <th>SecStr</th>\n",
       "    </tr>\n",
       "  </thead>\n",
       "  <tbody>\n",
       "    <tr>\n",
       "      <th>0</th>\n",
       "      <td>ESM2 8M</td>\n",
       "      <td>embedding</td>\n",
       "      <td>99</td>\n",
       "      <td>63.5%</td>\n",
       "      <td>68.2%</td>\n",
       "      <td>82.6%</td>\n",
       "      <td>71.6%</td>\n",
       "      <td>56.1%</td>\n",
       "      <td>52.0%</td>\n",
       "      <td>70.0%</td>\n",
       "      <td>75.3%</td>\n",
       "    </tr>\n",
       "    <tr>\n",
       "      <th>1</th>\n",
       "      <td>ESM2 8M</td>\n",
       "      <td>embedding</td>\n",
       "      <td>98</td>\n",
       "      <td>63.9%</td>\n",
       "      <td>66.5%</td>\n",
       "      <td>81.4%</td>\n",
       "      <td>75.6%</td>\n",
       "      <td>57.1%</td>\n",
       "      <td>53.1%</td>\n",
       "      <td>70.1%</td>\n",
       "      <td>75.2%</td>\n",
       "    </tr>\n",
       "    <tr>\n",
       "      <th>2</th>\n",
       "      <td>ESM2 8M</td>\n",
       "      <td>embedding</td>\n",
       "      <td>97</td>\n",
       "      <td>63.8%</td>\n",
       "      <td>66.3%</td>\n",
       "      <td>81.7%</td>\n",
       "      <td>75.1%</td>\n",
       "      <td>56.8%</td>\n",
       "      <td>51.6%</td>\n",
       "      <td>69.3%</td>\n",
       "      <td>75.2%</td>\n",
       "    </tr>\n",
       "    <tr>\n",
       "      <th>3</th>\n",
       "      <td>ESM2 8M</td>\n",
       "      <td>embedding</td>\n",
       "      <td>96</td>\n",
       "      <td>64.1%</td>\n",
       "      <td>66.4%</td>\n",
       "      <td>81.9%</td>\n",
       "      <td>74.8%</td>\n",
       "      <td>55.9%</td>\n",
       "      <td>52.2%</td>\n",
       "      <td>69.7%</td>\n",
       "      <td>75.3%</td>\n",
       "    </tr>\n",
       "    <tr>\n",
       "      <th>4</th>\n",
       "      <td>ESM2 8M</td>\n",
       "      <td>embedding</td>\n",
       "      <td>95</td>\n",
       "      <td>64.1%</td>\n",
       "      <td>66.9%</td>\n",
       "      <td>81.4%</td>\n",
       "      <td>78.0%</td>\n",
       "      <td>56.2%</td>\n",
       "      <td>51.2%</td>\n",
       "      <td>69.6%</td>\n",
       "      <td>75.2%</td>\n",
       "    </tr>\n",
       "  </tbody>\n",
       "</table>\n",
       "</div>"
      ],
      "text/plain": [
       "     Model fine_tuning Random_seed    GFP    AAV     GB  Staub   Melt SubLoc  \\\n",
       "0  ESM2 8M   embedding          99  63.5%  68.2%  82.6%  71.6%  56.1%  52.0%   \n",
       "1  ESM2 8M   embedding          98  63.9%  66.5%  81.4%  75.6%  57.1%  53.1%   \n",
       "2  ESM2 8M   embedding          97  63.8%  66.3%  81.7%  75.1%  56.8%  51.6%   \n",
       "3  ESM2 8M   embedding          96  64.1%  66.4%  81.9%  74.8%  55.9%  52.2%   \n",
       "4  ESM2 8M   embedding          95  64.1%  66.9%  81.4%  78.0%  56.2%  51.2%   \n",
       "\n",
       "     Dis SecStr  \n",
       "0  70.0%  75.3%  \n",
       "1  70.1%  75.2%  \n",
       "2  69.3%  75.2%  \n",
       "3  69.7%  75.3%  \n",
       "4  69.6%  75.2%  "
      ]
     },
     "execution_count": 77,
     "metadata": {},
     "output_type": "execute_result"
    }
   ],
   "source": [
    "merged_df.head()"
   ]
  },
  {
   "cell_type": "code",
   "execution_count": 89,
   "metadata": {},
   "outputs": [],
   "source": [
    "# Convert the relevant columns to integers\n",
    "cols_to_convert = [\"GFP\", \"AAV\", \"GB\", \"Staub\", \"Melt\", \"SubLoc\", \"Dis\", \"SecStr\"]\n",
    "\n",
    "# Loop over the columns and clean the data\n",
    "for col in cols_to_convert:\n",
    "    merged_df[col] = merged_df[col].replace(['-', ''], np.nan)\n",
    "    merged_df[col] = merged_df[col].str.replace('%', '').astype(float)  # Remove '%' and convert to float\n",
    "    merged_df[col] = merged_df[col].where(merged_df[col].notna(), np.nan)  # Convert the float to int\n",
    "    merged_df[col] = merged_df[col].fillna(np.nan)\n",
    "    merged_df[col] = merged_df[col].apply(lambda x: int(x) if pd.notna(x) else np.nan)\n"
   ]
  },
  {
   "cell_type": "code",
   "execution_count": 90,
   "metadata": {},
   "outputs": [
    {
     "data": {
      "text/html": [
       "<div>\n",
       "<style scoped>\n",
       "    .dataframe tbody tr th:only-of-type {\n",
       "        vertical-align: middle;\n",
       "    }\n",
       "\n",
       "    .dataframe tbody tr th {\n",
       "        vertical-align: top;\n",
       "    }\n",
       "\n",
       "    .dataframe thead th {\n",
       "        text-align: right;\n",
       "    }\n",
       "</style>\n",
       "<table border=\"1\" class=\"dataframe\">\n",
       "  <thead>\n",
       "    <tr style=\"text-align: right;\">\n",
       "      <th></th>\n",
       "      <th>Model</th>\n",
       "      <th>fine_tuning</th>\n",
       "      <th>Random_seed</th>\n",
       "      <th>GFP</th>\n",
       "      <th>AAV</th>\n",
       "      <th>GB</th>\n",
       "      <th>Staub</th>\n",
       "      <th>Melt</th>\n",
       "      <th>SubLoc</th>\n",
       "      <th>Dis</th>\n",
       "      <th>SecStr</th>\n",
       "    </tr>\n",
       "  </thead>\n",
       "  <tbody>\n",
       "    <tr>\n",
       "      <th>0</th>\n",
       "      <td>ESM2 8M</td>\n",
       "      <td>embedding</td>\n",
       "      <td>99</td>\n",
       "      <td>63.0</td>\n",
       "      <td>68.0</td>\n",
       "      <td>82.0</td>\n",
       "      <td>71.0</td>\n",
       "      <td>56.0</td>\n",
       "      <td>52.0</td>\n",
       "      <td>70.0</td>\n",
       "      <td>75.0</td>\n",
       "    </tr>\n",
       "    <tr>\n",
       "      <th>1</th>\n",
       "      <td>ESM2 8M</td>\n",
       "      <td>embedding</td>\n",
       "      <td>98</td>\n",
       "      <td>63.0</td>\n",
       "      <td>66.0</td>\n",
       "      <td>81.0</td>\n",
       "      <td>75.0</td>\n",
       "      <td>57.0</td>\n",
       "      <td>53.0</td>\n",
       "      <td>70.0</td>\n",
       "      <td>75.0</td>\n",
       "    </tr>\n",
       "    <tr>\n",
       "      <th>2</th>\n",
       "      <td>ESM2 8M</td>\n",
       "      <td>embedding</td>\n",
       "      <td>97</td>\n",
       "      <td>63.0</td>\n",
       "      <td>66.0</td>\n",
       "      <td>81.0</td>\n",
       "      <td>75.0</td>\n",
       "      <td>56.0</td>\n",
       "      <td>51.0</td>\n",
       "      <td>69.0</td>\n",
       "      <td>75.0</td>\n",
       "    </tr>\n",
       "    <tr>\n",
       "      <th>3</th>\n",
       "      <td>ESM2 8M</td>\n",
       "      <td>embedding</td>\n",
       "      <td>96</td>\n",
       "      <td>64.0</td>\n",
       "      <td>66.0</td>\n",
       "      <td>81.0</td>\n",
       "      <td>74.0</td>\n",
       "      <td>55.0</td>\n",
       "      <td>52.0</td>\n",
       "      <td>69.0</td>\n",
       "      <td>75.0</td>\n",
       "    </tr>\n",
       "    <tr>\n",
       "      <th>4</th>\n",
       "      <td>ESM2 8M</td>\n",
       "      <td>embedding</td>\n",
       "      <td>95</td>\n",
       "      <td>64.0</td>\n",
       "      <td>66.0</td>\n",
       "      <td>81.0</td>\n",
       "      <td>78.0</td>\n",
       "      <td>56.0</td>\n",
       "      <td>51.0</td>\n",
       "      <td>69.0</td>\n",
       "      <td>75.0</td>\n",
       "    </tr>\n",
       "  </tbody>\n",
       "</table>\n",
       "</div>"
      ],
      "text/plain": [
       "     Model fine_tuning Random_seed   GFP   AAV    GB  Staub  Melt  SubLoc  \\\n",
       "0  ESM2 8M   embedding          99  63.0  68.0  82.0   71.0  56.0    52.0   \n",
       "1  ESM2 8M   embedding          98  63.0  66.0  81.0   75.0  57.0    53.0   \n",
       "2  ESM2 8M   embedding          97  63.0  66.0  81.0   75.0  56.0    51.0   \n",
       "3  ESM2 8M   embedding          96  64.0  66.0  81.0   74.0  55.0    52.0   \n",
       "4  ESM2 8M   embedding          95  64.0  66.0  81.0   78.0  56.0    51.0   \n",
       "\n",
       "    Dis  SecStr  \n",
       "0  70.0    75.0  \n",
       "1  70.0    75.0  \n",
       "2  69.0    75.0  \n",
       "3  69.0    75.0  \n",
       "4  69.0    75.0  "
      ]
     },
     "execution_count": 90,
     "metadata": {},
     "output_type": "execute_result"
    }
   ],
   "source": [
    "merged_df.head()"
   ]
  },
  {
   "cell_type": "markdown",
   "metadata": {},
   "source": [
    "### Variant specific"
   ]
  },
  {
   "cell_type": "code",
   "execution_count": 128,
   "metadata": {},
   "outputs": [],
   "source": [
    "def plot_performance_per_feature(df, feature):\n",
    "    embedding_mean_values = merged_df[merged_df['fine_tuning'] == 'embedding'].groupby('Model')[feature].mean()\n",
    "    sorted_models = embedding_mean_values.sort_values().index\n",
    "\n",
    "    fig = px.box(\n",
    "        merged_df,\n",
    "        x=\"Model\",\n",
    "        y=feature,\n",
    "        color = 'fine_tuning',\n",
    "        color_discrete_sequence=['darkblue',  'lightblue', 'red']\n",
    "    )\n",
    "    fig.update_layout(xaxis={'categoryorder': 'array', 'categoryarray': sorted_models},\n",
    "        template=\"plotly_white\", font={'family':'Arial', 'color':'#303496'},\n",
    "    )\n",
    "\n",
    "    fig.show()"
   ]
  },
  {
   "cell_type": "code",
   "execution_count": 129,
   "metadata": {},
   "outputs": [
    {
     "data": {
      "application/vnd.plotly.v1+json": {
       "config": {
        "plotlyServerURL": "https://plot.ly"
       },
       "data": [
        {
         "alignmentgroup": "True",
         "hovertemplate": "fine_tuning=embedding<br>Model=%{x}<br>GFP=%{y}<extra></extra>",
         "legendgroup": "embedding",
         "marker": {
          "color": "darkblue"
         },
         "name": "embedding",
         "notched": false,
         "offsetgroup": "embedding",
         "orientation": "v",
         "showlegend": true,
         "type": "box",
         "x": [
          "ESM2 8M",
          "ESM2 8M",
          "ESM2 8M",
          "ESM2 8M",
          "ESM2 8M",
          "ESM2 35M",
          "ESM2 35M",
          "ESM2 35M",
          "ESM2 35M",
          "ESM2 35M",
          "ESM2 150M",
          "ESM2 150M",
          "ESM2 150M",
          "ESM2 150M",
          "ESM2 150M",
          "ESM2 650",
          "ESM2 650",
          "ESM2 650",
          "ESM2 650",
          "ESM2 650",
          "ESM2 3B",
          "ESM2 3B",
          "ESM2 3B",
          "ESM2 3B",
          "ESM2 3B",
          "ProtT5",
          "ProtT5",
          "ProtT5",
          "ProtT5",
          "ProtT5",
          "Ankh",
          "Ankh",
          "Ankh",
          "Ankh",
          "Ankh",
          "Ankh_large",
          "Ankh_large",
          "Ankh_large",
          "Ankh_large",
          "Ankh_large"
         ],
         "x0": " ",
         "xaxis": "x",
         "y": [
          63,
          63,
          63,
          64,
          64,
          65,
          65,
          64,
          64,
          65,
          63,
          63,
          63,
          63,
          63,
          64,
          64,
          64,
          64,
          64,
          64,
          64,
          65,
          65,
          65,
          61,
          61,
          60,
          61,
          61,
          65,
          65,
          65,
          65,
          66,
          67,
          67,
          66,
          67,
          67
         ],
         "y0": " ",
         "yaxis": "y"
        },
        {
         "alignmentgroup": "True",
         "hovertemplate": "fine_tuning=full_model<br>Model=%{x}<br>GFP=%{y}<extra></extra>",
         "legendgroup": "full_model",
         "marker": {
          "color": "lightblue"
         },
         "name": "full_model",
         "notched": false,
         "offsetgroup": "full_model",
         "orientation": "v",
         "showlegend": true,
         "type": "box",
         "x": [
          "ESM2 8M",
          "ESM2 8M",
          "ESM2 8M",
          "ESM2 35M",
          "ESM2 35M",
          "ESM2 35M",
          "ESM2 150M",
          "ESM2 150M",
          "ESM2 150M",
          "ESM2 150M",
          "ESM2 650M",
          "ESM2 650M",
          "ESM2 650M"
         ],
         "x0": " ",
         "xaxis": "x",
         "y": [
          68,
          68,
          69,
          69,
          68,
          68,
          69,
          68,
          69,
          null,
          68,
          69,
          68
         ],
         "y0": " ",
         "yaxis": "y"
        },
        {
         "alignmentgroup": "True",
         "hovertemplate": "fine_tuning=LoRA<br>Model=%{x}<br>GFP=%{y}<extra></extra>",
         "legendgroup": "LoRA",
         "marker": {
          "color": "red"
         },
         "name": "LoRA",
         "notched": false,
         "offsetgroup": "LoRA",
         "orientation": "v",
         "showlegend": true,
         "type": "box",
         "x": [
          "ESM2 8M",
          "ESM2 8M",
          "ESM2 8M",
          "ESM2 35M",
          "ESM2 35M",
          "ESM2 35M",
          "ESM2 650M",
          "ESM2 650M",
          "ESM2 650M",
          "ESM2 3B",
          "ESM2 3B",
          "ESM2 3B",
          "ProtT5",
          "ProtT5",
          "ProtT5",
          "Ankh",
          "Ankh",
          "Ankh",
          "Ankh_large",
          "Ankh_large",
          "Ankh_large"
         ],
         "x0": " ",
         "xaxis": "x",
         "y": [
          69,
          69,
          69,
          69,
          69,
          69,
          69,
          69,
          69,
          69,
          69,
          69,
          69,
          70,
          69,
          69,
          69,
          69,
          69,
          69,
          69
         ],
         "y0": " ",
         "yaxis": "y"
        },
        {
         "alignmentgroup": "True",
         "hovertemplate": "fine_tuning=<br>Model=%{x}<br>GFP=%{y}<extra></extra>",
         "legendgroup": "",
         "marker": {
          "color": "darkblue"
         },
         "name": "",
         "notched": false,
         "offsetgroup": "",
         "orientation": "v",
         "showlegend": false,
         "type": "box",
         "x": [
          "",
          "",
          "",
          "",
          ""
         ],
         "x0": " ",
         "xaxis": "x",
         "y": [
          null,
          null,
          null,
          null,
          null
         ],
         "y0": " ",
         "yaxis": "y"
        }
       ],
       "layout": {
        "boxmode": "group",
        "font": {
         "color": "#303496",
         "family": "Arial"
        },
        "legend": {
         "title": {
          "text": "fine_tuning"
         },
         "tracegroupgap": 0
        },
        "margin": {
         "t": 60
        },
        "template": {
         "data": {
          "bar": [
           {
            "error_x": {
             "color": "#2a3f5f"
            },
            "error_y": {
             "color": "#2a3f5f"
            },
            "marker": {
             "line": {
              "color": "white",
              "width": 0.5
             },
             "pattern": {
              "fillmode": "overlay",
              "size": 10,
              "solidity": 0.2
             }
            },
            "type": "bar"
           }
          ],
          "barpolar": [
           {
            "marker": {
             "line": {
              "color": "white",
              "width": 0.5
             },
             "pattern": {
              "fillmode": "overlay",
              "size": 10,
              "solidity": 0.2
             }
            },
            "type": "barpolar"
           }
          ],
          "carpet": [
           {
            "aaxis": {
             "endlinecolor": "#2a3f5f",
             "gridcolor": "#C8D4E3",
             "linecolor": "#C8D4E3",
             "minorgridcolor": "#C8D4E3",
             "startlinecolor": "#2a3f5f"
            },
            "baxis": {
             "endlinecolor": "#2a3f5f",
             "gridcolor": "#C8D4E3",
             "linecolor": "#C8D4E3",
             "minorgridcolor": "#C8D4E3",
             "startlinecolor": "#2a3f5f"
            },
            "type": "carpet"
           }
          ],
          "choropleth": [
           {
            "colorbar": {
             "outlinewidth": 0,
             "ticks": ""
            },
            "type": "choropleth"
           }
          ],
          "contour": [
           {
            "colorbar": {
             "outlinewidth": 0,
             "ticks": ""
            },
            "colorscale": [
             [
              0,
              "#0d0887"
             ],
             [
              0.1111111111111111,
              "#46039f"
             ],
             [
              0.2222222222222222,
              "#7201a8"
             ],
             [
              0.3333333333333333,
              "#9c179e"
             ],
             [
              0.4444444444444444,
              "#bd3786"
             ],
             [
              0.5555555555555556,
              "#d8576b"
             ],
             [
              0.6666666666666666,
              "#ed7953"
             ],
             [
              0.7777777777777778,
              "#fb9f3a"
             ],
             [
              0.8888888888888888,
              "#fdca26"
             ],
             [
              1,
              "#f0f921"
             ]
            ],
            "type": "contour"
           }
          ],
          "contourcarpet": [
           {
            "colorbar": {
             "outlinewidth": 0,
             "ticks": ""
            },
            "type": "contourcarpet"
           }
          ],
          "heatmap": [
           {
            "colorbar": {
             "outlinewidth": 0,
             "ticks": ""
            },
            "colorscale": [
             [
              0,
              "#0d0887"
             ],
             [
              0.1111111111111111,
              "#46039f"
             ],
             [
              0.2222222222222222,
              "#7201a8"
             ],
             [
              0.3333333333333333,
              "#9c179e"
             ],
             [
              0.4444444444444444,
              "#bd3786"
             ],
             [
              0.5555555555555556,
              "#d8576b"
             ],
             [
              0.6666666666666666,
              "#ed7953"
             ],
             [
              0.7777777777777778,
              "#fb9f3a"
             ],
             [
              0.8888888888888888,
              "#fdca26"
             ],
             [
              1,
              "#f0f921"
             ]
            ],
            "type": "heatmap"
           }
          ],
          "heatmapgl": [
           {
            "colorbar": {
             "outlinewidth": 0,
             "ticks": ""
            },
            "colorscale": [
             [
              0,
              "#0d0887"
             ],
             [
              0.1111111111111111,
              "#46039f"
             ],
             [
              0.2222222222222222,
              "#7201a8"
             ],
             [
              0.3333333333333333,
              "#9c179e"
             ],
             [
              0.4444444444444444,
              "#bd3786"
             ],
             [
              0.5555555555555556,
              "#d8576b"
             ],
             [
              0.6666666666666666,
              "#ed7953"
             ],
             [
              0.7777777777777778,
              "#fb9f3a"
             ],
             [
              0.8888888888888888,
              "#fdca26"
             ],
             [
              1,
              "#f0f921"
             ]
            ],
            "type": "heatmapgl"
           }
          ],
          "histogram": [
           {
            "marker": {
             "pattern": {
              "fillmode": "overlay",
              "size": 10,
              "solidity": 0.2
             }
            },
            "type": "histogram"
           }
          ],
          "histogram2d": [
           {
            "colorbar": {
             "outlinewidth": 0,
             "ticks": ""
            },
            "colorscale": [
             [
              0,
              "#0d0887"
             ],
             [
              0.1111111111111111,
              "#46039f"
             ],
             [
              0.2222222222222222,
              "#7201a8"
             ],
             [
              0.3333333333333333,
              "#9c179e"
             ],
             [
              0.4444444444444444,
              "#bd3786"
             ],
             [
              0.5555555555555556,
              "#d8576b"
             ],
             [
              0.6666666666666666,
              "#ed7953"
             ],
             [
              0.7777777777777778,
              "#fb9f3a"
             ],
             [
              0.8888888888888888,
              "#fdca26"
             ],
             [
              1,
              "#f0f921"
             ]
            ],
            "type": "histogram2d"
           }
          ],
          "histogram2dcontour": [
           {
            "colorbar": {
             "outlinewidth": 0,
             "ticks": ""
            },
            "colorscale": [
             [
              0,
              "#0d0887"
             ],
             [
              0.1111111111111111,
              "#46039f"
             ],
             [
              0.2222222222222222,
              "#7201a8"
             ],
             [
              0.3333333333333333,
              "#9c179e"
             ],
             [
              0.4444444444444444,
              "#bd3786"
             ],
             [
              0.5555555555555556,
              "#d8576b"
             ],
             [
              0.6666666666666666,
              "#ed7953"
             ],
             [
              0.7777777777777778,
              "#fb9f3a"
             ],
             [
              0.8888888888888888,
              "#fdca26"
             ],
             [
              1,
              "#f0f921"
             ]
            ],
            "type": "histogram2dcontour"
           }
          ],
          "mesh3d": [
           {
            "colorbar": {
             "outlinewidth": 0,
             "ticks": ""
            },
            "type": "mesh3d"
           }
          ],
          "parcoords": [
           {
            "line": {
             "colorbar": {
              "outlinewidth": 0,
              "ticks": ""
             }
            },
            "type": "parcoords"
           }
          ],
          "pie": [
           {
            "automargin": true,
            "type": "pie"
           }
          ],
          "scatter": [
           {
            "fillpattern": {
             "fillmode": "overlay",
             "size": 10,
             "solidity": 0.2
            },
            "type": "scatter"
           }
          ],
          "scatter3d": [
           {
            "line": {
             "colorbar": {
              "outlinewidth": 0,
              "ticks": ""
             }
            },
            "marker": {
             "colorbar": {
              "outlinewidth": 0,
              "ticks": ""
             }
            },
            "type": "scatter3d"
           }
          ],
          "scattercarpet": [
           {
            "marker": {
             "colorbar": {
              "outlinewidth": 0,
              "ticks": ""
             }
            },
            "type": "scattercarpet"
           }
          ],
          "scattergeo": [
           {
            "marker": {
             "colorbar": {
              "outlinewidth": 0,
              "ticks": ""
             }
            },
            "type": "scattergeo"
           }
          ],
          "scattergl": [
           {
            "marker": {
             "colorbar": {
              "outlinewidth": 0,
              "ticks": ""
             }
            },
            "type": "scattergl"
           }
          ],
          "scattermapbox": [
           {
            "marker": {
             "colorbar": {
              "outlinewidth": 0,
              "ticks": ""
             }
            },
            "type": "scattermapbox"
           }
          ],
          "scatterpolar": [
           {
            "marker": {
             "colorbar": {
              "outlinewidth": 0,
              "ticks": ""
             }
            },
            "type": "scatterpolar"
           }
          ],
          "scatterpolargl": [
           {
            "marker": {
             "colorbar": {
              "outlinewidth": 0,
              "ticks": ""
             }
            },
            "type": "scatterpolargl"
           }
          ],
          "scatterternary": [
           {
            "marker": {
             "colorbar": {
              "outlinewidth": 0,
              "ticks": ""
             }
            },
            "type": "scatterternary"
           }
          ],
          "surface": [
           {
            "colorbar": {
             "outlinewidth": 0,
             "ticks": ""
            },
            "colorscale": [
             [
              0,
              "#0d0887"
             ],
             [
              0.1111111111111111,
              "#46039f"
             ],
             [
              0.2222222222222222,
              "#7201a8"
             ],
             [
              0.3333333333333333,
              "#9c179e"
             ],
             [
              0.4444444444444444,
              "#bd3786"
             ],
             [
              0.5555555555555556,
              "#d8576b"
             ],
             [
              0.6666666666666666,
              "#ed7953"
             ],
             [
              0.7777777777777778,
              "#fb9f3a"
             ],
             [
              0.8888888888888888,
              "#fdca26"
             ],
             [
              1,
              "#f0f921"
             ]
            ],
            "type": "surface"
           }
          ],
          "table": [
           {
            "cells": {
             "fill": {
              "color": "#EBF0F8"
             },
             "line": {
              "color": "white"
             }
            },
            "header": {
             "fill": {
              "color": "#C8D4E3"
             },
             "line": {
              "color": "white"
             }
            },
            "type": "table"
           }
          ]
         },
         "layout": {
          "annotationdefaults": {
           "arrowcolor": "#2a3f5f",
           "arrowhead": 0,
           "arrowwidth": 1
          },
          "autotypenumbers": "strict",
          "coloraxis": {
           "colorbar": {
            "outlinewidth": 0,
            "ticks": ""
           }
          },
          "colorscale": {
           "diverging": [
            [
             0,
             "#8e0152"
            ],
            [
             0.1,
             "#c51b7d"
            ],
            [
             0.2,
             "#de77ae"
            ],
            [
             0.3,
             "#f1b6da"
            ],
            [
             0.4,
             "#fde0ef"
            ],
            [
             0.5,
             "#f7f7f7"
            ],
            [
             0.6,
             "#e6f5d0"
            ],
            [
             0.7,
             "#b8e186"
            ],
            [
             0.8,
             "#7fbc41"
            ],
            [
             0.9,
             "#4d9221"
            ],
            [
             1,
             "#276419"
            ]
           ],
           "sequential": [
            [
             0,
             "#0d0887"
            ],
            [
             0.1111111111111111,
             "#46039f"
            ],
            [
             0.2222222222222222,
             "#7201a8"
            ],
            [
             0.3333333333333333,
             "#9c179e"
            ],
            [
             0.4444444444444444,
             "#bd3786"
            ],
            [
             0.5555555555555556,
             "#d8576b"
            ],
            [
             0.6666666666666666,
             "#ed7953"
            ],
            [
             0.7777777777777778,
             "#fb9f3a"
            ],
            [
             0.8888888888888888,
             "#fdca26"
            ],
            [
             1,
             "#f0f921"
            ]
           ],
           "sequentialminus": [
            [
             0,
             "#0d0887"
            ],
            [
             0.1111111111111111,
             "#46039f"
            ],
            [
             0.2222222222222222,
             "#7201a8"
            ],
            [
             0.3333333333333333,
             "#9c179e"
            ],
            [
             0.4444444444444444,
             "#bd3786"
            ],
            [
             0.5555555555555556,
             "#d8576b"
            ],
            [
             0.6666666666666666,
             "#ed7953"
            ],
            [
             0.7777777777777778,
             "#fb9f3a"
            ],
            [
             0.8888888888888888,
             "#fdca26"
            ],
            [
             1,
             "#f0f921"
            ]
           ]
          },
          "colorway": [
           "#636efa",
           "#EF553B",
           "#00cc96",
           "#ab63fa",
           "#FFA15A",
           "#19d3f3",
           "#FF6692",
           "#B6E880",
           "#FF97FF",
           "#FECB52"
          ],
          "font": {
           "color": "#2a3f5f"
          },
          "geo": {
           "bgcolor": "white",
           "lakecolor": "white",
           "landcolor": "white",
           "showlakes": true,
           "showland": true,
           "subunitcolor": "#C8D4E3"
          },
          "hoverlabel": {
           "align": "left"
          },
          "hovermode": "closest",
          "mapbox": {
           "style": "light"
          },
          "paper_bgcolor": "white",
          "plot_bgcolor": "white",
          "polar": {
           "angularaxis": {
            "gridcolor": "#EBF0F8",
            "linecolor": "#EBF0F8",
            "ticks": ""
           },
           "bgcolor": "white",
           "radialaxis": {
            "gridcolor": "#EBF0F8",
            "linecolor": "#EBF0F8",
            "ticks": ""
           }
          },
          "scene": {
           "xaxis": {
            "backgroundcolor": "white",
            "gridcolor": "#DFE8F3",
            "gridwidth": 2,
            "linecolor": "#EBF0F8",
            "showbackground": true,
            "ticks": "",
            "zerolinecolor": "#EBF0F8"
           },
           "yaxis": {
            "backgroundcolor": "white",
            "gridcolor": "#DFE8F3",
            "gridwidth": 2,
            "linecolor": "#EBF0F8",
            "showbackground": true,
            "ticks": "",
            "zerolinecolor": "#EBF0F8"
           },
           "zaxis": {
            "backgroundcolor": "white",
            "gridcolor": "#DFE8F3",
            "gridwidth": 2,
            "linecolor": "#EBF0F8",
            "showbackground": true,
            "ticks": "",
            "zerolinecolor": "#EBF0F8"
           }
          },
          "shapedefaults": {
           "line": {
            "color": "#2a3f5f"
           }
          },
          "ternary": {
           "aaxis": {
            "gridcolor": "#DFE8F3",
            "linecolor": "#A2B1C6",
            "ticks": ""
           },
           "baxis": {
            "gridcolor": "#DFE8F3",
            "linecolor": "#A2B1C6",
            "ticks": ""
           },
           "bgcolor": "white",
           "caxis": {
            "gridcolor": "#DFE8F3",
            "linecolor": "#A2B1C6",
            "ticks": ""
           }
          },
          "title": {
           "x": 0.05
          },
          "xaxis": {
           "automargin": true,
           "gridcolor": "#EBF0F8",
           "linecolor": "#EBF0F8",
           "ticks": "",
           "title": {
            "standoff": 15
           },
           "zerolinecolor": "#EBF0F8",
           "zerolinewidth": 2
          },
          "yaxis": {
           "automargin": true,
           "gridcolor": "#EBF0F8",
           "linecolor": "#EBF0F8",
           "ticks": "",
           "title": {
            "standoff": 15
           },
           "zerolinecolor": "#EBF0F8",
           "zerolinewidth": 2
          }
         }
        },
        "xaxis": {
         "anchor": "y",
         "categoryarray": [
          "ProtT5",
          "ESM2 150M",
          "ESM2 8M",
          "ESM2 650",
          "ESM2 35M",
          "ESM2 3B",
          "Ankh",
          "Ankh_large"
         ],
         "categoryorder": "array",
         "domain": [
          0,
          1
         ],
         "title": {
          "text": "Model"
         }
        },
        "yaxis": {
         "anchor": "x",
         "domain": [
          0,
          1
         ],
         "title": {
          "text": "GFP"
         }
        }
       }
      }
     },
     "metadata": {},
     "output_type": "display_data"
    }
   ],
   "source": [
    "plot_performance_per_feature(merged_df, 'GFP')"
   ]
  },
  {
   "cell_type": "code",
   "execution_count": 131,
   "metadata": {},
   "outputs": [
    {
     "data": {
      "application/vnd.plotly.v1+json": {
       "config": {
        "plotlyServerURL": "https://plot.ly"
       },
       "data": [
        {
         "alignmentgroup": "True",
         "hovertemplate": "fine_tuning=embedding<br>Model=%{x}<br>AAV=%{y}<extra></extra>",
         "legendgroup": "embedding",
         "marker": {
          "color": "darkblue"
         },
         "name": "embedding",
         "notched": false,
         "offsetgroup": "embedding",
         "orientation": "v",
         "showlegend": true,
         "type": "box",
         "x": [
          "ESM2 8M",
          "ESM2 8M",
          "ESM2 8M",
          "ESM2 8M",
          "ESM2 8M",
          "ESM2 35M",
          "ESM2 35M",
          "ESM2 35M",
          "ESM2 35M",
          "ESM2 35M",
          "ESM2 150M",
          "ESM2 150M",
          "ESM2 150M",
          "ESM2 150M",
          "ESM2 150M",
          "ESM2 650",
          "ESM2 650",
          "ESM2 650",
          "ESM2 650",
          "ESM2 650",
          "ESM2 3B",
          "ESM2 3B",
          "ESM2 3B",
          "ESM2 3B",
          "ESM2 3B",
          "ProtT5",
          "ProtT5",
          "ProtT5",
          "ProtT5",
          "ProtT5",
          "Ankh",
          "Ankh",
          "Ankh",
          "Ankh",
          "Ankh",
          "Ankh_large",
          "Ankh_large",
          "Ankh_large",
          "Ankh_large",
          "Ankh_large"
         ],
         "x0": " ",
         "xaxis": "x",
         "y": [
          68,
          66,
          66,
          66,
          66,
          63,
          59,
          56,
          54,
          60,
          67,
          65,
          62,
          65,
          67,
          51,
          45,
          47,
          44,
          47,
          77,
          77,
          77,
          77,
          78,
          70,
          71,
          64,
          67,
          69,
          62,
          60,
          62,
          64,
          69,
          75,
          71,
          72,
          72,
          72
         ],
         "y0": " ",
         "yaxis": "y"
        },
        {
         "alignmentgroup": "True",
         "hovertemplate": "fine_tuning=full_model<br>Model=%{x}<br>AAV=%{y}<extra></extra>",
         "legendgroup": "full_model",
         "marker": {
          "color": "lightblue"
         },
         "name": "full_model",
         "notched": false,
         "offsetgroup": "full_model",
         "orientation": "v",
         "showlegend": true,
         "type": "box",
         "x": [
          "ESM2 8M",
          "ESM2 8M",
          "ESM2 8M",
          "ESM2 35M",
          "ESM2 35M",
          "ESM2 35M",
          "ESM2 150M",
          "ESM2 150M",
          "ESM2 150M",
          "ESM2 150M",
          "ESM2 650M",
          "ESM2 650M",
          "ESM2 650M"
         ],
         "x0": " ",
         "xaxis": "x",
         "y": [
          82,
          84,
          80,
          77,
          81,
          83,
          84,
          70,
          84,
          84,
          78,
          80,
          76
         ],
         "y0": " ",
         "yaxis": "y"
        },
        {
         "alignmentgroup": "True",
         "hovertemplate": "fine_tuning=LoRA<br>Model=%{x}<br>AAV=%{y}<extra></extra>",
         "legendgroup": "LoRA",
         "marker": {
          "color": "red"
         },
         "name": "LoRA",
         "notched": false,
         "offsetgroup": "LoRA",
         "orientation": "v",
         "showlegend": true,
         "type": "box",
         "x": [
          "ESM2 8M",
          "ESM2 8M",
          "ESM2 8M",
          "ESM2 35M",
          "ESM2 35M",
          "ESM2 35M",
          "ESM2 650M",
          "ESM2 650M",
          "ESM2 650M",
          "ESM2 3B",
          "ESM2 3B",
          "ESM2 3B",
          "ProtT5",
          "ProtT5",
          "ProtT5",
          "Ankh",
          "Ankh",
          "Ankh",
          "Ankh_large",
          "Ankh_large",
          "Ankh_large"
         ],
         "x0": " ",
         "xaxis": "x",
         "y": [
          80,
          77,
          81,
          77,
          81,
          82,
          84,
          80,
          85,
          78,
          84,
          81,
          85,
          86,
          85,
          83,
          81,
          79,
          84,
          83,
          86
         ],
         "y0": " ",
         "yaxis": "y"
        },
        {
         "alignmentgroup": "True",
         "hovertemplate": "fine_tuning=<br>Model=%{x}<br>AAV=%{y}<extra></extra>",
         "legendgroup": "",
         "marker": {
          "color": "darkblue"
         },
         "name": "",
         "notched": false,
         "offsetgroup": "",
         "orientation": "v",
         "showlegend": false,
         "type": "box",
         "x": [
          "",
          "",
          "",
          "",
          ""
         ],
         "x0": " ",
         "xaxis": "x",
         "y": [
          null,
          null,
          null,
          null,
          null
         ],
         "y0": " ",
         "yaxis": "y"
        }
       ],
       "layout": {
        "boxmode": "group",
        "font": {
         "color": "#303496",
         "family": "Arial"
        },
        "legend": {
         "title": {
          "text": "fine_tuning"
         },
         "tracegroupgap": 0
        },
        "margin": {
         "t": 60
        },
        "template": {
         "data": {
          "bar": [
           {
            "error_x": {
             "color": "#2a3f5f"
            },
            "error_y": {
             "color": "#2a3f5f"
            },
            "marker": {
             "line": {
              "color": "white",
              "width": 0.5
             },
             "pattern": {
              "fillmode": "overlay",
              "size": 10,
              "solidity": 0.2
             }
            },
            "type": "bar"
           }
          ],
          "barpolar": [
           {
            "marker": {
             "line": {
              "color": "white",
              "width": 0.5
             },
             "pattern": {
              "fillmode": "overlay",
              "size": 10,
              "solidity": 0.2
             }
            },
            "type": "barpolar"
           }
          ],
          "carpet": [
           {
            "aaxis": {
             "endlinecolor": "#2a3f5f",
             "gridcolor": "#C8D4E3",
             "linecolor": "#C8D4E3",
             "minorgridcolor": "#C8D4E3",
             "startlinecolor": "#2a3f5f"
            },
            "baxis": {
             "endlinecolor": "#2a3f5f",
             "gridcolor": "#C8D4E3",
             "linecolor": "#C8D4E3",
             "minorgridcolor": "#C8D4E3",
             "startlinecolor": "#2a3f5f"
            },
            "type": "carpet"
           }
          ],
          "choropleth": [
           {
            "colorbar": {
             "outlinewidth": 0,
             "ticks": ""
            },
            "type": "choropleth"
           }
          ],
          "contour": [
           {
            "colorbar": {
             "outlinewidth": 0,
             "ticks": ""
            },
            "colorscale": [
             [
              0,
              "#0d0887"
             ],
             [
              0.1111111111111111,
              "#46039f"
             ],
             [
              0.2222222222222222,
              "#7201a8"
             ],
             [
              0.3333333333333333,
              "#9c179e"
             ],
             [
              0.4444444444444444,
              "#bd3786"
             ],
             [
              0.5555555555555556,
              "#d8576b"
             ],
             [
              0.6666666666666666,
              "#ed7953"
             ],
             [
              0.7777777777777778,
              "#fb9f3a"
             ],
             [
              0.8888888888888888,
              "#fdca26"
             ],
             [
              1,
              "#f0f921"
             ]
            ],
            "type": "contour"
           }
          ],
          "contourcarpet": [
           {
            "colorbar": {
             "outlinewidth": 0,
             "ticks": ""
            },
            "type": "contourcarpet"
           }
          ],
          "heatmap": [
           {
            "colorbar": {
             "outlinewidth": 0,
             "ticks": ""
            },
            "colorscale": [
             [
              0,
              "#0d0887"
             ],
             [
              0.1111111111111111,
              "#46039f"
             ],
             [
              0.2222222222222222,
              "#7201a8"
             ],
             [
              0.3333333333333333,
              "#9c179e"
             ],
             [
              0.4444444444444444,
              "#bd3786"
             ],
             [
              0.5555555555555556,
              "#d8576b"
             ],
             [
              0.6666666666666666,
              "#ed7953"
             ],
             [
              0.7777777777777778,
              "#fb9f3a"
             ],
             [
              0.8888888888888888,
              "#fdca26"
             ],
             [
              1,
              "#f0f921"
             ]
            ],
            "type": "heatmap"
           }
          ],
          "heatmapgl": [
           {
            "colorbar": {
             "outlinewidth": 0,
             "ticks": ""
            },
            "colorscale": [
             [
              0,
              "#0d0887"
             ],
             [
              0.1111111111111111,
              "#46039f"
             ],
             [
              0.2222222222222222,
              "#7201a8"
             ],
             [
              0.3333333333333333,
              "#9c179e"
             ],
             [
              0.4444444444444444,
              "#bd3786"
             ],
             [
              0.5555555555555556,
              "#d8576b"
             ],
             [
              0.6666666666666666,
              "#ed7953"
             ],
             [
              0.7777777777777778,
              "#fb9f3a"
             ],
             [
              0.8888888888888888,
              "#fdca26"
             ],
             [
              1,
              "#f0f921"
             ]
            ],
            "type": "heatmapgl"
           }
          ],
          "histogram": [
           {
            "marker": {
             "pattern": {
              "fillmode": "overlay",
              "size": 10,
              "solidity": 0.2
             }
            },
            "type": "histogram"
           }
          ],
          "histogram2d": [
           {
            "colorbar": {
             "outlinewidth": 0,
             "ticks": ""
            },
            "colorscale": [
             [
              0,
              "#0d0887"
             ],
             [
              0.1111111111111111,
              "#46039f"
             ],
             [
              0.2222222222222222,
              "#7201a8"
             ],
             [
              0.3333333333333333,
              "#9c179e"
             ],
             [
              0.4444444444444444,
              "#bd3786"
             ],
             [
              0.5555555555555556,
              "#d8576b"
             ],
             [
              0.6666666666666666,
              "#ed7953"
             ],
             [
              0.7777777777777778,
              "#fb9f3a"
             ],
             [
              0.8888888888888888,
              "#fdca26"
             ],
             [
              1,
              "#f0f921"
             ]
            ],
            "type": "histogram2d"
           }
          ],
          "histogram2dcontour": [
           {
            "colorbar": {
             "outlinewidth": 0,
             "ticks": ""
            },
            "colorscale": [
             [
              0,
              "#0d0887"
             ],
             [
              0.1111111111111111,
              "#46039f"
             ],
             [
              0.2222222222222222,
              "#7201a8"
             ],
             [
              0.3333333333333333,
              "#9c179e"
             ],
             [
              0.4444444444444444,
              "#bd3786"
             ],
             [
              0.5555555555555556,
              "#d8576b"
             ],
             [
              0.6666666666666666,
              "#ed7953"
             ],
             [
              0.7777777777777778,
              "#fb9f3a"
             ],
             [
              0.8888888888888888,
              "#fdca26"
             ],
             [
              1,
              "#f0f921"
             ]
            ],
            "type": "histogram2dcontour"
           }
          ],
          "mesh3d": [
           {
            "colorbar": {
             "outlinewidth": 0,
             "ticks": ""
            },
            "type": "mesh3d"
           }
          ],
          "parcoords": [
           {
            "line": {
             "colorbar": {
              "outlinewidth": 0,
              "ticks": ""
             }
            },
            "type": "parcoords"
           }
          ],
          "pie": [
           {
            "automargin": true,
            "type": "pie"
           }
          ],
          "scatter": [
           {
            "fillpattern": {
             "fillmode": "overlay",
             "size": 10,
             "solidity": 0.2
            },
            "type": "scatter"
           }
          ],
          "scatter3d": [
           {
            "line": {
             "colorbar": {
              "outlinewidth": 0,
              "ticks": ""
             }
            },
            "marker": {
             "colorbar": {
              "outlinewidth": 0,
              "ticks": ""
             }
            },
            "type": "scatter3d"
           }
          ],
          "scattercarpet": [
           {
            "marker": {
             "colorbar": {
              "outlinewidth": 0,
              "ticks": ""
             }
            },
            "type": "scattercarpet"
           }
          ],
          "scattergeo": [
           {
            "marker": {
             "colorbar": {
              "outlinewidth": 0,
              "ticks": ""
             }
            },
            "type": "scattergeo"
           }
          ],
          "scattergl": [
           {
            "marker": {
             "colorbar": {
              "outlinewidth": 0,
              "ticks": ""
             }
            },
            "type": "scattergl"
           }
          ],
          "scattermapbox": [
           {
            "marker": {
             "colorbar": {
              "outlinewidth": 0,
              "ticks": ""
             }
            },
            "type": "scattermapbox"
           }
          ],
          "scatterpolar": [
           {
            "marker": {
             "colorbar": {
              "outlinewidth": 0,
              "ticks": ""
             }
            },
            "type": "scatterpolar"
           }
          ],
          "scatterpolargl": [
           {
            "marker": {
             "colorbar": {
              "outlinewidth": 0,
              "ticks": ""
             }
            },
            "type": "scatterpolargl"
           }
          ],
          "scatterternary": [
           {
            "marker": {
             "colorbar": {
              "outlinewidth": 0,
              "ticks": ""
             }
            },
            "type": "scatterternary"
           }
          ],
          "surface": [
           {
            "colorbar": {
             "outlinewidth": 0,
             "ticks": ""
            },
            "colorscale": [
             [
              0,
              "#0d0887"
             ],
             [
              0.1111111111111111,
              "#46039f"
             ],
             [
              0.2222222222222222,
              "#7201a8"
             ],
             [
              0.3333333333333333,
              "#9c179e"
             ],
             [
              0.4444444444444444,
              "#bd3786"
             ],
             [
              0.5555555555555556,
              "#d8576b"
             ],
             [
              0.6666666666666666,
              "#ed7953"
             ],
             [
              0.7777777777777778,
              "#fb9f3a"
             ],
             [
              0.8888888888888888,
              "#fdca26"
             ],
             [
              1,
              "#f0f921"
             ]
            ],
            "type": "surface"
           }
          ],
          "table": [
           {
            "cells": {
             "fill": {
              "color": "#EBF0F8"
             },
             "line": {
              "color": "white"
             }
            },
            "header": {
             "fill": {
              "color": "#C8D4E3"
             },
             "line": {
              "color": "white"
             }
            },
            "type": "table"
           }
          ]
         },
         "layout": {
          "annotationdefaults": {
           "arrowcolor": "#2a3f5f",
           "arrowhead": 0,
           "arrowwidth": 1
          },
          "autotypenumbers": "strict",
          "coloraxis": {
           "colorbar": {
            "outlinewidth": 0,
            "ticks": ""
           }
          },
          "colorscale": {
           "diverging": [
            [
             0,
             "#8e0152"
            ],
            [
             0.1,
             "#c51b7d"
            ],
            [
             0.2,
             "#de77ae"
            ],
            [
             0.3,
             "#f1b6da"
            ],
            [
             0.4,
             "#fde0ef"
            ],
            [
             0.5,
             "#f7f7f7"
            ],
            [
             0.6,
             "#e6f5d0"
            ],
            [
             0.7,
             "#b8e186"
            ],
            [
             0.8,
             "#7fbc41"
            ],
            [
             0.9,
             "#4d9221"
            ],
            [
             1,
             "#276419"
            ]
           ],
           "sequential": [
            [
             0,
             "#0d0887"
            ],
            [
             0.1111111111111111,
             "#46039f"
            ],
            [
             0.2222222222222222,
             "#7201a8"
            ],
            [
             0.3333333333333333,
             "#9c179e"
            ],
            [
             0.4444444444444444,
             "#bd3786"
            ],
            [
             0.5555555555555556,
             "#d8576b"
            ],
            [
             0.6666666666666666,
             "#ed7953"
            ],
            [
             0.7777777777777778,
             "#fb9f3a"
            ],
            [
             0.8888888888888888,
             "#fdca26"
            ],
            [
             1,
             "#f0f921"
            ]
           ],
           "sequentialminus": [
            [
             0,
             "#0d0887"
            ],
            [
             0.1111111111111111,
             "#46039f"
            ],
            [
             0.2222222222222222,
             "#7201a8"
            ],
            [
             0.3333333333333333,
             "#9c179e"
            ],
            [
             0.4444444444444444,
             "#bd3786"
            ],
            [
             0.5555555555555556,
             "#d8576b"
            ],
            [
             0.6666666666666666,
             "#ed7953"
            ],
            [
             0.7777777777777778,
             "#fb9f3a"
            ],
            [
             0.8888888888888888,
             "#fdca26"
            ],
            [
             1,
             "#f0f921"
            ]
           ]
          },
          "colorway": [
           "#636efa",
           "#EF553B",
           "#00cc96",
           "#ab63fa",
           "#FFA15A",
           "#19d3f3",
           "#FF6692",
           "#B6E880",
           "#FF97FF",
           "#FECB52"
          ],
          "font": {
           "color": "#2a3f5f"
          },
          "geo": {
           "bgcolor": "white",
           "lakecolor": "white",
           "landcolor": "white",
           "showlakes": true,
           "showland": true,
           "subunitcolor": "#C8D4E3"
          },
          "hoverlabel": {
           "align": "left"
          },
          "hovermode": "closest",
          "mapbox": {
           "style": "light"
          },
          "paper_bgcolor": "white",
          "plot_bgcolor": "white",
          "polar": {
           "angularaxis": {
            "gridcolor": "#EBF0F8",
            "linecolor": "#EBF0F8",
            "ticks": ""
           },
           "bgcolor": "white",
           "radialaxis": {
            "gridcolor": "#EBF0F8",
            "linecolor": "#EBF0F8",
            "ticks": ""
           }
          },
          "scene": {
           "xaxis": {
            "backgroundcolor": "white",
            "gridcolor": "#DFE8F3",
            "gridwidth": 2,
            "linecolor": "#EBF0F8",
            "showbackground": true,
            "ticks": "",
            "zerolinecolor": "#EBF0F8"
           },
           "yaxis": {
            "backgroundcolor": "white",
            "gridcolor": "#DFE8F3",
            "gridwidth": 2,
            "linecolor": "#EBF0F8",
            "showbackground": true,
            "ticks": "",
            "zerolinecolor": "#EBF0F8"
           },
           "zaxis": {
            "backgroundcolor": "white",
            "gridcolor": "#DFE8F3",
            "gridwidth": 2,
            "linecolor": "#EBF0F8",
            "showbackground": true,
            "ticks": "",
            "zerolinecolor": "#EBF0F8"
           }
          },
          "shapedefaults": {
           "line": {
            "color": "#2a3f5f"
           }
          },
          "ternary": {
           "aaxis": {
            "gridcolor": "#DFE8F3",
            "linecolor": "#A2B1C6",
            "ticks": ""
           },
           "baxis": {
            "gridcolor": "#DFE8F3",
            "linecolor": "#A2B1C6",
            "ticks": ""
           },
           "bgcolor": "white",
           "caxis": {
            "gridcolor": "#DFE8F3",
            "linecolor": "#A2B1C6",
            "ticks": ""
           }
          },
          "title": {
           "x": 0.05
          },
          "xaxis": {
           "automargin": true,
           "gridcolor": "#EBF0F8",
           "linecolor": "#EBF0F8",
           "ticks": "",
           "title": {
            "standoff": 15
           },
           "zerolinecolor": "#EBF0F8",
           "zerolinewidth": 2
          },
          "yaxis": {
           "automargin": true,
           "gridcolor": "#EBF0F8",
           "linecolor": "#EBF0F8",
           "ticks": "",
           "title": {
            "standoff": 15
           },
           "zerolinecolor": "#EBF0F8",
           "zerolinewidth": 2
          }
         }
        },
        "xaxis": {
         "anchor": "y",
         "categoryarray": [
          "ESM2 650",
          "ESM2 35M",
          "Ankh",
          "ESM2 150M",
          "ESM2 8M",
          "ProtT5",
          "Ankh_large",
          "ESM2 3B"
         ],
         "categoryorder": "array",
         "domain": [
          0,
          1
         ],
         "title": {
          "text": "Model"
         }
        },
        "yaxis": {
         "anchor": "x",
         "domain": [
          0,
          1
         ],
         "title": {
          "text": "AAV"
         }
        }
       }
      }
     },
     "metadata": {},
     "output_type": "display_data"
    }
   ],
   "source": [
    "plot_performance_per_feature(merged_df, 'AAV')"
   ]
  },
  {
   "cell_type": "code",
   "execution_count": 132,
   "metadata": {},
   "outputs": [
    {
     "data": {
      "application/vnd.plotly.v1+json": {
       "config": {
        "plotlyServerURL": "https://plot.ly"
       },
       "data": [
        {
         "alignmentgroup": "True",
         "hovertemplate": "fine_tuning=embedding<br>Model=%{x}<br>GB=%{y}<extra></extra>",
         "legendgroup": "embedding",
         "marker": {
          "color": "darkblue"
         },
         "name": "embedding",
         "notched": false,
         "offsetgroup": "embedding",
         "orientation": "v",
         "showlegend": true,
         "type": "box",
         "x": [
          "ESM2 8M",
          "ESM2 8M",
          "ESM2 8M",
          "ESM2 8M",
          "ESM2 8M",
          "ESM2 35M",
          "ESM2 35M",
          "ESM2 35M",
          "ESM2 35M",
          "ESM2 35M",
          "ESM2 150M",
          "ESM2 150M",
          "ESM2 150M",
          "ESM2 150M",
          "ESM2 150M",
          "ESM2 650",
          "ESM2 650",
          "ESM2 650",
          "ESM2 650",
          "ESM2 650",
          "ESM2 3B",
          "ESM2 3B",
          "ESM2 3B",
          "ESM2 3B",
          "ESM2 3B",
          "ProtT5",
          "ProtT5",
          "ProtT5",
          "ProtT5",
          "ProtT5",
          "Ankh",
          "Ankh",
          "Ankh",
          "Ankh",
          "Ankh",
          "Ankh_large",
          "Ankh_large",
          "Ankh_large",
          "Ankh_large",
          "Ankh_large"
         ],
         "x0": " ",
         "xaxis": "x",
         "y": [
          82,
          81,
          81,
          81,
          81,
          82,
          82,
          82,
          82,
          83,
          84,
          83,
          84,
          81,
          83,
          86,
          85,
          85,
          84,
          85,
          85,
          86,
          87,
          86,
          86,
          85,
          85,
          85,
          84,
          84,
          85,
          84,
          85,
          84,
          83,
          85,
          86,
          85,
          83,
          85
         ],
         "y0": " ",
         "yaxis": "y"
        },
        {
         "alignmentgroup": "True",
         "hovertemplate": "fine_tuning=full_model<br>Model=%{x}<br>GB=%{y}<extra></extra>",
         "legendgroup": "full_model",
         "marker": {
          "color": "lightblue"
         },
         "name": "full_model",
         "notched": false,
         "offsetgroup": "full_model",
         "orientation": "v",
         "showlegend": true,
         "type": "box",
         "x": [
          "ESM2 8M",
          "ESM2 8M",
          "ESM2 8M",
          "ESM2 35M",
          "ESM2 35M",
          "ESM2 35M",
          "ESM2 150M",
          "ESM2 150M",
          "ESM2 150M",
          "ESM2 150M",
          "ESM2 650M",
          "ESM2 650M",
          "ESM2 650M"
         ],
         "x0": " ",
         "xaxis": "x",
         "y": [
          89,
          88,
          87,
          87,
          88,
          88,
          87,
          87,
          88,
          null,
          87,
          88,
          88
         ],
         "y0": " ",
         "yaxis": "y"
        },
        {
         "alignmentgroup": "True",
         "hovertemplate": "fine_tuning=LoRA<br>Model=%{x}<br>GB=%{y}<extra></extra>",
         "legendgroup": "LoRA",
         "marker": {
          "color": "red"
         },
         "name": "LoRA",
         "notched": false,
         "offsetgroup": "LoRA",
         "orientation": "v",
         "showlegend": true,
         "type": "box",
         "x": [
          "ESM2 8M",
          "ESM2 8M",
          "ESM2 8M",
          "ESM2 35M",
          "ESM2 35M",
          "ESM2 35M",
          "ESM2 650M",
          "ESM2 650M",
          "ESM2 650M",
          "ESM2 3B",
          "ESM2 3B",
          "ESM2 3B",
          "ProtT5",
          "ProtT5",
          "ProtT5",
          "Ankh",
          "Ankh",
          "Ankh",
          "Ankh_large",
          "Ankh_large",
          "Ankh_large"
         ],
         "x0": " ",
         "xaxis": "x",
         "y": [
          85,
          83,
          84,
          87,
          86,
          86,
          88,
          86,
          87,
          88,
          89,
          87,
          89,
          88,
          89,
          86,
          87,
          85,
          87,
          89,
          89
         ],
         "y0": " ",
         "yaxis": "y"
        },
        {
         "alignmentgroup": "True",
         "hovertemplate": "fine_tuning=<br>Model=%{x}<br>GB=%{y}<extra></extra>",
         "legendgroup": "",
         "marker": {
          "color": "darkblue"
         },
         "name": "",
         "notched": false,
         "offsetgroup": "",
         "orientation": "v",
         "showlegend": false,
         "type": "box",
         "x": [
          "",
          "",
          "",
          "",
          ""
         ],
         "x0": " ",
         "xaxis": "x",
         "y": [
          null,
          null,
          null,
          null,
          null
         ],
         "y0": " ",
         "yaxis": "y"
        }
       ],
       "layout": {
        "boxmode": "group",
        "font": {
         "color": "#303496",
         "family": "Arial"
        },
        "legend": {
         "title": {
          "text": "fine_tuning"
         },
         "tracegroupgap": 0
        },
        "margin": {
         "t": 60
        },
        "template": {
         "data": {
          "bar": [
           {
            "error_x": {
             "color": "#2a3f5f"
            },
            "error_y": {
             "color": "#2a3f5f"
            },
            "marker": {
             "line": {
              "color": "white",
              "width": 0.5
             },
             "pattern": {
              "fillmode": "overlay",
              "size": 10,
              "solidity": 0.2
             }
            },
            "type": "bar"
           }
          ],
          "barpolar": [
           {
            "marker": {
             "line": {
              "color": "white",
              "width": 0.5
             },
             "pattern": {
              "fillmode": "overlay",
              "size": 10,
              "solidity": 0.2
             }
            },
            "type": "barpolar"
           }
          ],
          "carpet": [
           {
            "aaxis": {
             "endlinecolor": "#2a3f5f",
             "gridcolor": "#C8D4E3",
             "linecolor": "#C8D4E3",
             "minorgridcolor": "#C8D4E3",
             "startlinecolor": "#2a3f5f"
            },
            "baxis": {
             "endlinecolor": "#2a3f5f",
             "gridcolor": "#C8D4E3",
             "linecolor": "#C8D4E3",
             "minorgridcolor": "#C8D4E3",
             "startlinecolor": "#2a3f5f"
            },
            "type": "carpet"
           }
          ],
          "choropleth": [
           {
            "colorbar": {
             "outlinewidth": 0,
             "ticks": ""
            },
            "type": "choropleth"
           }
          ],
          "contour": [
           {
            "colorbar": {
             "outlinewidth": 0,
             "ticks": ""
            },
            "colorscale": [
             [
              0,
              "#0d0887"
             ],
             [
              0.1111111111111111,
              "#46039f"
             ],
             [
              0.2222222222222222,
              "#7201a8"
             ],
             [
              0.3333333333333333,
              "#9c179e"
             ],
             [
              0.4444444444444444,
              "#bd3786"
             ],
             [
              0.5555555555555556,
              "#d8576b"
             ],
             [
              0.6666666666666666,
              "#ed7953"
             ],
             [
              0.7777777777777778,
              "#fb9f3a"
             ],
             [
              0.8888888888888888,
              "#fdca26"
             ],
             [
              1,
              "#f0f921"
             ]
            ],
            "type": "contour"
           }
          ],
          "contourcarpet": [
           {
            "colorbar": {
             "outlinewidth": 0,
             "ticks": ""
            },
            "type": "contourcarpet"
           }
          ],
          "heatmap": [
           {
            "colorbar": {
             "outlinewidth": 0,
             "ticks": ""
            },
            "colorscale": [
             [
              0,
              "#0d0887"
             ],
             [
              0.1111111111111111,
              "#46039f"
             ],
             [
              0.2222222222222222,
              "#7201a8"
             ],
             [
              0.3333333333333333,
              "#9c179e"
             ],
             [
              0.4444444444444444,
              "#bd3786"
             ],
             [
              0.5555555555555556,
              "#d8576b"
             ],
             [
              0.6666666666666666,
              "#ed7953"
             ],
             [
              0.7777777777777778,
              "#fb9f3a"
             ],
             [
              0.8888888888888888,
              "#fdca26"
             ],
             [
              1,
              "#f0f921"
             ]
            ],
            "type": "heatmap"
           }
          ],
          "heatmapgl": [
           {
            "colorbar": {
             "outlinewidth": 0,
             "ticks": ""
            },
            "colorscale": [
             [
              0,
              "#0d0887"
             ],
             [
              0.1111111111111111,
              "#46039f"
             ],
             [
              0.2222222222222222,
              "#7201a8"
             ],
             [
              0.3333333333333333,
              "#9c179e"
             ],
             [
              0.4444444444444444,
              "#bd3786"
             ],
             [
              0.5555555555555556,
              "#d8576b"
             ],
             [
              0.6666666666666666,
              "#ed7953"
             ],
             [
              0.7777777777777778,
              "#fb9f3a"
             ],
             [
              0.8888888888888888,
              "#fdca26"
             ],
             [
              1,
              "#f0f921"
             ]
            ],
            "type": "heatmapgl"
           }
          ],
          "histogram": [
           {
            "marker": {
             "pattern": {
              "fillmode": "overlay",
              "size": 10,
              "solidity": 0.2
             }
            },
            "type": "histogram"
           }
          ],
          "histogram2d": [
           {
            "colorbar": {
             "outlinewidth": 0,
             "ticks": ""
            },
            "colorscale": [
             [
              0,
              "#0d0887"
             ],
             [
              0.1111111111111111,
              "#46039f"
             ],
             [
              0.2222222222222222,
              "#7201a8"
             ],
             [
              0.3333333333333333,
              "#9c179e"
             ],
             [
              0.4444444444444444,
              "#bd3786"
             ],
             [
              0.5555555555555556,
              "#d8576b"
             ],
             [
              0.6666666666666666,
              "#ed7953"
             ],
             [
              0.7777777777777778,
              "#fb9f3a"
             ],
             [
              0.8888888888888888,
              "#fdca26"
             ],
             [
              1,
              "#f0f921"
             ]
            ],
            "type": "histogram2d"
           }
          ],
          "histogram2dcontour": [
           {
            "colorbar": {
             "outlinewidth": 0,
             "ticks": ""
            },
            "colorscale": [
             [
              0,
              "#0d0887"
             ],
             [
              0.1111111111111111,
              "#46039f"
             ],
             [
              0.2222222222222222,
              "#7201a8"
             ],
             [
              0.3333333333333333,
              "#9c179e"
             ],
             [
              0.4444444444444444,
              "#bd3786"
             ],
             [
              0.5555555555555556,
              "#d8576b"
             ],
             [
              0.6666666666666666,
              "#ed7953"
             ],
             [
              0.7777777777777778,
              "#fb9f3a"
             ],
             [
              0.8888888888888888,
              "#fdca26"
             ],
             [
              1,
              "#f0f921"
             ]
            ],
            "type": "histogram2dcontour"
           }
          ],
          "mesh3d": [
           {
            "colorbar": {
             "outlinewidth": 0,
             "ticks": ""
            },
            "type": "mesh3d"
           }
          ],
          "parcoords": [
           {
            "line": {
             "colorbar": {
              "outlinewidth": 0,
              "ticks": ""
             }
            },
            "type": "parcoords"
           }
          ],
          "pie": [
           {
            "automargin": true,
            "type": "pie"
           }
          ],
          "scatter": [
           {
            "fillpattern": {
             "fillmode": "overlay",
             "size": 10,
             "solidity": 0.2
            },
            "type": "scatter"
           }
          ],
          "scatter3d": [
           {
            "line": {
             "colorbar": {
              "outlinewidth": 0,
              "ticks": ""
             }
            },
            "marker": {
             "colorbar": {
              "outlinewidth": 0,
              "ticks": ""
             }
            },
            "type": "scatter3d"
           }
          ],
          "scattercarpet": [
           {
            "marker": {
             "colorbar": {
              "outlinewidth": 0,
              "ticks": ""
             }
            },
            "type": "scattercarpet"
           }
          ],
          "scattergeo": [
           {
            "marker": {
             "colorbar": {
              "outlinewidth": 0,
              "ticks": ""
             }
            },
            "type": "scattergeo"
           }
          ],
          "scattergl": [
           {
            "marker": {
             "colorbar": {
              "outlinewidth": 0,
              "ticks": ""
             }
            },
            "type": "scattergl"
           }
          ],
          "scattermapbox": [
           {
            "marker": {
             "colorbar": {
              "outlinewidth": 0,
              "ticks": ""
             }
            },
            "type": "scattermapbox"
           }
          ],
          "scatterpolar": [
           {
            "marker": {
             "colorbar": {
              "outlinewidth": 0,
              "ticks": ""
             }
            },
            "type": "scatterpolar"
           }
          ],
          "scatterpolargl": [
           {
            "marker": {
             "colorbar": {
              "outlinewidth": 0,
              "ticks": ""
             }
            },
            "type": "scatterpolargl"
           }
          ],
          "scatterternary": [
           {
            "marker": {
             "colorbar": {
              "outlinewidth": 0,
              "ticks": ""
             }
            },
            "type": "scatterternary"
           }
          ],
          "surface": [
           {
            "colorbar": {
             "outlinewidth": 0,
             "ticks": ""
            },
            "colorscale": [
             [
              0,
              "#0d0887"
             ],
             [
              0.1111111111111111,
              "#46039f"
             ],
             [
              0.2222222222222222,
              "#7201a8"
             ],
             [
              0.3333333333333333,
              "#9c179e"
             ],
             [
              0.4444444444444444,
              "#bd3786"
             ],
             [
              0.5555555555555556,
              "#d8576b"
             ],
             [
              0.6666666666666666,
              "#ed7953"
             ],
             [
              0.7777777777777778,
              "#fb9f3a"
             ],
             [
              0.8888888888888888,
              "#fdca26"
             ],
             [
              1,
              "#f0f921"
             ]
            ],
            "type": "surface"
           }
          ],
          "table": [
           {
            "cells": {
             "fill": {
              "color": "#EBF0F8"
             },
             "line": {
              "color": "white"
             }
            },
            "header": {
             "fill": {
              "color": "#C8D4E3"
             },
             "line": {
              "color": "white"
             }
            },
            "type": "table"
           }
          ]
         },
         "layout": {
          "annotationdefaults": {
           "arrowcolor": "#2a3f5f",
           "arrowhead": 0,
           "arrowwidth": 1
          },
          "autotypenumbers": "strict",
          "coloraxis": {
           "colorbar": {
            "outlinewidth": 0,
            "ticks": ""
           }
          },
          "colorscale": {
           "diverging": [
            [
             0,
             "#8e0152"
            ],
            [
             0.1,
             "#c51b7d"
            ],
            [
             0.2,
             "#de77ae"
            ],
            [
             0.3,
             "#f1b6da"
            ],
            [
             0.4,
             "#fde0ef"
            ],
            [
             0.5,
             "#f7f7f7"
            ],
            [
             0.6,
             "#e6f5d0"
            ],
            [
             0.7,
             "#b8e186"
            ],
            [
             0.8,
             "#7fbc41"
            ],
            [
             0.9,
             "#4d9221"
            ],
            [
             1,
             "#276419"
            ]
           ],
           "sequential": [
            [
             0,
             "#0d0887"
            ],
            [
             0.1111111111111111,
             "#46039f"
            ],
            [
             0.2222222222222222,
             "#7201a8"
            ],
            [
             0.3333333333333333,
             "#9c179e"
            ],
            [
             0.4444444444444444,
             "#bd3786"
            ],
            [
             0.5555555555555556,
             "#d8576b"
            ],
            [
             0.6666666666666666,
             "#ed7953"
            ],
            [
             0.7777777777777778,
             "#fb9f3a"
            ],
            [
             0.8888888888888888,
             "#fdca26"
            ],
            [
             1,
             "#f0f921"
            ]
           ],
           "sequentialminus": [
            [
             0,
             "#0d0887"
            ],
            [
             0.1111111111111111,
             "#46039f"
            ],
            [
             0.2222222222222222,
             "#7201a8"
            ],
            [
             0.3333333333333333,
             "#9c179e"
            ],
            [
             0.4444444444444444,
             "#bd3786"
            ],
            [
             0.5555555555555556,
             "#d8576b"
            ],
            [
             0.6666666666666666,
             "#ed7953"
            ],
            [
             0.7777777777777778,
             "#fb9f3a"
            ],
            [
             0.8888888888888888,
             "#fdca26"
            ],
            [
             1,
             "#f0f921"
            ]
           ]
          },
          "colorway": [
           "#636efa",
           "#EF553B",
           "#00cc96",
           "#ab63fa",
           "#FFA15A",
           "#19d3f3",
           "#FF6692",
           "#B6E880",
           "#FF97FF",
           "#FECB52"
          ],
          "font": {
           "color": "#2a3f5f"
          },
          "geo": {
           "bgcolor": "white",
           "lakecolor": "white",
           "landcolor": "white",
           "showlakes": true,
           "showland": true,
           "subunitcolor": "#C8D4E3"
          },
          "hoverlabel": {
           "align": "left"
          },
          "hovermode": "closest",
          "mapbox": {
           "style": "light"
          },
          "paper_bgcolor": "white",
          "plot_bgcolor": "white",
          "polar": {
           "angularaxis": {
            "gridcolor": "#EBF0F8",
            "linecolor": "#EBF0F8",
            "ticks": ""
           },
           "bgcolor": "white",
           "radialaxis": {
            "gridcolor": "#EBF0F8",
            "linecolor": "#EBF0F8",
            "ticks": ""
           }
          },
          "scene": {
           "xaxis": {
            "backgroundcolor": "white",
            "gridcolor": "#DFE8F3",
            "gridwidth": 2,
            "linecolor": "#EBF0F8",
            "showbackground": true,
            "ticks": "",
            "zerolinecolor": "#EBF0F8"
           },
           "yaxis": {
            "backgroundcolor": "white",
            "gridcolor": "#DFE8F3",
            "gridwidth": 2,
            "linecolor": "#EBF0F8",
            "showbackground": true,
            "ticks": "",
            "zerolinecolor": "#EBF0F8"
           },
           "zaxis": {
            "backgroundcolor": "white",
            "gridcolor": "#DFE8F3",
            "gridwidth": 2,
            "linecolor": "#EBF0F8",
            "showbackground": true,
            "ticks": "",
            "zerolinecolor": "#EBF0F8"
           }
          },
          "shapedefaults": {
           "line": {
            "color": "#2a3f5f"
           }
          },
          "ternary": {
           "aaxis": {
            "gridcolor": "#DFE8F3",
            "linecolor": "#A2B1C6",
            "ticks": ""
           },
           "baxis": {
            "gridcolor": "#DFE8F3",
            "linecolor": "#A2B1C6",
            "ticks": ""
           },
           "bgcolor": "white",
           "caxis": {
            "gridcolor": "#DFE8F3",
            "linecolor": "#A2B1C6",
            "ticks": ""
           }
          },
          "title": {
           "x": 0.05
          },
          "xaxis": {
           "automargin": true,
           "gridcolor": "#EBF0F8",
           "linecolor": "#EBF0F8",
           "ticks": "",
           "title": {
            "standoff": 15
           },
           "zerolinecolor": "#EBF0F8",
           "zerolinewidth": 2
          },
          "yaxis": {
           "automargin": true,
           "gridcolor": "#EBF0F8",
           "linecolor": "#EBF0F8",
           "ticks": "",
           "title": {
            "standoff": 15
           },
           "zerolinecolor": "#EBF0F8",
           "zerolinewidth": 2
          }
         }
        },
        "xaxis": {
         "anchor": "y",
         "categoryarray": [
          "ESM2 8M",
          "ESM2 35M",
          "ESM2 150M",
          "Ankh",
          "ProtT5",
          "Ankh_large",
          "ESM2 650",
          "ESM2 3B"
         ],
         "categoryorder": "array",
         "domain": [
          0,
          1
         ],
         "title": {
          "text": "Model"
         }
        },
        "yaxis": {
         "anchor": "x",
         "domain": [
          0,
          1
         ],
         "title": {
          "text": "GB"
         }
        }
       }
      }
     },
     "metadata": {},
     "output_type": "display_data"
    }
   ],
   "source": [
    "plot_performance_per_feature(merged_df, 'GB')"
   ]
  },
  {
   "cell_type": "code",
   "execution_count": 137,
   "metadata": {},
   "outputs": [
    {
     "data": {
      "application/vnd.plotly.v1+json": {
       "config": {
        "plotlyServerURL": "https://plot.ly"
       },
       "data": [
        {
         "alignmentgroup": "True",
         "hovertemplate": "fine_tuning=embedding<br>Model=%{x}<br>Melt=%{y}<extra></extra>",
         "legendgroup": "embedding",
         "marker": {
          "color": "darkblue"
         },
         "name": "embedding",
         "notched": false,
         "offsetgroup": "embedding",
         "orientation": "v",
         "showlegend": true,
         "type": "box",
         "x": [
          "ESM2 8M",
          "ESM2 8M",
          "ESM2 8M",
          "ESM2 8M",
          "ESM2 8M",
          "ESM2 35M",
          "ESM2 35M",
          "ESM2 35M",
          "ESM2 35M",
          "ESM2 35M",
          "ESM2 150M",
          "ESM2 150M",
          "ESM2 150M",
          "ESM2 150M",
          "ESM2 150M",
          "ESM2 650",
          "ESM2 650",
          "ESM2 650",
          "ESM2 650",
          "ESM2 650",
          "ESM2 3B",
          "ESM2 3B",
          "ESM2 3B",
          "ESM2 3B",
          "ESM2 3B",
          "ProtT5",
          "ProtT5",
          "ProtT5",
          "ProtT5",
          "ProtT5",
          "Ankh",
          "Ankh",
          "Ankh",
          "Ankh",
          "Ankh",
          "Ankh_large",
          "Ankh_large",
          "Ankh_large",
          "Ankh_large",
          "Ankh_large"
         ],
         "x0": " ",
         "xaxis": "x",
         "y": [
          56,
          57,
          56,
          55,
          56,
          58,
          58,
          59,
          59,
          58,
          61,
          61,
          62,
          61,
          62,
          65,
          65,
          66,
          66,
          65,
          67,
          67,
          67,
          67,
          67,
          68,
          69,
          71,
          68,
          69,
          56,
          58,
          57,
          58,
          57,
          60,
          62,
          62,
          61,
          62
         ],
         "y0": " ",
         "yaxis": "y"
        },
        {
         "alignmentgroup": "True",
         "hovertemplate": "fine_tuning=full_model<br>Model=%{x}<br>Melt=%{y}<extra></extra>",
         "legendgroup": "full_model",
         "marker": {
          "color": "lightblue"
         },
         "name": "full_model",
         "notched": false,
         "offsetgroup": "full_model",
         "orientation": "v",
         "showlegend": true,
         "type": "box",
         "x": [
          "ESM2 8M",
          "ESM2 8M",
          "ESM2 8M",
          "ESM2 35M",
          "ESM2 35M",
          "ESM2 35M",
          "ESM2 150M",
          "ESM2 150M",
          "ESM2 150M",
          "ESM2 150M",
          "ESM2 650M",
          "ESM2 650M",
          "ESM2 650M"
         ],
         "x0": " ",
         "xaxis": "x",
         "y": [
          58,
          58,
          58,
          58,
          59,
          62,
          63,
          62,
          61,
          null,
          66,
          67,
          65
         ],
         "y0": " ",
         "yaxis": "y"
        },
        {
         "alignmentgroup": "True",
         "hovertemplate": "fine_tuning=LoRA<br>Model=%{x}<br>Melt=%{y}<extra></extra>",
         "legendgroup": "LoRA",
         "marker": {
          "color": "red"
         },
         "name": "LoRA",
         "notched": false,
         "offsetgroup": "LoRA",
         "orientation": "v",
         "showlegend": true,
         "type": "box",
         "x": [
          "ESM2 8M",
          "ESM2 8M",
          "ESM2 8M",
          "ESM2 35M",
          "ESM2 35M",
          "ESM2 35M",
          "ESM2 650M",
          "ESM2 650M",
          "ESM2 650M",
          "ESM2 3B",
          "ESM2 3B",
          "ESM2 3B",
          "ProtT5",
          "ProtT5",
          "ProtT5",
          "Ankh",
          "Ankh",
          "Ankh",
          "Ankh_large",
          "Ankh_large",
          "Ankh_large"
         ],
         "x0": " ",
         "xaxis": "x",
         "y": [
          54,
          59,
          57,
          59,
          57,
          57,
          60,
          59,
          60,
          61,
          64,
          63,
          71,
          68,
          70,
          62,
          61,
          60,
          57,
          58,
          64
         ],
         "y0": " ",
         "yaxis": "y"
        },
        {
         "alignmentgroup": "True",
         "hovertemplate": "fine_tuning=<br>Model=%{x}<br>Melt=%{y}<extra></extra>",
         "legendgroup": "",
         "marker": {
          "color": "darkblue"
         },
         "name": "",
         "notched": false,
         "offsetgroup": "",
         "orientation": "v",
         "showlegend": false,
         "type": "box",
         "x": [
          "",
          "",
          "",
          "",
          ""
         ],
         "x0": " ",
         "xaxis": "x",
         "y": [
          null,
          null,
          null,
          null,
          null
         ],
         "y0": " ",
         "yaxis": "y"
        }
       ],
       "layout": {
        "boxmode": "group",
        "font": {
         "color": "#303496",
         "family": "Arial"
        },
        "legend": {
         "title": {
          "text": "fine_tuning"
         },
         "tracegroupgap": 0
        },
        "margin": {
         "t": 60
        },
        "template": {
         "data": {
          "bar": [
           {
            "error_x": {
             "color": "#2a3f5f"
            },
            "error_y": {
             "color": "#2a3f5f"
            },
            "marker": {
             "line": {
              "color": "white",
              "width": 0.5
             },
             "pattern": {
              "fillmode": "overlay",
              "size": 10,
              "solidity": 0.2
             }
            },
            "type": "bar"
           }
          ],
          "barpolar": [
           {
            "marker": {
             "line": {
              "color": "white",
              "width": 0.5
             },
             "pattern": {
              "fillmode": "overlay",
              "size": 10,
              "solidity": 0.2
             }
            },
            "type": "barpolar"
           }
          ],
          "carpet": [
           {
            "aaxis": {
             "endlinecolor": "#2a3f5f",
             "gridcolor": "#C8D4E3",
             "linecolor": "#C8D4E3",
             "minorgridcolor": "#C8D4E3",
             "startlinecolor": "#2a3f5f"
            },
            "baxis": {
             "endlinecolor": "#2a3f5f",
             "gridcolor": "#C8D4E3",
             "linecolor": "#C8D4E3",
             "minorgridcolor": "#C8D4E3",
             "startlinecolor": "#2a3f5f"
            },
            "type": "carpet"
           }
          ],
          "choropleth": [
           {
            "colorbar": {
             "outlinewidth": 0,
             "ticks": ""
            },
            "type": "choropleth"
           }
          ],
          "contour": [
           {
            "colorbar": {
             "outlinewidth": 0,
             "ticks": ""
            },
            "colorscale": [
             [
              0,
              "#0d0887"
             ],
             [
              0.1111111111111111,
              "#46039f"
             ],
             [
              0.2222222222222222,
              "#7201a8"
             ],
             [
              0.3333333333333333,
              "#9c179e"
             ],
             [
              0.4444444444444444,
              "#bd3786"
             ],
             [
              0.5555555555555556,
              "#d8576b"
             ],
             [
              0.6666666666666666,
              "#ed7953"
             ],
             [
              0.7777777777777778,
              "#fb9f3a"
             ],
             [
              0.8888888888888888,
              "#fdca26"
             ],
             [
              1,
              "#f0f921"
             ]
            ],
            "type": "contour"
           }
          ],
          "contourcarpet": [
           {
            "colorbar": {
             "outlinewidth": 0,
             "ticks": ""
            },
            "type": "contourcarpet"
           }
          ],
          "heatmap": [
           {
            "colorbar": {
             "outlinewidth": 0,
             "ticks": ""
            },
            "colorscale": [
             [
              0,
              "#0d0887"
             ],
             [
              0.1111111111111111,
              "#46039f"
             ],
             [
              0.2222222222222222,
              "#7201a8"
             ],
             [
              0.3333333333333333,
              "#9c179e"
             ],
             [
              0.4444444444444444,
              "#bd3786"
             ],
             [
              0.5555555555555556,
              "#d8576b"
             ],
             [
              0.6666666666666666,
              "#ed7953"
             ],
             [
              0.7777777777777778,
              "#fb9f3a"
             ],
             [
              0.8888888888888888,
              "#fdca26"
             ],
             [
              1,
              "#f0f921"
             ]
            ],
            "type": "heatmap"
           }
          ],
          "heatmapgl": [
           {
            "colorbar": {
             "outlinewidth": 0,
             "ticks": ""
            },
            "colorscale": [
             [
              0,
              "#0d0887"
             ],
             [
              0.1111111111111111,
              "#46039f"
             ],
             [
              0.2222222222222222,
              "#7201a8"
             ],
             [
              0.3333333333333333,
              "#9c179e"
             ],
             [
              0.4444444444444444,
              "#bd3786"
             ],
             [
              0.5555555555555556,
              "#d8576b"
             ],
             [
              0.6666666666666666,
              "#ed7953"
             ],
             [
              0.7777777777777778,
              "#fb9f3a"
             ],
             [
              0.8888888888888888,
              "#fdca26"
             ],
             [
              1,
              "#f0f921"
             ]
            ],
            "type": "heatmapgl"
           }
          ],
          "histogram": [
           {
            "marker": {
             "pattern": {
              "fillmode": "overlay",
              "size": 10,
              "solidity": 0.2
             }
            },
            "type": "histogram"
           }
          ],
          "histogram2d": [
           {
            "colorbar": {
             "outlinewidth": 0,
             "ticks": ""
            },
            "colorscale": [
             [
              0,
              "#0d0887"
             ],
             [
              0.1111111111111111,
              "#46039f"
             ],
             [
              0.2222222222222222,
              "#7201a8"
             ],
             [
              0.3333333333333333,
              "#9c179e"
             ],
             [
              0.4444444444444444,
              "#bd3786"
             ],
             [
              0.5555555555555556,
              "#d8576b"
             ],
             [
              0.6666666666666666,
              "#ed7953"
             ],
             [
              0.7777777777777778,
              "#fb9f3a"
             ],
             [
              0.8888888888888888,
              "#fdca26"
             ],
             [
              1,
              "#f0f921"
             ]
            ],
            "type": "histogram2d"
           }
          ],
          "histogram2dcontour": [
           {
            "colorbar": {
             "outlinewidth": 0,
             "ticks": ""
            },
            "colorscale": [
             [
              0,
              "#0d0887"
             ],
             [
              0.1111111111111111,
              "#46039f"
             ],
             [
              0.2222222222222222,
              "#7201a8"
             ],
             [
              0.3333333333333333,
              "#9c179e"
             ],
             [
              0.4444444444444444,
              "#bd3786"
             ],
             [
              0.5555555555555556,
              "#d8576b"
             ],
             [
              0.6666666666666666,
              "#ed7953"
             ],
             [
              0.7777777777777778,
              "#fb9f3a"
             ],
             [
              0.8888888888888888,
              "#fdca26"
             ],
             [
              1,
              "#f0f921"
             ]
            ],
            "type": "histogram2dcontour"
           }
          ],
          "mesh3d": [
           {
            "colorbar": {
             "outlinewidth": 0,
             "ticks": ""
            },
            "type": "mesh3d"
           }
          ],
          "parcoords": [
           {
            "line": {
             "colorbar": {
              "outlinewidth": 0,
              "ticks": ""
             }
            },
            "type": "parcoords"
           }
          ],
          "pie": [
           {
            "automargin": true,
            "type": "pie"
           }
          ],
          "scatter": [
           {
            "fillpattern": {
             "fillmode": "overlay",
             "size": 10,
             "solidity": 0.2
            },
            "type": "scatter"
           }
          ],
          "scatter3d": [
           {
            "line": {
             "colorbar": {
              "outlinewidth": 0,
              "ticks": ""
             }
            },
            "marker": {
             "colorbar": {
              "outlinewidth": 0,
              "ticks": ""
             }
            },
            "type": "scatter3d"
           }
          ],
          "scattercarpet": [
           {
            "marker": {
             "colorbar": {
              "outlinewidth": 0,
              "ticks": ""
             }
            },
            "type": "scattercarpet"
           }
          ],
          "scattergeo": [
           {
            "marker": {
             "colorbar": {
              "outlinewidth": 0,
              "ticks": ""
             }
            },
            "type": "scattergeo"
           }
          ],
          "scattergl": [
           {
            "marker": {
             "colorbar": {
              "outlinewidth": 0,
              "ticks": ""
             }
            },
            "type": "scattergl"
           }
          ],
          "scattermapbox": [
           {
            "marker": {
             "colorbar": {
              "outlinewidth": 0,
              "ticks": ""
             }
            },
            "type": "scattermapbox"
           }
          ],
          "scatterpolar": [
           {
            "marker": {
             "colorbar": {
              "outlinewidth": 0,
              "ticks": ""
             }
            },
            "type": "scatterpolar"
           }
          ],
          "scatterpolargl": [
           {
            "marker": {
             "colorbar": {
              "outlinewidth": 0,
              "ticks": ""
             }
            },
            "type": "scatterpolargl"
           }
          ],
          "scatterternary": [
           {
            "marker": {
             "colorbar": {
              "outlinewidth": 0,
              "ticks": ""
             }
            },
            "type": "scatterternary"
           }
          ],
          "surface": [
           {
            "colorbar": {
             "outlinewidth": 0,
             "ticks": ""
            },
            "colorscale": [
             [
              0,
              "#0d0887"
             ],
             [
              0.1111111111111111,
              "#46039f"
             ],
             [
              0.2222222222222222,
              "#7201a8"
             ],
             [
              0.3333333333333333,
              "#9c179e"
             ],
             [
              0.4444444444444444,
              "#bd3786"
             ],
             [
              0.5555555555555556,
              "#d8576b"
             ],
             [
              0.6666666666666666,
              "#ed7953"
             ],
             [
              0.7777777777777778,
              "#fb9f3a"
             ],
             [
              0.8888888888888888,
              "#fdca26"
             ],
             [
              1,
              "#f0f921"
             ]
            ],
            "type": "surface"
           }
          ],
          "table": [
           {
            "cells": {
             "fill": {
              "color": "#EBF0F8"
             },
             "line": {
              "color": "white"
             }
            },
            "header": {
             "fill": {
              "color": "#C8D4E3"
             },
             "line": {
              "color": "white"
             }
            },
            "type": "table"
           }
          ]
         },
         "layout": {
          "annotationdefaults": {
           "arrowcolor": "#2a3f5f",
           "arrowhead": 0,
           "arrowwidth": 1
          },
          "autotypenumbers": "strict",
          "coloraxis": {
           "colorbar": {
            "outlinewidth": 0,
            "ticks": ""
           }
          },
          "colorscale": {
           "diverging": [
            [
             0,
             "#8e0152"
            ],
            [
             0.1,
             "#c51b7d"
            ],
            [
             0.2,
             "#de77ae"
            ],
            [
             0.3,
             "#f1b6da"
            ],
            [
             0.4,
             "#fde0ef"
            ],
            [
             0.5,
             "#f7f7f7"
            ],
            [
             0.6,
             "#e6f5d0"
            ],
            [
             0.7,
             "#b8e186"
            ],
            [
             0.8,
             "#7fbc41"
            ],
            [
             0.9,
             "#4d9221"
            ],
            [
             1,
             "#276419"
            ]
           ],
           "sequential": [
            [
             0,
             "#0d0887"
            ],
            [
             0.1111111111111111,
             "#46039f"
            ],
            [
             0.2222222222222222,
             "#7201a8"
            ],
            [
             0.3333333333333333,
             "#9c179e"
            ],
            [
             0.4444444444444444,
             "#bd3786"
            ],
            [
             0.5555555555555556,
             "#d8576b"
            ],
            [
             0.6666666666666666,
             "#ed7953"
            ],
            [
             0.7777777777777778,
             "#fb9f3a"
            ],
            [
             0.8888888888888888,
             "#fdca26"
            ],
            [
             1,
             "#f0f921"
            ]
           ],
           "sequentialminus": [
            [
             0,
             "#0d0887"
            ],
            [
             0.1111111111111111,
             "#46039f"
            ],
            [
             0.2222222222222222,
             "#7201a8"
            ],
            [
             0.3333333333333333,
             "#9c179e"
            ],
            [
             0.4444444444444444,
             "#bd3786"
            ],
            [
             0.5555555555555556,
             "#d8576b"
            ],
            [
             0.6666666666666666,
             "#ed7953"
            ],
            [
             0.7777777777777778,
             "#fb9f3a"
            ],
            [
             0.8888888888888888,
             "#fdca26"
            ],
            [
             1,
             "#f0f921"
            ]
           ]
          },
          "colorway": [
           "#636efa",
           "#EF553B",
           "#00cc96",
           "#ab63fa",
           "#FFA15A",
           "#19d3f3",
           "#FF6692",
           "#B6E880",
           "#FF97FF",
           "#FECB52"
          ],
          "font": {
           "color": "#2a3f5f"
          },
          "geo": {
           "bgcolor": "white",
           "lakecolor": "white",
           "landcolor": "white",
           "showlakes": true,
           "showland": true,
           "subunitcolor": "#C8D4E3"
          },
          "hoverlabel": {
           "align": "left"
          },
          "hovermode": "closest",
          "mapbox": {
           "style": "light"
          },
          "paper_bgcolor": "white",
          "plot_bgcolor": "white",
          "polar": {
           "angularaxis": {
            "gridcolor": "#EBF0F8",
            "linecolor": "#EBF0F8",
            "ticks": ""
           },
           "bgcolor": "white",
           "radialaxis": {
            "gridcolor": "#EBF0F8",
            "linecolor": "#EBF0F8",
            "ticks": ""
           }
          },
          "scene": {
           "xaxis": {
            "backgroundcolor": "white",
            "gridcolor": "#DFE8F3",
            "gridwidth": 2,
            "linecolor": "#EBF0F8",
            "showbackground": true,
            "ticks": "",
            "zerolinecolor": "#EBF0F8"
           },
           "yaxis": {
            "backgroundcolor": "white",
            "gridcolor": "#DFE8F3",
            "gridwidth": 2,
            "linecolor": "#EBF0F8",
            "showbackground": true,
            "ticks": "",
            "zerolinecolor": "#EBF0F8"
           },
           "zaxis": {
            "backgroundcolor": "white",
            "gridcolor": "#DFE8F3",
            "gridwidth": 2,
            "linecolor": "#EBF0F8",
            "showbackground": true,
            "ticks": "",
            "zerolinecolor": "#EBF0F8"
           }
          },
          "shapedefaults": {
           "line": {
            "color": "#2a3f5f"
           }
          },
          "ternary": {
           "aaxis": {
            "gridcolor": "#DFE8F3",
            "linecolor": "#A2B1C6",
            "ticks": ""
           },
           "baxis": {
            "gridcolor": "#DFE8F3",
            "linecolor": "#A2B1C6",
            "ticks": ""
           },
           "bgcolor": "white",
           "caxis": {
            "gridcolor": "#DFE8F3",
            "linecolor": "#A2B1C6",
            "ticks": ""
           }
          },
          "title": {
           "x": 0.05
          },
          "xaxis": {
           "automargin": true,
           "gridcolor": "#EBF0F8",
           "linecolor": "#EBF0F8",
           "ticks": "",
           "title": {
            "standoff": 15
           },
           "zerolinecolor": "#EBF0F8",
           "zerolinewidth": 2
          },
          "yaxis": {
           "automargin": true,
           "gridcolor": "#EBF0F8",
           "linecolor": "#EBF0F8",
           "ticks": "",
           "title": {
            "standoff": 15
           },
           "zerolinecolor": "#EBF0F8",
           "zerolinewidth": 2
          }
         }
        },
        "xaxis": {
         "anchor": "y",
         "categoryarray": [
          "ESM2 8M",
          "Ankh",
          "ESM2 35M",
          "Ankh_large",
          "ESM2 150M",
          "ESM2 650",
          "ESM2 3B",
          "ProtT5"
         ],
         "categoryorder": "array",
         "domain": [
          0,
          1
         ],
         "title": {
          "text": "Model"
         }
        },
        "yaxis": {
         "anchor": "x",
         "domain": [
          0,
          1
         ],
         "title": {
          "text": "Melt"
         }
        }
       }
      }
     },
     "metadata": {},
     "output_type": "display_data"
    }
   ],
   "source": [
    "plot_performance_per_feature(merged_df, 'Melt')"
   ]
  },
  {
   "cell_type": "code",
   "execution_count": 136,
   "metadata": {},
   "outputs": [
    {
     "data": {
      "application/vnd.plotly.v1+json": {
       "config": {
        "plotlyServerURL": "https://plot.ly"
       },
       "data": [
        {
         "alignmentgroup": "True",
         "hovertemplate": "fine_tuning=embedding<br>Model=%{x}<br>SubLoc=%{y}<extra></extra>",
         "legendgroup": "embedding",
         "marker": {
          "color": "darkblue"
         },
         "name": "embedding",
         "notched": false,
         "offsetgroup": "embedding",
         "orientation": "v",
         "showlegend": true,
         "type": "box",
         "x": [
          "ESM2 8M",
          "ESM2 8M",
          "ESM2 8M",
          "ESM2 8M",
          "ESM2 8M",
          "ESM2 35M",
          "ESM2 35M",
          "ESM2 35M",
          "ESM2 35M",
          "ESM2 35M",
          "ESM2 150M",
          "ESM2 150M",
          "ESM2 150M",
          "ESM2 150M",
          "ESM2 150M",
          "ESM2 650",
          "ESM2 650",
          "ESM2 650",
          "ESM2 650",
          "ESM2 650",
          "ESM2 3B",
          "ESM2 3B",
          "ESM2 3B",
          "ESM2 3B",
          "ESM2 3B",
          "ProtT5",
          "ProtT5",
          "ProtT5",
          "ProtT5",
          "ProtT5",
          "Ankh",
          "Ankh",
          "Ankh",
          "Ankh",
          "Ankh",
          "Ankh_large",
          "Ankh_large",
          "Ankh_large",
          "Ankh_large",
          "Ankh_large"
         ],
         "x0": " ",
         "xaxis": "x",
         "y": [
          52,
          53,
          51,
          52,
          51,
          54,
          54,
          56,
          54,
          54,
          58,
          60,
          61,
          58,
          58,
          61,
          64,
          61,
          62,
          64,
          63,
          63,
          65,
          64,
          64,
          62,
          63,
          59,
          60,
          62,
          60,
          59,
          61,
          59,
          60,
          61,
          58,
          59,
          62,
          60
         ],
         "y0": " ",
         "yaxis": "y"
        },
        {
         "alignmentgroup": "True",
         "hovertemplate": "fine_tuning=full_model<br>Model=%{x}<br>SubLoc=%{y}<extra></extra>",
         "legendgroup": "full_model",
         "marker": {
          "color": "lightblue"
         },
         "name": "full_model",
         "notched": false,
         "offsetgroup": "full_model",
         "orientation": "v",
         "showlegend": true,
         "type": "box",
         "x": [
          "ESM2 8M",
          "ESM2 8M",
          "ESM2 8M",
          "ESM2 35M",
          "ESM2 35M",
          "ESM2 35M",
          "ESM2 150M",
          "ESM2 150M",
          "ESM2 150M",
          "ESM2 150M",
          "ESM2 650M",
          "ESM2 650M",
          "ESM2 650M"
         ],
         "x0": " ",
         "xaxis": "x",
         "y": [
          54,
          57,
          55,
          59,
          56,
          58,
          60,
          61,
          62,
          null,
          65,
          63,
          62
         ],
         "y0": " ",
         "yaxis": "y"
        },
        {
         "alignmentgroup": "True",
         "hovertemplate": "fine_tuning=LoRA<br>Model=%{x}<br>SubLoc=%{y}<extra></extra>",
         "legendgroup": "LoRA",
         "marker": {
          "color": "red"
         },
         "name": "LoRA",
         "notched": false,
         "offsetgroup": "LoRA",
         "orientation": "v",
         "showlegend": true,
         "type": "box",
         "x": [
          "ESM2 8M",
          "ESM2 8M",
          "ESM2 8M",
          "ESM2 35M",
          "ESM2 35M",
          "ESM2 35M",
          "ESM2 650M",
          "ESM2 650M",
          "ESM2 650M",
          "ESM2 3B",
          "ESM2 3B",
          "ESM2 3B",
          "ProtT5",
          "ProtT5",
          "ProtT5",
          "Ankh",
          "Ankh",
          "Ankh",
          "Ankh_large",
          "Ankh_large",
          "Ankh_large"
         ],
         "x0": " ",
         "xaxis": "x",
         "y": [
          55,
          56,
          54,
          58,
          57,
          56,
          63,
          59,
          59,
          63,
          63,
          64,
          68,
          66,
          68,
          63,
          62,
          61,
          61,
          64,
          63
         ],
         "y0": " ",
         "yaxis": "y"
        },
        {
         "alignmentgroup": "True",
         "hovertemplate": "fine_tuning=<br>Model=%{x}<br>SubLoc=%{y}<extra></extra>",
         "legendgroup": "",
         "marker": {
          "color": "darkblue"
         },
         "name": "",
         "notched": false,
         "offsetgroup": "",
         "orientation": "v",
         "showlegend": false,
         "type": "box",
         "x": [
          "",
          "",
          "",
          "",
          ""
         ],
         "x0": " ",
         "xaxis": "x",
         "y": [
          null,
          null,
          null,
          null,
          null
         ],
         "y0": " ",
         "yaxis": "y"
        }
       ],
       "layout": {
        "boxmode": "group",
        "font": {
         "color": "#303496",
         "family": "Arial"
        },
        "legend": {
         "title": {
          "text": "fine_tuning"
         },
         "tracegroupgap": 0
        },
        "margin": {
         "t": 60
        },
        "template": {
         "data": {
          "bar": [
           {
            "error_x": {
             "color": "#2a3f5f"
            },
            "error_y": {
             "color": "#2a3f5f"
            },
            "marker": {
             "line": {
              "color": "white",
              "width": 0.5
             },
             "pattern": {
              "fillmode": "overlay",
              "size": 10,
              "solidity": 0.2
             }
            },
            "type": "bar"
           }
          ],
          "barpolar": [
           {
            "marker": {
             "line": {
              "color": "white",
              "width": 0.5
             },
             "pattern": {
              "fillmode": "overlay",
              "size": 10,
              "solidity": 0.2
             }
            },
            "type": "barpolar"
           }
          ],
          "carpet": [
           {
            "aaxis": {
             "endlinecolor": "#2a3f5f",
             "gridcolor": "#C8D4E3",
             "linecolor": "#C8D4E3",
             "minorgridcolor": "#C8D4E3",
             "startlinecolor": "#2a3f5f"
            },
            "baxis": {
             "endlinecolor": "#2a3f5f",
             "gridcolor": "#C8D4E3",
             "linecolor": "#C8D4E3",
             "minorgridcolor": "#C8D4E3",
             "startlinecolor": "#2a3f5f"
            },
            "type": "carpet"
           }
          ],
          "choropleth": [
           {
            "colorbar": {
             "outlinewidth": 0,
             "ticks": ""
            },
            "type": "choropleth"
           }
          ],
          "contour": [
           {
            "colorbar": {
             "outlinewidth": 0,
             "ticks": ""
            },
            "colorscale": [
             [
              0,
              "#0d0887"
             ],
             [
              0.1111111111111111,
              "#46039f"
             ],
             [
              0.2222222222222222,
              "#7201a8"
             ],
             [
              0.3333333333333333,
              "#9c179e"
             ],
             [
              0.4444444444444444,
              "#bd3786"
             ],
             [
              0.5555555555555556,
              "#d8576b"
             ],
             [
              0.6666666666666666,
              "#ed7953"
             ],
             [
              0.7777777777777778,
              "#fb9f3a"
             ],
             [
              0.8888888888888888,
              "#fdca26"
             ],
             [
              1,
              "#f0f921"
             ]
            ],
            "type": "contour"
           }
          ],
          "contourcarpet": [
           {
            "colorbar": {
             "outlinewidth": 0,
             "ticks": ""
            },
            "type": "contourcarpet"
           }
          ],
          "heatmap": [
           {
            "colorbar": {
             "outlinewidth": 0,
             "ticks": ""
            },
            "colorscale": [
             [
              0,
              "#0d0887"
             ],
             [
              0.1111111111111111,
              "#46039f"
             ],
             [
              0.2222222222222222,
              "#7201a8"
             ],
             [
              0.3333333333333333,
              "#9c179e"
             ],
             [
              0.4444444444444444,
              "#bd3786"
             ],
             [
              0.5555555555555556,
              "#d8576b"
             ],
             [
              0.6666666666666666,
              "#ed7953"
             ],
             [
              0.7777777777777778,
              "#fb9f3a"
             ],
             [
              0.8888888888888888,
              "#fdca26"
             ],
             [
              1,
              "#f0f921"
             ]
            ],
            "type": "heatmap"
           }
          ],
          "heatmapgl": [
           {
            "colorbar": {
             "outlinewidth": 0,
             "ticks": ""
            },
            "colorscale": [
             [
              0,
              "#0d0887"
             ],
             [
              0.1111111111111111,
              "#46039f"
             ],
             [
              0.2222222222222222,
              "#7201a8"
             ],
             [
              0.3333333333333333,
              "#9c179e"
             ],
             [
              0.4444444444444444,
              "#bd3786"
             ],
             [
              0.5555555555555556,
              "#d8576b"
             ],
             [
              0.6666666666666666,
              "#ed7953"
             ],
             [
              0.7777777777777778,
              "#fb9f3a"
             ],
             [
              0.8888888888888888,
              "#fdca26"
             ],
             [
              1,
              "#f0f921"
             ]
            ],
            "type": "heatmapgl"
           }
          ],
          "histogram": [
           {
            "marker": {
             "pattern": {
              "fillmode": "overlay",
              "size": 10,
              "solidity": 0.2
             }
            },
            "type": "histogram"
           }
          ],
          "histogram2d": [
           {
            "colorbar": {
             "outlinewidth": 0,
             "ticks": ""
            },
            "colorscale": [
             [
              0,
              "#0d0887"
             ],
             [
              0.1111111111111111,
              "#46039f"
             ],
             [
              0.2222222222222222,
              "#7201a8"
             ],
             [
              0.3333333333333333,
              "#9c179e"
             ],
             [
              0.4444444444444444,
              "#bd3786"
             ],
             [
              0.5555555555555556,
              "#d8576b"
             ],
             [
              0.6666666666666666,
              "#ed7953"
             ],
             [
              0.7777777777777778,
              "#fb9f3a"
             ],
             [
              0.8888888888888888,
              "#fdca26"
             ],
             [
              1,
              "#f0f921"
             ]
            ],
            "type": "histogram2d"
           }
          ],
          "histogram2dcontour": [
           {
            "colorbar": {
             "outlinewidth": 0,
             "ticks": ""
            },
            "colorscale": [
             [
              0,
              "#0d0887"
             ],
             [
              0.1111111111111111,
              "#46039f"
             ],
             [
              0.2222222222222222,
              "#7201a8"
             ],
             [
              0.3333333333333333,
              "#9c179e"
             ],
             [
              0.4444444444444444,
              "#bd3786"
             ],
             [
              0.5555555555555556,
              "#d8576b"
             ],
             [
              0.6666666666666666,
              "#ed7953"
             ],
             [
              0.7777777777777778,
              "#fb9f3a"
             ],
             [
              0.8888888888888888,
              "#fdca26"
             ],
             [
              1,
              "#f0f921"
             ]
            ],
            "type": "histogram2dcontour"
           }
          ],
          "mesh3d": [
           {
            "colorbar": {
             "outlinewidth": 0,
             "ticks": ""
            },
            "type": "mesh3d"
           }
          ],
          "parcoords": [
           {
            "line": {
             "colorbar": {
              "outlinewidth": 0,
              "ticks": ""
             }
            },
            "type": "parcoords"
           }
          ],
          "pie": [
           {
            "automargin": true,
            "type": "pie"
           }
          ],
          "scatter": [
           {
            "fillpattern": {
             "fillmode": "overlay",
             "size": 10,
             "solidity": 0.2
            },
            "type": "scatter"
           }
          ],
          "scatter3d": [
           {
            "line": {
             "colorbar": {
              "outlinewidth": 0,
              "ticks": ""
             }
            },
            "marker": {
             "colorbar": {
              "outlinewidth": 0,
              "ticks": ""
             }
            },
            "type": "scatter3d"
           }
          ],
          "scattercarpet": [
           {
            "marker": {
             "colorbar": {
              "outlinewidth": 0,
              "ticks": ""
             }
            },
            "type": "scattercarpet"
           }
          ],
          "scattergeo": [
           {
            "marker": {
             "colorbar": {
              "outlinewidth": 0,
              "ticks": ""
             }
            },
            "type": "scattergeo"
           }
          ],
          "scattergl": [
           {
            "marker": {
             "colorbar": {
              "outlinewidth": 0,
              "ticks": ""
             }
            },
            "type": "scattergl"
           }
          ],
          "scattermapbox": [
           {
            "marker": {
             "colorbar": {
              "outlinewidth": 0,
              "ticks": ""
             }
            },
            "type": "scattermapbox"
           }
          ],
          "scatterpolar": [
           {
            "marker": {
             "colorbar": {
              "outlinewidth": 0,
              "ticks": ""
             }
            },
            "type": "scatterpolar"
           }
          ],
          "scatterpolargl": [
           {
            "marker": {
             "colorbar": {
              "outlinewidth": 0,
              "ticks": ""
             }
            },
            "type": "scatterpolargl"
           }
          ],
          "scatterternary": [
           {
            "marker": {
             "colorbar": {
              "outlinewidth": 0,
              "ticks": ""
             }
            },
            "type": "scatterternary"
           }
          ],
          "surface": [
           {
            "colorbar": {
             "outlinewidth": 0,
             "ticks": ""
            },
            "colorscale": [
             [
              0,
              "#0d0887"
             ],
             [
              0.1111111111111111,
              "#46039f"
             ],
             [
              0.2222222222222222,
              "#7201a8"
             ],
             [
              0.3333333333333333,
              "#9c179e"
             ],
             [
              0.4444444444444444,
              "#bd3786"
             ],
             [
              0.5555555555555556,
              "#d8576b"
             ],
             [
              0.6666666666666666,
              "#ed7953"
             ],
             [
              0.7777777777777778,
              "#fb9f3a"
             ],
             [
              0.8888888888888888,
              "#fdca26"
             ],
             [
              1,
              "#f0f921"
             ]
            ],
            "type": "surface"
           }
          ],
          "table": [
           {
            "cells": {
             "fill": {
              "color": "#EBF0F8"
             },
             "line": {
              "color": "white"
             }
            },
            "header": {
             "fill": {
              "color": "#C8D4E3"
             },
             "line": {
              "color": "white"
             }
            },
            "type": "table"
           }
          ]
         },
         "layout": {
          "annotationdefaults": {
           "arrowcolor": "#2a3f5f",
           "arrowhead": 0,
           "arrowwidth": 1
          },
          "autotypenumbers": "strict",
          "coloraxis": {
           "colorbar": {
            "outlinewidth": 0,
            "ticks": ""
           }
          },
          "colorscale": {
           "diverging": [
            [
             0,
             "#8e0152"
            ],
            [
             0.1,
             "#c51b7d"
            ],
            [
             0.2,
             "#de77ae"
            ],
            [
             0.3,
             "#f1b6da"
            ],
            [
             0.4,
             "#fde0ef"
            ],
            [
             0.5,
             "#f7f7f7"
            ],
            [
             0.6,
             "#e6f5d0"
            ],
            [
             0.7,
             "#b8e186"
            ],
            [
             0.8,
             "#7fbc41"
            ],
            [
             0.9,
             "#4d9221"
            ],
            [
             1,
             "#276419"
            ]
           ],
           "sequential": [
            [
             0,
             "#0d0887"
            ],
            [
             0.1111111111111111,
             "#46039f"
            ],
            [
             0.2222222222222222,
             "#7201a8"
            ],
            [
             0.3333333333333333,
             "#9c179e"
            ],
            [
             0.4444444444444444,
             "#bd3786"
            ],
            [
             0.5555555555555556,
             "#d8576b"
            ],
            [
             0.6666666666666666,
             "#ed7953"
            ],
            [
             0.7777777777777778,
             "#fb9f3a"
            ],
            [
             0.8888888888888888,
             "#fdca26"
            ],
            [
             1,
             "#f0f921"
            ]
           ],
           "sequentialminus": [
            [
             0,
             "#0d0887"
            ],
            [
             0.1111111111111111,
             "#46039f"
            ],
            [
             0.2222222222222222,
             "#7201a8"
            ],
            [
             0.3333333333333333,
             "#9c179e"
            ],
            [
             0.4444444444444444,
             "#bd3786"
            ],
            [
             0.5555555555555556,
             "#d8576b"
            ],
            [
             0.6666666666666666,
             "#ed7953"
            ],
            [
             0.7777777777777778,
             "#fb9f3a"
            ],
            [
             0.8888888888888888,
             "#fdca26"
            ],
            [
             1,
             "#f0f921"
            ]
           ]
          },
          "colorway": [
           "#636efa",
           "#EF553B",
           "#00cc96",
           "#ab63fa",
           "#FFA15A",
           "#19d3f3",
           "#FF6692",
           "#B6E880",
           "#FF97FF",
           "#FECB52"
          ],
          "font": {
           "color": "#2a3f5f"
          },
          "geo": {
           "bgcolor": "white",
           "lakecolor": "white",
           "landcolor": "white",
           "showlakes": true,
           "showland": true,
           "subunitcolor": "#C8D4E3"
          },
          "hoverlabel": {
           "align": "left"
          },
          "hovermode": "closest",
          "mapbox": {
           "style": "light"
          },
          "paper_bgcolor": "white",
          "plot_bgcolor": "white",
          "polar": {
           "angularaxis": {
            "gridcolor": "#EBF0F8",
            "linecolor": "#EBF0F8",
            "ticks": ""
           },
           "bgcolor": "white",
           "radialaxis": {
            "gridcolor": "#EBF0F8",
            "linecolor": "#EBF0F8",
            "ticks": ""
           }
          },
          "scene": {
           "xaxis": {
            "backgroundcolor": "white",
            "gridcolor": "#DFE8F3",
            "gridwidth": 2,
            "linecolor": "#EBF0F8",
            "showbackground": true,
            "ticks": "",
            "zerolinecolor": "#EBF0F8"
           },
           "yaxis": {
            "backgroundcolor": "white",
            "gridcolor": "#DFE8F3",
            "gridwidth": 2,
            "linecolor": "#EBF0F8",
            "showbackground": true,
            "ticks": "",
            "zerolinecolor": "#EBF0F8"
           },
           "zaxis": {
            "backgroundcolor": "white",
            "gridcolor": "#DFE8F3",
            "gridwidth": 2,
            "linecolor": "#EBF0F8",
            "showbackground": true,
            "ticks": "",
            "zerolinecolor": "#EBF0F8"
           }
          },
          "shapedefaults": {
           "line": {
            "color": "#2a3f5f"
           }
          },
          "ternary": {
           "aaxis": {
            "gridcolor": "#DFE8F3",
            "linecolor": "#A2B1C6",
            "ticks": ""
           },
           "baxis": {
            "gridcolor": "#DFE8F3",
            "linecolor": "#A2B1C6",
            "ticks": ""
           },
           "bgcolor": "white",
           "caxis": {
            "gridcolor": "#DFE8F3",
            "linecolor": "#A2B1C6",
            "ticks": ""
           }
          },
          "title": {
           "x": 0.05
          },
          "xaxis": {
           "automargin": true,
           "gridcolor": "#EBF0F8",
           "linecolor": "#EBF0F8",
           "ticks": "",
           "title": {
            "standoff": 15
           },
           "zerolinecolor": "#EBF0F8",
           "zerolinewidth": 2
          },
          "yaxis": {
           "automargin": true,
           "gridcolor": "#EBF0F8",
           "linecolor": "#EBF0F8",
           "ticks": "",
           "title": {
            "standoff": 15
           },
           "zerolinecolor": "#EBF0F8",
           "zerolinewidth": 2
          }
         }
        },
        "xaxis": {
         "anchor": "y",
         "categoryarray": [
          "ESM2 8M",
          "ESM2 35M",
          "ESM2 150M",
          "Ankh",
          "Ankh_large",
          "ProtT5",
          "ESM2 650",
          "ESM2 3B"
         ],
         "categoryorder": "array",
         "domain": [
          0,
          1
         ],
         "title": {
          "text": "Model"
         }
        },
        "yaxis": {
         "anchor": "x",
         "domain": [
          0,
          1
         ],
         "title": {
          "text": "SubLoc"
         }
        }
       }
      }
     },
     "metadata": {},
     "output_type": "display_data"
    }
   ],
   "source": [
    "plot_performance_per_feature(merged_df, 'SubLoc')"
   ]
  },
  {
   "cell_type": "code",
   "execution_count": 135,
   "metadata": {},
   "outputs": [
    {
     "data": {
      "application/vnd.plotly.v1+json": {
       "config": {
        "plotlyServerURL": "https://plot.ly"
       },
       "data": [
        {
         "alignmentgroup": "True",
         "hovertemplate": "fine_tuning=embedding<br>Model=%{x}<br>Dis=%{y}<extra></extra>",
         "legendgroup": "embedding",
         "marker": {
          "color": "darkblue"
         },
         "name": "embedding",
         "notched": false,
         "offsetgroup": "embedding",
         "orientation": "v",
         "showlegend": true,
         "type": "box",
         "x": [
          "ESM2 8M",
          "ESM2 8M",
          "ESM2 8M",
          "ESM2 8M",
          "ESM2 8M",
          "ESM2 35M",
          "ESM2 35M",
          "ESM2 35M",
          "ESM2 35M",
          "ESM2 35M",
          "ESM2 150M",
          "ESM2 150M",
          "ESM2 150M",
          "ESM2 150M",
          "ESM2 150M",
          "ESM2 650",
          "ESM2 650",
          "ESM2 650",
          "ESM2 650",
          "ESM2 650",
          "ESM2 3B",
          "ESM2 3B",
          "ESM2 3B",
          "ESM2 3B",
          "ESM2 3B",
          "ProtT5",
          "ProtT5",
          "ProtT5",
          "ProtT5",
          "ProtT5",
          "Ankh",
          "Ankh",
          "Ankh",
          "Ankh",
          "Ankh",
          "Ankh_large",
          "Ankh_large",
          "Ankh_large",
          "Ankh_large",
          "Ankh_large"
         ],
         "x0": " ",
         "xaxis": "x",
         "y": [
          70,
          70,
          69,
          69,
          69,
          68,
          67,
          69,
          68,
          68,
          71,
          71,
          71,
          71,
          70,
          72,
          71,
          72,
          71,
          72,
          71,
          70,
          71,
          70,
          70,
          71,
          71,
          70,
          70,
          71,
          70,
          70,
          70,
          71,
          71,
          69,
          69,
          70,
          69,
          70
         ],
         "y0": " ",
         "yaxis": "y"
        },
        {
         "alignmentgroup": "True",
         "hovertemplate": "fine_tuning=full_model<br>Model=%{x}<br>Dis=%{y}<extra></extra>",
         "legendgroup": "full_model",
         "marker": {
          "color": "lightblue"
         },
         "name": "full_model",
         "notched": false,
         "offsetgroup": "full_model",
         "orientation": "v",
         "showlegend": true,
         "type": "box",
         "x": [
          "ESM2 8M",
          "ESM2 8M",
          "ESM2 8M",
          "ESM2 35M",
          "ESM2 35M",
          "ESM2 35M",
          "ESM2 150M",
          "ESM2 150M",
          "ESM2 150M",
          "ESM2 150M",
          "ESM2 650M",
          "ESM2 650M",
          "ESM2 650M"
         ],
         "x0": " ",
         "xaxis": "x",
         "y": [
          71,
          71,
          71,
          72,
          74,
          73,
          74,
          72,
          74,
          null,
          72,
          72,
          71
         ],
         "y0": " ",
         "yaxis": "y"
        },
        {
         "alignmentgroup": "True",
         "hovertemplate": "fine_tuning=LoRA<br>Model=%{x}<br>Dis=%{y}<extra></extra>",
         "legendgroup": "LoRA",
         "marker": {
          "color": "red"
         },
         "name": "LoRA",
         "notched": false,
         "offsetgroup": "LoRA",
         "orientation": "v",
         "showlegend": true,
         "type": "box",
         "x": [
          "ESM2 8M",
          "ESM2 8M",
          "ESM2 8M",
          "ESM2 35M",
          "ESM2 35M",
          "ESM2 35M",
          "ESM2 650M",
          "ESM2 650M",
          "ESM2 650M",
          "ESM2 3B",
          "ESM2 3B",
          "ESM2 3B",
          "ProtT5",
          "ProtT5",
          "ProtT5",
          "Ankh",
          "Ankh",
          "Ankh",
          "Ankh_large",
          "Ankh_large",
          "Ankh_large"
         ],
         "x0": " ",
         "xaxis": "x",
         "y": [
          66,
          66,
          68,
          68,
          69,
          68,
          67,
          70,
          69,
          71,
          72,
          71,
          71,
          70,
          72,
          68,
          68,
          68,
          69,
          68,
          68
         ],
         "y0": " ",
         "yaxis": "y"
        },
        {
         "alignmentgroup": "True",
         "hovertemplate": "fine_tuning=<br>Model=%{x}<br>Dis=%{y}<extra></extra>",
         "legendgroup": "",
         "marker": {
          "color": "darkblue"
         },
         "name": "",
         "notched": false,
         "offsetgroup": "",
         "orientation": "v",
         "showlegend": false,
         "type": "box",
         "x": [
          "",
          "",
          "",
          "",
          ""
         ],
         "x0": " ",
         "xaxis": "x",
         "y": [
          null,
          null,
          null,
          null,
          null
         ],
         "y0": " ",
         "yaxis": "y"
        }
       ],
       "layout": {
        "boxmode": "group",
        "font": {
         "color": "#303496",
         "family": "Arial"
        },
        "legend": {
         "title": {
          "text": "fine_tuning"
         },
         "tracegroupgap": 0
        },
        "margin": {
         "t": 60
        },
        "template": {
         "data": {
          "bar": [
           {
            "error_x": {
             "color": "#2a3f5f"
            },
            "error_y": {
             "color": "#2a3f5f"
            },
            "marker": {
             "line": {
              "color": "white",
              "width": 0.5
             },
             "pattern": {
              "fillmode": "overlay",
              "size": 10,
              "solidity": 0.2
             }
            },
            "type": "bar"
           }
          ],
          "barpolar": [
           {
            "marker": {
             "line": {
              "color": "white",
              "width": 0.5
             },
             "pattern": {
              "fillmode": "overlay",
              "size": 10,
              "solidity": 0.2
             }
            },
            "type": "barpolar"
           }
          ],
          "carpet": [
           {
            "aaxis": {
             "endlinecolor": "#2a3f5f",
             "gridcolor": "#C8D4E3",
             "linecolor": "#C8D4E3",
             "minorgridcolor": "#C8D4E3",
             "startlinecolor": "#2a3f5f"
            },
            "baxis": {
             "endlinecolor": "#2a3f5f",
             "gridcolor": "#C8D4E3",
             "linecolor": "#C8D4E3",
             "minorgridcolor": "#C8D4E3",
             "startlinecolor": "#2a3f5f"
            },
            "type": "carpet"
           }
          ],
          "choropleth": [
           {
            "colorbar": {
             "outlinewidth": 0,
             "ticks": ""
            },
            "type": "choropleth"
           }
          ],
          "contour": [
           {
            "colorbar": {
             "outlinewidth": 0,
             "ticks": ""
            },
            "colorscale": [
             [
              0,
              "#0d0887"
             ],
             [
              0.1111111111111111,
              "#46039f"
             ],
             [
              0.2222222222222222,
              "#7201a8"
             ],
             [
              0.3333333333333333,
              "#9c179e"
             ],
             [
              0.4444444444444444,
              "#bd3786"
             ],
             [
              0.5555555555555556,
              "#d8576b"
             ],
             [
              0.6666666666666666,
              "#ed7953"
             ],
             [
              0.7777777777777778,
              "#fb9f3a"
             ],
             [
              0.8888888888888888,
              "#fdca26"
             ],
             [
              1,
              "#f0f921"
             ]
            ],
            "type": "contour"
           }
          ],
          "contourcarpet": [
           {
            "colorbar": {
             "outlinewidth": 0,
             "ticks": ""
            },
            "type": "contourcarpet"
           }
          ],
          "heatmap": [
           {
            "colorbar": {
             "outlinewidth": 0,
             "ticks": ""
            },
            "colorscale": [
             [
              0,
              "#0d0887"
             ],
             [
              0.1111111111111111,
              "#46039f"
             ],
             [
              0.2222222222222222,
              "#7201a8"
             ],
             [
              0.3333333333333333,
              "#9c179e"
             ],
             [
              0.4444444444444444,
              "#bd3786"
             ],
             [
              0.5555555555555556,
              "#d8576b"
             ],
             [
              0.6666666666666666,
              "#ed7953"
             ],
             [
              0.7777777777777778,
              "#fb9f3a"
             ],
             [
              0.8888888888888888,
              "#fdca26"
             ],
             [
              1,
              "#f0f921"
             ]
            ],
            "type": "heatmap"
           }
          ],
          "heatmapgl": [
           {
            "colorbar": {
             "outlinewidth": 0,
             "ticks": ""
            },
            "colorscale": [
             [
              0,
              "#0d0887"
             ],
             [
              0.1111111111111111,
              "#46039f"
             ],
             [
              0.2222222222222222,
              "#7201a8"
             ],
             [
              0.3333333333333333,
              "#9c179e"
             ],
             [
              0.4444444444444444,
              "#bd3786"
             ],
             [
              0.5555555555555556,
              "#d8576b"
             ],
             [
              0.6666666666666666,
              "#ed7953"
             ],
             [
              0.7777777777777778,
              "#fb9f3a"
             ],
             [
              0.8888888888888888,
              "#fdca26"
             ],
             [
              1,
              "#f0f921"
             ]
            ],
            "type": "heatmapgl"
           }
          ],
          "histogram": [
           {
            "marker": {
             "pattern": {
              "fillmode": "overlay",
              "size": 10,
              "solidity": 0.2
             }
            },
            "type": "histogram"
           }
          ],
          "histogram2d": [
           {
            "colorbar": {
             "outlinewidth": 0,
             "ticks": ""
            },
            "colorscale": [
             [
              0,
              "#0d0887"
             ],
             [
              0.1111111111111111,
              "#46039f"
             ],
             [
              0.2222222222222222,
              "#7201a8"
             ],
             [
              0.3333333333333333,
              "#9c179e"
             ],
             [
              0.4444444444444444,
              "#bd3786"
             ],
             [
              0.5555555555555556,
              "#d8576b"
             ],
             [
              0.6666666666666666,
              "#ed7953"
             ],
             [
              0.7777777777777778,
              "#fb9f3a"
             ],
             [
              0.8888888888888888,
              "#fdca26"
             ],
             [
              1,
              "#f0f921"
             ]
            ],
            "type": "histogram2d"
           }
          ],
          "histogram2dcontour": [
           {
            "colorbar": {
             "outlinewidth": 0,
             "ticks": ""
            },
            "colorscale": [
             [
              0,
              "#0d0887"
             ],
             [
              0.1111111111111111,
              "#46039f"
             ],
             [
              0.2222222222222222,
              "#7201a8"
             ],
             [
              0.3333333333333333,
              "#9c179e"
             ],
             [
              0.4444444444444444,
              "#bd3786"
             ],
             [
              0.5555555555555556,
              "#d8576b"
             ],
             [
              0.6666666666666666,
              "#ed7953"
             ],
             [
              0.7777777777777778,
              "#fb9f3a"
             ],
             [
              0.8888888888888888,
              "#fdca26"
             ],
             [
              1,
              "#f0f921"
             ]
            ],
            "type": "histogram2dcontour"
           }
          ],
          "mesh3d": [
           {
            "colorbar": {
             "outlinewidth": 0,
             "ticks": ""
            },
            "type": "mesh3d"
           }
          ],
          "parcoords": [
           {
            "line": {
             "colorbar": {
              "outlinewidth": 0,
              "ticks": ""
             }
            },
            "type": "parcoords"
           }
          ],
          "pie": [
           {
            "automargin": true,
            "type": "pie"
           }
          ],
          "scatter": [
           {
            "fillpattern": {
             "fillmode": "overlay",
             "size": 10,
             "solidity": 0.2
            },
            "type": "scatter"
           }
          ],
          "scatter3d": [
           {
            "line": {
             "colorbar": {
              "outlinewidth": 0,
              "ticks": ""
             }
            },
            "marker": {
             "colorbar": {
              "outlinewidth": 0,
              "ticks": ""
             }
            },
            "type": "scatter3d"
           }
          ],
          "scattercarpet": [
           {
            "marker": {
             "colorbar": {
              "outlinewidth": 0,
              "ticks": ""
             }
            },
            "type": "scattercarpet"
           }
          ],
          "scattergeo": [
           {
            "marker": {
             "colorbar": {
              "outlinewidth": 0,
              "ticks": ""
             }
            },
            "type": "scattergeo"
           }
          ],
          "scattergl": [
           {
            "marker": {
             "colorbar": {
              "outlinewidth": 0,
              "ticks": ""
             }
            },
            "type": "scattergl"
           }
          ],
          "scattermapbox": [
           {
            "marker": {
             "colorbar": {
              "outlinewidth": 0,
              "ticks": ""
             }
            },
            "type": "scattermapbox"
           }
          ],
          "scatterpolar": [
           {
            "marker": {
             "colorbar": {
              "outlinewidth": 0,
              "ticks": ""
             }
            },
            "type": "scatterpolar"
           }
          ],
          "scatterpolargl": [
           {
            "marker": {
             "colorbar": {
              "outlinewidth": 0,
              "ticks": ""
             }
            },
            "type": "scatterpolargl"
           }
          ],
          "scatterternary": [
           {
            "marker": {
             "colorbar": {
              "outlinewidth": 0,
              "ticks": ""
             }
            },
            "type": "scatterternary"
           }
          ],
          "surface": [
           {
            "colorbar": {
             "outlinewidth": 0,
             "ticks": ""
            },
            "colorscale": [
             [
              0,
              "#0d0887"
             ],
             [
              0.1111111111111111,
              "#46039f"
             ],
             [
              0.2222222222222222,
              "#7201a8"
             ],
             [
              0.3333333333333333,
              "#9c179e"
             ],
             [
              0.4444444444444444,
              "#bd3786"
             ],
             [
              0.5555555555555556,
              "#d8576b"
             ],
             [
              0.6666666666666666,
              "#ed7953"
             ],
             [
              0.7777777777777778,
              "#fb9f3a"
             ],
             [
              0.8888888888888888,
              "#fdca26"
             ],
             [
              1,
              "#f0f921"
             ]
            ],
            "type": "surface"
           }
          ],
          "table": [
           {
            "cells": {
             "fill": {
              "color": "#EBF0F8"
             },
             "line": {
              "color": "white"
             }
            },
            "header": {
             "fill": {
              "color": "#C8D4E3"
             },
             "line": {
              "color": "white"
             }
            },
            "type": "table"
           }
          ]
         },
         "layout": {
          "annotationdefaults": {
           "arrowcolor": "#2a3f5f",
           "arrowhead": 0,
           "arrowwidth": 1
          },
          "autotypenumbers": "strict",
          "coloraxis": {
           "colorbar": {
            "outlinewidth": 0,
            "ticks": ""
           }
          },
          "colorscale": {
           "diverging": [
            [
             0,
             "#8e0152"
            ],
            [
             0.1,
             "#c51b7d"
            ],
            [
             0.2,
             "#de77ae"
            ],
            [
             0.3,
             "#f1b6da"
            ],
            [
             0.4,
             "#fde0ef"
            ],
            [
             0.5,
             "#f7f7f7"
            ],
            [
             0.6,
             "#e6f5d0"
            ],
            [
             0.7,
             "#b8e186"
            ],
            [
             0.8,
             "#7fbc41"
            ],
            [
             0.9,
             "#4d9221"
            ],
            [
             1,
             "#276419"
            ]
           ],
           "sequential": [
            [
             0,
             "#0d0887"
            ],
            [
             0.1111111111111111,
             "#46039f"
            ],
            [
             0.2222222222222222,
             "#7201a8"
            ],
            [
             0.3333333333333333,
             "#9c179e"
            ],
            [
             0.4444444444444444,
             "#bd3786"
            ],
            [
             0.5555555555555556,
             "#d8576b"
            ],
            [
             0.6666666666666666,
             "#ed7953"
            ],
            [
             0.7777777777777778,
             "#fb9f3a"
            ],
            [
             0.8888888888888888,
             "#fdca26"
            ],
            [
             1,
             "#f0f921"
            ]
           ],
           "sequentialminus": [
            [
             0,
             "#0d0887"
            ],
            [
             0.1111111111111111,
             "#46039f"
            ],
            [
             0.2222222222222222,
             "#7201a8"
            ],
            [
             0.3333333333333333,
             "#9c179e"
            ],
            [
             0.4444444444444444,
             "#bd3786"
            ],
            [
             0.5555555555555556,
             "#d8576b"
            ],
            [
             0.6666666666666666,
             "#ed7953"
            ],
            [
             0.7777777777777778,
             "#fb9f3a"
            ],
            [
             0.8888888888888888,
             "#fdca26"
            ],
            [
             1,
             "#f0f921"
            ]
           ]
          },
          "colorway": [
           "#636efa",
           "#EF553B",
           "#00cc96",
           "#ab63fa",
           "#FFA15A",
           "#19d3f3",
           "#FF6692",
           "#B6E880",
           "#FF97FF",
           "#FECB52"
          ],
          "font": {
           "color": "#2a3f5f"
          },
          "geo": {
           "bgcolor": "white",
           "lakecolor": "white",
           "landcolor": "white",
           "showlakes": true,
           "showland": true,
           "subunitcolor": "#C8D4E3"
          },
          "hoverlabel": {
           "align": "left"
          },
          "hovermode": "closest",
          "mapbox": {
           "style": "light"
          },
          "paper_bgcolor": "white",
          "plot_bgcolor": "white",
          "polar": {
           "angularaxis": {
            "gridcolor": "#EBF0F8",
            "linecolor": "#EBF0F8",
            "ticks": ""
           },
           "bgcolor": "white",
           "radialaxis": {
            "gridcolor": "#EBF0F8",
            "linecolor": "#EBF0F8",
            "ticks": ""
           }
          },
          "scene": {
           "xaxis": {
            "backgroundcolor": "white",
            "gridcolor": "#DFE8F3",
            "gridwidth": 2,
            "linecolor": "#EBF0F8",
            "showbackground": true,
            "ticks": "",
            "zerolinecolor": "#EBF0F8"
           },
           "yaxis": {
            "backgroundcolor": "white",
            "gridcolor": "#DFE8F3",
            "gridwidth": 2,
            "linecolor": "#EBF0F8",
            "showbackground": true,
            "ticks": "",
            "zerolinecolor": "#EBF0F8"
           },
           "zaxis": {
            "backgroundcolor": "white",
            "gridcolor": "#DFE8F3",
            "gridwidth": 2,
            "linecolor": "#EBF0F8",
            "showbackground": true,
            "ticks": "",
            "zerolinecolor": "#EBF0F8"
           }
          },
          "shapedefaults": {
           "line": {
            "color": "#2a3f5f"
           }
          },
          "ternary": {
           "aaxis": {
            "gridcolor": "#DFE8F3",
            "linecolor": "#A2B1C6",
            "ticks": ""
           },
           "baxis": {
            "gridcolor": "#DFE8F3",
            "linecolor": "#A2B1C6",
            "ticks": ""
           },
           "bgcolor": "white",
           "caxis": {
            "gridcolor": "#DFE8F3",
            "linecolor": "#A2B1C6",
            "ticks": ""
           }
          },
          "title": {
           "x": 0.05
          },
          "xaxis": {
           "automargin": true,
           "gridcolor": "#EBF0F8",
           "linecolor": "#EBF0F8",
           "ticks": "",
           "title": {
            "standoff": 15
           },
           "zerolinecolor": "#EBF0F8",
           "zerolinewidth": 2
          },
          "yaxis": {
           "automargin": true,
           "gridcolor": "#EBF0F8",
           "linecolor": "#EBF0F8",
           "ticks": "",
           "title": {
            "standoff": 15
           },
           "zerolinecolor": "#EBF0F8",
           "zerolinewidth": 2
          }
         }
        },
        "xaxis": {
         "anchor": "y",
         "categoryarray": [
          "ESM2 35M",
          "Ankh_large",
          "ESM2 8M",
          "Ankh",
          "ESM2 3B",
          "ProtT5",
          "ESM2 150M",
          "ESM2 650"
         ],
         "categoryorder": "array",
         "domain": [
          0,
          1
         ],
         "title": {
          "text": "Model"
         }
        },
        "yaxis": {
         "anchor": "x",
         "domain": [
          0,
          1
         ],
         "title": {
          "text": "Dis"
         }
        }
       }
      }
     },
     "metadata": {},
     "output_type": "display_data"
    }
   ],
   "source": [
    "plot_performance_per_feature(merged_df, 'Dis')"
   ]
  },
  {
   "cell_type": "code",
   "execution_count": 133,
   "metadata": {},
   "outputs": [
    {
     "data": {
      "application/vnd.plotly.v1+json": {
       "config": {
        "plotlyServerURL": "https://plot.ly"
       },
       "data": [
        {
         "alignmentgroup": "True",
         "hovertemplate": "fine_tuning=embedding<br>Model=%{x}<br>SecStr=%{y}<extra></extra>",
         "legendgroup": "embedding",
         "marker": {
          "color": "darkblue"
         },
         "name": "embedding",
         "notched": false,
         "offsetgroup": "embedding",
         "orientation": "v",
         "showlegend": true,
         "type": "box",
         "x": [
          "ESM2 8M",
          "ESM2 8M",
          "ESM2 8M",
          "ESM2 8M",
          "ESM2 8M",
          "ESM2 35M",
          "ESM2 35M",
          "ESM2 35M",
          "ESM2 35M",
          "ESM2 35M",
          "ESM2 150M",
          "ESM2 150M",
          "ESM2 150M",
          "ESM2 150M",
          "ESM2 150M",
          "ESM2 650",
          "ESM2 650",
          "ESM2 650",
          "ESM2 650",
          "ESM2 650",
          "ESM2 3B",
          "ESM2 3B",
          "ESM2 3B",
          "ESM2 3B",
          "ESM2 3B",
          "ProtT5",
          "ProtT5",
          "ProtT5",
          "ProtT5",
          "ProtT5",
          "Ankh",
          "Ankh",
          "Ankh",
          "Ankh",
          "Ankh",
          "Ankh_large",
          "Ankh_large",
          "Ankh_large",
          "Ankh_large",
          "Ankh_large"
         ],
         "x0": " ",
         "xaxis": "x",
         "y": [
          75,
          75,
          75,
          75,
          75,
          78,
          78,
          78,
          78,
          78,
          82,
          82,
          82,
          82,
          82,
          84,
          84,
          84,
          84,
          84,
          85,
          85,
          85,
          85,
          85,
          84,
          84,
          84,
          84,
          84,
          84,
          84,
          84,
          84,
          84,
          86,
          86,
          86,
          86,
          86
         ],
         "y0": " ",
         "yaxis": "y"
        },
        {
         "alignmentgroup": "True",
         "hovertemplate": "fine_tuning=full_model<br>Model=%{x}<br>SecStr=%{y}<extra></extra>",
         "legendgroup": "full_model",
         "marker": {
          "color": "lightblue"
         },
         "name": "full_model",
         "notched": false,
         "offsetgroup": "full_model",
         "orientation": "v",
         "showlegend": true,
         "type": "box",
         "x": [
          "ESM2 8M",
          "ESM2 8M",
          "ESM2 8M",
          "ESM2 35M",
          "ESM2 35M",
          "ESM2 35M",
          "ESM2 150M",
          "ESM2 150M",
          "ESM2 150M",
          "ESM2 150M",
          "ESM2 650M",
          "ESM2 650M",
          "ESM2 650M"
         ],
         "x0": " ",
         "xaxis": "x",
         "y": [
          76,
          76,
          76,
          79,
          79,
          79,
          82,
          82,
          82,
          null,
          85,
          85,
          85
         ],
         "y0": " ",
         "yaxis": "y"
        },
        {
         "alignmentgroup": "True",
         "hovertemplate": "fine_tuning=LoRA<br>Model=%{x}<br>SecStr=%{y}<extra></extra>",
         "legendgroup": "LoRA",
         "marker": {
          "color": "red"
         },
         "name": "LoRA",
         "notched": false,
         "offsetgroup": "LoRA",
         "orientation": "v",
         "showlegend": true,
         "type": "box",
         "x": [
          "ESM2 8M",
          "ESM2 8M",
          "ESM2 8M",
          "ESM2 35M",
          "ESM2 35M",
          "ESM2 35M",
          "ESM2 650M",
          "ESM2 650M",
          "ESM2 650M",
          "ESM2 3B",
          "ESM2 3B",
          "ESM2 3B",
          "ProtT5",
          "ProtT5",
          "ProtT5",
          "Ankh",
          "Ankh",
          "Ankh",
          "Ankh_large",
          "Ankh_large",
          "Ankh_large"
         ],
         "x0": " ",
         "xaxis": "x",
         "y": [
          75,
          76,
          75,
          78,
          78,
          78,
          82,
          82,
          82,
          85,
          85,
          85,
          86,
          86,
          86,
          84,
          84,
          83,
          85,
          85,
          85
         ],
         "y0": " ",
         "yaxis": "y"
        },
        {
         "alignmentgroup": "True",
         "hovertemplate": "fine_tuning=<br>Model=%{x}<br>SecStr=%{y}<extra></extra>",
         "legendgroup": "",
         "marker": {
          "color": "darkblue"
         },
         "name": "",
         "notched": false,
         "offsetgroup": "",
         "orientation": "v",
         "showlegend": false,
         "type": "box",
         "x": [
          "",
          "",
          "",
          "",
          ""
         ],
         "x0": " ",
         "xaxis": "x",
         "y": [
          null,
          null,
          null,
          null,
          null
         ],
         "y0": " ",
         "yaxis": "y"
        }
       ],
       "layout": {
        "boxmode": "group",
        "font": {
         "color": "#303496",
         "family": "Arial"
        },
        "legend": {
         "title": {
          "text": "fine_tuning"
         },
         "tracegroupgap": 0
        },
        "margin": {
         "t": 60
        },
        "template": {
         "data": {
          "bar": [
           {
            "error_x": {
             "color": "#2a3f5f"
            },
            "error_y": {
             "color": "#2a3f5f"
            },
            "marker": {
             "line": {
              "color": "white",
              "width": 0.5
             },
             "pattern": {
              "fillmode": "overlay",
              "size": 10,
              "solidity": 0.2
             }
            },
            "type": "bar"
           }
          ],
          "barpolar": [
           {
            "marker": {
             "line": {
              "color": "white",
              "width": 0.5
             },
             "pattern": {
              "fillmode": "overlay",
              "size": 10,
              "solidity": 0.2
             }
            },
            "type": "barpolar"
           }
          ],
          "carpet": [
           {
            "aaxis": {
             "endlinecolor": "#2a3f5f",
             "gridcolor": "#C8D4E3",
             "linecolor": "#C8D4E3",
             "minorgridcolor": "#C8D4E3",
             "startlinecolor": "#2a3f5f"
            },
            "baxis": {
             "endlinecolor": "#2a3f5f",
             "gridcolor": "#C8D4E3",
             "linecolor": "#C8D4E3",
             "minorgridcolor": "#C8D4E3",
             "startlinecolor": "#2a3f5f"
            },
            "type": "carpet"
           }
          ],
          "choropleth": [
           {
            "colorbar": {
             "outlinewidth": 0,
             "ticks": ""
            },
            "type": "choropleth"
           }
          ],
          "contour": [
           {
            "colorbar": {
             "outlinewidth": 0,
             "ticks": ""
            },
            "colorscale": [
             [
              0,
              "#0d0887"
             ],
             [
              0.1111111111111111,
              "#46039f"
             ],
             [
              0.2222222222222222,
              "#7201a8"
             ],
             [
              0.3333333333333333,
              "#9c179e"
             ],
             [
              0.4444444444444444,
              "#bd3786"
             ],
             [
              0.5555555555555556,
              "#d8576b"
             ],
             [
              0.6666666666666666,
              "#ed7953"
             ],
             [
              0.7777777777777778,
              "#fb9f3a"
             ],
             [
              0.8888888888888888,
              "#fdca26"
             ],
             [
              1,
              "#f0f921"
             ]
            ],
            "type": "contour"
           }
          ],
          "contourcarpet": [
           {
            "colorbar": {
             "outlinewidth": 0,
             "ticks": ""
            },
            "type": "contourcarpet"
           }
          ],
          "heatmap": [
           {
            "colorbar": {
             "outlinewidth": 0,
             "ticks": ""
            },
            "colorscale": [
             [
              0,
              "#0d0887"
             ],
             [
              0.1111111111111111,
              "#46039f"
             ],
             [
              0.2222222222222222,
              "#7201a8"
             ],
             [
              0.3333333333333333,
              "#9c179e"
             ],
             [
              0.4444444444444444,
              "#bd3786"
             ],
             [
              0.5555555555555556,
              "#d8576b"
             ],
             [
              0.6666666666666666,
              "#ed7953"
             ],
             [
              0.7777777777777778,
              "#fb9f3a"
             ],
             [
              0.8888888888888888,
              "#fdca26"
             ],
             [
              1,
              "#f0f921"
             ]
            ],
            "type": "heatmap"
           }
          ],
          "heatmapgl": [
           {
            "colorbar": {
             "outlinewidth": 0,
             "ticks": ""
            },
            "colorscale": [
             [
              0,
              "#0d0887"
             ],
             [
              0.1111111111111111,
              "#46039f"
             ],
             [
              0.2222222222222222,
              "#7201a8"
             ],
             [
              0.3333333333333333,
              "#9c179e"
             ],
             [
              0.4444444444444444,
              "#bd3786"
             ],
             [
              0.5555555555555556,
              "#d8576b"
             ],
             [
              0.6666666666666666,
              "#ed7953"
             ],
             [
              0.7777777777777778,
              "#fb9f3a"
             ],
             [
              0.8888888888888888,
              "#fdca26"
             ],
             [
              1,
              "#f0f921"
             ]
            ],
            "type": "heatmapgl"
           }
          ],
          "histogram": [
           {
            "marker": {
             "pattern": {
              "fillmode": "overlay",
              "size": 10,
              "solidity": 0.2
             }
            },
            "type": "histogram"
           }
          ],
          "histogram2d": [
           {
            "colorbar": {
             "outlinewidth": 0,
             "ticks": ""
            },
            "colorscale": [
             [
              0,
              "#0d0887"
             ],
             [
              0.1111111111111111,
              "#46039f"
             ],
             [
              0.2222222222222222,
              "#7201a8"
             ],
             [
              0.3333333333333333,
              "#9c179e"
             ],
             [
              0.4444444444444444,
              "#bd3786"
             ],
             [
              0.5555555555555556,
              "#d8576b"
             ],
             [
              0.6666666666666666,
              "#ed7953"
             ],
             [
              0.7777777777777778,
              "#fb9f3a"
             ],
             [
              0.8888888888888888,
              "#fdca26"
             ],
             [
              1,
              "#f0f921"
             ]
            ],
            "type": "histogram2d"
           }
          ],
          "histogram2dcontour": [
           {
            "colorbar": {
             "outlinewidth": 0,
             "ticks": ""
            },
            "colorscale": [
             [
              0,
              "#0d0887"
             ],
             [
              0.1111111111111111,
              "#46039f"
             ],
             [
              0.2222222222222222,
              "#7201a8"
             ],
             [
              0.3333333333333333,
              "#9c179e"
             ],
             [
              0.4444444444444444,
              "#bd3786"
             ],
             [
              0.5555555555555556,
              "#d8576b"
             ],
             [
              0.6666666666666666,
              "#ed7953"
             ],
             [
              0.7777777777777778,
              "#fb9f3a"
             ],
             [
              0.8888888888888888,
              "#fdca26"
             ],
             [
              1,
              "#f0f921"
             ]
            ],
            "type": "histogram2dcontour"
           }
          ],
          "mesh3d": [
           {
            "colorbar": {
             "outlinewidth": 0,
             "ticks": ""
            },
            "type": "mesh3d"
           }
          ],
          "parcoords": [
           {
            "line": {
             "colorbar": {
              "outlinewidth": 0,
              "ticks": ""
             }
            },
            "type": "parcoords"
           }
          ],
          "pie": [
           {
            "automargin": true,
            "type": "pie"
           }
          ],
          "scatter": [
           {
            "fillpattern": {
             "fillmode": "overlay",
             "size": 10,
             "solidity": 0.2
            },
            "type": "scatter"
           }
          ],
          "scatter3d": [
           {
            "line": {
             "colorbar": {
              "outlinewidth": 0,
              "ticks": ""
             }
            },
            "marker": {
             "colorbar": {
              "outlinewidth": 0,
              "ticks": ""
             }
            },
            "type": "scatter3d"
           }
          ],
          "scattercarpet": [
           {
            "marker": {
             "colorbar": {
              "outlinewidth": 0,
              "ticks": ""
             }
            },
            "type": "scattercarpet"
           }
          ],
          "scattergeo": [
           {
            "marker": {
             "colorbar": {
              "outlinewidth": 0,
              "ticks": ""
             }
            },
            "type": "scattergeo"
           }
          ],
          "scattergl": [
           {
            "marker": {
             "colorbar": {
              "outlinewidth": 0,
              "ticks": ""
             }
            },
            "type": "scattergl"
           }
          ],
          "scattermapbox": [
           {
            "marker": {
             "colorbar": {
              "outlinewidth": 0,
              "ticks": ""
             }
            },
            "type": "scattermapbox"
           }
          ],
          "scatterpolar": [
           {
            "marker": {
             "colorbar": {
              "outlinewidth": 0,
              "ticks": ""
             }
            },
            "type": "scatterpolar"
           }
          ],
          "scatterpolargl": [
           {
            "marker": {
             "colorbar": {
              "outlinewidth": 0,
              "ticks": ""
             }
            },
            "type": "scatterpolargl"
           }
          ],
          "scatterternary": [
           {
            "marker": {
             "colorbar": {
              "outlinewidth": 0,
              "ticks": ""
             }
            },
            "type": "scatterternary"
           }
          ],
          "surface": [
           {
            "colorbar": {
             "outlinewidth": 0,
             "ticks": ""
            },
            "colorscale": [
             [
              0,
              "#0d0887"
             ],
             [
              0.1111111111111111,
              "#46039f"
             ],
             [
              0.2222222222222222,
              "#7201a8"
             ],
             [
              0.3333333333333333,
              "#9c179e"
             ],
             [
              0.4444444444444444,
              "#bd3786"
             ],
             [
              0.5555555555555556,
              "#d8576b"
             ],
             [
              0.6666666666666666,
              "#ed7953"
             ],
             [
              0.7777777777777778,
              "#fb9f3a"
             ],
             [
              0.8888888888888888,
              "#fdca26"
             ],
             [
              1,
              "#f0f921"
             ]
            ],
            "type": "surface"
           }
          ],
          "table": [
           {
            "cells": {
             "fill": {
              "color": "#EBF0F8"
             },
             "line": {
              "color": "white"
             }
            },
            "header": {
             "fill": {
              "color": "#C8D4E3"
             },
             "line": {
              "color": "white"
             }
            },
            "type": "table"
           }
          ]
         },
         "layout": {
          "annotationdefaults": {
           "arrowcolor": "#2a3f5f",
           "arrowhead": 0,
           "arrowwidth": 1
          },
          "autotypenumbers": "strict",
          "coloraxis": {
           "colorbar": {
            "outlinewidth": 0,
            "ticks": ""
           }
          },
          "colorscale": {
           "diverging": [
            [
             0,
             "#8e0152"
            ],
            [
             0.1,
             "#c51b7d"
            ],
            [
             0.2,
             "#de77ae"
            ],
            [
             0.3,
             "#f1b6da"
            ],
            [
             0.4,
             "#fde0ef"
            ],
            [
             0.5,
             "#f7f7f7"
            ],
            [
             0.6,
             "#e6f5d0"
            ],
            [
             0.7,
             "#b8e186"
            ],
            [
             0.8,
             "#7fbc41"
            ],
            [
             0.9,
             "#4d9221"
            ],
            [
             1,
             "#276419"
            ]
           ],
           "sequential": [
            [
             0,
             "#0d0887"
            ],
            [
             0.1111111111111111,
             "#46039f"
            ],
            [
             0.2222222222222222,
             "#7201a8"
            ],
            [
             0.3333333333333333,
             "#9c179e"
            ],
            [
             0.4444444444444444,
             "#bd3786"
            ],
            [
             0.5555555555555556,
             "#d8576b"
            ],
            [
             0.6666666666666666,
             "#ed7953"
            ],
            [
             0.7777777777777778,
             "#fb9f3a"
            ],
            [
             0.8888888888888888,
             "#fdca26"
            ],
            [
             1,
             "#f0f921"
            ]
           ],
           "sequentialminus": [
            [
             0,
             "#0d0887"
            ],
            [
             0.1111111111111111,
             "#46039f"
            ],
            [
             0.2222222222222222,
             "#7201a8"
            ],
            [
             0.3333333333333333,
             "#9c179e"
            ],
            [
             0.4444444444444444,
             "#bd3786"
            ],
            [
             0.5555555555555556,
             "#d8576b"
            ],
            [
             0.6666666666666666,
             "#ed7953"
            ],
            [
             0.7777777777777778,
             "#fb9f3a"
            ],
            [
             0.8888888888888888,
             "#fdca26"
            ],
            [
             1,
             "#f0f921"
            ]
           ]
          },
          "colorway": [
           "#636efa",
           "#EF553B",
           "#00cc96",
           "#ab63fa",
           "#FFA15A",
           "#19d3f3",
           "#FF6692",
           "#B6E880",
           "#FF97FF",
           "#FECB52"
          ],
          "font": {
           "color": "#2a3f5f"
          },
          "geo": {
           "bgcolor": "white",
           "lakecolor": "white",
           "landcolor": "white",
           "showlakes": true,
           "showland": true,
           "subunitcolor": "#C8D4E3"
          },
          "hoverlabel": {
           "align": "left"
          },
          "hovermode": "closest",
          "mapbox": {
           "style": "light"
          },
          "paper_bgcolor": "white",
          "plot_bgcolor": "white",
          "polar": {
           "angularaxis": {
            "gridcolor": "#EBF0F8",
            "linecolor": "#EBF0F8",
            "ticks": ""
           },
           "bgcolor": "white",
           "radialaxis": {
            "gridcolor": "#EBF0F8",
            "linecolor": "#EBF0F8",
            "ticks": ""
           }
          },
          "scene": {
           "xaxis": {
            "backgroundcolor": "white",
            "gridcolor": "#DFE8F3",
            "gridwidth": 2,
            "linecolor": "#EBF0F8",
            "showbackground": true,
            "ticks": "",
            "zerolinecolor": "#EBF0F8"
           },
           "yaxis": {
            "backgroundcolor": "white",
            "gridcolor": "#DFE8F3",
            "gridwidth": 2,
            "linecolor": "#EBF0F8",
            "showbackground": true,
            "ticks": "",
            "zerolinecolor": "#EBF0F8"
           },
           "zaxis": {
            "backgroundcolor": "white",
            "gridcolor": "#DFE8F3",
            "gridwidth": 2,
            "linecolor": "#EBF0F8",
            "showbackground": true,
            "ticks": "",
            "zerolinecolor": "#EBF0F8"
           }
          },
          "shapedefaults": {
           "line": {
            "color": "#2a3f5f"
           }
          },
          "ternary": {
           "aaxis": {
            "gridcolor": "#DFE8F3",
            "linecolor": "#A2B1C6",
            "ticks": ""
           },
           "baxis": {
            "gridcolor": "#DFE8F3",
            "linecolor": "#A2B1C6",
            "ticks": ""
           },
           "bgcolor": "white",
           "caxis": {
            "gridcolor": "#DFE8F3",
            "linecolor": "#A2B1C6",
            "ticks": ""
           }
          },
          "title": {
           "x": 0.05
          },
          "xaxis": {
           "automargin": true,
           "gridcolor": "#EBF0F8",
           "linecolor": "#EBF0F8",
           "ticks": "",
           "title": {
            "standoff": 15
           },
           "zerolinecolor": "#EBF0F8",
           "zerolinewidth": 2
          },
          "yaxis": {
           "automargin": true,
           "gridcolor": "#EBF0F8",
           "linecolor": "#EBF0F8",
           "ticks": "",
           "title": {
            "standoff": 15
           },
           "zerolinecolor": "#EBF0F8",
           "zerolinewidth": 2
          }
         }
        },
        "xaxis": {
         "anchor": "y",
         "categoryarray": [
          "ESM2 8M",
          "ESM2 35M",
          "ESM2 150M",
          "Ankh",
          "ESM2 650",
          "ProtT5",
          "ESM2 3B",
          "Ankh_large"
         ],
         "categoryorder": "array",
         "domain": [
          0,
          1
         ],
         "title": {
          "text": "Model"
         }
        },
        "yaxis": {
         "anchor": "x",
         "domain": [
          0,
          1
         ],
         "title": {
          "text": "SecStr"
         }
        }
       }
      }
     },
     "metadata": {},
     "output_type": "display_data"
    }
   ],
   "source": [
    "plot_performance_per_feature(merged_df, 'SecStr')"
   ]
  },
  {
   "cell_type": "code",
   "execution_count": null,
   "metadata": {},
   "outputs": [],
   "source": []
  }
 ],
 "metadata": {
  "kernelspec": {
   "display_name": "jupyter",
   "language": "python",
   "name": "python3"
  },
  "language_info": {
   "codemirror_mode": {
    "name": "ipython",
    "version": 3
   },
   "file_extension": ".py",
   "mimetype": "text/x-python",
   "name": "python",
   "nbconvert_exporter": "python",
   "pygments_lexer": "ipython3",
   "version": "3.8.2"
  }
 },
 "nbformat": 4,
 "nbformat_minor": 2
}
